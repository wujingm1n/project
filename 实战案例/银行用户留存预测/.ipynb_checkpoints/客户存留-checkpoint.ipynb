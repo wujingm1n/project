{
 "cells": [
  {
   "cell_type": "markdown",
   "id": "6b3503c0",
   "metadata": {},
   "source": [
    "\n",
    " - 目标：以前70%为训练集，后30%为测试集，评估测试集合中未离开的客户是否会离开银行（每个客户离开银行的概率）。\n",
    "\n"
   ]
  },
  {
   "cell_type": "markdown",
   "id": "dd9bcb63",
   "metadata": {},
   "source": [
    "#### 数据清洗"
   ]
  },
  {
   "cell_type": "code",
   "execution_count": 1,
   "id": "ab5451fd",
   "metadata": {},
   "outputs": [],
   "source": [
    "%run Tools.py"
   ]
  },
  {
   "cell_type": "code",
   "execution_count": 2,
   "id": "9b140f17",
   "metadata": {},
   "outputs": [],
   "source": [
    "jupyter_settings()\n",
    "ignore_warnings()"
   ]
  },
  {
   "cell_type": "code",
   "execution_count": 3,
   "id": "df00f5f1",
   "metadata": {},
   "outputs": [
    {
     "data": {
      "application/javascript": [
       "\n",
       "        if (window._pyforest_update_imports_cell) { window._pyforest_update_imports_cell('import pandas as pd'); }\n",
       "    "
      ],
      "text/plain": [
       "<IPython.core.display.Javascript object>"
      ]
     },
     "metadata": {},
     "output_type": "display_data"
    },
    {
     "data": {
      "text/html": [
       "<div>\n",
       "<style scoped>\n",
       "    .dataframe tbody tr th:only-of-type {\n",
       "        vertical-align: middle;\n",
       "    }\n",
       "\n",
       "    .dataframe tbody tr th {\n",
       "        vertical-align: top;\n",
       "    }\n",
       "\n",
       "    .dataframe thead th {\n",
       "        text-align: right;\n",
       "    }\n",
       "</style>\n",
       "<table border=\"1\" class=\"dataframe\">\n",
       "  <thead>\n",
       "    <tr style=\"text-align: right;\">\n",
       "      <th></th>\n",
       "      <th>RowNumber</th>\n",
       "      <th>CustomerId</th>\n",
       "      <th>Surname</th>\n",
       "      <th>CreditScore</th>\n",
       "      <th>Geography</th>\n",
       "      <th>Gender</th>\n",
       "      <th>Age</th>\n",
       "      <th>Tenure</th>\n",
       "      <th>Balance</th>\n",
       "      <th>NumOfProducts</th>\n",
       "      <th>HasCrCard</th>\n",
       "      <th>IsActiveMember</th>\n",
       "      <th>EstimatedSalary</th>\n",
       "      <th>Exited</th>\n",
       "    </tr>\n",
       "  </thead>\n",
       "  <tbody>\n",
       "    <tr>\n",
       "      <th>0</th>\n",
       "      <td>1</td>\n",
       "      <td>15634602</td>\n",
       "      <td>Hargrave</td>\n",
       "      <td>619</td>\n",
       "      <td>France</td>\n",
       "      <td>Female</td>\n",
       "      <td>42</td>\n",
       "      <td>2</td>\n",
       "      <td>0.00</td>\n",
       "      <td>1</td>\n",
       "      <td>1</td>\n",
       "      <td>1</td>\n",
       "      <td>101348.88</td>\n",
       "      <td>1</td>\n",
       "    </tr>\n",
       "    <tr>\n",
       "      <th>1</th>\n",
       "      <td>2</td>\n",
       "      <td>15647311</td>\n",
       "      <td>Hill</td>\n",
       "      <td>608</td>\n",
       "      <td>Spain</td>\n",
       "      <td>Female</td>\n",
       "      <td>41</td>\n",
       "      <td>1</td>\n",
       "      <td>83807.86</td>\n",
       "      <td>1</td>\n",
       "      <td>0</td>\n",
       "      <td>1</td>\n",
       "      <td>112542.58</td>\n",
       "      <td>0</td>\n",
       "    </tr>\n",
       "    <tr>\n",
       "      <th>2</th>\n",
       "      <td>3</td>\n",
       "      <td>15619304</td>\n",
       "      <td>Onio</td>\n",
       "      <td>502</td>\n",
       "      <td>France</td>\n",
       "      <td>Female</td>\n",
       "      <td>42</td>\n",
       "      <td>8</td>\n",
       "      <td>159660.80</td>\n",
       "      <td>3</td>\n",
       "      <td>1</td>\n",
       "      <td>0</td>\n",
       "      <td>113931.57</td>\n",
       "      <td>1</td>\n",
       "    </tr>\n",
       "    <tr>\n",
       "      <th>3</th>\n",
       "      <td>4</td>\n",
       "      <td>15701354</td>\n",
       "      <td>Boni</td>\n",
       "      <td>699</td>\n",
       "      <td>France</td>\n",
       "      <td>Female</td>\n",
       "      <td>39</td>\n",
       "      <td>1</td>\n",
       "      <td>0.00</td>\n",
       "      <td>2</td>\n",
       "      <td>0</td>\n",
       "      <td>0</td>\n",
       "      <td>93826.63</td>\n",
       "      <td>0</td>\n",
       "    </tr>\n",
       "    <tr>\n",
       "      <th>4</th>\n",
       "      <td>5</td>\n",
       "      <td>15737888</td>\n",
       "      <td>Mitchell</td>\n",
       "      <td>850</td>\n",
       "      <td>Spain</td>\n",
       "      <td>Female</td>\n",
       "      <td>43</td>\n",
       "      <td>2</td>\n",
       "      <td>125510.82</td>\n",
       "      <td>1</td>\n",
       "      <td>1</td>\n",
       "      <td>1</td>\n",
       "      <td>79084.10</td>\n",
       "      <td>0</td>\n",
       "    </tr>\n",
       "    <tr>\n",
       "      <th>...</th>\n",
       "      <td>...</td>\n",
       "      <td>...</td>\n",
       "      <td>...</td>\n",
       "      <td>...</td>\n",
       "      <td>...</td>\n",
       "      <td>...</td>\n",
       "      <td>...</td>\n",
       "      <td>...</td>\n",
       "      <td>...</td>\n",
       "      <td>...</td>\n",
       "      <td>...</td>\n",
       "      <td>...</td>\n",
       "      <td>...</td>\n",
       "      <td>...</td>\n",
       "    </tr>\n",
       "    <tr>\n",
       "      <th>9995</th>\n",
       "      <td>9996</td>\n",
       "      <td>15606229</td>\n",
       "      <td>Obijiaku</td>\n",
       "      <td>771</td>\n",
       "      <td>France</td>\n",
       "      <td>Male</td>\n",
       "      <td>39</td>\n",
       "      <td>5</td>\n",
       "      <td>0.00</td>\n",
       "      <td>2</td>\n",
       "      <td>1</td>\n",
       "      <td>0</td>\n",
       "      <td>96270.64</td>\n",
       "      <td>0</td>\n",
       "    </tr>\n",
       "    <tr>\n",
       "      <th>9996</th>\n",
       "      <td>9997</td>\n",
       "      <td>15569892</td>\n",
       "      <td>Johnstone</td>\n",
       "      <td>516</td>\n",
       "      <td>France</td>\n",
       "      <td>Male</td>\n",
       "      <td>35</td>\n",
       "      <td>10</td>\n",
       "      <td>57369.61</td>\n",
       "      <td>1</td>\n",
       "      <td>1</td>\n",
       "      <td>1</td>\n",
       "      <td>101699.77</td>\n",
       "      <td>0</td>\n",
       "    </tr>\n",
       "    <tr>\n",
       "      <th>9997</th>\n",
       "      <td>9998</td>\n",
       "      <td>15584532</td>\n",
       "      <td>Liu</td>\n",
       "      <td>709</td>\n",
       "      <td>France</td>\n",
       "      <td>Female</td>\n",
       "      <td>36</td>\n",
       "      <td>7</td>\n",
       "      <td>0.00</td>\n",
       "      <td>1</td>\n",
       "      <td>0</td>\n",
       "      <td>1</td>\n",
       "      <td>42085.58</td>\n",
       "      <td>1</td>\n",
       "    </tr>\n",
       "    <tr>\n",
       "      <th>9998</th>\n",
       "      <td>9999</td>\n",
       "      <td>15682355</td>\n",
       "      <td>Sabbatini</td>\n",
       "      <td>772</td>\n",
       "      <td>Germany</td>\n",
       "      <td>Male</td>\n",
       "      <td>42</td>\n",
       "      <td>3</td>\n",
       "      <td>75075.31</td>\n",
       "      <td>2</td>\n",
       "      <td>1</td>\n",
       "      <td>0</td>\n",
       "      <td>92888.52</td>\n",
       "      <td>1</td>\n",
       "    </tr>\n",
       "    <tr>\n",
       "      <th>9999</th>\n",
       "      <td>10000</td>\n",
       "      <td>15628319</td>\n",
       "      <td>Walker</td>\n",
       "      <td>792</td>\n",
       "      <td>France</td>\n",
       "      <td>Female</td>\n",
       "      <td>28</td>\n",
       "      <td>4</td>\n",
       "      <td>130142.79</td>\n",
       "      <td>1</td>\n",
       "      <td>1</td>\n",
       "      <td>0</td>\n",
       "      <td>38190.78</td>\n",
       "      <td>0</td>\n",
       "    </tr>\n",
       "  </tbody>\n",
       "</table>\n",
       "<p>10000 rows × 14 columns</p>\n",
       "</div>"
      ],
      "text/plain": [
       "      RowNumber  CustomerId    Surname  CreditScore Geography  Gender  Age  \\\n",
       "0             1    15634602   Hargrave          619    France  Female   42   \n",
       "1             2    15647311       Hill          608     Spain  Female   41   \n",
       "2             3    15619304       Onio          502    France  Female   42   \n",
       "3             4    15701354       Boni          699    France  Female   39   \n",
       "4             5    15737888   Mitchell          850     Spain  Female   43   \n",
       "...         ...         ...        ...          ...       ...     ...  ...   \n",
       "9995       9996    15606229   Obijiaku          771    France    Male   39   \n",
       "9996       9997    15569892  Johnstone          516    France    Male   35   \n",
       "9997       9998    15584532        Liu          709    France  Female   36   \n",
       "9998       9999    15682355  Sabbatini          772   Germany    Male   42   \n",
       "9999      10000    15628319     Walker          792    France  Female   28   \n",
       "\n",
       "      Tenure    Balance  NumOfProducts  HasCrCard  IsActiveMember  \\\n",
       "0          2       0.00              1          1               1   \n",
       "1          1   83807.86              1          0               1   \n",
       "2          8  159660.80              3          1               0   \n",
       "3          1       0.00              2          0               0   \n",
       "4          2  125510.82              1          1               1   \n",
       "...      ...        ...            ...        ...             ...   \n",
       "9995       5       0.00              2          1               0   \n",
       "9996      10   57369.61              1          1               1   \n",
       "9997       7       0.00              1          0               1   \n",
       "9998       3   75075.31              2          1               0   \n",
       "9999       4  130142.79              1          1               0   \n",
       "\n",
       "      EstimatedSalary  Exited  \n",
       "0           101348.88       1  \n",
       "1           112542.58       0  \n",
       "2           113931.57       1  \n",
       "3            93826.63       0  \n",
       "4            79084.10       0  \n",
       "...               ...     ...  \n",
       "9995         96270.64       0  \n",
       "9996        101699.77       0  \n",
       "9997         42085.58       1  \n",
       "9998         92888.52       1  \n",
       "9999         38190.78       0  \n",
       "\n",
       "[10000 rows x 14 columns]"
      ]
     },
     "execution_count": 3,
     "metadata": {},
     "output_type": "execute_result"
    }
   ],
   "source": [
    "df = pd.read_excel('4-3-算法工程师笔试题.xlsx',sheet_name='数据')\n",
    "df"
   ]
  },
  {
   "cell_type": "code",
   "execution_count": 4,
   "id": "19b66792",
   "metadata": {},
   "outputs": [],
   "source": [
    "# 数据描述\n",
    "# dict_col = {'RowNumber':'对应于记录（行）号',\n",
    "# 'CustomerId':'客户编号包含随机值',\n",
    "# 'Surname':'客户的姓氏',\n",
    "# 'CreditScore':'客户信用评分',\n",
    "# 'Geography':'客户的位置',\n",
    "# 'Gender':'客户性别',\n",
    "# 'Age':'客户年龄',\n",
    "# 'Tenure':'银行客户的年限',\n",
    "# 'Balance':'帐户余额较高',\n",
    "# 'NumOfProducts':'银行购买的产品数量',\n",
    "# 'HasCrCard':'表示客户是否有信用卡（1有0没有）',\n",
    "# 'IsActiveMember':'客户是否活跃（1活跃0不活跃）',\n",
    "# 'EstimatedSalary':'客户薪金',\n",
    "# 'Exited':'客户是否离开银行'}\n"
   ]
  },
  {
   "cell_type": "code",
   "execution_count": 5,
   "id": "d62b41b0",
   "metadata": {
    "scrolled": false
   },
   "outputs": [
    {
     "name": "stdout",
     "output_type": "stream",
     "text": [
      "<class 'pandas.core.frame.DataFrame'>\n",
      "RangeIndex: 10000 entries, 0 to 9999\n",
      "Data columns (total 14 columns):\n",
      " #   Column           Non-Null Count  Dtype  \n",
      "---  ------           --------------  -----  \n",
      " 0   RowNumber        10000 non-null  int64  \n",
      " 1   CustomerId       10000 non-null  int64  \n",
      " 2   Surname          10000 non-null  object \n",
      " 3   CreditScore      10000 non-null  int64  \n",
      " 4   Geography        10000 non-null  object \n",
      " 5   Gender           10000 non-null  object \n",
      " 6   Age              10000 non-null  int64  \n",
      " 7   Tenure           10000 non-null  int64  \n",
      " 8   Balance          10000 non-null  float64\n",
      " 9   NumOfProducts    10000 non-null  int64  \n",
      " 10  HasCrCard        10000 non-null  int64  \n",
      " 11  IsActiveMember   10000 non-null  int64  \n",
      " 12  EstimatedSalary  10000 non-null  float64\n",
      " 13  Exited           10000 non-null  int64  \n",
      "dtypes: float64(2), int64(9), object(3)\n",
      "memory usage: 1.1+ MB\n"
     ]
    }
   ],
   "source": [
    "df.info()"
   ]
  },
  {
   "cell_type": "code",
   "execution_count": 6,
   "id": "08f49878",
   "metadata": {},
   "outputs": [
    {
     "data": {
      "text/plain": [
       "0"
      ]
     },
     "execution_count": 6,
     "metadata": {},
     "output_type": "execute_result"
    }
   ],
   "source": [
    "df.duplicated().sum()"
   ]
  },
  {
   "cell_type": "code",
   "execution_count": 7,
   "id": "064c0a09",
   "metadata": {},
   "outputs": [
    {
     "data": {
      "text/html": [
       "<div>\n",
       "<style scoped>\n",
       "    .dataframe tbody tr th:only-of-type {\n",
       "        vertical-align: middle;\n",
       "    }\n",
       "\n",
       "    .dataframe tbody tr th {\n",
       "        vertical-align: top;\n",
       "    }\n",
       "\n",
       "    .dataframe thead th {\n",
       "        text-align: right;\n",
       "    }\n",
       "</style>\n",
       "<table border=\"1\" class=\"dataframe\">\n",
       "  <thead>\n",
       "    <tr style=\"text-align: right;\">\n",
       "      <th></th>\n",
       "      <th>RowNumber</th>\n",
       "      <th>CustomerId</th>\n",
       "      <th>CreditScore</th>\n",
       "      <th>Age</th>\n",
       "      <th>Tenure</th>\n",
       "      <th>Balance</th>\n",
       "      <th>NumOfProducts</th>\n",
       "      <th>HasCrCard</th>\n",
       "      <th>IsActiveMember</th>\n",
       "      <th>EstimatedSalary</th>\n",
       "      <th>Exited</th>\n",
       "    </tr>\n",
       "  </thead>\n",
       "  <tbody>\n",
       "    <tr>\n",
       "      <th>count</th>\n",
       "      <td>10000.00000</td>\n",
       "      <td>1.000000e+04</td>\n",
       "      <td>10000.000000</td>\n",
       "      <td>10000.000000</td>\n",
       "      <td>10000.000000</td>\n",
       "      <td>10000.000000</td>\n",
       "      <td>10000.000000</td>\n",
       "      <td>10000.00000</td>\n",
       "      <td>10000.000000</td>\n",
       "      <td>10000.000000</td>\n",
       "      <td>10000.000000</td>\n",
       "    </tr>\n",
       "    <tr>\n",
       "      <th>mean</th>\n",
       "      <td>5000.50000</td>\n",
       "      <td>1.569094e+07</td>\n",
       "      <td>650.528800</td>\n",
       "      <td>38.921800</td>\n",
       "      <td>5.012800</td>\n",
       "      <td>76485.889288</td>\n",
       "      <td>1.530200</td>\n",
       "      <td>0.70550</td>\n",
       "      <td>0.515100</td>\n",
       "      <td>100090.239881</td>\n",
       "      <td>0.203700</td>\n",
       "    </tr>\n",
       "    <tr>\n",
       "      <th>std</th>\n",
       "      <td>2886.89568</td>\n",
       "      <td>7.193619e+04</td>\n",
       "      <td>96.653299</td>\n",
       "      <td>10.487806</td>\n",
       "      <td>2.892174</td>\n",
       "      <td>62397.405202</td>\n",
       "      <td>0.581654</td>\n",
       "      <td>0.45584</td>\n",
       "      <td>0.499797</td>\n",
       "      <td>57510.492818</td>\n",
       "      <td>0.402769</td>\n",
       "    </tr>\n",
       "    <tr>\n",
       "      <th>min</th>\n",
       "      <td>1.00000</td>\n",
       "      <td>1.556570e+07</td>\n",
       "      <td>350.000000</td>\n",
       "      <td>18.000000</td>\n",
       "      <td>0.000000</td>\n",
       "      <td>0.000000</td>\n",
       "      <td>1.000000</td>\n",
       "      <td>0.00000</td>\n",
       "      <td>0.000000</td>\n",
       "      <td>11.580000</td>\n",
       "      <td>0.000000</td>\n",
       "    </tr>\n",
       "    <tr>\n",
       "      <th>50%</th>\n",
       "      <td>5000.50000</td>\n",
       "      <td>1.569074e+07</td>\n",
       "      <td>652.000000</td>\n",
       "      <td>37.000000</td>\n",
       "      <td>5.000000</td>\n",
       "      <td>97198.540000</td>\n",
       "      <td>1.000000</td>\n",
       "      <td>1.00000</td>\n",
       "      <td>1.000000</td>\n",
       "      <td>100193.915000</td>\n",
       "      <td>0.000000</td>\n",
       "    </tr>\n",
       "    <tr>\n",
       "      <th>90%</th>\n",
       "      <td>9000.10000</td>\n",
       "      <td>1.579083e+07</td>\n",
       "      <td>778.000000</td>\n",
       "      <td>53.000000</td>\n",
       "      <td>9.000000</td>\n",
       "      <td>149244.792000</td>\n",
       "      <td>2.000000</td>\n",
       "      <td>1.00000</td>\n",
       "      <td>1.000000</td>\n",
       "      <td>179674.704000</td>\n",
       "      <td>1.000000</td>\n",
       "    </tr>\n",
       "    <tr>\n",
       "      <th>99%</th>\n",
       "      <td>9900.01000</td>\n",
       "      <td>1.581311e+07</td>\n",
       "      <td>850.000000</td>\n",
       "      <td>72.000000</td>\n",
       "      <td>10.000000</td>\n",
       "      <td>185967.985400</td>\n",
       "      <td>3.000000</td>\n",
       "      <td>1.00000</td>\n",
       "      <td>1.000000</td>\n",
       "      <td>198069.734500</td>\n",
       "      <td>1.000000</td>\n",
       "    </tr>\n",
       "    <tr>\n",
       "      <th>max</th>\n",
       "      <td>10000.00000</td>\n",
       "      <td>1.581569e+07</td>\n",
       "      <td>850.000000</td>\n",
       "      <td>92.000000</td>\n",
       "      <td>10.000000</td>\n",
       "      <td>250898.090000</td>\n",
       "      <td>4.000000</td>\n",
       "      <td>1.00000</td>\n",
       "      <td>1.000000</td>\n",
       "      <td>199992.480000</td>\n",
       "      <td>1.000000</td>\n",
       "    </tr>\n",
       "  </tbody>\n",
       "</table>\n",
       "</div>"
      ],
      "text/plain": [
       "         RowNumber    CustomerId   CreditScore           Age        Tenure  \\\n",
       "count  10000.00000  1.000000e+04  10000.000000  10000.000000  10000.000000   \n",
       "mean    5000.50000  1.569094e+07    650.528800     38.921800      5.012800   \n",
       "std     2886.89568  7.193619e+04     96.653299     10.487806      2.892174   \n",
       "min        1.00000  1.556570e+07    350.000000     18.000000      0.000000   \n",
       "50%     5000.50000  1.569074e+07    652.000000     37.000000      5.000000   \n",
       "90%     9000.10000  1.579083e+07    778.000000     53.000000      9.000000   \n",
       "99%     9900.01000  1.581311e+07    850.000000     72.000000     10.000000   \n",
       "max    10000.00000  1.581569e+07    850.000000     92.000000     10.000000   \n",
       "\n",
       "             Balance  NumOfProducts    HasCrCard  IsActiveMember  \\\n",
       "count   10000.000000   10000.000000  10000.00000    10000.000000   \n",
       "mean    76485.889288       1.530200      0.70550        0.515100   \n",
       "std     62397.405202       0.581654      0.45584        0.499797   \n",
       "min         0.000000       1.000000      0.00000        0.000000   \n",
       "50%     97198.540000       1.000000      1.00000        1.000000   \n",
       "90%    149244.792000       2.000000      1.00000        1.000000   \n",
       "99%    185967.985400       3.000000      1.00000        1.000000   \n",
       "max    250898.090000       4.000000      1.00000        1.000000   \n",
       "\n",
       "       EstimatedSalary        Exited  \n",
       "count     10000.000000  10000.000000  \n",
       "mean     100090.239881      0.203700  \n",
       "std       57510.492818      0.402769  \n",
       "min          11.580000      0.000000  \n",
       "50%      100193.915000      0.000000  \n",
       "90%      179674.704000      1.000000  \n",
       "99%      198069.734500      1.000000  \n",
       "max      199992.480000      1.000000  "
      ]
     },
     "execution_count": 7,
     "metadata": {},
     "output_type": "execute_result"
    }
   ],
   "source": [
    "df.describe([.90,.99])"
   ]
  },
  {
   "cell_type": "markdown",
   "id": "db6e2258",
   "metadata": {},
   "source": [
    "#### 特征选择\n",
    "   - 这里我使用的是分箱计算iv值"
   ]
  },
  {
   "cell_type": "code",
   "execution_count": 8,
   "id": "d7d2d4b8",
   "metadata": {},
   "outputs": [],
   "source": [
    "# 先删掉一些明显无关的特征\n",
    "df.drop(columns=['CustomerId','Surname','RowNumber'],inplace=True)"
   ]
  },
  {
   "cell_type": "code",
   "execution_count": 9,
   "id": "7cc48717",
   "metadata": {},
   "outputs": [
    {
     "data": {
      "text/html": [
       "<div>\n",
       "<style scoped>\n",
       "    .dataframe tbody tr th:only-of-type {\n",
       "        vertical-align: middle;\n",
       "    }\n",
       "\n",
       "    .dataframe tbody tr th {\n",
       "        vertical-align: top;\n",
       "    }\n",
       "\n",
       "    .dataframe thead th {\n",
       "        text-align: right;\n",
       "    }\n",
       "</style>\n",
       "<table border=\"1\" class=\"dataframe\">\n",
       "  <thead>\n",
       "    <tr style=\"text-align: right;\">\n",
       "      <th></th>\n",
       "      <th>CreditScore</th>\n",
       "      <th>Geography</th>\n",
       "      <th>Gender</th>\n",
       "      <th>Age</th>\n",
       "      <th>Tenure</th>\n",
       "      <th>Balance</th>\n",
       "      <th>NumOfProducts</th>\n",
       "      <th>HasCrCard</th>\n",
       "      <th>IsActiveMember</th>\n",
       "      <th>EstimatedSalary</th>\n",
       "      <th>Exited</th>\n",
       "    </tr>\n",
       "  </thead>\n",
       "  <tbody>\n",
       "    <tr>\n",
       "      <th>0</th>\n",
       "      <td>619</td>\n",
       "      <td>France</td>\n",
       "      <td>Female</td>\n",
       "      <td>42</td>\n",
       "      <td>2</td>\n",
       "      <td>0.00</td>\n",
       "      <td>1</td>\n",
       "      <td>1</td>\n",
       "      <td>1</td>\n",
       "      <td>101348.88</td>\n",
       "      <td>1</td>\n",
       "    </tr>\n",
       "    <tr>\n",
       "      <th>1</th>\n",
       "      <td>608</td>\n",
       "      <td>Spain</td>\n",
       "      <td>Female</td>\n",
       "      <td>41</td>\n",
       "      <td>1</td>\n",
       "      <td>83807.86</td>\n",
       "      <td>1</td>\n",
       "      <td>0</td>\n",
       "      <td>1</td>\n",
       "      <td>112542.58</td>\n",
       "      <td>0</td>\n",
       "    </tr>\n",
       "    <tr>\n",
       "      <th>2</th>\n",
       "      <td>502</td>\n",
       "      <td>France</td>\n",
       "      <td>Female</td>\n",
       "      <td>42</td>\n",
       "      <td>8</td>\n",
       "      <td>159660.80</td>\n",
       "      <td>3</td>\n",
       "      <td>1</td>\n",
       "      <td>0</td>\n",
       "      <td>113931.57</td>\n",
       "      <td>1</td>\n",
       "    </tr>\n",
       "    <tr>\n",
       "      <th>3</th>\n",
       "      <td>699</td>\n",
       "      <td>France</td>\n",
       "      <td>Female</td>\n",
       "      <td>39</td>\n",
       "      <td>1</td>\n",
       "      <td>0.00</td>\n",
       "      <td>2</td>\n",
       "      <td>0</td>\n",
       "      <td>0</td>\n",
       "      <td>93826.63</td>\n",
       "      <td>0</td>\n",
       "    </tr>\n",
       "    <tr>\n",
       "      <th>4</th>\n",
       "      <td>850</td>\n",
       "      <td>Spain</td>\n",
       "      <td>Female</td>\n",
       "      <td>43</td>\n",
       "      <td>2</td>\n",
       "      <td>125510.82</td>\n",
       "      <td>1</td>\n",
       "      <td>1</td>\n",
       "      <td>1</td>\n",
       "      <td>79084.10</td>\n",
       "      <td>0</td>\n",
       "    </tr>\n",
       "  </tbody>\n",
       "</table>\n",
       "</div>"
      ],
      "text/plain": [
       "   CreditScore Geography  Gender  Age  Tenure    Balance  NumOfProducts  \\\n",
       "0          619    France  Female   42       2       0.00              1   \n",
       "1          608     Spain  Female   41       1   83807.86              1   \n",
       "2          502    France  Female   42       8  159660.80              3   \n",
       "3          699    France  Female   39       1       0.00              2   \n",
       "4          850     Spain  Female   43       2  125510.82              1   \n",
       "\n",
       "   HasCrCard  IsActiveMember  EstimatedSalary  Exited  \n",
       "0          1               1        101348.88       1  \n",
       "1          0               1        112542.58       0  \n",
       "2          1               0        113931.57       1  \n",
       "3          0               0         93826.63       0  \n",
       "4          1               1         79084.10       0  "
      ]
     },
     "execution_count": 9,
     "metadata": {},
     "output_type": "execute_result"
    }
   ],
   "source": [
    "df.head()"
   ]
  },
  {
   "cell_type": "code",
   "execution_count": 10,
   "id": "c1727867",
   "metadata": {},
   "outputs": [],
   "source": [
    "#将字符串转换为数字\n",
    "df['Geography'] = df['Geography'].factorize()[0]\n",
    "df['Gender'] = df['Gender'].factorize()[0]"
   ]
  },
  {
   "cell_type": "code",
   "execution_count": 11,
   "id": "0d5e0f18",
   "metadata": {},
   "outputs": [
    {
     "data": {
      "text/html": [
       "<div>\n",
       "<style scoped>\n",
       "    .dataframe tbody tr th:only-of-type {\n",
       "        vertical-align: middle;\n",
       "    }\n",
       "\n",
       "    .dataframe tbody tr th {\n",
       "        vertical-align: top;\n",
       "    }\n",
       "\n",
       "    .dataframe thead th {\n",
       "        text-align: right;\n",
       "    }\n",
       "</style>\n",
       "<table border=\"1\" class=\"dataframe\">\n",
       "  <thead>\n",
       "    <tr style=\"text-align: right;\">\n",
       "      <th></th>\n",
       "      <th>CreditScore</th>\n",
       "      <th>Geography</th>\n",
       "      <th>Gender</th>\n",
       "      <th>Age</th>\n",
       "      <th>Tenure</th>\n",
       "      <th>Balance</th>\n",
       "      <th>NumOfProducts</th>\n",
       "      <th>HasCrCard</th>\n",
       "      <th>IsActiveMember</th>\n",
       "      <th>EstimatedSalary</th>\n",
       "      <th>Exited</th>\n",
       "    </tr>\n",
       "  </thead>\n",
       "  <tbody>\n",
       "    <tr>\n",
       "      <th>0</th>\n",
       "      <td>619</td>\n",
       "      <td>0</td>\n",
       "      <td>0</td>\n",
       "      <td>42</td>\n",
       "      <td>2</td>\n",
       "      <td>0.00</td>\n",
       "      <td>1</td>\n",
       "      <td>1</td>\n",
       "      <td>1</td>\n",
       "      <td>101348.88</td>\n",
       "      <td>1</td>\n",
       "    </tr>\n",
       "    <tr>\n",
       "      <th>1</th>\n",
       "      <td>608</td>\n",
       "      <td>1</td>\n",
       "      <td>0</td>\n",
       "      <td>41</td>\n",
       "      <td>1</td>\n",
       "      <td>83807.86</td>\n",
       "      <td>1</td>\n",
       "      <td>0</td>\n",
       "      <td>1</td>\n",
       "      <td>112542.58</td>\n",
       "      <td>0</td>\n",
       "    </tr>\n",
       "    <tr>\n",
       "      <th>2</th>\n",
       "      <td>502</td>\n",
       "      <td>0</td>\n",
       "      <td>0</td>\n",
       "      <td>42</td>\n",
       "      <td>8</td>\n",
       "      <td>159660.80</td>\n",
       "      <td>3</td>\n",
       "      <td>1</td>\n",
       "      <td>0</td>\n",
       "      <td>113931.57</td>\n",
       "      <td>1</td>\n",
       "    </tr>\n",
       "    <tr>\n",
       "      <th>3</th>\n",
       "      <td>699</td>\n",
       "      <td>0</td>\n",
       "      <td>0</td>\n",
       "      <td>39</td>\n",
       "      <td>1</td>\n",
       "      <td>0.00</td>\n",
       "      <td>2</td>\n",
       "      <td>0</td>\n",
       "      <td>0</td>\n",
       "      <td>93826.63</td>\n",
       "      <td>0</td>\n",
       "    </tr>\n",
       "    <tr>\n",
       "      <th>4</th>\n",
       "      <td>850</td>\n",
       "      <td>1</td>\n",
       "      <td>0</td>\n",
       "      <td>43</td>\n",
       "      <td>2</td>\n",
       "      <td>125510.82</td>\n",
       "      <td>1</td>\n",
       "      <td>1</td>\n",
       "      <td>1</td>\n",
       "      <td>79084.10</td>\n",
       "      <td>0</td>\n",
       "    </tr>\n",
       "  </tbody>\n",
       "</table>\n",
       "</div>"
      ],
      "text/plain": [
       "   CreditScore  Geography  Gender  Age  Tenure    Balance  NumOfProducts  \\\n",
       "0          619          0       0   42       2       0.00              1   \n",
       "1          608          1       0   41       1   83807.86              1   \n",
       "2          502          0       0   42       8  159660.80              3   \n",
       "3          699          0       0   39       1       0.00              2   \n",
       "4          850          1       0   43       2  125510.82              1   \n",
       "\n",
       "   HasCrCard  IsActiveMember  EstimatedSalary  Exited  \n",
       "0          1               1        101348.88       1  \n",
       "1          0               1        112542.58       0  \n",
       "2          1               0        113931.57       1  \n",
       "3          0               0         93826.63       0  \n",
       "4          1               1         79084.10       0  "
      ]
     },
     "execution_count": 11,
     "metadata": {},
     "output_type": "execute_result"
    }
   ],
   "source": [
    "df.head()"
   ]
  },
  {
   "cell_type": "code",
   "execution_count": 12,
   "id": "0830eb55",
   "metadata": {},
   "outputs": [],
   "source": [
    "# 对数据分箱处理\n",
    "%run auto_bin.py"
   ]
  },
  {
   "cell_type": "code",
   "execution_count": 13,
   "id": "28c03cf0",
   "metadata": {},
   "outputs": [],
   "source": [
    "# 创建autobin对象\n",
    "#  frame：df，需要包括data,target\n",
    "#  y:  target对应的列名\n",
    "ab = AutoBins(df, 'Exited')"
   ]
  },
  {
   "cell_type": "code",
   "execution_count": 14,
   "id": "3c585d38",
   "metadata": {},
   "outputs": [
    {
     "name": "stdout",
     "output_type": "stream",
     "text": [
      "对 CreditScore 列进行分箱: \n",
      "分组个数: 19 \tiv值: 0.015393598293390006\n",
      "分组个数: 18 \tiv值: 0.015383534427045143\n",
      "分组个数: 17 \tiv值: 0.015341099879716408\n",
      "分组个数: 16 \tiv值: 0.015286493907483854\n",
      "分组个数: 15 \tiv值: 0.01522251225869304\n",
      "分组个数: 14 \tiv值: 0.015138537878365247\n",
      "分组个数: 13 \tiv值: 0.015040297007498643\n",
      "分组个数: 12 \tiv值: 0.014872011801372244\n",
      "分组个数: 11 \tiv值: 0.01458169314352881\n",
      "分组个数: 10 \tiv值: 0.014239994697086271\n",
      "分组个数: 09 \tiv值: 0.013927793329502666\n",
      "分组个数: 08 \tiv值: 0.01326307694441619\n",
      "分组个数: 07 \tiv值: 0.0128486987230159\n",
      "分组个数: 06 \tiv值: 0.0119809048661001\n",
      "分组个数: 05 \tiv值: 0.01162021783833609\n",
      "分组个数: 04 \tiv值: 0.009399129479201466\n",
      "分组个数: 03 \tiv值: 0.007009746777922044\n",
      "分组个数: 02 \tiv值: 0.004836538924374143\n",
      "\n",
      "最后分箱情况: \n",
      "分组个数: 02 \tiv值: 0.004836538924374143\n",
      "\n",
      "分组woe情况：\n",
      "     min    max  count_0  count_1  total  percentage  bad_rate       woe\n",
      "0   -inf  652.0     3953     1082   5035      0.5035  0.214896 -0.067664\n",
      "1  652.0    inf     4010      955   4965      0.4965  0.192346  0.071508\n",
      "----------------------------------------------------------------------------------------------------\n",
      "对 Geography 列进行分箱: \n",
      "分组个数: 02 \tiv值: 0.16819865798657563\n",
      "\n",
      "最后分箱情况: \n",
      "分组个数: 02 \tiv值: 0.16819865798657563\n",
      "\n",
      "分组woe情况：\n",
      "   min  max  count_0  count_1  total  percentage  bad_rate       woe\n",
      "0 -inf  1.0     6268     1223   7491      0.7491  0.163263  0.270823\n",
      "1  1.0  inf     1695      814   2509      0.2509  0.324432 -0.629850\n",
      "----------------------------------------------------------------------------------------------------\n",
      "对 Gender 列进行分箱: \n",
      "\n",
      "最后分箱情况: \n",
      "分组个数: 02 \tiv值: 0.06977487605593669\n",
      "\n",
      "分组woe情况：\n",
      "   min  max  count_0  count_1  total  percentage  bad_rate       woe\n",
      "0 -inf  0.0     3404     1139   4543      0.4543  0.250715 -0.268527\n",
      "1  0.0  inf     4559      898   5457      0.5457  0.164559  0.261361\n",
      "----------------------------------------------------------------------------------------------------\n",
      "对 Age 列进行分箱: \n",
      "分组个数: 19 \tiv值: 0.8628889651427856\n",
      "分组个数: 18 \tiv值: 0.8628889133368074\n",
      "分组个数: 17 \tiv值: 0.8628799410795603\n",
      "分组个数: 16 \tiv值: 0.8628507103880966\n",
      "分组个数: 15 \tiv值: 0.8628107803603977\n",
      "分组个数: 14 \tiv值: 0.8626841369067366\n",
      "分组个数: 13 \tiv值: 0.8623163635847213\n",
      "分组个数: 12 \tiv值: 0.8617415828651045\n",
      "分组个数: 11 \tiv值: 0.8612024106789014\n",
      "分组个数: 10 \tiv值: 0.8593415000609406\n",
      "分组个数: 09 \tiv值: 0.8583359494607761\n",
      "分组个数: 08 \tiv值: 0.8568110800491564\n",
      "分组个数: 07 \tiv值: 0.8530450628101673\n",
      "分组个数: 06 \tiv值: 0.8409175011464909\n",
      "分组个数: 05 \tiv值: 0.8232508795188975\n",
      "分组个数: 04 \tiv值: 0.796210950049556\n",
      "分组个数: 03 \tiv值: 0.7410720215968738\n",
      "分组个数: 02 \tiv值: 0.590394492753185\n",
      "\n",
      "最后分箱情况: \n",
      "分组个数: 02 \tiv值: 0.590394492753185\n",
      "\n",
      "分组woe情况：\n",
      "    min   max  count_0  count_1  total  percentage  bad_rate       woe\n",
      "0  -inf  44.0     6667      993   7660       0.766  0.129634  0.540867\n",
      "1  44.0   inf     1296     1044   2340       0.234  0.446154 -1.147105\n",
      "----------------------------------------------------------------------------------------------------\n",
      "对 Tenure 列进行分箱: \n",
      "分组个数: 10 \tiv值: 0.008720832084698628\n",
      "分组个数: 09 \tiv值: 0.008695434648850872\n",
      "分组个数: 08 \tiv值: 0.00866094439795679\n",
      "分组个数: 07 \tiv值: 0.008551444714716364\n",
      "分组个数: 06 \tiv值: 0.008424098900397706\n",
      "分组个数: 05 \tiv值: 0.0077358897829638215\n",
      "分组个数: 04 \tiv值: 0.006845204055938773\n",
      "分组个数: 03 \tiv值: 0.004789160105974854\n",
      "分组个数: 02 \tiv值: 0.0015552218637797867\n",
      "\n",
      "最后分箱情况: \n",
      "分组个数: 02 \tiv值: 0.0015552218637797867\n",
      "\n",
      "分组woe情况：\n",
      "   min  max  count_0  count_1  total  percentage  bad_rate       woe\n",
      "0 -inf  6.0     5124     1349   6473      0.6473  0.208404 -0.028756\n",
      "1  6.0  inf     2839      688   3527      0.3527  0.195067  0.054091\n",
      "----------------------------------------------------------------------------------------------------\n",
      "对 Balance 列进行分箱: \n",
      "分组个数: 13 \tiv值: 0.12419410016463309\n",
      "分组个数: 12 \tiv值: 0.1241183317033539\n",
      "分组个数: 11 \tiv值: 0.12388778335485336\n",
      "分组个数: 10 \tiv值: 0.12340976956459147\n",
      "分组个数: 09 \tiv值: 0.12274422601443229\n",
      "分组个数: 08 \tiv值: 0.12204953016920883\n",
      "分组个数: 07 \tiv值: 0.11992837068078498\n",
      "分组个数: 06 \tiv值: 0.11863470043928757\n",
      "分组个数: 05 \tiv值: 0.11634835379997245\n",
      "分组个数: 04 \tiv值: 0.11575976036874874\n",
      "分组个数: 03 \tiv值: 0.10916323780281957\n",
      "分组个数: 02 \tiv值: 0.09951166397128425\n",
      "\n",
      "最后分箱情况: \n",
      "分组个数: 02 \tiv值: 0.09951166397128425\n",
      "\n",
      "分组woe情况：\n",
      "   min  max  count_0  count_1  total  percentage  bad_rate       woe\n",
      "0 -inf  0.0     3117      500   3617      0.3617  0.138236  0.466691\n",
      "1  0.0  inf     4846     1537   6383      0.6383  0.240796 -0.215007\n",
      "----------------------------------------------------------------------------------------------------\n",
      "对 NumOfProducts 列进行分箱: \n",
      "分组个数: 02 \tiv值: 0.43606634934222016\n",
      "\n",
      "最后分箱情况: \n",
      "分组个数: 02 \tiv值: 0.43606634934222016\n",
      "\n",
      "分组woe情况：\n",
      "   min  max  count_0  count_1  total  percentage  bad_rate       woe\n",
      "0 -inf  2.0     7917     1757   9674      0.9674  0.181621  0.142077\n",
      "1  2.0  inf       46      280    326      0.0326  0.858896 -3.169476\n",
      "----------------------------------------------------------------------------------------------------\n",
      "对 HasCrCard 列进行分箱: \n",
      "\n",
      "最后分箱情况: \n",
      "分组个数: 02 \tiv值: 0.0003126349382350218\n",
      "\n",
      "分组woe情况：\n",
      "   min  max  count_0  count_1  total  percentage  bad_rate       woe\n",
      "0 -inf  0.0     2332      613   2945      0.2945  0.208149 -0.027211\n",
      "1  0.0  inf     5631     1424   7055      0.7055  0.201843  0.011490\n",
      "----------------------------------------------------------------------------------------------------\n",
      "对 IsActiveMember 列进行分箱: \n",
      "\n",
      "最后分箱情况: \n",
      "分组个数: 02 \tiv值: 0.15323263689359579\n",
      "\n",
      "分组woe情况：\n",
      "   min  max  count_0  count_1  total  percentage  bad_rate       woe\n",
      "0 -inf  0.0     3547     1302   4849      0.4849  0.268509 -0.361127\n",
      "1  0.0  inf     4416      735   5151      0.5151  0.142691  0.429791\n",
      "----------------------------------------------------------------------------------------------------\n",
      "对 EstimatedSalary 列进行分箱: \n",
      "分组个数: 19 \tiv值: 0.004872525751817106\n",
      "分组个数: 18 \tiv值: 0.0048685785303169745\n",
      "分组个数: 17 \tiv值: 0.004856644077400688\n",
      "分组个数: 16 \tiv值: 0.004824069977882322\n",
      "分组个数: 15 \tiv值: 0.004765863440108226\n",
      "分组个数: 14 \tiv值: 0.004704472130157754\n",
      "分组个数: 13 \tiv值: 0.0046233173626344295\n",
      "分组个数: 12 \tiv值: 0.004524620043073668\n",
      "分组个数: 11 \tiv值: 0.004458950190127699\n",
      "分组个数: 10 \tiv值: 0.0043062803182105525\n",
      "分组个数: 09 \tiv值: 0.0041186074542662755\n",
      "分组个数: 08 \tiv值: 0.0038932840231916043\n",
      "分组个数: 07 \tiv值: 0.003593489889449814\n",
      "分组个数: 06 \tiv值: 0.0032922421167582575\n",
      "分组个数: 05 \tiv值: 0.0026906468935689663\n",
      "分组个数: 04 \tiv值: 0.0023763148406683496\n",
      "分组个数: 03 \tiv值: 0.0015849713716840409\n",
      "分组个数: 02 \tiv值: 0.0013059864853970844\n",
      "\n",
      "最后分箱情况: \n",
      "分组个数: 02 \tiv值: 0.0013059864853970844\n",
      "\n",
      "分组woe情况：\n",
      "           min          max  count_0  count_1  total  percentage  bad_rate  \\\n",
      "0         -inf  129581.6065     5204     1296   6500        0.65  0.199385   \n",
      "1  129581.6065          inf     2759      741   3500        0.35  0.211714   \n",
      "\n",
      "        woe  \n",
      "0  0.026817  \n",
      "1 -0.048705  \n",
      "----------------------------------------------------------------------------------------------------\n"
     ]
    }
   ],
   "source": [
    "# 现在我们需要对所有的特征做分箱, 得到每个特征的最佳分组数\n",
    "# column: 对哪一列做分箱\n",
    "# n: 分成几组，默认是分成2组\n",
    "# show_iv: 是否显示打印结果\n",
    "for col in df.columns[ : -1]:\n",
    "    ab.auto_bins(column=col)\n",
    "    print('-' * 100)"
   ]
  },
  {
   "cell_type": "code",
   "execution_count": 15,
   "id": "0d7d2b48",
   "metadata": {},
   "outputs": [],
   "source": [
    "# 确定每个特征的最佳分组个数\n",
    "# 如果iv值相差不大则取更少的分箱\n",
    "# 综上我们可以确定特征分箱数\n",
    "bins_num_dict = {\n",
    "    'CreditScore': 2,\n",
    "    'Geography': 2,\n",
    "    'Gender': 2,\n",
    "    'Age': 6,\n",
    "    'Balance': 3,\n",
    "    'Tenure': 4,\n",
    "    'Balance': 2,\n",
    "    'NumOfProducts': 2,\n",
    "    'HasCrCard': 2,\n",
    "    'IsActiveMember': 2,\n",
    "    'EstimatedSalary': 2\n",
    "}"
   ]
  },
  {
   "cell_type": "code",
   "execution_count": 16,
   "id": "fa38242b",
   "metadata": {},
   "outputs": [],
   "source": [
    "# 再使用最佳分组数对每个特征重新分箱\n",
    "bins_dict = { }\n",
    "woe_dict = { }\n",
    "iv_dict = { }\n",
    "for col in df.columns[ : -1]:\n",
    "    num_bins, woe_df, iv = ab.auto_bins(column=col, n=bins_num_dict[col], show_iv=False)\n",
    "    bins_dict[col] = num_bins\n",
    "    woe_dict[col] = woe_df\n",
    "    iv_dict[col] = iv"
   ]
  },
  {
   "cell_type": "code",
   "execution_count": 17,
   "id": "12fe180c",
   "metadata": {
    "scrolled": true
   },
   "outputs": [
    {
     "data": {
      "text/plain": [
       "<AxesSubplot:>"
      ]
     },
     "execution_count": 17,
     "metadata": {},
     "output_type": "execute_result"
    },
    {
     "data": {
      "image/png": "[encoded data removed]",
      "text/plain": [
       "<Figure size 432x288 with 1 Axes>"
      ]
     },
     "metadata": {},
     "output_type": "display_data"
    }
   ],
   "source": [
    "# 删除iv值低的特征值\n",
    "# '''\n",
    "# iv <0.03    无预测能力\n",
    "# (0.03,0.09) 低\n",
    "# (0.1,0.29)  中\n",
    "# (0.3,0.49)  高\n",
    "# iv > 0.5    极高\n",
    "\n",
    "# '''\n",
    "pd.Series(iv_dict).plot(kind='barh')"
   ]
  },
  {
   "cell_type": "code",
   "execution_count": 18,
   "id": "d33a6edf",
   "metadata": {
    "scrolled": true
   },
   "outputs": [
    {
     "data": {
      "text/plain": [
       "['Geography', 'Age', 'NumOfProducts', 'IsActiveMember']"
      ]
     },
     "execution_count": 18,
     "metadata": {},
     "output_type": "execute_result"
    }
   ],
   "source": [
    "# 考虑只保留iv > 0.1的值\n",
    "cond = pd.Series(iv_dict) >= 0.1\n",
    "feature_importances = pd.Series(iv_dict)[cond].index.tolist()\n",
    "feature_importances"
   ]
  },
  {
   "cell_type": "markdown",
   "id": "6c6b5962",
   "metadata": {},
   "source": [
    "#### 划分数据集"
   ]
  },
  {
   "cell_type": "markdown",
   "id": "22fda020",
   "metadata": {},
   "source": [
    " - 选取data和target "
   ]
  },
  {
   "cell_type": "code",
   "execution_count": 19,
   "id": "0568087c",
   "metadata": {},
   "outputs": [
    {
     "data": {
      "text/html": [
       "<div>\n",
       "<style scoped>\n",
       "    .dataframe tbody tr th:only-of-type {\n",
       "        vertical-align: middle;\n",
       "    }\n",
       "\n",
       "    .dataframe tbody tr th {\n",
       "        vertical-align: top;\n",
       "    }\n",
       "\n",
       "    .dataframe thead th {\n",
       "        text-align: right;\n",
       "    }\n",
       "</style>\n",
       "<table border=\"1\" class=\"dataframe\">\n",
       "  <thead>\n",
       "    <tr style=\"text-align: right;\">\n",
       "      <th></th>\n",
       "      <th>Geography</th>\n",
       "      <th>Age</th>\n",
       "      <th>NumOfProducts</th>\n",
       "      <th>IsActiveMember</th>\n",
       "    </tr>\n",
       "  </thead>\n",
       "  <tbody>\n",
       "    <tr>\n",
       "      <th>0</th>\n",
       "      <td>0</td>\n",
       "      <td>42</td>\n",
       "      <td>1</td>\n",
       "      <td>1</td>\n",
       "    </tr>\n",
       "    <tr>\n",
       "      <th>1</th>\n",
       "      <td>1</td>\n",
       "      <td>41</td>\n",
       "      <td>1</td>\n",
       "      <td>1</td>\n",
       "    </tr>\n",
       "    <tr>\n",
       "      <th>2</th>\n",
       "      <td>0</td>\n",
       "      <td>42</td>\n",
       "      <td>3</td>\n",
       "      <td>0</td>\n",
       "    </tr>\n",
       "    <tr>\n",
       "      <th>3</th>\n",
       "      <td>0</td>\n",
       "      <td>39</td>\n",
       "      <td>2</td>\n",
       "      <td>0</td>\n",
       "    </tr>\n",
       "    <tr>\n",
       "      <th>4</th>\n",
       "      <td>1</td>\n",
       "      <td>43</td>\n",
       "      <td>1</td>\n",
       "      <td>1</td>\n",
       "    </tr>\n",
       "  </tbody>\n",
       "</table>\n",
       "</div>"
      ],
      "text/plain": [
       "   Geography  Age  NumOfProducts  IsActiveMember\n",
       "0          0   42              1               1\n",
       "1          1   41              1               1\n",
       "2          0   42              3               0\n",
       "3          0   39              2               0\n",
       "4          1   43              1               1"
      ]
     },
     "execution_count": 19,
     "metadata": {},
     "output_type": "execute_result"
    }
   ],
   "source": [
    "data = df[['Geography','Age','NumOfProducts','IsActiveMember']]\n",
    "data.head()"
   ]
  },
  {
   "cell_type": "code",
   "execution_count": 20,
   "id": "1cd3e85b",
   "metadata": {},
   "outputs": [
    {
     "data": {
      "text/plain": [
       "0       1\n",
       "1       0\n",
       "2       1\n",
       "3       0\n",
       "4       0\n",
       "       ..\n",
       "9995    0\n",
       "9996    0\n",
       "9997    1\n",
       "9998    1\n",
       "9999    0\n",
       "Name: Exited, Length: 10000, dtype: int64"
      ]
     },
     "execution_count": 20,
     "metadata": {},
     "output_type": "execute_result"
    }
   ],
   "source": [
    "target = df.Exited\n",
    "target"
   ]
  },
  {
   "cell_type": "code",
   "execution_count": 21,
   "id": "75eeedd7",
   "metadata": {},
   "outputs": [],
   "source": [
    "from sklearn.model_selection import train_test_split"
   ]
  },
  {
   "cell_type": "markdown",
   "id": "c99b753a",
   "metadata": {},
   "source": [
    " - 以前70%为训练集，后30%为测试集"
   ]
  },
  {
   "cell_type": "code",
   "execution_count": 22,
   "id": "a2d507d8",
   "metadata": {},
   "outputs": [],
   "source": [
    "x_train,x_test,y_train,y_test = train_test_split(data,target,test_size=0.3,shuffle=False)"
   ]
  },
  {
   "cell_type": "markdown",
   "id": "8b5853aa",
   "metadata": {},
   "source": [
    "#### 算法建模"
   ]
  },
  {
   "cell_type": "code",
   "execution_count": 23,
   "id": "4c73423d",
   "metadata": {},
   "outputs": [
    {
     "name": "stdout",
     "output_type": "stream",
     "text": [
      "<class 'pandas.core.series.Series'>\n",
      "Int64Index: 7000 entries, 0 to 6999\n",
      "Series name: Exited\n",
      "Non-Null Count  Dtype\n",
      "--------------  -----\n",
      "7000 non-null   int64\n",
      "dtypes: int64(1)\n",
      "memory usage: 109.4 KB\n"
     ]
    }
   ],
   "source": [
    "y_train.info()"
   ]
  },
  {
   "cell_type": "code",
   "execution_count": 24,
   "id": "9d6ad2e8",
   "metadata": {},
   "outputs": [
    {
     "data": {
      "text/plain": [
       "<AxesSubplot:>"
      ]
     },
     "execution_count": 24,
     "metadata": {},
     "output_type": "execute_result"
    },
    {
     "data": {
      "image/png": "[encoded data removed]",
      "text/plain": [
       "<Figure size 432x288 with 1 Axes>"
      ]
     },
     "metadata": {},
     "output_type": "display_data"
    }
   ],
   "source": [
    "# 样本处理\n",
    "y_train.value_counts().plot(kind='bar')"
   ]
  },
  {
   "cell_type": "markdown",
   "id": "78e951ad",
   "metadata": {},
   "source": [
    " - 正负样本不平衡"
   ]
  },
  {
   "cell_type": "code",
   "execution_count": 25,
   "id": "e528d2ac",
   "metadata": {},
   "outputs": [],
   "source": [
    "# 使用smote进行过采样\n",
    "from imblearn.over_sampling import SMOTE"
   ]
  },
  {
   "cell_type": "code",
   "execution_count": 26,
   "id": "6904c6c4",
   "metadata": {},
   "outputs": [],
   "source": [
    "smote = SMOTE()"
   ]
  },
  {
   "cell_type": "code",
   "execution_count": 27,
   "id": "8f69e1e1",
   "metadata": {},
   "outputs": [],
   "source": [
    "x_train_sample,y_train_sample = smote.fit_resample(x_train,y_train)"
   ]
  },
  {
   "cell_type": "code",
   "execution_count": 28,
   "id": "e2e91cf4",
   "metadata": {},
   "outputs": [
    {
     "data": {
      "text/plain": [
       "((11114, 4), (11114,))"
      ]
     },
     "execution_count": 28,
     "metadata": {},
     "output_type": "execute_result"
    }
   ],
   "source": [
    "x_train_sample.shape, y_train_sample.shape"
   ]
  },
  {
   "cell_type": "code",
   "execution_count": 29,
   "id": "d9665665",
   "metadata": {},
   "outputs": [
    {
     "data": {
      "text/plain": [
       "<AxesSubplot:>"
      ]
     },
     "execution_count": 29,
     "metadata": {},
     "output_type": "execute_result"
    },
    {
     "data": {
      "image/png": "[encoded data removed]",
      "text/plain": [
       "<Figure size 432x288 with 1 Axes>"
      ]
     },
     "metadata": {},
     "output_type": "display_data"
    }
   ],
   "source": [
    "y_train_sample.value_counts().plot(kind='bar')"
   ]
  },
  {
   "cell_type": "code",
   "execution_count": 30,
   "id": "b18a5865",
   "metadata": {},
   "outputs": [
    {
     "data": {
      "text/plain": [
       "0"
      ]
     },
     "execution_count": 30,
     "metadata": {},
     "output_type": "execute_result"
    }
   ],
   "source": [
    "# 检测并处理过采样后的数据\n",
    "x_train_sample.isnull().any(axis=1).sum()"
   ]
  },
  {
   "cell_type": "code",
   "execution_count": 31,
   "id": "6ffc6d83",
   "metadata": {},
   "outputs": [
    {
     "data": {
      "text/plain": [
       "0"
      ]
     },
     "execution_count": 31,
     "metadata": {},
     "output_type": "execute_result"
    }
   ],
   "source": [
    "y_train_sample.isnull().any().sum()"
   ]
  },
  {
   "cell_type": "markdown",
   "id": "9ba9ede4",
   "metadata": {},
   "source": [
    " - 无空值，重复值不做处理"
   ]
  },
  {
   "cell_type": "code",
   "execution_count": 32,
   "id": "12eea3af",
   "metadata": {},
   "outputs": [],
   "source": [
    "# 使用xgboost\n",
    "from xgboost import XGBClassifier"
   ]
  },
  {
   "cell_type": "code",
   "execution_count": 33,
   "id": "531dc19a",
   "metadata": {
    "scrolled": true
   },
   "outputs": [
    {
     "data": {
      "text/html": [
       "<style>#sk-container-id-1 {color: black;background-color: white;}#sk-container-id-1 pre{padding: 0;}#sk-container-id-1 div.sk-toggleable {background-color: white;}#sk-container-id-1 label.sk-toggleable__label {cursor: pointer;display: block;width: 100%;margin-bottom: 0;padding: 0.3em;box-sizing: border-box;text-align: center;}#sk-container-id-1 label.sk-toggleable__label-arrow:before {content: \"▸\";float: left;margin-right: 0.25em;color: #696969;}#sk-container-id-1 label.sk-toggleable__label-arrow:hover:before {color: black;}#sk-container-id-1 div.sk-estimator:hover label.sk-toggleable__label-arrow:before {color: black;}#sk-container-id-1 div.sk-toggleable__content {max-height: 0;max-width: 0;overflow: hidden;text-align: left;background-color: #f0f8ff;}#sk-container-id-1 div.sk-toggleable__content pre {margin: 0.2em;color: black;border-radius: 0.25em;background-color: #f0f8ff;}#sk-container-id-1 input.sk-toggleable__control:checked~div.sk-toggleable__content {max-height: 200px;max-width: 100%;overflow: auto;}#sk-container-id-1 input.sk-toggleable__control:checked~label.sk-toggleable__label-arrow:before {content: \"▾\";}#sk-container-id-1 div.sk-estimator input.sk-toggleable__control:checked~label.sk-toggleable__label {background-color: #d4ebff;}#sk-container-id-1 div.sk-label input.sk-toggleable__control:checked~label.sk-toggleable__label {background-color: #d4ebff;}#sk-container-id-1 input.sk-hidden--visually {border: 0;clip: rect(1px 1px 1px 1px);clip: rect(1px, 1px, 1px, 1px);height: 1px;margin: -1px;overflow: hidden;padding: 0;position: absolute;width: 1px;}#sk-container-id-1 div.sk-estimator {font-family: monospace;background-color: #f0f8ff;border: 1px dotted black;border-radius: 0.25em;box-sizing: border-box;margin-bottom: 0.5em;}#sk-container-id-1 div.sk-estimator:hover {background-color: #d4ebff;}#sk-container-id-1 div.sk-parallel-item::after {content: \"\";width: 100%;border-bottom: 1px solid gray;flex-grow: 1;}#sk-container-id-1 div.sk-label:hover label.sk-toggleable__label {background-color: #d4ebff;}#sk-container-id-1 div.sk-serial::before {content: \"\";position: absolute;border-left: 1px solid gray;box-sizing: border-box;top: 0;bottom: 0;left: 50%;z-index: 0;}#sk-container-id-1 div.sk-serial {display: flex;flex-direction: column;align-items: center;background-color: white;padding-right: 0.2em;padding-left: 0.2em;position: relative;}#sk-container-id-1 div.sk-item {position: relative;z-index: 1;}#sk-container-id-1 div.sk-parallel {display: flex;align-items: stretch;justify-content: center;background-color: white;position: relative;}#sk-container-id-1 div.sk-item::before, #sk-container-id-1 div.sk-parallel-item::before {content: \"\";position: absolute;border-left: 1px solid gray;box-sizing: border-box;top: 0;bottom: 0;left: 50%;z-index: -1;}#sk-container-id-1 div.sk-parallel-item {display: flex;flex-direction: column;z-index: 1;position: relative;background-color: white;}#sk-container-id-1 div.sk-parallel-item:first-child::after {align-self: flex-end;width: 50%;}#sk-container-id-1 div.sk-parallel-item:last-child::after {align-self: flex-start;width: 50%;}#sk-container-id-1 div.sk-parallel-item:only-child::after {width: 0;}#sk-container-id-1 div.sk-dashed-wrapped {border: 1px dashed gray;margin: 0 0.4em 0.5em 0.4em;box-sizing: border-box;padding-bottom: 0.4em;background-color: white;}#sk-container-id-1 div.sk-label label {font-family: monospace;font-weight: bold;display: inline-block;line-height: 1.2em;}#sk-container-id-1 div.sk-label-container {text-align: center;}#sk-container-id-1 div.sk-container {/* jupyter's `normalize.less` sets `[hidden] { display: none; }` but bootstrap.min.css set `[hidden] { display: none !important; }` so we also need the `!important` here to be able to override the default hidden behavior on the sphinx rendered scikit-learn.org. See: https://github.com/scikit-learn/scikit-learn/issues/21755 */display: inline-block !important;position: relative;}#sk-container-id-1 div.sk-text-repr-fallback {display: none;}</style><div id=\"sk-container-id-1\" class=\"sk-top-container\"><div class=\"sk-text-repr-fallback\"><pre>XGBClassifier(base_score=0.5, booster=&#x27;gbtree&#x27;, callbacks=None,\n",
       "              colsample_bylevel=1, colsample_bynode=1, colsample_bytree=1,\n",
       "              early_stopping_rounds=None, enable_categorical=False,\n",
       "              eval_metric=None, gamma=0, gpu_id=-1, grow_policy=&#x27;depthwise&#x27;,\n",
       "              importance_type=None, interaction_constraints=&#x27;&#x27;,\n",
       "              learning_rate=0.300000012, max_bin=256, max_cat_to_onehot=4,\n",
       "              max_delta_step=0, max_depth=6, max_leaves=0, min_child_weight=1,\n",
       "              missing=nan, monotone_constraints=&#x27;()&#x27;, n_estimators=100,\n",
       "              n_jobs=0, num_parallel_tree=1, predictor=&#x27;auto&#x27;, random_state=0,\n",
       "              reg_alpha=0, reg_lambda=1, ...)</pre><b>In a Jupyter environment, please rerun this cell to show the HTML representation or trust the notebook. <br />On GitHub, the HTML representation is unable to render, please try loading this page with nbviewer.org.</b></div><div class=\"sk-container\" hidden><div class=\"sk-item\"><div class=\"sk-estimator sk-toggleable\"><input class=\"sk-toggleable__control sk-hidden--visually\" id=\"sk-estimator-id-1\" type=\"checkbox\" checked><label for=\"sk-estimator-id-1\" class=\"sk-toggleable__label sk-toggleable__label-arrow\">XGBClassifier</label><div class=\"sk-toggleable__content\"><pre>XGBClassifier(base_score=0.5, booster=&#x27;gbtree&#x27;, callbacks=None,\n",
       "              colsample_bylevel=1, colsample_bynode=1, colsample_bytree=1,\n",
       "              early_stopping_rounds=None, enable_categorical=False,\n",
       "              eval_metric=None, gamma=0, gpu_id=-1, grow_policy=&#x27;depthwise&#x27;,\n",
       "              importance_type=None, interaction_constraints=&#x27;&#x27;,\n",
       "              learning_rate=0.300000012, max_bin=256, max_cat_to_onehot=4,\n",
       "              max_delta_step=0, max_depth=6, max_leaves=0, min_child_weight=1,\n",
       "              missing=nan, monotone_constraints=&#x27;()&#x27;, n_estimators=100,\n",
       "              n_jobs=0, num_parallel_tree=1, predictor=&#x27;auto&#x27;, random_state=0,\n",
       "              reg_alpha=0, reg_lambda=1, ...)</pre></div></div></div></div></div>"
      ],
      "text/plain": [
       "XGBClassifier(base_score=0.5, booster='gbtree', callbacks=None,\n",
       "              colsample_bylevel=1, colsample_bynode=1, colsample_bytree=1,\n",
       "              early_stopping_rounds=None, enable_categorical=False,\n",
       "              eval_metric=None, gamma=0, gpu_id=-1, grow_policy='depthwise',\n",
       "              importance_type=None, interaction_constraints='',\n",
       "              learning_rate=0.300000012, max_bin=256, max_cat_to_onehot=4,\n",
       "              max_delta_step=0, max_depth=6, max_leaves=0, min_child_weight=1,\n",
       "              missing=nan, monotone_constraints='()', n_estimators=100,\n",
       "              n_jobs=0, num_parallel_tree=1, predictor='auto', random_state=0,\n",
       "              reg_alpha=0, reg_lambda=1, ...)"
      ]
     },
     "execution_count": 33,
     "metadata": {},
     "output_type": "execute_result"
    }
   ],
   "source": [
    "xgbc = XGBClassifier()\n",
    "xgbc.fit(x_train,y_train)"
   ]
  },
  {
   "cell_type": "code",
   "execution_count": 34,
   "id": "da690825",
   "metadata": {},
   "outputs": [
    {
     "data": {
      "text/plain": [
       "0.8677142857142857"
      ]
     },
     "execution_count": 34,
     "metadata": {},
     "output_type": "execute_result"
    }
   ],
   "source": [
    "xgbc.score(x_train,y_train)"
   ]
  },
  {
   "cell_type": "code",
   "execution_count": 35,
   "id": "d3977932",
   "metadata": {},
   "outputs": [
    {
     "data": {
      "text/plain": [
       "0.8603333333333333"
      ]
     },
     "execution_count": 35,
     "metadata": {},
     "output_type": "execute_result"
    }
   ],
   "source": [
    "xgbc.score(x_test,y_test)"
   ]
  },
  {
   "cell_type": "markdown",
   "id": "adcd5cec",
   "metadata": {},
   "source": [
    "- 调参"
   ]
  },
  {
   "cell_type": "code",
   "execution_count": 36,
   "id": "9da16515",
   "metadata": {},
   "outputs": [],
   "source": [
    "from sklearn.model_selection import GridSearchCV"
   ]
  },
  {
   "cell_type": "code",
   "execution_count": 37,
   "id": "d0c70781",
   "metadata": {},
   "outputs": [],
   "source": [
    "parameters = {'max_depth': [1, 3, 5],\n",
    "             'n_estimators': [50, 100, 150],\n",
    "             'learning_rate': [0.01, 0.05, 0.1, 0.2]}\n",
    "\n",
    "gv = GridSearchCV(xgbc, parameters,n_jobs=-1)"
   ]
  },
  {
   "cell_type": "code",
   "execution_count": 38,
   "id": "14c02a03",
   "metadata": {},
   "outputs": [
    {
     "data": {
      "text/html": [
       "<style>#sk-container-id-2 {color: black;background-color: white;}#sk-container-id-2 pre{padding: 0;}#sk-container-id-2 div.sk-toggleable {background-color: white;}#sk-container-id-2 label.sk-toggleable__label {cursor: pointer;display: block;width: 100%;margin-bottom: 0;padding: 0.3em;box-sizing: border-box;text-align: center;}#sk-container-id-2 label.sk-toggleable__label-arrow:before {content: \"▸\";float: left;margin-right: 0.25em;color: #696969;}#sk-container-id-2 label.sk-toggleable__label-arrow:hover:before {color: black;}#sk-container-id-2 div.sk-estimator:hover label.sk-toggleable__label-arrow:before {color: black;}#sk-container-id-2 div.sk-toggleable__content {max-height: 0;max-width: 0;overflow: hidden;text-align: left;background-color: #f0f8ff;}#sk-container-id-2 div.sk-toggleable__content pre {margin: 0.2em;color: black;border-radius: 0.25em;background-color: #f0f8ff;}#sk-container-id-2 input.sk-toggleable__control:checked~div.sk-toggleable__content {max-height: 200px;max-width: 100%;overflow: auto;}#sk-container-id-2 input.sk-toggleable__control:checked~label.sk-toggleable__label-arrow:before {content: \"▾\";}#sk-container-id-2 div.sk-estimator input.sk-toggleable__control:checked~label.sk-toggleable__label {background-color: #d4ebff;}#sk-container-id-2 div.sk-label input.sk-toggleable__control:checked~label.sk-toggleable__label {background-color: #d4ebff;}#sk-container-id-2 input.sk-hidden--visually {border: 0;clip: rect(1px 1px 1px 1px);clip: rect(1px, 1px, 1px, 1px);height: 1px;margin: -1px;overflow: hidden;padding: 0;position: absolute;width: 1px;}#sk-container-id-2 div.sk-estimator {font-family: monospace;background-color: #f0f8ff;border: 1px dotted black;border-radius: 0.25em;box-sizing: border-box;margin-bottom: 0.5em;}#sk-container-id-2 div.sk-estimator:hover {background-color: #d4ebff;}#sk-container-id-2 div.sk-parallel-item::after {content: \"\";width: 100%;border-bottom: 1px solid gray;flex-grow: 1;}#sk-container-id-2 div.sk-label:hover label.sk-toggleable__label {background-color: #d4ebff;}#sk-container-id-2 div.sk-serial::before {content: \"\";position: absolute;border-left: 1px solid gray;box-sizing: border-box;top: 0;bottom: 0;left: 50%;z-index: 0;}#sk-container-id-2 div.sk-serial {display: flex;flex-direction: column;align-items: center;background-color: white;padding-right: 0.2em;padding-left: 0.2em;position: relative;}#sk-container-id-2 div.sk-item {position: relative;z-index: 1;}#sk-container-id-2 div.sk-parallel {display: flex;align-items: stretch;justify-content: center;background-color: white;position: relative;}#sk-container-id-2 div.sk-item::before, #sk-container-id-2 div.sk-parallel-item::before {content: \"\";position: absolute;border-left: 1px solid gray;box-sizing: border-box;top: 0;bottom: 0;left: 50%;z-index: -1;}#sk-container-id-2 div.sk-parallel-item {display: flex;flex-direction: column;z-index: 1;position: relative;background-color: white;}#sk-container-id-2 div.sk-parallel-item:first-child::after {align-self: flex-end;width: 50%;}#sk-container-id-2 div.sk-parallel-item:last-child::after {align-self: flex-start;width: 50%;}#sk-container-id-2 div.sk-parallel-item:only-child::after {width: 0;}#sk-container-id-2 div.sk-dashed-wrapped {border: 1px dashed gray;margin: 0 0.4em 0.5em 0.4em;box-sizing: border-box;padding-bottom: 0.4em;background-color: white;}#sk-container-id-2 div.sk-label label {font-family: monospace;font-weight: bold;display: inline-block;line-height: 1.2em;}#sk-container-id-2 div.sk-label-container {text-align: center;}#sk-container-id-2 div.sk-container {/* jupyter's `normalize.less` sets `[hidden] { display: none; }` but bootstrap.min.css set `[hidden] { display: none !important; }` so we also need the `!important` here to be able to override the default hidden behavior on the sphinx rendered scikit-learn.org. See: https://github.com/scikit-learn/scikit-learn/issues/21755 */display: inline-block !important;position: relative;}#sk-container-id-2 div.sk-text-repr-fallback {display: none;}</style><div id=\"sk-container-id-2\" class=\"sk-top-container\"><div class=\"sk-text-repr-fallback\"><pre>GridSearchCV(estimator=XGBClassifier(base_score=0.5, booster=&#x27;gbtree&#x27;,\n",
       "                                     callbacks=None, colsample_bylevel=1,\n",
       "                                     colsample_bynode=1, colsample_bytree=1,\n",
       "                                     early_stopping_rounds=None,\n",
       "                                     enable_categorical=False, eval_metric=None,\n",
       "                                     gamma=0, gpu_id=-1,\n",
       "                                     grow_policy=&#x27;depthwise&#x27;,\n",
       "                                     importance_type=None,\n",
       "                                     interaction_constraints=&#x27;&#x27;,\n",
       "                                     learning_rate=0.300000012, max_bin=256,\n",
       "                                     max_cat_to_onehot=4, max_delta_step=0,\n",
       "                                     max_depth=6, max_leaves=0,\n",
       "                                     min_child_weight=1, missing=nan,\n",
       "                                     monotone_constraints=&#x27;()&#x27;,\n",
       "                                     n_estimators=100, n_jobs=0,\n",
       "                                     num_parallel_tree=1, predictor=&#x27;auto&#x27;,\n",
       "                                     random_state=0, reg_alpha=0, reg_lambda=1, ...),\n",
       "             n_jobs=-1,\n",
       "             param_grid={&#x27;learning_rate&#x27;: [0.01, 0.05, 0.1, 0.2],\n",
       "                         &#x27;max_depth&#x27;: [1, 3, 5],\n",
       "                         &#x27;n_estimators&#x27;: [50, 100, 150]})</pre><b>In a Jupyter environment, please rerun this cell to show the HTML representation or trust the notebook. <br />On GitHub, the HTML representation is unable to render, please try loading this page with nbviewer.org.</b></div><div class=\"sk-container\" hidden><div class=\"sk-item sk-dashed-wrapped\"><div class=\"sk-label-container\"><div class=\"sk-label sk-toggleable\"><input class=\"sk-toggleable__control sk-hidden--visually\" id=\"sk-estimator-id-2\" type=\"checkbox\" ><label for=\"sk-estimator-id-2\" class=\"sk-toggleable__label sk-toggleable__label-arrow\">GridSearchCV</label><div class=\"sk-toggleable__content\"><pre>GridSearchCV(estimator=XGBClassifier(base_score=0.5, booster=&#x27;gbtree&#x27;,\n",
       "                                     callbacks=None, colsample_bylevel=1,\n",
       "                                     colsample_bynode=1, colsample_bytree=1,\n",
       "                                     early_stopping_rounds=None,\n",
       "                                     enable_categorical=False, eval_metric=None,\n",
       "                                     gamma=0, gpu_id=-1,\n",
       "                                     grow_policy=&#x27;depthwise&#x27;,\n",
       "                                     importance_type=None,\n",
       "                                     interaction_constraints=&#x27;&#x27;,\n",
       "                                     learning_rate=0.300000012, max_bin=256,\n",
       "                                     max_cat_to_onehot=4, max_delta_step=0,\n",
       "                                     max_depth=6, max_leaves=0,\n",
       "                                     min_child_weight=1, missing=nan,\n",
       "                                     monotone_constraints=&#x27;()&#x27;,\n",
       "                                     n_estimators=100, n_jobs=0,\n",
       "                                     num_parallel_tree=1, predictor=&#x27;auto&#x27;,\n",
       "                                     random_state=0, reg_alpha=0, reg_lambda=1, ...),\n",
       "             n_jobs=-1,\n",
       "             param_grid={&#x27;learning_rate&#x27;: [0.01, 0.05, 0.1, 0.2],\n",
       "                         &#x27;max_depth&#x27;: [1, 3, 5],\n",
       "                         &#x27;n_estimators&#x27;: [50, 100, 150]})</pre></div></div></div><div class=\"sk-parallel\"><div class=\"sk-parallel-item\"><div class=\"sk-item\"><div class=\"sk-label-container\"><div class=\"sk-label sk-toggleable\"><input class=\"sk-toggleable__control sk-hidden--visually\" id=\"sk-estimator-id-3\" type=\"checkbox\" ><label for=\"sk-estimator-id-3\" class=\"sk-toggleable__label sk-toggleable__label-arrow\">estimator: XGBClassifier</label><div class=\"sk-toggleable__content\"><pre>XGBClassifier(base_score=0.5, booster=&#x27;gbtree&#x27;, callbacks=None,\n",
       "              colsample_bylevel=1, colsample_bynode=1, colsample_bytree=1,\n",
       "              early_stopping_rounds=None, enable_categorical=False,\n",
       "              eval_metric=None, gamma=0, gpu_id=-1, grow_policy=&#x27;depthwise&#x27;,\n",
       "              importance_type=None, interaction_constraints=&#x27;&#x27;,\n",
       "              learning_rate=0.300000012, max_bin=256, max_cat_to_onehot=4,\n",
       "              max_delta_step=0, max_depth=6, max_leaves=0, min_child_weight=1,\n",
       "              missing=nan, monotone_constraints=&#x27;()&#x27;, n_estimators=100,\n",
       "              n_jobs=0, num_parallel_tree=1, predictor=&#x27;auto&#x27;, random_state=0,\n",
       "              reg_alpha=0, reg_lambda=1, ...)</pre></div></div></div><div class=\"sk-serial\"><div class=\"sk-item\"><div class=\"sk-estimator sk-toggleable\"><input class=\"sk-toggleable__control sk-hidden--visually\" id=\"sk-estimator-id-4\" type=\"checkbox\" ><label for=\"sk-estimator-id-4\" class=\"sk-toggleable__label sk-toggleable__label-arrow\">XGBClassifier</label><div class=\"sk-toggleable__content\"><pre>XGBClassifier(base_score=0.5, booster=&#x27;gbtree&#x27;, callbacks=None,\n",
       "              colsample_bylevel=1, colsample_bynode=1, colsample_bytree=1,\n",
       "              early_stopping_rounds=None, enable_categorical=False,\n",
       "              eval_metric=None, gamma=0, gpu_id=-1, grow_policy=&#x27;depthwise&#x27;,\n",
       "              importance_type=None, interaction_constraints=&#x27;&#x27;,\n",
       "              learning_rate=0.300000012, max_bin=256, max_cat_to_onehot=4,\n",
       "              max_delta_step=0, max_depth=6, max_leaves=0, min_child_weight=1,\n",
       "              missing=nan, monotone_constraints=&#x27;()&#x27;, n_estimators=100,\n",
       "              n_jobs=0, num_parallel_tree=1, predictor=&#x27;auto&#x27;, random_state=0,\n",
       "              reg_alpha=0, reg_lambda=1, ...)</pre></div></div></div></div></div></div></div></div></div></div>"
      ],
      "text/plain": [
       "GridSearchCV(estimator=XGBClassifier(base_score=0.5, booster='gbtree',\n",
       "                                     callbacks=None, colsample_bylevel=1,\n",
       "                                     colsample_bynode=1, colsample_bytree=1,\n",
       "                                     early_stopping_rounds=None,\n",
       "                                     enable_categorical=False, eval_metric=None,\n",
       "                                     gamma=0, gpu_id=-1,\n",
       "                                     grow_policy='depthwise',\n",
       "                                     importance_type=None,\n",
       "                                     interaction_constraints='',\n",
       "                                     learning_rate=0.300000012, max_bin=256,\n",
       "                                     max_cat_to_onehot=4, max_delta_step=0,\n",
       "                                     max_depth=6, max_leaves=0,\n",
       "                                     min_child_weight=1, missing=nan,\n",
       "                                     monotone_constraints='()',\n",
       "                                     n_estimators=100, n_jobs=0,\n",
       "                                     num_parallel_tree=1, predictor='auto',\n",
       "                                     random_state=0, reg_alpha=0, reg_lambda=1, ...),\n",
       "             n_jobs=-1,\n",
       "             param_grid={'learning_rate': [0.01, 0.05, 0.1, 0.2],\n",
       "                         'max_depth': [1, 3, 5],\n",
       "                         'n_estimators': [50, 100, 150]})"
      ]
     },
     "execution_count": 38,
     "metadata": {},
     "output_type": "execute_result"
    }
   ],
   "source": [
    "gv.fit(x_train, y_train)"
   ]
  },
  {
   "cell_type": "code",
   "execution_count": 39,
   "id": "fecf08c0",
   "metadata": {},
   "outputs": [
    {
     "data": {
      "text/plain": [
       "0.857"
      ]
     },
     "execution_count": 39,
     "metadata": {},
     "output_type": "execute_result"
    }
   ],
   "source": [
    "# 最佳得分\n",
    "gv.best_score_"
   ]
  },
  {
   "cell_type": "code",
   "execution_count": 40,
   "id": "7c64e6ab",
   "metadata": {},
   "outputs": [],
   "source": [
    "# 最佳模型\n",
    "best_xgbc = gv.best_estimator_"
   ]
  },
  {
   "cell_type": "code",
   "execution_count": 41,
   "id": "a616748f",
   "metadata": {},
   "outputs": [
    {
     "data": {
      "text/plain": [
       "0.863"
      ]
     },
     "execution_count": 41,
     "metadata": {},
     "output_type": "execute_result"
    }
   ],
   "source": [
    "best_xgbc.score(x_test,y_test)"
   ]
  },
  {
   "cell_type": "code",
   "execution_count": 42,
   "id": "2943e624",
   "metadata": {},
   "outputs": [
    {
     "data": {
      "text/plain": [
       "0.8601428571428571"
      ]
     },
     "execution_count": 42,
     "metadata": {},
     "output_type": "execute_result"
    }
   ],
   "source": [
    "best_xgbc.score(x_train,y_train)"
   ]
  },
  {
   "cell_type": "markdown",
   "id": "ae0a2639",
   "metadata": {},
   "source": [
    " - 调整前后差距不大"
   ]
  },
  {
   "cell_type": "code",
   "execution_count": 43,
   "id": "cc90013a",
   "metadata": {},
   "outputs": [
    {
     "data": {
      "text/plain": [
       "array([0.16034743, 0.27056852, 0.2577441 , 0.31134   ], dtype=float32)"
      ]
     },
     "execution_count": 43,
     "metadata": {},
     "output_type": "execute_result"
    }
   ],
   "source": [
    "# 特征重要性\n",
    "best_xgbc.feature_importances_"
   ]
  },
  {
   "cell_type": "markdown",
   "id": "b38033da",
   "metadata": {},
   "source": [
    " - 也可以用特征重要性来选择特征\n",
    " - 使用其他算法预测得分基本相似"
   ]
  },
  {
   "cell_type": "markdown",
   "id": "ce74793b",
   "metadata": {},
   "source": [
    "#### 混淆矩阵"
   ]
  },
  {
   "cell_type": "code",
   "execution_count": 44,
   "id": "337f361e",
   "metadata": {},
   "outputs": [
    {
     "data": {
      "text/html": [
       "<div>\n",
       "<style scoped>\n",
       "    .dataframe tbody tr th:only-of-type {\n",
       "        vertical-align: middle;\n",
       "    }\n",
       "\n",
       "    .dataframe tbody tr th {\n",
       "        vertical-align: top;\n",
       "    }\n",
       "\n",
       "    .dataframe thead th {\n",
       "        text-align: right;\n",
       "    }\n",
       "</style>\n",
       "<table border=\"1\" class=\"dataframe\">\n",
       "  <thead>\n",
       "    <tr style=\"text-align: right;\">\n",
       "      <th>真实</th>\n",
       "      <th>0</th>\n",
       "      <th>1</th>\n",
       "      <th>All</th>\n",
       "    </tr>\n",
       "    <tr>\n",
       "      <th>预测</th>\n",
       "      <th></th>\n",
       "      <th></th>\n",
       "      <th></th>\n",
       "    </tr>\n",
       "  </thead>\n",
       "  <tbody>\n",
       "    <tr>\n",
       "      <th>0</th>\n",
       "      <td>2319</td>\n",
       "      <td>324</td>\n",
       "      <td>2643</td>\n",
       "    </tr>\n",
       "    <tr>\n",
       "      <th>1</th>\n",
       "      <td>87</td>\n",
       "      <td>270</td>\n",
       "      <td>357</td>\n",
       "    </tr>\n",
       "    <tr>\n",
       "      <th>All</th>\n",
       "      <td>2406</td>\n",
       "      <td>594</td>\n",
       "      <td>3000</td>\n",
       "    </tr>\n",
       "  </tbody>\n",
       "</table>\n",
       "</div>"
      ],
      "text/plain": [
       "真实      0    1   All\n",
       "预测                  \n",
       "0    2319  324  2643\n",
       "1      87  270   357\n",
       "All  2406  594  3000"
      ]
     },
     "execution_count": 44,
     "metadata": {},
     "output_type": "execute_result"
    }
   ],
   "source": [
    "y_pred = best_xgbc.predict(x_test)\n",
    "pd.crosstab(\n",
    "    index=y_pred, \n",
    "    columns=y_test,\n",
    "    rownames=['预测'],\n",
    "    colnames=['真实'],\n",
    "    margins=True\n",
    ")"
   ]
  },
  {
   "cell_type": "code",
   "execution_count": 45,
   "id": "92661ae4",
   "metadata": {},
   "outputs": [
    {
     "data": {
      "text/html": [
       "<div>\n",
       "<style scoped>\n",
       "    .dataframe tbody tr th:only-of-type {\n",
       "        vertical-align: middle;\n",
       "    }\n",
       "\n",
       "    .dataframe tbody tr th {\n",
       "        vertical-align: top;\n",
       "    }\n",
       "\n",
       "    .dataframe thead th {\n",
       "        text-align: right;\n",
       "    }\n",
       "</style>\n",
       "<table border=\"1\" class=\"dataframe\">\n",
       "  <thead>\n",
       "    <tr style=\"text-align: right;\">\n",
       "      <th></th>\n",
       "      <th>pred</th>\n",
       "    </tr>\n",
       "  </thead>\n",
       "  <tbody>\n",
       "    <tr>\n",
       "      <th>0</th>\n",
       "      <td>0</td>\n",
       "    </tr>\n",
       "    <tr>\n",
       "      <th>1</th>\n",
       "      <td>0</td>\n",
       "    </tr>\n",
       "    <tr>\n",
       "      <th>2</th>\n",
       "      <td>0</td>\n",
       "    </tr>\n",
       "    <tr>\n",
       "      <th>3</th>\n",
       "      <td>1</td>\n",
       "    </tr>\n",
       "    <tr>\n",
       "      <th>4</th>\n",
       "      <td>0</td>\n",
       "    </tr>\n",
       "    <tr>\n",
       "      <th>...</th>\n",
       "      <td>...</td>\n",
       "    </tr>\n",
       "    <tr>\n",
       "      <th>2995</th>\n",
       "      <td>0</td>\n",
       "    </tr>\n",
       "    <tr>\n",
       "      <th>2996</th>\n",
       "      <td>0</td>\n",
       "    </tr>\n",
       "    <tr>\n",
       "      <th>2997</th>\n",
       "      <td>0</td>\n",
       "    </tr>\n",
       "    <tr>\n",
       "      <th>2998</th>\n",
       "      <td>0</td>\n",
       "    </tr>\n",
       "    <tr>\n",
       "      <th>2999</th>\n",
       "      <td>0</td>\n",
       "    </tr>\n",
       "  </tbody>\n",
       "</table>\n",
       "<p>3000 rows × 1 columns</p>\n",
       "</div>"
      ],
      "text/plain": [
       "      pred\n",
       "0        0\n",
       "1        0\n",
       "2        0\n",
       "3        1\n",
       "4        0\n",
       "...    ...\n",
       "2995     0\n",
       "2996     0\n",
       "2997     0\n",
       "2998     0\n",
       "2999     0\n",
       "\n",
       "[3000 rows x 1 columns]"
      ]
     },
     "execution_count": 45,
     "metadata": {},
     "output_type": "execute_result"
    }
   ],
   "source": [
    "df_tem1 = pd.DataFrame(y_pred,columns=['pred'])\n",
    "df_tem1"
   ]
  },
  {
   "cell_type": "markdown",
   "id": "b2beb650",
   "metadata": {},
   "source": [
    "#### 画图\n",
    " - recall召回率，precision精准率，F1值，accuracy准确率\n",
    " - ROC曲线"
   ]
  },
  {
   "cell_type": "code",
   "execution_count": 46,
   "id": "487f9744",
   "metadata": {},
   "outputs": [],
   "source": [
    "from sklearn.metrics import auc, roc_curve, roc_auc_score, \\\n",
    "recall_score, precision_score, f1_score, accuracy_score"
   ]
  },
  {
   "cell_type": "code",
   "execution_count": 47,
   "id": "e1ed3d1a",
   "metadata": {},
   "outputs": [],
   "source": [
    "y_pred = best_xgbc.predict(x_test)\n",
    "y_true = y_test"
   ]
  },
  {
   "cell_type": "code",
   "execution_count": 48,
   "id": "3d07827d",
   "metadata": {},
   "outputs": [
    {
     "data": {
      "text/plain": [
       "0.45454545454545453"
      ]
     },
     "execution_count": 48,
     "metadata": {},
     "output_type": "execute_result"
    }
   ],
   "source": [
    "recall_score(y_true, y_pred)"
   ]
  },
  {
   "cell_type": "code",
   "execution_count": 49,
   "id": "e045b08a",
   "metadata": {},
   "outputs": [
    {
     "data": {
      "text/plain": [
       "0.7563025210084033"
      ]
     },
     "execution_count": 49,
     "metadata": {},
     "output_type": "execute_result"
    }
   ],
   "source": [
    "precision_score(y_true, y_pred)"
   ]
  },
  {
   "cell_type": "code",
   "execution_count": 50,
   "id": "58a03ff0",
   "metadata": {},
   "outputs": [
    {
     "data": {
      "text/plain": [
       "array([0.1, 0.2, 0.3, 0.4, 0.5, 0.6, 0.7, 0.8, 0.9, 1. ])"
      ]
     },
     "execution_count": 50,
     "metadata": {},
     "output_type": "execute_result"
    }
   ],
   "source": [
    "# 设置不同的阈值\n",
    "np.linspace(0.1,1,10)"
   ]
  },
  {
   "cell_type": "code",
   "execution_count": 51,
   "id": "11f866a6",
   "metadata": {},
   "outputs": [],
   "source": [
    "def get_score(y_true, y_proba, threshold, show):\n",
    "    y_pred = (y_proba[:, -1] >= threshold) * 1\n",
    "    recall = recall_score(y_true, y_pred)\n",
    "    precision = precision_score(y_true, y_pred)\n",
    "    f1 = f1_score(y_true, y_pred)\n",
    "    accuracy = accuracy_score(y_true, y_pred)\n",
    "    if show:\n",
    "        print('threshold:', threshold)\n",
    "        print(\"recall:\", recall)\n",
    "        print(\"precision:\", precision)\n",
    "        print(\"f1:\", f1)\n",
    "        print(\"accuracy:\", accuracy)\n",
    "        print('*' * 100)\n",
    "    return recall, precision, f1, accuracy"
   ]
  },
  {
   "cell_type": "code",
   "execution_count": 52,
   "id": "fed3c277",
   "metadata": {},
   "outputs": [],
   "source": [
    "def get_score_df( data_X,data_y,model,show = False):\n",
    "    scores_dict = {}\n",
    "    y_proba = model.predict_proba(data_X)\n",
    "    for threshold in np.linspace(0.1,1,10):\n",
    "        scores = get_score(data_y,y_proba,threshold,show = show)\n",
    "        scores_dict[threshold] = scores\n",
    "        scores_df = pd.DataFrame(scores_dict).T\n",
    "        scores_df.columns = ['recall', 'precision', 'f1', 'accuracy']\n",
    "    return scores_df"
   ]
  },
  {
   "cell_type": "code",
   "execution_count": 53,
   "id": "dd9c6a54",
   "metadata": {},
   "outputs": [
    {
     "data": {
      "text/html": [
       "<div>\n",
       "<style scoped>\n",
       "    .dataframe tbody tr th:only-of-type {\n",
       "        vertical-align: middle;\n",
       "    }\n",
       "\n",
       "    .dataframe tbody tr th {\n",
       "        vertical-align: top;\n",
       "    }\n",
       "\n",
       "    .dataframe thead th {\n",
       "        text-align: right;\n",
       "    }\n",
       "</style>\n",
       "<table border=\"1\" class=\"dataframe\">\n",
       "  <thead>\n",
       "    <tr style=\"text-align: right;\">\n",
       "      <th></th>\n",
       "      <th>recall</th>\n",
       "      <th>precision</th>\n",
       "      <th>f1</th>\n",
       "      <th>accuracy</th>\n",
       "    </tr>\n",
       "  </thead>\n",
       "  <tbody>\n",
       "    <tr>\n",
       "      <th>0.1</th>\n",
       "      <td>0.910774</td>\n",
       "      <td>0.307911</td>\n",
       "      <td>0.460230</td>\n",
       "      <td>0.577000</td>\n",
       "    </tr>\n",
       "    <tr>\n",
       "      <th>0.2</th>\n",
       "      <td>0.744108</td>\n",
       "      <td>0.484649</td>\n",
       "      <td>0.586985</td>\n",
       "      <td>0.792667</td>\n",
       "    </tr>\n",
       "    <tr>\n",
       "      <th>0.3</th>\n",
       "      <td>0.597643</td>\n",
       "      <td>0.599662</td>\n",
       "      <td>0.598651</td>\n",
       "      <td>0.841333</td>\n",
       "    </tr>\n",
       "    <tr>\n",
       "      <th>0.4</th>\n",
       "      <td>0.506734</td>\n",
       "      <td>0.688787</td>\n",
       "      <td>0.583899</td>\n",
       "      <td>0.857000</td>\n",
       "    </tr>\n",
       "    <tr>\n",
       "      <th>0.5</th>\n",
       "      <td>0.454545</td>\n",
       "      <td>0.756303</td>\n",
       "      <td>0.567823</td>\n",
       "      <td>0.863000</td>\n",
       "    </tr>\n",
       "    <tr>\n",
       "      <th>0.6</th>\n",
       "      <td>0.353535</td>\n",
       "      <td>0.826772</td>\n",
       "      <td>0.495283</td>\n",
       "      <td>0.857333</td>\n",
       "    </tr>\n",
       "    <tr>\n",
       "      <th>0.7</th>\n",
       "      <td>0.287879</td>\n",
       "      <td>0.890625</td>\n",
       "      <td>0.435115</td>\n",
       "      <td>0.852000</td>\n",
       "    </tr>\n",
       "    <tr>\n",
       "      <th>0.8</th>\n",
       "      <td>0.185185</td>\n",
       "      <td>0.932203</td>\n",
       "      <td>0.308989</td>\n",
       "      <td>0.836000</td>\n",
       "    </tr>\n",
       "    <tr>\n",
       "      <th>0.9</th>\n",
       "      <td>0.079125</td>\n",
       "      <td>0.979167</td>\n",
       "      <td>0.146417</td>\n",
       "      <td>0.817333</td>\n",
       "    </tr>\n",
       "    <tr>\n",
       "      <th>1.0</th>\n",
       "      <td>0.000000</td>\n",
       "      <td>0.000000</td>\n",
       "      <td>0.000000</td>\n",
       "      <td>0.802000</td>\n",
       "    </tr>\n",
       "  </tbody>\n",
       "</table>\n",
       "</div>"
      ],
      "text/plain": [
       "       recall  precision        f1  accuracy\n",
       "0.1  0.910774   0.307911  0.460230  0.577000\n",
       "0.2  0.744108   0.484649  0.586985  0.792667\n",
       "0.3  0.597643   0.599662  0.598651  0.841333\n",
       "0.4  0.506734   0.688787  0.583899  0.857000\n",
       "0.5  0.454545   0.756303  0.567823  0.863000\n",
       "0.6  0.353535   0.826772  0.495283  0.857333\n",
       "0.7  0.287879   0.890625  0.435115  0.852000\n",
       "0.8  0.185185   0.932203  0.308989  0.836000\n",
       "0.9  0.079125   0.979167  0.146417  0.817333\n",
       "1.0  0.000000   0.000000  0.000000  0.802000"
      ]
     },
     "execution_count": 53,
     "metadata": {},
     "output_type": "execute_result"
    }
   ],
   "source": [
    "scores_df = get_score_df(x_test, y_test, best_xgbc)\n",
    "scores_df"
   ]
  },
  {
   "cell_type": "code",
   "execution_count": 54,
   "id": "d32aa8c0",
   "metadata": {},
   "outputs": [
    {
     "data": {
      "application/javascript": [
       "\n",
       "        if (window._pyforest_update_imports_cell) { window._pyforest_update_imports_cell('import pandas as pd\\nimport matplotlib.pyplot as plt'); }\n",
       "    "
      ],
      "text/plain": [
       "<IPython.core.display.Javascript object>"
      ]
     },
     "metadata": {},
     "output_type": "display_data"
    },
    {
     "data": {
      "application/javascript": [
       "\n",
       "        if (window._pyforest_update_imports_cell) { window._pyforest_update_imports_cell('import pandas as pd\\nimport seaborn as sns\\nimport matplotlib.pyplot as plt'); }\n",
       "    "
      ],
      "text/plain": [
       "<IPython.core.display.Javascript object>"
      ]
     },
     "metadata": {},
     "output_type": "display_data"
    },
    {
     "data": {
      "application/javascript": [
       "\n",
       "        if (window._pyforest_update_imports_cell) { window._pyforest_update_imports_cell('import pandas as pd\\nimport seaborn as sns\\nimport matplotlib.pyplot as plt'); }\n",
       "    "
      ],
      "text/plain": [
       "<IPython.core.display.Javascript object>"
      ]
     },
     "metadata": {},
     "output_type": "display_data"
    },
    {
     "data": {
      "image/png": "[encoded data removed]",
      "text/plain": [
       "<Figure size 600x600 with 1 Axes>"
      ]
     },
     "metadata": {},
     "output_type": "display_data"
    }
   ],
   "source": [
    "plt.figure(figsize=(4,4),dpi=150)\n",
    "sns.lineplot(data=scores_df)\n",
    "plt.show()"
   ]
  },
  {
   "cell_type": "code",
   "execution_count": 55,
   "id": "761c9b59",
   "metadata": {},
   "outputs": [
    {
     "data": {
      "text/plain": [
       "(array([0.00000000e+00, 0.00000000e+00, 0.00000000e+00, 0.00000000e+00,\n",
       "        0.00000000e+00, 0.00000000e+00, 0.00000000e+00, 0.00000000e+00,\n",
       "        0.00000000e+00, 0.00000000e+00, 4.15627598e-04, 4.15627598e-04,\n",
       "        4.15627598e-04, 4.15627598e-04, 4.15627598e-04, 4.15627598e-04,\n",
       "        4.15627598e-04, 4.15627598e-04, 4.15627598e-04, 1.24688279e-03,\n",
       "        1.24688279e-03, 1.24688279e-03, 1.66251039e-03, 1.66251039e-03,\n",
       "        2.90939318e-03, 2.90939318e-03, 2.90939318e-03, 3.32502078e-03,\n",
       "        3.74064838e-03, 4.15627598e-03, 4.57190357e-03, 4.57190357e-03,\n",
       "        4.98753117e-03, 4.98753117e-03, 5.40315877e-03, 6.23441397e-03,\n",
       "        7.06566916e-03, 7.06566916e-03, 8.72817955e-03, 8.72817955e-03,\n",
       "        8.72817955e-03, 8.72817955e-03, 9.14380715e-03, 9.14380715e-03,\n",
       "        1.12219451e-02, 1.24688279e-02, 1.24688279e-02, 1.28844555e-02,\n",
       "        1.45469659e-02, 1.66251039e-02, 1.70407315e-02, 1.74563591e-02,\n",
       "        1.74563591e-02, 1.78719867e-02, 1.82876143e-02, 1.87032419e-02,\n",
       "        2.28595179e-02, 2.32751455e-02, 2.70157938e-02, 2.74314214e-02,\n",
       "        2.74314214e-02, 2.78470490e-02, 2.99251870e-02, 3.28345802e-02,\n",
       "        3.28345802e-02, 3.28345802e-02, 3.53283458e-02, 3.57439734e-02,\n",
       "        3.61596010e-02, 3.69908562e-02, 3.74064838e-02, 3.82377390e-02,\n",
       "        3.86533666e-02, 3.90689942e-02, 3.90689942e-02, 4.15627598e-02,\n",
       "        4.19783874e-02, 4.36408978e-02, 4.36408978e-02, 4.44721530e-02,\n",
       "        4.57190357e-02, 4.65502909e-02, 4.65502909e-02, 5.61097257e-02,\n",
       "        5.65253533e-02, 5.90191189e-02, 5.98503741e-02, 6.15128845e-02,\n",
       "        6.19285121e-02, 6.56691604e-02, 7.23192020e-02, 8.35411471e-02,\n",
       "        8.89443059e-02, 9.22693267e-02, 9.26849543e-02, 9.31005819e-02,\n",
       "        9.47630923e-02, 9.60099751e-02, 9.85037406e-02, 1.02244389e-01,\n",
       "        1.03906899e-01, 1.06400665e-01, 1.08894431e-01, 1.10141313e-01,\n",
       "        1.12219451e-01, 1.13881962e-01, 1.15960100e-01, 1.18453865e-01,\n",
       "        1.20532003e-01, 1.33832086e-01, 1.35494597e-01, 1.38819618e-01,\n",
       "        1.44638404e-01, 1.45469659e-01, 1.49210308e-01, 1.52950956e-01,\n",
       "        1.54613466e-01, 1.57938487e-01, 1.62510391e-01, 1.69991687e-01,\n",
       "        1.72901081e-01, 1.77888612e-01, 1.80798005e-01, 1.82876143e-01,\n",
       "        1.84538653e-01, 1.88279302e-01, 1.88694929e-01, 1.95344971e-01,\n",
       "        1.95760599e-01, 1.99501247e-01, 2.09060682e-01, 2.11138820e-01,\n",
       "        2.20698254e-01, 2.21945137e-01, 2.24438903e-01, 2.30257689e-01,\n",
       "        2.32335827e-01, 2.33998337e-01, 2.57273483e-01, 2.68495428e-01,\n",
       "        2.73482959e-01, 2.83042394e-01, 2.91354946e-01, 3.02161264e-01,\n",
       "        3.02992519e-01, 3.06733167e-01, 3.13798836e-01, 3.15045719e-01,\n",
       "        3.17539485e-01, 3.17955112e-01, 3.21695761e-01, 3.23358271e-01,\n",
       "        3.26683292e-01, 3.35827099e-01, 3.37489609e-01, 3.38320865e-01,\n",
       "        3.39152120e-01, 3.43308396e-01, 3.44139651e-01, 3.44555278e-01,\n",
       "        3.49958437e-01, 3.51620948e-01, 3.65336658e-01, 3.71986700e-01,\n",
       "        3.80299252e-01, 3.80714879e-01, 3.87780549e-01, 3.92352452e-01,\n",
       "        4.01911887e-01, 4.11886949e-01, 4.12302577e-01, 4.12718204e-01,\n",
       "        4.25602660e-01, 4.27680798e-01, 4.51371571e-01, 4.55527847e-01,\n",
       "        4.65087282e-01, 4.67996675e-01, 4.69243558e-01, 4.77556110e-01,\n",
       "        4.80881131e-01, 4.89193682e-01, 4.98337490e-01, 5.01662510e-01,\n",
       "        5.05403159e-01, 5.09143807e-01, 5.12053200e-01, 5.12053200e-01,\n",
       "        5.14131338e-01, 5.23690773e-01, 5.25353283e-01, 5.31587697e-01,\n",
       "        5.32834580e-01, 5.36159601e-01, 5.45303408e-01, 5.47797174e-01,\n",
       "        5.51537822e-01, 5.52784705e-01, 5.72319202e-01, 5.78969244e-01,\n",
       "        5.81047382e-01, 5.93100582e-01, 5.97672485e-01, 5.99334996e-01,\n",
       "        6.18038238e-01, 6.29675810e-01, 6.33000831e-01, 6.35078969e-01,\n",
       "        6.35494597e-01, 6.40482128e-01, 6.50872818e-01, 6.55444722e-01,\n",
       "        6.57107232e-01, 6.65419784e-01, 6.79551122e-01, 6.84954281e-01,\n",
       "        6.99085619e-01, 6.99916874e-01, 7.01579385e-01, 7.03657523e-01,\n",
       "        7.04073150e-01, 7.07813799e-01, 7.13216958e-01, 7.13632585e-01,\n",
       "        7.23607648e-01, 7.34413965e-01, 7.42310889e-01, 7.53532835e-01,\n",
       "        7.65170407e-01, 7.66832918e-01, 7.67248545e-01, 7.70157938e-01,\n",
       "        7.72651704e-01, 7.73067332e-01, 7.87198670e-01, 8.04239401e-01,\n",
       "        8.04655029e-01, 8.08395677e-01, 8.16292602e-01, 8.17123857e-01,\n",
       "        8.39567747e-01, 8.88196176e-01, 8.94430590e-01, 8.95261845e-01,\n",
       "        9.02327515e-01, 9.02743142e-01, 9.03574397e-01, 9.26433915e-01,\n",
       "        9.70906068e-01, 9.73399834e-01, 9.73815461e-01, 9.87531172e-01,\n",
       "        9.91271820e-01, 9.93765586e-01, 1.00000000e+00]),\n",
       " array([0.        , 0.0016835 , 0.003367  , 0.00841751, 0.01515152,\n",
       "        0.01851852, 0.02188552, 0.02525253, 0.03535354, 0.03703704,\n",
       "        0.05218855, 0.06060606, 0.06397306, 0.06734007, 0.07070707,\n",
       "        0.07239057, 0.07912458, 0.08922559, 0.09259259, 0.13299663,\n",
       "        0.13636364, 0.14478114, 0.15488215, 0.16498316, 0.17676768,\n",
       "        0.18013468, 0.18350168, 0.18518519, 0.19191919, 0.19360269,\n",
       "        0.1986532 , 0.20875421, 0.22727273, 0.22895623, 0.23232323,\n",
       "        0.24579125, 0.26767677, 0.26936027, 0.27777778, 0.28282828,\n",
       "        0.28619529, 0.28787879, 0.28956229, 0.29124579, 0.3030303 ,\n",
       "        0.31313131, 0.31649832, 0.31818182, 0.32828283, 0.34511785,\n",
       "        0.34680135, 0.34680135, 0.35016835, 0.35353535, 0.35353535,\n",
       "        0.35521886, 0.36531987, 0.37542088, 0.38383838, 0.39057239,\n",
       "        0.39393939, 0.39393939, 0.40909091, 0.42929293, 0.43097643,\n",
       "        0.43771044, 0.44781145, 0.45454545, 0.45454545, 0.45454545,\n",
       "        0.45622896, 0.46127946, 0.46127946, 0.46296296, 0.46632997,\n",
       "        0.47138047, 0.47474747, 0.47811448, 0.47979798, 0.48316498,\n",
       "        0.48989899, 0.49326599, 0.4983165 , 0.50673401, 0.50673401,\n",
       "        0.51178451, 0.51851852, 0.52188552, 0.52525253, 0.52861953,\n",
       "        0.53535354, 0.55723906, 0.57070707, 0.57575758, 0.58080808,\n",
       "        0.58249158, 0.58417508, 0.59259259, 0.5976431 , 0.60774411,\n",
       "        0.60774411, 0.60774411, 0.62626263, 0.63804714, 0.63973064,\n",
       "        0.64478114, 0.64646465, 0.65319865, 0.65656566, 0.67171717,\n",
       "        0.67171717, 0.67508418, 0.67676768, 0.67676768, 0.68181818,\n",
       "        0.68855219, 0.69023569, 0.6952862 , 0.6969697 , 0.70875421,\n",
       "        0.70875421, 0.71717172, 0.71885522, 0.72053872, 0.72053872,\n",
       "        0.73400673, 0.73400673, 0.74410774, 0.74579125, 0.75084175,\n",
       "        0.75757576, 0.75925926, 0.76262626, 0.76262626, 0.76936027,\n",
       "        0.77441077, 0.77609428, 0.77609428, 0.78956229, 0.79461279,\n",
       "        0.7979798 , 0.8013468 , 0.80976431, 0.81818182, 0.81986532,\n",
       "        0.82154882, 0.82828283, 0.82828283, 0.83333333, 0.83333333,\n",
       "        0.83838384, 0.83838384, 0.84006734, 0.84175084, 0.84343434,\n",
       "        0.84511785, 0.85016835, 0.85185185, 0.85185185, 0.85185185,\n",
       "        0.85185185, 0.85185185, 0.85521886, 0.85521886, 0.85858586,\n",
       "        0.85858586, 0.86026936, 0.86026936, 0.86026936, 0.86700337,\n",
       "        0.86700337, 0.87037037, 0.87710438, 0.87710438, 0.88888889,\n",
       "        0.89225589, 0.8956229 , 0.8956229 , 0.8973064 , 0.9040404 ,\n",
       "        0.9040404 , 0.9040404 , 0.90909091, 0.90909091, 0.91077441,\n",
       "        0.91077441, 0.91245791, 0.91414141, 0.91414141, 0.91582492,\n",
       "        0.91582492, 0.91750842, 0.91750842, 0.91750842, 0.91750842,\n",
       "        0.91919192, 0.92255892, 0.92255892, 0.92929293, 0.93265993,\n",
       "        0.93265993, 0.93265993, 0.93434343, 0.93434343, 0.94107744,\n",
       "        0.94949495, 0.95286195, 0.95454545, 0.95454545, 0.95454545,\n",
       "        0.95622896, 0.95622896, 0.95622896, 0.95959596, 0.96296296,\n",
       "        0.96464646, 0.96632997, 0.96632997, 0.96632997, 0.96632997,\n",
       "        0.96632997, 0.96632997, 0.96801347, 0.96801347, 0.96969697,\n",
       "        0.97474747, 0.97643098, 0.97811448, 0.97979798, 0.97979798,\n",
       "        0.97979798, 0.97979798, 0.97979798, 0.97979798, 0.97979798,\n",
       "        0.98148148, 0.98148148, 0.98148148, 0.98148148, 0.98148148,\n",
       "        0.98653199, 0.98821549, 0.98821549, 0.98821549, 0.98821549,\n",
       "        0.98821549, 0.98821549, 0.98989899, 0.99326599, 0.99326599,\n",
       "        0.99326599, 0.996633  , 0.9983165 , 1.        , 1.        ]))"
      ]
     },
     "execution_count": 55,
     "metadata": {},
     "output_type": "execute_result"
    }
   ],
   "source": [
    "# ROC曲线\n",
    "y_proba2 = best_xgbc.predict_proba(x_test)\n",
    "y_score = y_proba2[:, -1]\n",
    "fpr, tpr, _ = roc_curve(y_test, y_score)\n",
    "fpr, tpr"
   ]
  },
  {
   "cell_type": "code",
   "execution_count": 56,
   "id": "904e6e82",
   "metadata": {},
   "outputs": [
    {
     "data": {
      "text/plain": [
       "((255,), (255,))"
      ]
     },
     "execution_count": 56,
     "metadata": {},
     "output_type": "execute_result"
    }
   ],
   "source": [
    "fpr.shape, tpr.shape"
   ]
  },
  {
   "cell_type": "code",
   "execution_count": 57,
   "id": "1791b41f",
   "metadata": {},
   "outputs": [
    {
     "data": {
      "application/javascript": [
       "\n",
       "        if (window._pyforest_update_imports_cell) { window._pyforest_update_imports_cell('import pandas as pd\\nimport seaborn as sns\\nimport matplotlib.pyplot as plt'); }\n",
       "    "
      ],
      "text/plain": [
       "<IPython.core.display.Javascript object>"
      ]
     },
     "metadata": {},
     "output_type": "display_data"
    },
    {
     "data": {
      "application/javascript": [
       "\n",
       "        if (window._pyforest_update_imports_cell) { window._pyforest_update_imports_cell('import pandas as pd\\nimport seaborn as sns\\nimport matplotlib.pyplot as plt'); }\n",
       "    "
      ],
      "text/plain": [
       "<IPython.core.display.Javascript object>"
      ]
     },
     "metadata": {},
     "output_type": "display_data"
    },
    {
     "data": {
      "application/javascript": [
       "\n",
       "        if (window._pyforest_update_imports_cell) { window._pyforest_update_imports_cell('import pandas as pd\\nimport seaborn as sns\\nimport matplotlib.pyplot as plt'); }\n",
       "    "
      ],
      "text/plain": [
       "<IPython.core.display.Javascript object>"
      ]
     },
     "metadata": {},
     "output_type": "display_data"
    },
    {
     "data": {
      "application/javascript": [
       "\n",
       "        if (window._pyforest_update_imports_cell) { window._pyforest_update_imports_cell('import pandas as pd\\nimport seaborn as sns\\nimport matplotlib.pyplot as plt'); }\n",
       "    "
      ],
      "text/plain": [
       "<IPython.core.display.Javascript object>"
      ]
     },
     "metadata": {},
     "output_type": "display_data"
    },
    {
     "data": {
      "application/javascript": [
       "\n",
       "        if (window._pyforest_update_imports_cell) { window._pyforest_update_imports_cell('import pandas as pd\\nimport seaborn as sns\\nimport matplotlib.pyplot as plt'); }\n",
       "    "
      ],
      "text/plain": [
       "<IPython.core.display.Javascript object>"
      ]
     },
     "metadata": {},
     "output_type": "display_data"
    },
    {
     "data": {
      "text/plain": [
       "0.8489984354489757"
      ]
     },
     "execution_count": 57,
     "metadata": {},
     "output_type": "execute_result"
    },
    {
     "data": {
      "image/png": "[encoded data removed]",
      "text/plain": [
       "<Figure size 600x600 with 1 Axes>"
      ]
     },
     "metadata": {},
     "output_type": "display_data"
    }
   ],
   "source": [
    "plt.figure(figsize=(4,4),dpi = 150)\n",
    "plt.plot(fpr, tpr)\n",
    "plt.xlabel('FPR')\n",
    "plt.ylabel('TPR')\n",
    "plt.plot([0, 1], [0, 1], ls='--')\n",
    "auc(fpr,tpr)"
   ]
  },
  {
   "cell_type": "markdown",
   "id": "defa293f",
   "metadata": {},
   "source": [
    "#### 保存模型"
   ]
  },
  {
   "cell_type": "code",
   "execution_count": 58,
   "id": "2e484161",
   "metadata": {},
   "outputs": [],
   "source": [
    "import joblib"
   ]
  },
  {
   "cell_type": "code",
   "execution_count": 59,
   "id": "4f191790",
   "metadata": {},
   "outputs": [],
   "source": [
    "# joblib.dump(best_xgbc, 'best_xgbc.plk')"
   ]
  },
  {
   "cell_type": "markdown",
   "id": "19c423dd",
   "metadata": {},
   "source": [
    "#### 是否离开银行"
   ]
  },
  {
   "cell_type": "code",
   "execution_count": 60,
   "id": "13256074",
   "metadata": {},
   "outputs": [
    {
     "data": {
      "text/html": [
       "<div>\n",
       "<style scoped>\n",
       "    .dataframe tbody tr th:only-of-type {\n",
       "        vertical-align: middle;\n",
       "    }\n",
       "\n",
       "    .dataframe tbody tr th {\n",
       "        vertical-align: top;\n",
       "    }\n",
       "\n",
       "    .dataframe thead th {\n",
       "        text-align: right;\n",
       "    }\n",
       "</style>\n",
       "<table border=\"1\" class=\"dataframe\">\n",
       "  <thead>\n",
       "    <tr style=\"text-align: right;\">\n",
       "      <th></th>\n",
       "      <th>stay_proba</th>\n",
       "      <th>leave_proba</th>\n",
       "    </tr>\n",
       "  </thead>\n",
       "  <tbody>\n",
       "    <tr>\n",
       "      <th>0</th>\n",
       "      <td>0.881468</td>\n",
       "      <td>0.118532</td>\n",
       "    </tr>\n",
       "    <tr>\n",
       "      <th>1</th>\n",
       "      <td>0.612313</td>\n",
       "      <td>0.387687</td>\n",
       "    </tr>\n",
       "    <tr>\n",
       "      <th>2</th>\n",
       "      <td>0.935180</td>\n",
       "      <td>0.064820</td>\n",
       "    </tr>\n",
       "    <tr>\n",
       "      <th>3</th>\n",
       "      <td>0.376842</td>\n",
       "      <td>0.623158</td>\n",
       "    </tr>\n",
       "    <tr>\n",
       "      <th>4</th>\n",
       "      <td>0.654169</td>\n",
       "      <td>0.345831</td>\n",
       "    </tr>\n",
       "    <tr>\n",
       "      <th>...</th>\n",
       "      <td>...</td>\n",
       "      <td>...</td>\n",
       "    </tr>\n",
       "    <tr>\n",
       "      <th>2995</th>\n",
       "      <td>0.926952</td>\n",
       "      <td>0.073048</td>\n",
       "    </tr>\n",
       "    <tr>\n",
       "      <th>2996</th>\n",
       "      <td>0.894395</td>\n",
       "      <td>0.105605</td>\n",
       "    </tr>\n",
       "    <tr>\n",
       "      <th>2997</th>\n",
       "      <td>0.891979</td>\n",
       "      <td>0.108021</td>\n",
       "    </tr>\n",
       "    <tr>\n",
       "      <th>2998</th>\n",
       "      <td>0.861840</td>\n",
       "      <td>0.138160</td>\n",
       "    </tr>\n",
       "    <tr>\n",
       "      <th>2999</th>\n",
       "      <td>0.881468</td>\n",
       "      <td>0.118532</td>\n",
       "    </tr>\n",
       "  </tbody>\n",
       "</table>\n",
       "<p>3000 rows × 2 columns</p>\n",
       "</div>"
      ],
      "text/plain": [
       "      stay_proba  leave_proba\n",
       "0       0.881468     0.118532\n",
       "1       0.612313     0.387687\n",
       "2       0.935180     0.064820\n",
       "3       0.376842     0.623158\n",
       "4       0.654169     0.345831\n",
       "...          ...          ...\n",
       "2995    0.926952     0.073048\n",
       "2996    0.894395     0.105605\n",
       "2997    0.891979     0.108021\n",
       "2998    0.861840     0.138160\n",
       "2999    0.881468     0.118532\n",
       "\n",
       "[3000 rows x 2 columns]"
      ]
     },
     "execution_count": 60,
     "metadata": {},
     "output_type": "execute_result"
    }
   ],
   "source": [
    "df_tem2 = pd.DataFrame(best_xgbc.predict_proba(x_test),columns=['stay_proba','leave_proba'])\n",
    "df_tem2"
   ]
  },
  {
   "cell_type": "code",
   "execution_count": 61,
   "id": "af9b6086",
   "metadata": {},
   "outputs": [],
   "source": [
    "x_test.reset_index(inplace=True)"
   ]
  },
  {
   "cell_type": "code",
   "execution_count": 62,
   "id": "d4ad33f8",
   "metadata": {},
   "outputs": [],
   "source": [
    "df_pred = pd.concat([ x_test,df_tem1,df_tem2],axis=1)"
   ]
  },
  {
   "cell_type": "code",
   "execution_count": 63,
   "id": "7d9c41b3",
   "metadata": {},
   "outputs": [
    {
     "data": {
      "text/html": [
       "<div>\n",
       "<style scoped>\n",
       "    .dataframe tbody tr th:only-of-type {\n",
       "        vertical-align: middle;\n",
       "    }\n",
       "\n",
       "    .dataframe tbody tr th {\n",
       "        vertical-align: top;\n",
       "    }\n",
       "\n",
       "    .dataframe thead th {\n",
       "        text-align: right;\n",
       "    }\n",
       "</style>\n",
       "<table border=\"1\" class=\"dataframe\">\n",
       "  <thead>\n",
       "    <tr style=\"text-align: right;\">\n",
       "      <th></th>\n",
       "      <th>index</th>\n",
       "      <th>Geography</th>\n",
       "      <th>Age</th>\n",
       "      <th>NumOfProducts</th>\n",
       "      <th>IsActiveMember</th>\n",
       "      <th>pred</th>\n",
       "      <th>stay_proba</th>\n",
       "      <th>leave_proba</th>\n",
       "    </tr>\n",
       "  </thead>\n",
       "  <tbody>\n",
       "    <tr>\n",
       "      <th>0</th>\n",
       "      <td>7000</td>\n",
       "      <td>0</td>\n",
       "      <td>28</td>\n",
       "      <td>1</td>\n",
       "      <td>0</td>\n",
       "      <td>0</td>\n",
       "      <td>0.881468</td>\n",
       "      <td>0.118532</td>\n",
       "    </tr>\n",
       "    <tr>\n",
       "      <th>1</th>\n",
       "      <td>7001</td>\n",
       "      <td>2</td>\n",
       "      <td>48</td>\n",
       "      <td>2</td>\n",
       "      <td>0</td>\n",
       "      <td>0</td>\n",
       "      <td>0.612313</td>\n",
       "      <td>0.387687</td>\n",
       "    </tr>\n",
       "    <tr>\n",
       "      <th>2</th>\n",
       "      <td>7002</td>\n",
       "      <td>2</td>\n",
       "      <td>32</td>\n",
       "      <td>2</td>\n",
       "      <td>0</td>\n",
       "      <td>0</td>\n",
       "      <td>0.935180</td>\n",
       "      <td>0.064820</td>\n",
       "    </tr>\n",
       "    <tr>\n",
       "      <th>3</th>\n",
       "      <td>7003</td>\n",
       "      <td>2</td>\n",
       "      <td>44</td>\n",
       "      <td>1</td>\n",
       "      <td>0</td>\n",
       "      <td>1</td>\n",
       "      <td>0.376842</td>\n",
       "      <td>0.623158</td>\n",
       "    </tr>\n",
       "    <tr>\n",
       "      <th>4</th>\n",
       "      <td>7004</td>\n",
       "      <td>0</td>\n",
       "      <td>50</td>\n",
       "      <td>1</td>\n",
       "      <td>1</td>\n",
       "      <td>0</td>\n",
       "      <td>0.654169</td>\n",
       "      <td>0.345831</td>\n",
       "    </tr>\n",
       "    <tr>\n",
       "      <th>...</th>\n",
       "      <td>...</td>\n",
       "      <td>...</td>\n",
       "      <td>...</td>\n",
       "      <td>...</td>\n",
       "      <td>...</td>\n",
       "      <td>...</td>\n",
       "      <td>...</td>\n",
       "      <td>...</td>\n",
       "    </tr>\n",
       "    <tr>\n",
       "      <th>2995</th>\n",
       "      <td>9995</td>\n",
       "      <td>0</td>\n",
       "      <td>39</td>\n",
       "      <td>2</td>\n",
       "      <td>0</td>\n",
       "      <td>0</td>\n",
       "      <td>0.926952</td>\n",
       "      <td>0.073048</td>\n",
       "    </tr>\n",
       "    <tr>\n",
       "      <th>2996</th>\n",
       "      <td>9996</td>\n",
       "      <td>0</td>\n",
       "      <td>35</td>\n",
       "      <td>1</td>\n",
       "      <td>1</td>\n",
       "      <td>0</td>\n",
       "      <td>0.894395</td>\n",
       "      <td>0.105605</td>\n",
       "    </tr>\n",
       "    <tr>\n",
       "      <th>2997</th>\n",
       "      <td>9997</td>\n",
       "      <td>0</td>\n",
       "      <td>36</td>\n",
       "      <td>1</td>\n",
       "      <td>1</td>\n",
       "      <td>0</td>\n",
       "      <td>0.891979</td>\n",
       "      <td>0.108021</td>\n",
       "    </tr>\n",
       "    <tr>\n",
       "      <th>2998</th>\n",
       "      <td>9998</td>\n",
       "      <td>2</td>\n",
       "      <td>42</td>\n",
       "      <td>2</td>\n",
       "      <td>0</td>\n",
       "      <td>0</td>\n",
       "      <td>0.861840</td>\n",
       "      <td>0.138160</td>\n",
       "    </tr>\n",
       "    <tr>\n",
       "      <th>2999</th>\n",
       "      <td>9999</td>\n",
       "      <td>0</td>\n",
       "      <td>28</td>\n",
       "      <td>1</td>\n",
       "      <td>0</td>\n",
       "      <td>0</td>\n",
       "      <td>0.881468</td>\n",
       "      <td>0.118532</td>\n",
       "    </tr>\n",
       "  </tbody>\n",
       "</table>\n",
       "<p>3000 rows × 8 columns</p>\n",
       "</div>"
      ],
      "text/plain": [
       "      index  Geography  Age  NumOfProducts  IsActiveMember  pred  stay_proba  \\\n",
       "0      7000          0   28              1               0     0    0.881468   \n",
       "1      7001          2   48              2               0     0    0.612313   \n",
       "2      7002          2   32              2               0     0    0.935180   \n",
       "3      7003          2   44              1               0     1    0.376842   \n",
       "4      7004          0   50              1               1     0    0.654169   \n",
       "...     ...        ...  ...            ...             ...   ...         ...   \n",
       "2995   9995          0   39              2               0     0    0.926952   \n",
       "2996   9996          0   35              1               1     0    0.894395   \n",
       "2997   9997          0   36              1               1     0    0.891979   \n",
       "2998   9998          2   42              2               0     0    0.861840   \n",
       "2999   9999          0   28              1               0     0    0.881468   \n",
       "\n",
       "      leave_proba  \n",
       "0        0.118532  \n",
       "1        0.387687  \n",
       "2        0.064820  \n",
       "3        0.623158  \n",
       "4        0.345831  \n",
       "...           ...  \n",
       "2995     0.073048  \n",
       "2996     0.105605  \n",
       "2997     0.108021  \n",
       "2998     0.138160  \n",
       "2999     0.118532  \n",
       "\n",
       "[3000 rows x 8 columns]"
      ]
     },
     "execution_count": 63,
     "metadata": {},
     "output_type": "execute_result"
    }
   ],
   "source": [
    "df_pred"
   ]
  },
  {
   "cell_type": "code",
   "execution_count": 64,
   "id": "b9774e72",
   "metadata": {},
   "outputs": [],
   "source": [
    "df_pred.drop(columns='index',inplace=True)"
   ]
  },
  {
   "cell_type": "code",
   "execution_count": 65,
   "id": "02e97c5a",
   "metadata": {},
   "outputs": [
    {
     "data": {
      "text/plain": [
       "Index(['Geography', 'Age', 'NumOfProducts', 'IsActiveMember', 'pred',\n",
       "       'stay_proba', 'leave_proba'],\n",
       "      dtype='object')"
      ]
     },
     "execution_count": 65,
     "metadata": {},
     "output_type": "execute_result"
    }
   ],
   "source": [
    "df_pred.columns"
   ]
  },
  {
   "cell_type": "code",
   "execution_count": 69,
   "id": "34503b13",
   "metadata": {},
   "outputs": [],
   "source": [
    "df_pred.iloc[:,-1]=df_pred.iloc[:,-1].apply(lambda x : str(x*100)[:4]+ '%')\n",
    "df_pred.iloc[:,-2]=df_pred.iloc[:,-2].apply(lambda x : str(x*100)[:4]+ '%')\n",
    "df_pred.iloc[:,-3]=df_pred.iloc[:,-3].apply(lambda x :'stay' if x==0 else 'leave')"
   ]
  },
  {
   "cell_type": "code",
   "execution_count": 70,
   "id": "21daf72d",
   "metadata": {},
   "outputs": [
    {
     "data": {
      "text/html": [
       "<div>\n",
       "<style scoped>\n",
       "    .dataframe tbody tr th:only-of-type {\n",
       "        vertical-align: middle;\n",
       "    }\n",
       "\n",
       "    .dataframe tbody tr th {\n",
       "        vertical-align: top;\n",
       "    }\n",
       "\n",
       "    .dataframe thead th {\n",
       "        text-align: right;\n",
       "    }\n",
       "</style>\n",
       "<table border=\"1\" class=\"dataframe\">\n",
       "  <thead>\n",
       "    <tr style=\"text-align: right;\">\n",
       "      <th></th>\n",
       "      <th>Geography</th>\n",
       "      <th>Age</th>\n",
       "      <th>NumOfProducts</th>\n",
       "      <th>IsActiveMember</th>\n",
       "      <th>pred</th>\n",
       "      <th>stay_proba</th>\n",
       "      <th>leave_proba</th>\n",
       "    </tr>\n",
       "  </thead>\n",
       "  <tbody>\n",
       "    <tr>\n",
       "      <th>0</th>\n",
       "      <td>0</td>\n",
       "      <td>28</td>\n",
       "      <td>1</td>\n",
       "      <td>0</td>\n",
       "      <td>stay</td>\n",
       "      <td>88.1%</td>\n",
       "      <td>11.8%</td>\n",
       "    </tr>\n",
       "    <tr>\n",
       "      <th>1</th>\n",
       "      <td>2</td>\n",
       "      <td>48</td>\n",
       "      <td>2</td>\n",
       "      <td>0</td>\n",
       "      <td>stay</td>\n",
       "      <td>61.2%</td>\n",
       "      <td>38.7%</td>\n",
       "    </tr>\n",
       "    <tr>\n",
       "      <th>2</th>\n",
       "      <td>2</td>\n",
       "      <td>32</td>\n",
       "      <td>2</td>\n",
       "      <td>0</td>\n",
       "      <td>stay</td>\n",
       "      <td>93.5%</td>\n",
       "      <td>6.48%</td>\n",
       "    </tr>\n",
       "    <tr>\n",
       "      <th>3</th>\n",
       "      <td>2</td>\n",
       "      <td>44</td>\n",
       "      <td>1</td>\n",
       "      <td>0</td>\n",
       "      <td>leave</td>\n",
       "      <td>37.6%</td>\n",
       "      <td>62.3%</td>\n",
       "    </tr>\n",
       "    <tr>\n",
       "      <th>4</th>\n",
       "      <td>0</td>\n",
       "      <td>50</td>\n",
       "      <td>1</td>\n",
       "      <td>1</td>\n",
       "      <td>stay</td>\n",
       "      <td>65.4%</td>\n",
       "      <td>34.5%</td>\n",
       "    </tr>\n",
       "    <tr>\n",
       "      <th>...</th>\n",
       "      <td>...</td>\n",
       "      <td>...</td>\n",
       "      <td>...</td>\n",
       "      <td>...</td>\n",
       "      <td>...</td>\n",
       "      <td>...</td>\n",
       "      <td>...</td>\n",
       "    </tr>\n",
       "    <tr>\n",
       "      <th>2995</th>\n",
       "      <td>0</td>\n",
       "      <td>39</td>\n",
       "      <td>2</td>\n",
       "      <td>0</td>\n",
       "      <td>stay</td>\n",
       "      <td>92.6%</td>\n",
       "      <td>7.30%</td>\n",
       "    </tr>\n",
       "    <tr>\n",
       "      <th>2996</th>\n",
       "      <td>0</td>\n",
       "      <td>35</td>\n",
       "      <td>1</td>\n",
       "      <td>1</td>\n",
       "      <td>stay</td>\n",
       "      <td>89.4%</td>\n",
       "      <td>10.5%</td>\n",
       "    </tr>\n",
       "    <tr>\n",
       "      <th>2997</th>\n",
       "      <td>0</td>\n",
       "      <td>36</td>\n",
       "      <td>1</td>\n",
       "      <td>1</td>\n",
       "      <td>stay</td>\n",
       "      <td>89.1%</td>\n",
       "      <td>10.8%</td>\n",
       "    </tr>\n",
       "    <tr>\n",
       "      <th>2998</th>\n",
       "      <td>2</td>\n",
       "      <td>42</td>\n",
       "      <td>2</td>\n",
       "      <td>0</td>\n",
       "      <td>stay</td>\n",
       "      <td>86.1%</td>\n",
       "      <td>13.8%</td>\n",
       "    </tr>\n",
       "    <tr>\n",
       "      <th>2999</th>\n",
       "      <td>0</td>\n",
       "      <td>28</td>\n",
       "      <td>1</td>\n",
       "      <td>0</td>\n",
       "      <td>stay</td>\n",
       "      <td>88.1%</td>\n",
       "      <td>11.8%</td>\n",
       "    </tr>\n",
       "  </tbody>\n",
       "</table>\n",
       "<p>3000 rows × 7 columns</p>\n",
       "</div>"
      ],
      "text/plain": [
       "      Geography  Age  NumOfProducts  IsActiveMember   pred stay_proba  \\\n",
       "0             0   28              1               0   stay      88.1%   \n",
       "1             2   48              2               0   stay      61.2%   \n",
       "2             2   32              2               0   stay      93.5%   \n",
       "3             2   44              1               0  leave      37.6%   \n",
       "4             0   50              1               1   stay      65.4%   \n",
       "...         ...  ...            ...             ...    ...        ...   \n",
       "2995          0   39              2               0   stay      92.6%   \n",
       "2996          0   35              1               1   stay      89.4%   \n",
       "2997          0   36              1               1   stay      89.1%   \n",
       "2998          2   42              2               0   stay      86.1%   \n",
       "2999          0   28              1               0   stay      88.1%   \n",
       "\n",
       "     leave_proba  \n",
       "0          11.8%  \n",
       "1          38.7%  \n",
       "2          6.48%  \n",
       "3          62.3%  \n",
       "4          34.5%  \n",
       "...          ...  \n",
       "2995       7.30%  \n",
       "2996       10.5%  \n",
       "2997       10.8%  \n",
       "2998       13.8%  \n",
       "2999       11.8%  \n",
       "\n",
       "[3000 rows x 7 columns]"
      ]
     },
     "execution_count": 70,
     "metadata": {},
     "output_type": "execute_result"
    }
   ],
   "source": [
    "df_pred"
   ]
  },
  {
   "cell_type": "code",
   "execution_count": 71,
   "id": "562cfd3b",
   "metadata": {},
   "outputs": [],
   "source": [
    "df_pred.to_excel('预测.xlsx')"
   ]
  },
  {
   "cell_type": "code",
   "execution_count": null,
   "id": "0ef35a9d",
   "metadata": {},
   "outputs": [],
   "source": []
  }
 ],
 "metadata": {
  "kernelspec": {
   "display_name": "Python 3 (ipykernel)",
   "language": "python",
   "name": "python3"
  },
  "language_info": {
   "codemirror_mode": {
    "name": "ipython",
    "version": 3
   },
   "file_extension": ".py",
   "mimetype": "text/x-python",
   "name": "python",
   "nbconvert_exporter": "python",
   "pygments_lexer": "ipython3",
   "version": "3.9.12"
  },
  "toc": {
   "base_numbering": 1,
   "nav_menu": {},
   "number_sections": true,
   "sideBar": true,
   "skip_h1_title": false,
   "title_cell": "Table of Contents",
   "title_sidebar": "Contents",
   "toc_cell": false,
   "toc_position": {},
   "toc_section_display": true,
   "toc_window_display": false
  },
  "varInspector": {
   "cols": {
    "lenName": 16,
    "lenType": 16,
    "lenVar": 40
   },
   "kernels_config": {
    "python": {
     "delete_cmd_postfix": "",
     "delete_cmd_prefix": "del ",
     "library": "var_list.py",
     "varRefreshCmd": "print(var_dic_list())"
    },
    "r": {
     "delete_cmd_postfix": ") ",
     "delete_cmd_prefix": "rm(",
     "library": "var_list.r",
     "varRefreshCmd": "cat(var_dic_list()) "
    }
   },
   "types_to_exclude": [
    "module",
    "function",
    "builtin_function_or_method",
    "instance",
    "_Feature"
   ],
   "window_display": false
  }
 },
 "nbformat": 4,
 "nbformat_minor": 5
}

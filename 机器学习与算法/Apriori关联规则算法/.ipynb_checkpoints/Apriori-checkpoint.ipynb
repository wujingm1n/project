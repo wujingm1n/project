{
 "cells": [
  {
   "cell_type": "code",
   "execution_count": 1,
   "id": "efcea26d",
   "metadata": {},
   "outputs": [],
   "source": [
    "import pandas as pd"
   ]
  },
  {
   "cell_type": "code",
   "execution_count": 2,
   "id": "c49b1189",
   "metadata": {},
   "outputs": [],
   "source": [
    "def create_c1(data_set):\n",
    "    c1 = []\n",
    "    \n",
    "    for data in data_set:\n",
    "        for item in data:\n",
    "            if item not in c1:\n",
    "                c1.append(item)\n",
    "    \n",
    "    c1.sort()\n",
    "\n",
    "    return  [frozenset({i}) for i in c1]"
   ]
  },
  {
   "cell_type": "code",
   "execution_count": 3,
   "id": "9df42574",
   "metadata": {},
   "outputs": [],
   "source": [
    "def scanD(D, Ck, min_support=0.1):\n",
    "    support_dict = { }\n",
    "    for data in D:\n",
    "        for c in Ck:\n",
    "            if c.issubset(data):\n",
    "                support_dict[c] = support_dict.get(c, 0) + 1\n",
    "    \n",
    "\n",
    "    support_data = { }  \n",
    "    Lk = [ ]  \n",
    "    \n",
    "    for k, v in support_dict.items():\n",
    "        support = v / len(D)\n",
    "        support_data[k] = support\n",
    "\n",
    "        if support >= min_support:\n",
    "            Lk.append(k)\n",
    "    \n",
    "    return Lk, support_data"
   ]
  },
  {
   "cell_type": "code",
   "execution_count": 4,
   "id": "e0aa497b",
   "metadata": {},
   "outputs": [],
   "source": [
    "def apriori_gen(Lk):\n",
    "    Ck = [ ]\n",
    "    \n",
    "\n",
    "    for i in range(len(Lk) - 1):\n",
    "        for j in range(i+1, len(Lk)):\n",
    "\n",
    "            f_set = Lk[i] | Lk[j]\n",
    "\n",
    "            if f_set not in Ck and len(f_set) == len(Lk[0]) + 1:\n",
    "                Ck.append(f_set)\n",
    "    return Ck"
   ]
  },
  {
   "cell_type": "code",
   "execution_count": 5,
   "id": "0c2f774a",
   "metadata": {},
   "outputs": [],
   "source": [
    "def apriori(D, min_support=0.1):\n",
    "    C1 = create_c1(D)\n",
    "    \n",
    "    L1, supportData1 = scanD(D, C1, min_support=min_support)\n",
    "    \n",
    "    L = [ ]\n",
    "    \n",
    "    while True:\n",
    "        L.append(L1)\n",
    "        \n",
    "        C2 = apriori_gen(L1)\n",
    "\n",
    "        L2, supportData2 = scanD(D, C2, min_support=min_support)\n",
    "        \n",
    "        supportData1.update(supportData2)\n",
    "        \n",
    "        if len(L2) == 0:\n",
    "            break\n",
    "            \n",
    "        L1 = L2\n",
    "    \n",
    "    return L, supportData1"
   ]
  },
  {
   "cell_type": "code",
   "execution_count": 6,
   "id": "a290b817",
   "metadata": {},
   "outputs": [],
   "source": [
    "def calculate_conf(freqSet, H, supportData, brl, minConf=0.5):\n",
    "    newH = [ ]\n",
    "    \n",
    "    for s in H:\n",
    "        conf = supportData[freqSet] / supportData[freqSet - s]\n",
    "        if conf >= minConf:\n",
    "            brl.append( (freqSet - s, \"->\" , s, ' = ', conf) )   \n",
    "            newH.append(s)\n",
    "    \n",
    "    return newH"
   ]
  },
  {
   "cell_type": "code",
   "execution_count": 7,
   "id": "2f0051fa",
   "metadata": {},
   "outputs": [],
   "source": [
    "def rules_from_freq(freqSet, H, supportData, brl, minConf=0.7):\n",
    "    tmp = True\n",
    "    while tmp:\n",
    "        tmp = False\n",
    "        \n",
    "        newH = calculate_conf(freqSet, H, supportData, brl, minConf=minConf)\n",
    "        \n",
    "        H = apriori_gen(newH)\n",
    "        \n",
    "        tmp =  not  (H==[ ] or len(H[0]) == len(freqSet))"
   ]
  },
  {
   "cell_type": "code",
   "execution_count": 8,
   "id": "b832617a",
   "metadata": {},
   "outputs": [],
   "source": [
    "def gen_rules(L, support_data, min_conf=0.5):\n",
    "    big_rule_list = [ ]\n",
    "    \n",
    "    for i in range(1, len(L)):  \n",
    "        for freqSet in L[i]:  \n",
    "            H = [frozenset({i}) for i in freqSet]\n",
    "            rules_from_freq(freqSet, H, support_data, big_rule_list, minConf=min_conf)\n",
    "    \n",
    "    return big_rule_list"
   ]
  }
 ],
 "metadata": {
  "kernelspec": {
   "display_name": "Python 3 (ipykernel)",
   "language": "python",
   "name": "python3"
  },
  "language_info": {
   "codemirror_mode": {
    "name": "ipython",
    "version": 3
   },
   "file_extension": ".py",
   "mimetype": "text/x-python",
   "name": "python",
   "nbconvert_exporter": "python",
   "pygments_lexer": "ipython3",
   "version": "3.9.12"
  },
  "toc": {
   "base_numbering": 1,
   "nav_menu": {},
   "number_sections": true,
   "sideBar": true,
   "skip_h1_title": false,
   "title_cell": "Table of Contents",
   "title_sidebar": "Contents",
   "toc_cell": false,
   "toc_position": {},
   "toc_section_display": true,
   "toc_window_display": false
  },
  "varInspector": {
   "cols": {
    "lenName": 16,
    "lenType": 16,
    "lenVar": 40
   },
   "kernels_config": {
    "python": {
     "delete_cmd_postfix": "",
     "delete_cmd_prefix": "del ",
     "library": "var_list.py",
     "varRefreshCmd": "print(var_dic_list())"
    },
    "r": {
     "delete_cmd_postfix": ") ",
     "delete_cmd_prefix": "rm(",
     "library": "var_list.r",
     "varRefreshCmd": "cat(var_dic_list()) "
    }
   },
   "types_to_exclude": [
    "module",
    "function",
    "builtin_function_or_method",
    "instance",
    "_Feature"
   ],
   "window_display": false
  }
 },
 "nbformat": 4,
 "nbformat_minor": 5
}

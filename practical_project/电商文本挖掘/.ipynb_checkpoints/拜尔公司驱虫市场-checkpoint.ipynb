{
 "cells": [
  {
   "cell_type": "markdown",
   "id": "7367bebb",
   "metadata": {},
   "source": [
    "#  电商文本挖掘-拜耳公司驱虫市场"
   ]
  },
  {
   "cell_type": "code",
   "execution_count": 1,
   "id": "c6299492",
   "metadata": {},
   "outputs": [],
   "source": [
    "%run Tools.py\n",
    "jupyter_settings()"
   ]
  },
  {
   "cell_type": "markdown",
   "id": "13307b0c",
   "metadata": {},
   "source": [
    "## 整合所有子类项目近三年交易额数据"
   ]
  },
  {
   "cell_type": "code",
   "execution_count": 2,
   "id": "d75399fa",
   "metadata": {},
   "outputs": [],
   "source": [
    "import glob\n",
    "import os"
   ]
  },
  {
   "cell_type": "code",
   "execution_count": 3,
   "id": "34898be3",
   "metadata": {},
   "outputs": [],
   "source": [
    "os.chdir('G:\\GitHub仓库\\cvmin\\practical_project\\电商文本挖掘\\data\\驱虫剂市场')"
   ]
  },
  {
   "cell_type": "code",
   "execution_count": 4,
   "id": "50a890cd",
   "metadata": {},
   "outputs": [
    {
     "data": {
      "text/plain": [
       "['灭鼠杀虫剂市场近三年交易额.xlsx',\n",
       " '电蚊香套装市场近三年交易额.xlsx',\n",
       " '盘香灭蟑香蚊香盘市场近三年交易额.xlsx',\n",
       " '蚊香加热器市场近三年交易额.xlsx',\n",
       " '蚊香液市场近三年交易额.xlsx',\n",
       " '蚊香片市场近三年交易额.xlsx',\n",
       " '防霉防蛀片市场近三年交易额.xlsx']"
      ]
     },
     "execution_count": 4,
     "metadata": {},
     "output_type": "execute_result"
    }
   ],
   "source": [
    "files =  glob.glob('*三年*')\n",
    "files"
   ]
  },
  {
   "cell_type": "code",
   "execution_count": 5,
   "id": "caee1600",
   "metadata": {},
   "outputs": [
    {
     "data": {
      "application/javascript": [
       "\n",
       "        if (window._pyforest_update_imports_cell) { window._pyforest_update_imports_cell('import pandas as pd'); }\n",
       "    "
      ],
      "text/plain": [
       "<IPython.core.display.Javascript object>"
      ]
     },
     "metadata": {},
     "output_type": "display_data"
    },
    {
     "data": {
      "text/html": [
       "<div>\n",
       "<style scoped>\n",
       "    .dataframe tbody tr th:only-of-type {\n",
       "        vertical-align: middle;\n",
       "    }\n",
       "\n",
       "    .dataframe tbody tr th {\n",
       "        vertical-align: top;\n",
       "    }\n",
       "\n",
       "    .dataframe thead th {\n",
       "        text-align: right;\n",
       "    }\n",
       "</style>\n",
       "<table border=\"1\" class=\"dataframe\">\n",
       "  <thead>\n",
       "    <tr style=\"text-align: right;\">\n",
       "      <th></th>\n",
       "      <th>时间</th>\n",
       "      <th>交易金额</th>\n",
       "    </tr>\n",
       "  </thead>\n",
       "  <tbody>\n",
       "    <tr>\n",
       "      <th>0</th>\n",
       "      <td>2018-10-01</td>\n",
       "      <td>1.136548e+08</td>\n",
       "    </tr>\n",
       "  </tbody>\n",
       "</table>\n",
       "</div>"
      ],
      "text/plain": [
       "          时间          交易金额\n",
       "0 2018-10-01  1.136548e+08"
      ]
     },
     "metadata": {},
     "output_type": "display_data"
    },
    {
     "data": {
      "application/javascript": [
       "\n",
       "        if (window._pyforest_update_imports_cell) { window._pyforest_update_imports_cell('import pandas as pd'); }\n",
       "    "
      ],
      "text/plain": [
       "<IPython.core.display.Javascript object>"
      ]
     },
     "metadata": {},
     "output_type": "display_data"
    },
    {
     "data": {
      "text/html": [
       "<div>\n",
       "<style scoped>\n",
       "    .dataframe tbody tr th:only-of-type {\n",
       "        vertical-align: middle;\n",
       "    }\n",
       "\n",
       "    .dataframe tbody tr th {\n",
       "        vertical-align: top;\n",
       "    }\n",
       "\n",
       "    .dataframe thead th {\n",
       "        text-align: right;\n",
       "    }\n",
       "</style>\n",
       "<table border=\"1\" class=\"dataframe\">\n",
       "  <thead>\n",
       "    <tr style=\"text-align: right;\">\n",
       "      <th></th>\n",
       "      <th>时间</th>\n",
       "      <th>交易金额</th>\n",
       "    </tr>\n",
       "  </thead>\n",
       "  <tbody>\n",
       "    <tr>\n",
       "      <th>0</th>\n",
       "      <td>43374</td>\n",
       "      <td>106531.29</td>\n",
       "    </tr>\n",
       "  </tbody>\n",
       "</table>\n",
       "</div>"
      ],
      "text/plain": [
       "      时间       交易金额\n",
       "0  43374  106531.29"
      ]
     },
     "metadata": {},
     "output_type": "display_data"
    },
    {
     "data": {
      "application/javascript": [
       "\n",
       "        if (window._pyforest_update_imports_cell) { window._pyforest_update_imports_cell('import pandas as pd'); }\n",
       "    "
      ],
      "text/plain": [
       "<IPython.core.display.Javascript object>"
      ]
     },
     "metadata": {},
     "output_type": "display_data"
    },
    {
     "data": {
      "text/html": [
       "<div>\n",
       "<style scoped>\n",
       "    .dataframe tbody tr th:only-of-type {\n",
       "        vertical-align: middle;\n",
       "    }\n",
       "\n",
       "    .dataframe tbody tr th {\n",
       "        vertical-align: top;\n",
       "    }\n",
       "\n",
       "    .dataframe thead th {\n",
       "        text-align: right;\n",
       "    }\n",
       "</style>\n",
       "<table border=\"1\" class=\"dataframe\">\n",
       "  <thead>\n",
       "    <tr style=\"text-align: right;\">\n",
       "      <th></th>\n",
       "      <th>时间</th>\n",
       "      <th>交易金额</th>\n",
       "    </tr>\n",
       "  </thead>\n",
       "  <tbody>\n",
       "    <tr>\n",
       "      <th>0</th>\n",
       "      <td>43374</td>\n",
       "      <td>4171283.35</td>\n",
       "    </tr>\n",
       "  </tbody>\n",
       "</table>\n",
       "</div>"
      ],
      "text/plain": [
       "      时间        交易金额\n",
       "0  43374  4171283.35"
      ]
     },
     "metadata": {},
     "output_type": "display_data"
    },
    {
     "data": {
      "application/javascript": [
       "\n",
       "        if (window._pyforest_update_imports_cell) { window._pyforest_update_imports_cell('import pandas as pd'); }\n",
       "    "
      ],
      "text/plain": [
       "<IPython.core.display.Javascript object>"
      ]
     },
     "metadata": {},
     "output_type": "display_data"
    },
    {
     "data": {
      "text/html": [
       "<div>\n",
       "<style scoped>\n",
       "    .dataframe tbody tr th:only-of-type {\n",
       "        vertical-align: middle;\n",
       "    }\n",
       "\n",
       "    .dataframe tbody tr th {\n",
       "        vertical-align: top;\n",
       "    }\n",
       "\n",
       "    .dataframe thead th {\n",
       "        text-align: right;\n",
       "    }\n",
       "</style>\n",
       "<table border=\"1\" class=\"dataframe\">\n",
       "  <thead>\n",
       "    <tr style=\"text-align: right;\">\n",
       "      <th></th>\n",
       "      <th>时间</th>\n",
       "      <th>交易金额</th>\n",
       "    </tr>\n",
       "  </thead>\n",
       "  <tbody>\n",
       "    <tr>\n",
       "      <th>0</th>\n",
       "      <td>43374</td>\n",
       "      <td>315639.48</td>\n",
       "    </tr>\n",
       "  </tbody>\n",
       "</table>\n",
       "</div>"
      ],
      "text/plain": [
       "      时间       交易金额\n",
       "0  43374  315639.48"
      ]
     },
     "metadata": {},
     "output_type": "display_data"
    },
    {
     "data": {
      "application/javascript": [
       "\n",
       "        if (window._pyforest_update_imports_cell) { window._pyforest_update_imports_cell('import pandas as pd'); }\n",
       "    "
      ],
      "text/plain": [
       "<IPython.core.display.Javascript object>"
      ]
     },
     "metadata": {},
     "output_type": "display_data"
    },
    {
     "data": {
      "text/html": [
       "<div>\n",
       "<style scoped>\n",
       "    .dataframe tbody tr th:only-of-type {\n",
       "        vertical-align: middle;\n",
       "    }\n",
       "\n",
       "    .dataframe tbody tr th {\n",
       "        vertical-align: top;\n",
       "    }\n",
       "\n",
       "    .dataframe thead th {\n",
       "        text-align: right;\n",
       "    }\n",
       "</style>\n",
       "<table border=\"1\" class=\"dataframe\">\n",
       "  <thead>\n",
       "    <tr style=\"text-align: right;\">\n",
       "      <th></th>\n",
       "      <th>时间</th>\n",
       "      <th>交易金额</th>\n",
       "    </tr>\n",
       "  </thead>\n",
       "  <tbody>\n",
       "    <tr>\n",
       "      <th>0</th>\n",
       "      <td>43374</td>\n",
       "      <td>7814546.15</td>\n",
       "    </tr>\n",
       "  </tbody>\n",
       "</table>\n",
       "</div>"
      ],
      "text/plain": [
       "      时间        交易金额\n",
       "0  43374  7814546.15"
      ]
     },
     "metadata": {},
     "output_type": "display_data"
    },
    {
     "data": {
      "application/javascript": [
       "\n",
       "        if (window._pyforest_update_imports_cell) { window._pyforest_update_imports_cell('import pandas as pd'); }\n",
       "    "
      ],
      "text/plain": [
       "<IPython.core.display.Javascript object>"
      ]
     },
     "metadata": {},
     "output_type": "display_data"
    },
    {
     "data": {
      "text/html": [
       "<div>\n",
       "<style scoped>\n",
       "    .dataframe tbody tr th:only-of-type {\n",
       "        vertical-align: middle;\n",
       "    }\n",
       "\n",
       "    .dataframe tbody tr th {\n",
       "        vertical-align: top;\n",
       "    }\n",
       "\n",
       "    .dataframe thead th {\n",
       "        text-align: right;\n",
       "    }\n",
       "</style>\n",
       "<table border=\"1\" class=\"dataframe\">\n",
       "  <thead>\n",
       "    <tr style=\"text-align: right;\">\n",
       "      <th></th>\n",
       "      <th>时间</th>\n",
       "      <th>交易金额</th>\n",
       "    </tr>\n",
       "  </thead>\n",
       "  <tbody>\n",
       "    <tr>\n",
       "      <th>0</th>\n",
       "      <td>43374</td>\n",
       "      <td>1032414.29</td>\n",
       "    </tr>\n",
       "  </tbody>\n",
       "</table>\n",
       "</div>"
      ],
      "text/plain": [
       "      时间        交易金额\n",
       "0  43374  1032414.29"
      ]
     },
     "metadata": {},
     "output_type": "display_data"
    },
    {
     "data": {
      "application/javascript": [
       "\n",
       "        if (window._pyforest_update_imports_cell) { window._pyforest_update_imports_cell('import pandas as pd'); }\n",
       "    "
      ],
      "text/plain": [
       "<IPython.core.display.Javascript object>"
      ]
     },
     "metadata": {},
     "output_type": "display_data"
    },
    {
     "data": {
      "text/html": [
       "<div>\n",
       "<style scoped>\n",
       "    .dataframe tbody tr th:only-of-type {\n",
       "        vertical-align: middle;\n",
       "    }\n",
       "\n",
       "    .dataframe tbody tr th {\n",
       "        vertical-align: top;\n",
       "    }\n",
       "\n",
       "    .dataframe thead th {\n",
       "        text-align: right;\n",
       "    }\n",
       "</style>\n",
       "<table border=\"1\" class=\"dataframe\">\n",
       "  <thead>\n",
       "    <tr style=\"text-align: right;\">\n",
       "      <th></th>\n",
       "      <th>时间</th>\n",
       "      <th>交易金额</th>\n",
       "    </tr>\n",
       "  </thead>\n",
       "  <tbody>\n",
       "    <tr>\n",
       "      <th>0</th>\n",
       "      <td>43374</td>\n",
       "      <td>8541153.59</td>\n",
       "    </tr>\n",
       "  </tbody>\n",
       "</table>\n",
       "</div>"
      ],
      "text/plain": [
       "      时间        交易金额\n",
       "0  43374  8541153.59"
      ]
     },
     "metadata": {},
     "output_type": "display_data"
    }
   ],
   "source": [
    "for i in range(7):\n",
    "    head = pd.read_excel(files[i]).head(1)\n",
    "    display(head)\n",
    "    "
   ]
  },
  {
   "cell_type": "markdown",
   "id": "31865e36",
   "metadata": {},
   "source": [
    " - 后六个文件的时间需要转换\n",
    "  - 43374 时间需要转换成 2018-10-01"
   ]
  },
  {
   "cell_type": "code",
   "execution_count": 6,
   "id": "5694dfb9",
   "metadata": {},
   "outputs": [
    {
     "data": {
      "application/javascript": [
       "\n",
       "        if (window._pyforest_update_imports_cell) { window._pyforest_update_imports_cell('import pandas as pd'); }\n",
       "    "
      ],
      "text/plain": [
       "<IPython.core.display.Javascript object>"
      ]
     },
     "metadata": {},
     "output_type": "display_data"
    },
    {
     "data": {
      "text/plain": [
       "Timestamp('2018-10-01 00:00:00')"
      ]
     },
     "execution_count": 6,
     "metadata": {},
     "output_type": "execute_result"
    }
   ],
   "source": [
    "pd.to_datetime(43374, unit='D', origin='1899-12-30')\n"
   ]
  },
  {
   "cell_type": "markdown",
   "id": "56ddc1bf",
   "metadata": {},
   "source": [
    "  - 遍历这7个交易数据，并整合在一起\n"
   ]
  },
  {
   "cell_type": "code",
   "execution_count": 7,
   "id": "e3d91df8",
   "metadata": {},
   "outputs": [
    {
     "data": {
      "application/javascript": [
       "\n",
       "        if (window._pyforest_update_imports_cell) { window._pyforest_update_imports_cell('import pandas as pd'); }\n",
       "    "
      ],
      "text/plain": [
       "<IPython.core.display.Javascript object>"
      ]
     },
     "metadata": {},
     "output_type": "display_data"
    },
    {
     "data": {
      "application/javascript": [
       "\n",
       "        if (window._pyforest_update_imports_cell) { window._pyforest_update_imports_cell('import pandas as pd'); }\n",
       "    "
      ],
      "text/plain": [
       "<IPython.core.display.Javascript object>"
      ]
     },
     "metadata": {},
     "output_type": "display_data"
    },
    {
     "data": {
      "application/javascript": [
       "\n",
       "        if (window._pyforest_update_imports_cell) { window._pyforest_update_imports_cell('import pandas as pd'); }\n",
       "    "
      ],
      "text/plain": [
       "<IPython.core.display.Javascript object>"
      ]
     },
     "metadata": {},
     "output_type": "display_data"
    },
    {
     "data": {
      "application/javascript": [
       "\n",
       "        if (window._pyforest_update_imports_cell) { window._pyforest_update_imports_cell('import pandas as pd'); }\n",
       "    "
      ],
      "text/plain": [
       "<IPython.core.display.Javascript object>"
      ]
     },
     "metadata": {},
     "output_type": "display_data"
    },
    {
     "data": {
      "application/javascript": [
       "\n",
       "        if (window._pyforest_update_imports_cell) { window._pyforest_update_imports_cell('import pandas as pd'); }\n",
       "    "
      ],
      "text/plain": [
       "<IPython.core.display.Javascript object>"
      ]
     },
     "metadata": {},
     "output_type": "display_data"
    },
    {
     "data": {
      "application/javascript": [
       "\n",
       "        if (window._pyforest_update_imports_cell) { window._pyforest_update_imports_cell('import pandas as pd'); }\n",
       "    "
      ],
      "text/plain": [
       "<IPython.core.display.Javascript object>"
      ]
     },
     "metadata": {},
     "output_type": "display_data"
    },
    {
     "data": {
      "application/javascript": [
       "\n",
       "        if (window._pyforest_update_imports_cell) { window._pyforest_update_imports_cell('import pandas as pd'); }\n",
       "    "
      ],
      "text/plain": [
       "<IPython.core.display.Javascript object>"
      ]
     },
     "metadata": {},
     "output_type": "display_data"
    },
    {
     "data": {
      "application/javascript": [
       "\n",
       "        if (window._pyforest_update_imports_cell) { window._pyforest_update_imports_cell('import pandas as pd'); }\n",
       "    "
      ],
      "text/plain": [
       "<IPython.core.display.Javascript object>"
      ]
     },
     "metadata": {},
     "output_type": "display_data"
    },
    {
     "data": {
      "application/javascript": [
       "\n",
       "        if (window._pyforest_update_imports_cell) { window._pyforest_update_imports_cell('import pandas as pd'); }\n",
       "    "
      ],
      "text/plain": [
       "<IPython.core.display.Javascript object>"
      ]
     },
     "metadata": {},
     "output_type": "display_data"
    },
    {
     "data": {
      "application/javascript": [
       "\n",
       "        if (window._pyforest_update_imports_cell) { window._pyforest_update_imports_cell('import pandas as pd'); }\n",
       "    "
      ],
      "text/plain": [
       "<IPython.core.display.Javascript object>"
      ]
     },
     "metadata": {},
     "output_type": "display_data"
    },
    {
     "data": {
      "application/javascript": [
       "\n",
       "        if (window._pyforest_update_imports_cell) { window._pyforest_update_imports_cell('import pandas as pd'); }\n",
       "    "
      ],
      "text/plain": [
       "<IPython.core.display.Javascript object>"
      ]
     },
     "metadata": {},
     "output_type": "display_data"
    },
    {
     "data": {
      "application/javascript": [
       "\n",
       "        if (window._pyforest_update_imports_cell) { window._pyforest_update_imports_cell('import pandas as pd'); }\n",
       "    "
      ],
      "text/plain": [
       "<IPython.core.display.Javascript object>"
      ]
     },
     "metadata": {},
     "output_type": "display_data"
    },
    {
     "data": {
      "application/javascript": [
       "\n",
       "        if (window._pyforest_update_imports_cell) { window._pyforest_update_imports_cell('import pandas as pd'); }\n",
       "    "
      ],
      "text/plain": [
       "<IPython.core.display.Javascript object>"
      ]
     },
     "metadata": {},
     "output_type": "display_data"
    }
   ],
   "source": [
    "df_list = [ ]\n",
    "for i, file in enumerate(files):\n",
    "    df = pd.read_excel(file)    \n",
    "    if i > 0:\n",
    "        df.时间 = pd.to_datetime(df.时间, unit='D', origin='1899-12-30')\n",
    "    df.set_index(keys='时间', inplace=True)\n",
    "    df.columns=[ file.split('市场')[0] ]\n",
    "    df_list.append(df)"
   ]
  },
  {
   "cell_type": "code",
   "execution_count": 8,
   "id": "bc6d2afb",
   "metadata": {},
   "outputs": [
    {
     "data": {
      "text/plain": [
       "[                   灭鼠杀虫剂\n",
       " 时间                      \n",
       " 2018-10-01  1.136548e+08\n",
       " 2018-09-01  1.440261e+08\n",
       " 2018-08-01  1.540426e+08\n",
       " 2018-07-01  1.480032e+08\n",
       " 2018-06-01  1.359438e+08\n",
       " 2018-05-01  1.241642e+08\n",
       " 2018-04-01  7.509661e+07\n",
       " 2018-03-01  5.918182e+07\n",
       " 2018-02-01  2.292138e+07\n",
       " 2018-01-01  3.653873e+07\n",
       " 2017-12-01  4.292283e+07\n",
       " 2017-11-01  5.838217e+07\n",
       " 2017-10-01  8.226882e+07\n",
       " 2017-09-01  1.010081e+08\n",
       " 2017-08-01  1.049504e+08\n",
       " 2017-07-01  1.116729e+08\n",
       " 2017-06-01  1.051463e+08\n",
       " 2017-05-01  9.185035e+07\n",
       " 2017-04-01  5.363586e+07\n",
       " 2017-03-01  4.078967e+07\n",
       " 2017-02-01  3.467502e+07\n",
       " 2017-01-01  2.047156e+07\n",
       " 2016-12-01  3.546668e+07\n",
       " 2016-11-01  4.780625e+07\n",
       " 2016-10-01  6.339722e+07\n",
       " 2016-09-01  6.864724e+07\n",
       " 2016-08-01  7.610885e+07\n",
       " 2016-07-01  7.832954e+07\n",
       " 2016-06-01  7.693264e+07\n",
       " 2016-05-01  5.812696e+07\n",
       " 2016-04-01  3.762602e+07\n",
       " 2016-03-01  2.952610e+07\n",
       " 2016-02-01  1.500135e+07\n",
       " 2016-01-01  2.107822e+07\n",
       " 2015-12-01  2.472756e+07\n",
       " 2015-11-01  3.303873e+07,\n",
       "                  电蚊香套装\n",
       " 时间                    \n",
       " 2018-10-01   106531.29\n",
       " 2018-09-01   105666.63\n",
       " 2018-08-01   201467.03\n",
       " 2018-07-01   438635.29\n",
       " 2018-06-01   953749.78\n",
       " 2018-05-01  1238967.37\n",
       " 2018-04-01   841051.93\n",
       " 2018-03-01   475177.48\n",
       " 2018-02-01    33232.95\n",
       " 2018-01-01    54305.20\n",
       " 2017-12-01    71600.17\n",
       " 2017-11-01    94993.76\n",
       " 2017-10-01   145925.31\n",
       " 2017-09-01   242194.37\n",
       " 2017-08-01   332922.02\n",
       " 2017-07-01   913425.95\n",
       " 2017-06-01  2045163.59\n",
       " 2017-05-01  3606141.82\n",
       " 2017-04-01  1285599.49\n",
       " 2017-03-01   390486.57\n",
       " 2017-02-01   209643.87\n",
       " 2017-01-01    39434.76\n",
       " 2016-12-01    84350.57\n",
       " 2016-11-01   106291.23\n",
       " 2016-10-01   179015.23\n",
       " 2016-09-01   210456.69\n",
       " 2016-08-01   316467.14\n",
       " 2016-07-01   932728.10\n",
       " 2016-06-01  2184985.33\n",
       " 2016-05-01  2059879.80\n",
       " 2016-04-01  1034992.53\n",
       " 2016-03-01   352013.31\n",
       " 2016-02-01    96979.48\n",
       " 2016-01-01   108412.71\n",
       " 2015-12-01   110068.83\n",
       " 2015-11-01   185094.22,\n",
       "                盘香灭蟑香蚊香盘\n",
       " 时间                     \n",
       " 2018-10-01   4171283.35\n",
       " 2018-09-01   6784500.17\n",
       " 2018-08-01  10709683.41\n",
       " 2018-07-01  16589184.89\n",
       " 2018-06-01  23526385.73\n",
       " 2018-05-01  28118581.25\n",
       " 2018-04-01  16420341.87\n",
       " 2018-03-01   7900094.91\n",
       " 2018-02-01    545917.66\n",
       " 2018-01-01    592663.20\n",
       " 2017-12-01    796930.46\n",
       " 2017-11-01   1581530.20\n",
       " 2017-10-01   2824785.80\n",
       " 2017-09-01   5581352.42\n",
       " 2017-08-01   7229409.84\n",
       " 2017-07-01  13718046.88\n",
       " 2017-06-01  19635925.59\n",
       " 2017-05-01  20275515.85\n",
       " 2017-04-01   9197868.29\n",
       " 2017-03-01   3397837.60\n",
       " 2017-02-01   1519446.34\n",
       " 2017-01-01    596744.04\n",
       " 2016-12-01   1234900.05\n",
       " 2016-11-01   1473418.20\n",
       " 2016-10-01   2543813.78\n",
       " 2016-09-01   3092898.02\n",
       " 2016-08-01   4389862.79\n",
       " 2016-07-01   7384968.66\n",
       " 2016-06-01  10859461.67\n",
       " 2016-05-01   9912801.93\n",
       " 2016-04-01   4687913.18\n",
       " 2016-03-01   1204574.20\n",
       " 2016-02-01    449199.41\n",
       " 2016-01-01    619042.01\n",
       " 2015-12-01    818479.56\n",
       " 2015-11-01   1197791.27,\n",
       "                  蚊香加热器\n",
       " 时间                    \n",
       " 2018-10-01   315639.48\n",
       " 2018-09-01   457366.41\n",
       " 2018-08-01   746513.13\n",
       " 2018-07-01  1871757.00\n",
       " 2018-06-01  3641025.92\n",
       " 2018-05-01  5032466.78\n",
       " 2018-04-01  3130513.43\n",
       " 2018-03-01  1198332.81\n",
       " 2018-02-01    75714.46\n",
       " 2018-01-01    86670.45\n",
       " 2017-12-01    69145.59\n",
       " 2017-11-01   168141.79\n",
       " 2017-10-01   166522.62\n",
       " 2017-09-01   353042.45\n",
       " 2017-08-01   544076.63\n",
       " 2017-07-01  1357778.93\n",
       " 2017-06-01  2639777.66\n",
       " 2017-05-01  3185961.75\n",
       " 2017-04-01  1554864.42\n",
       " 2017-03-01   317206.48\n",
       " 2017-02-01   148158.07\n",
       " 2017-01-01    48164.63\n",
       " 2016-12-01    52118.96\n",
       " 2016-11-01    82835.82\n",
       " 2016-10-01   130484.07\n",
       " 2016-09-01   168724.83\n",
       " 2016-08-01   272553.95\n",
       " 2016-07-01   761159.35\n",
       " 2016-06-01  1728788.53\n",
       " 2016-05-01  1618361.54\n",
       " 2016-04-01   758206.81\n",
       " 2016-03-01   246106.75\n",
       " 2016-02-01    36193.85\n",
       " 2016-01-01    49670.25\n",
       " 2015-12-01    34076.91\n",
       " 2015-11-01    86889.91,\n",
       "                      蚊香液\n",
       " 时间                      \n",
       " 2018-10-01  7.814546e+06\n",
       " 2018-09-01  1.065497e+07\n",
       " 2018-08-01  1.783558e+07\n",
       " 2018-07-01  3.887792e+07\n",
       " 2018-06-01  7.649909e+07\n",
       " 2018-05-01  1.050396e+08\n",
       " 2018-04-01  6.254165e+07\n",
       " 2018-03-01  2.632447e+07\n",
       " 2018-02-01  2.235774e+06\n",
       " 2018-01-01  1.759451e+06\n",
       " 2017-12-01  2.213103e+06\n",
       " 2017-11-01  4.257594e+06\n",
       " 2017-10-01  4.290843e+06\n",
       " 2017-09-01  7.833349e+06\n",
       " 2017-08-01  1.376039e+07\n",
       " 2017-07-01  4.257757e+07\n",
       " 2017-06-01  8.283230e+07\n",
       " 2017-05-01  1.014605e+08\n",
       " 2017-04-01  4.880687e+07\n",
       " 2017-03-01  1.488979e+07\n",
       " 2017-02-01  5.929509e+06\n",
       " 2017-01-01  1.213749e+06\n",
       " 2016-12-01  1.558634e+06\n",
       " 2016-11-01  2.758827e+06\n",
       " 2016-10-01  3.641803e+06\n",
       " 2016-09-01  4.632818e+06\n",
       " 2016-08-01  8.956868e+06\n",
       " 2016-07-01  2.260036e+07\n",
       " 2016-06-01  4.640197e+07\n",
       " 2016-05-01  4.777690e+07\n",
       " 2016-04-01  2.432917e+07\n",
       " 2016-03-01  6.656382e+06\n",
       " 2016-02-01  6.939075e+05\n",
       " 2016-01-01  4.828890e+05\n",
       " 2015-12-01  5.832845e+05\n",
       " 2015-11-01  1.579796e+06,\n",
       "                     蚊香片\n",
       " 时间                     \n",
       " 2018-10-01   1032414.29\n",
       " 2018-09-01   1566651.88\n",
       " 2018-08-01   2617149.00\n",
       " 2018-07-01   6209040.06\n",
       " 2018-06-01  12484919.63\n",
       " 2018-05-01  15309721.94\n",
       " 2018-04-01   7954875.07\n",
       " 2018-03-01   2950648.32\n",
       " 2018-02-01    218915.63\n",
       " 2018-01-01    298146.11\n",
       " 2017-12-01    314120.38\n",
       " 2017-11-01    617094.94\n",
       " 2017-10-01    766588.77\n",
       " 2017-09-01   1574779.65\n",
       " 2017-08-01   2323304.14\n",
       " 2017-07-01   6627299.71\n",
       " 2017-06-01  12422420.21\n",
       " 2017-05-01  15961946.71\n",
       " 2017-04-01   6214963.68\n",
       " 2017-03-01   1319399.22\n",
       " 2017-02-01    687697.46\n",
       " 2017-01-01    238973.09\n",
       " 2016-12-01    293737.20\n",
       " 2016-11-01    512990.23\n",
       " 2016-10-01    690912.02\n",
       " 2016-09-01    930513.91\n",
       " 2016-08-01   1581021.50\n",
       " 2016-07-01   4088320.77\n",
       " 2016-06-01   8004562.69\n",
       " 2016-05-01   7474421.97\n",
       " 2016-04-01   3435257.35\n",
       " 2016-03-01    746709.07\n",
       " 2016-02-01    109108.05\n",
       " 2016-01-01    113284.71\n",
       " 2015-12-01    134890.48\n",
       " 2015-11-01    325744.43,\n",
       "                  防霉防蛀片\n",
       " 时间                    \n",
       " 2018-10-01  8541153.59\n",
       " 2018-09-01  8825870.43\n",
       " 2018-08-01  6320153.44\n",
       " 2018-07-01  6302595.06\n",
       " 2018-06-01  7047206.98\n",
       " 2018-05-01  7942340.44\n",
       " 2018-04-01  7031364.60\n",
       " 2018-03-01  6051561.02\n",
       " 2018-02-01  1393948.47\n",
       " 2018-01-01  2607776.07\n",
       " 2017-12-01  3259747.23\n",
       " 2017-11-01  5447184.43\n",
       " 2017-10-01  6152868.25\n",
       " 2017-09-01  5792065.80\n",
       " 2017-08-01  5081714.64\n",
       " 2017-07-01  6691694.17\n",
       " 2017-06-01  7155138.87\n",
       " 2017-05-01  8145781.12\n",
       " 2017-04-01  6682161.49\n",
       " 2017-03-01  3904656.82\n",
       " 2017-02-01  2584035.90\n",
       " 2017-01-01  1781773.46\n",
       " 2016-12-01  3504367.98\n",
       " 2016-11-01  4975519.21\n",
       " 2016-10-01  4600717.78\n",
       " 2016-09-01  4642681.07\n",
       " 2016-08-01  4151326.68\n",
       " 2016-07-01  5412185.06\n",
       " 2016-06-01  5694825.13\n",
       " 2016-05-01  5469360.60\n",
       " 2016-04-01  5253619.06\n",
       " 2016-03-01  3481194.46\n",
       " 2016-02-01  1274810.96\n",
       " 2016-01-01  1562393.95\n",
       " 2015-12-01  2333602.08\n",
       " 2015-11-01  3364112.14]"
      ]
     },
     "execution_count": 8,
     "metadata": {},
     "output_type": "execute_result"
    }
   ],
   "source": [
    "df_list"
   ]
  },
  {
   "cell_type": "markdown",
   "id": "c48c31e5",
   "metadata": {},
   "source": [
    "- 水平合并"
   ]
  },
  {
   "cell_type": "code",
   "execution_count": 9,
   "id": "dfaf42dc",
   "metadata": {},
   "outputs": [
    {
     "data": {
      "application/javascript": [
       "\n",
       "        if (window._pyforest_update_imports_cell) { window._pyforest_update_imports_cell('import pandas as pd'); }\n",
       "    "
      ],
      "text/plain": [
       "<IPython.core.display.Javascript object>"
      ]
     },
     "metadata": {},
     "output_type": "display_data"
    },
    {
     "data": {
      "text/html": [
       "<div>\n",
       "<style scoped>\n",
       "    .dataframe tbody tr th:only-of-type {\n",
       "        vertical-align: middle;\n",
       "    }\n",
       "\n",
       "    .dataframe tbody tr th {\n",
       "        vertical-align: top;\n",
       "    }\n",
       "\n",
       "    .dataframe thead th {\n",
       "        text-align: right;\n",
       "    }\n",
       "</style>\n",
       "<table border=\"1\" class=\"dataframe\">\n",
       "  <thead>\n",
       "    <tr style=\"text-align: right;\">\n",
       "      <th></th>\n",
       "      <th>时间</th>\n",
       "      <th>灭鼠杀虫剂</th>\n",
       "      <th>电蚊香套装</th>\n",
       "      <th>盘香灭蟑香蚊香盘</th>\n",
       "      <th>蚊香加热器</th>\n",
       "      <th>蚊香液</th>\n",
       "      <th>蚊香片</th>\n",
       "      <th>防霉防蛀片</th>\n",
       "    </tr>\n",
       "  </thead>\n",
       "  <tbody>\n",
       "    <tr>\n",
       "      <th>0</th>\n",
       "      <td>2018-10-01</td>\n",
       "      <td>1.136548e+08</td>\n",
       "      <td>106531.29</td>\n",
       "      <td>4171283.35</td>\n",
       "      <td>315639.48</td>\n",
       "      <td>7.814546e+06</td>\n",
       "      <td>1032414.29</td>\n",
       "      <td>8541153.59</td>\n",
       "    </tr>\n",
       "    <tr>\n",
       "      <th>1</th>\n",
       "      <td>2018-09-01</td>\n",
       "      <td>1.440261e+08</td>\n",
       "      <td>105666.63</td>\n",
       "      <td>6784500.17</td>\n",
       "      <td>457366.41</td>\n",
       "      <td>1.065497e+07</td>\n",
       "      <td>1566651.88</td>\n",
       "      <td>8825870.43</td>\n",
       "    </tr>\n",
       "    <tr>\n",
       "      <th>2</th>\n",
       "      <td>2018-08-01</td>\n",
       "      <td>1.540426e+08</td>\n",
       "      <td>201467.03</td>\n",
       "      <td>10709683.41</td>\n",
       "      <td>746513.13</td>\n",
       "      <td>1.783558e+07</td>\n",
       "      <td>2617149.00</td>\n",
       "      <td>6320153.44</td>\n",
       "    </tr>\n",
       "    <tr>\n",
       "      <th>3</th>\n",
       "      <td>2018-07-01</td>\n",
       "      <td>1.480032e+08</td>\n",
       "      <td>438635.29</td>\n",
       "      <td>16589184.89</td>\n",
       "      <td>1871757.00</td>\n",
       "      <td>3.887792e+07</td>\n",
       "      <td>6209040.06</td>\n",
       "      <td>6302595.06</td>\n",
       "    </tr>\n",
       "    <tr>\n",
       "      <th>4</th>\n",
       "      <td>2018-06-01</td>\n",
       "      <td>1.359438e+08</td>\n",
       "      <td>953749.78</td>\n",
       "      <td>23526385.73</td>\n",
       "      <td>3641025.92</td>\n",
       "      <td>7.649909e+07</td>\n",
       "      <td>12484919.63</td>\n",
       "      <td>7047206.98</td>\n",
       "    </tr>\n",
       "    <tr>\n",
       "      <th>5</th>\n",
       "      <td>2018-05-01</td>\n",
       "      <td>1.241642e+08</td>\n",
       "      <td>1238967.37</td>\n",
       "      <td>28118581.25</td>\n",
       "      <td>5032466.78</td>\n",
       "      <td>1.050396e+08</td>\n",
       "      <td>15309721.94</td>\n",
       "      <td>7942340.44</td>\n",
       "    </tr>\n",
       "    <tr>\n",
       "      <th>6</th>\n",
       "      <td>2018-04-01</td>\n",
       "      <td>7.509661e+07</td>\n",
       "      <td>841051.93</td>\n",
       "      <td>16420341.87</td>\n",
       "      <td>3130513.43</td>\n",
       "      <td>6.254165e+07</td>\n",
       "      <td>7954875.07</td>\n",
       "      <td>7031364.60</td>\n",
       "    </tr>\n",
       "    <tr>\n",
       "      <th>7</th>\n",
       "      <td>2018-03-01</td>\n",
       "      <td>5.918182e+07</td>\n",
       "      <td>475177.48</td>\n",
       "      <td>7900094.91</td>\n",
       "      <td>1198332.81</td>\n",
       "      <td>2.632447e+07</td>\n",
       "      <td>2950648.32</td>\n",
       "      <td>6051561.02</td>\n",
       "    </tr>\n",
       "    <tr>\n",
       "      <th>8</th>\n",
       "      <td>2018-02-01</td>\n",
       "      <td>2.292138e+07</td>\n",
       "      <td>33232.95</td>\n",
       "      <td>545917.66</td>\n",
       "      <td>75714.46</td>\n",
       "      <td>2.235774e+06</td>\n",
       "      <td>218915.63</td>\n",
       "      <td>1393948.47</td>\n",
       "    </tr>\n",
       "    <tr>\n",
       "      <th>9</th>\n",
       "      <td>2018-01-01</td>\n",
       "      <td>3.653873e+07</td>\n",
       "      <td>54305.20</td>\n",
       "      <td>592663.20</td>\n",
       "      <td>86670.45</td>\n",
       "      <td>1.759451e+06</td>\n",
       "      <td>298146.11</td>\n",
       "      <td>2607776.07</td>\n",
       "    </tr>\n",
       "    <tr>\n",
       "      <th>10</th>\n",
       "      <td>2017-12-01</td>\n",
       "      <td>4.292283e+07</td>\n",
       "      <td>71600.17</td>\n",
       "      <td>796930.46</td>\n",
       "      <td>69145.59</td>\n",
       "      <td>2.213103e+06</td>\n",
       "      <td>314120.38</td>\n",
       "      <td>3259747.23</td>\n",
       "    </tr>\n",
       "    <tr>\n",
       "      <th>11</th>\n",
       "      <td>2017-11-01</td>\n",
       "      <td>5.838217e+07</td>\n",
       "      <td>94993.76</td>\n",
       "      <td>1581530.20</td>\n",
       "      <td>168141.79</td>\n",
       "      <td>4.257594e+06</td>\n",
       "      <td>617094.94</td>\n",
       "      <td>5447184.43</td>\n",
       "    </tr>\n",
       "    <tr>\n",
       "      <th>12</th>\n",
       "      <td>2017-10-01</td>\n",
       "      <td>8.226882e+07</td>\n",
       "      <td>145925.31</td>\n",
       "      <td>2824785.80</td>\n",
       "      <td>166522.62</td>\n",
       "      <td>4.290843e+06</td>\n",
       "      <td>766588.77</td>\n",
       "      <td>6152868.25</td>\n",
       "    </tr>\n",
       "    <tr>\n",
       "      <th>13</th>\n",
       "      <td>2017-09-01</td>\n",
       "      <td>1.010081e+08</td>\n",
       "      <td>242194.37</td>\n",
       "      <td>5581352.42</td>\n",
       "      <td>353042.45</td>\n",
       "      <td>7.833349e+06</td>\n",
       "      <td>1574779.65</td>\n",
       "      <td>5792065.80</td>\n",
       "    </tr>\n",
       "    <tr>\n",
       "      <th>14</th>\n",
       "      <td>2017-08-01</td>\n",
       "      <td>1.049504e+08</td>\n",
       "      <td>332922.02</td>\n",
       "      <td>7229409.84</td>\n",
       "      <td>544076.63</td>\n",
       "      <td>1.376039e+07</td>\n",
       "      <td>2323304.14</td>\n",
       "      <td>5081714.64</td>\n",
       "    </tr>\n",
       "    <tr>\n",
       "      <th>15</th>\n",
       "      <td>2017-07-01</td>\n",
       "      <td>1.116729e+08</td>\n",
       "      <td>913425.95</td>\n",
       "      <td>13718046.88</td>\n",
       "      <td>1357778.93</td>\n",
       "      <td>4.257757e+07</td>\n",
       "      <td>6627299.71</td>\n",
       "      <td>6691694.17</td>\n",
       "    </tr>\n",
       "    <tr>\n",
       "      <th>16</th>\n",
       "      <td>2017-06-01</td>\n",
       "      <td>1.051463e+08</td>\n",
       "      <td>2045163.59</td>\n",
       "      <td>19635925.59</td>\n",
       "      <td>2639777.66</td>\n",
       "      <td>8.283230e+07</td>\n",
       "      <td>12422420.21</td>\n",
       "      <td>7155138.87</td>\n",
       "    </tr>\n",
       "    <tr>\n",
       "      <th>17</th>\n",
       "      <td>2017-05-01</td>\n",
       "      <td>9.185035e+07</td>\n",
       "      <td>3606141.82</td>\n",
       "      <td>20275515.85</td>\n",
       "      <td>3185961.75</td>\n",
       "      <td>1.014605e+08</td>\n",
       "      <td>15961946.71</td>\n",
       "      <td>8145781.12</td>\n",
       "    </tr>\n",
       "    <tr>\n",
       "      <th>18</th>\n",
       "      <td>2017-04-01</td>\n",
       "      <td>5.363586e+07</td>\n",
       "      <td>1285599.49</td>\n",
       "      <td>9197868.29</td>\n",
       "      <td>1554864.42</td>\n",
       "      <td>4.880687e+07</td>\n",
       "      <td>6214963.68</td>\n",
       "      <td>6682161.49</td>\n",
       "    </tr>\n",
       "    <tr>\n",
       "      <th>19</th>\n",
       "      <td>2017-03-01</td>\n",
       "      <td>4.078967e+07</td>\n",
       "      <td>390486.57</td>\n",
       "      <td>3397837.60</td>\n",
       "      <td>317206.48</td>\n",
       "      <td>1.488979e+07</td>\n",
       "      <td>1319399.22</td>\n",
       "      <td>3904656.82</td>\n",
       "    </tr>\n",
       "    <tr>\n",
       "      <th>20</th>\n",
       "      <td>2017-02-01</td>\n",
       "      <td>3.467502e+07</td>\n",
       "      <td>209643.87</td>\n",
       "      <td>1519446.34</td>\n",
       "      <td>148158.07</td>\n",
       "      <td>5.929509e+06</td>\n",
       "      <td>687697.46</td>\n",
       "      <td>2584035.90</td>\n",
       "    </tr>\n",
       "    <tr>\n",
       "      <th>21</th>\n",
       "      <td>2017-01-01</td>\n",
       "      <td>2.047156e+07</td>\n",
       "      <td>39434.76</td>\n",
       "      <td>596744.04</td>\n",
       "      <td>48164.63</td>\n",
       "      <td>1.213749e+06</td>\n",
       "      <td>238973.09</td>\n",
       "      <td>1781773.46</td>\n",
       "    </tr>\n",
       "    <tr>\n",
       "      <th>22</th>\n",
       "      <td>2016-12-01</td>\n",
       "      <td>3.546668e+07</td>\n",
       "      <td>84350.57</td>\n",
       "      <td>1234900.05</td>\n",
       "      <td>52118.96</td>\n",
       "      <td>1.558634e+06</td>\n",
       "      <td>293737.20</td>\n",
       "      <td>3504367.98</td>\n",
       "    </tr>\n",
       "    <tr>\n",
       "      <th>23</th>\n",
       "      <td>2016-11-01</td>\n",
       "      <td>4.780625e+07</td>\n",
       "      <td>106291.23</td>\n",
       "      <td>1473418.20</td>\n",
       "      <td>82835.82</td>\n",
       "      <td>2.758827e+06</td>\n",
       "      <td>512990.23</td>\n",
       "      <td>4975519.21</td>\n",
       "    </tr>\n",
       "    <tr>\n",
       "      <th>24</th>\n",
       "      <td>2016-10-01</td>\n",
       "      <td>6.339722e+07</td>\n",
       "      <td>179015.23</td>\n",
       "      <td>2543813.78</td>\n",
       "      <td>130484.07</td>\n",
       "      <td>3.641803e+06</td>\n",
       "      <td>690912.02</td>\n",
       "      <td>4600717.78</td>\n",
       "    </tr>\n",
       "    <tr>\n",
       "      <th>25</th>\n",
       "      <td>2016-09-01</td>\n",
       "      <td>6.864724e+07</td>\n",
       "      <td>210456.69</td>\n",
       "      <td>3092898.02</td>\n",
       "      <td>168724.83</td>\n",
       "      <td>4.632818e+06</td>\n",
       "      <td>930513.91</td>\n",
       "      <td>4642681.07</td>\n",
       "    </tr>\n",
       "    <tr>\n",
       "      <th>26</th>\n",
       "      <td>2016-08-01</td>\n",
       "      <td>7.610885e+07</td>\n",
       "      <td>316467.14</td>\n",
       "      <td>4389862.79</td>\n",
       "      <td>272553.95</td>\n",
       "      <td>8.956868e+06</td>\n",
       "      <td>1581021.50</td>\n",
       "      <td>4151326.68</td>\n",
       "    </tr>\n",
       "    <tr>\n",
       "      <th>27</th>\n",
       "      <td>2016-07-01</td>\n",
       "      <td>7.832954e+07</td>\n",
       "      <td>932728.10</td>\n",
       "      <td>7384968.66</td>\n",
       "      <td>761159.35</td>\n",
       "      <td>2.260036e+07</td>\n",
       "      <td>4088320.77</td>\n",
       "      <td>5412185.06</td>\n",
       "    </tr>\n",
       "    <tr>\n",
       "      <th>28</th>\n",
       "      <td>2016-06-01</td>\n",
       "      <td>7.693264e+07</td>\n",
       "      <td>2184985.33</td>\n",
       "      <td>10859461.67</td>\n",
       "      <td>1728788.53</td>\n",
       "      <td>4.640197e+07</td>\n",
       "      <td>8004562.69</td>\n",
       "      <td>5694825.13</td>\n",
       "    </tr>\n",
       "    <tr>\n",
       "      <th>29</th>\n",
       "      <td>2016-05-01</td>\n",
       "      <td>5.812696e+07</td>\n",
       "      <td>2059879.80</td>\n",
       "      <td>9912801.93</td>\n",
       "      <td>1618361.54</td>\n",
       "      <td>4.777690e+07</td>\n",
       "      <td>7474421.97</td>\n",
       "      <td>5469360.60</td>\n",
       "    </tr>\n",
       "    <tr>\n",
       "      <th>30</th>\n",
       "      <td>2016-04-01</td>\n",
       "      <td>3.762602e+07</td>\n",
       "      <td>1034992.53</td>\n",
       "      <td>4687913.18</td>\n",
       "      <td>758206.81</td>\n",
       "      <td>2.432917e+07</td>\n",
       "      <td>3435257.35</td>\n",
       "      <td>5253619.06</td>\n",
       "    </tr>\n",
       "    <tr>\n",
       "      <th>31</th>\n",
       "      <td>2016-03-01</td>\n",
       "      <td>2.952610e+07</td>\n",
       "      <td>352013.31</td>\n",
       "      <td>1204574.20</td>\n",
       "      <td>246106.75</td>\n",
       "      <td>6.656382e+06</td>\n",
       "      <td>746709.07</td>\n",
       "      <td>3481194.46</td>\n",
       "    </tr>\n",
       "    <tr>\n",
       "      <th>32</th>\n",
       "      <td>2016-02-01</td>\n",
       "      <td>1.500135e+07</td>\n",
       "      <td>96979.48</td>\n",
       "      <td>449199.41</td>\n",
       "      <td>36193.85</td>\n",
       "      <td>6.939075e+05</td>\n",
       "      <td>109108.05</td>\n",
       "      <td>1274810.96</td>\n",
       "    </tr>\n",
       "    <tr>\n",
       "      <th>33</th>\n",
       "      <td>2016-01-01</td>\n",
       "      <td>2.107822e+07</td>\n",
       "      <td>108412.71</td>\n",
       "      <td>619042.01</td>\n",
       "      <td>49670.25</td>\n",
       "      <td>4.828890e+05</td>\n",
       "      <td>113284.71</td>\n",
       "      <td>1562393.95</td>\n",
       "    </tr>\n",
       "    <tr>\n",
       "      <th>34</th>\n",
       "      <td>2015-12-01</td>\n",
       "      <td>2.472756e+07</td>\n",
       "      <td>110068.83</td>\n",
       "      <td>818479.56</td>\n",
       "      <td>34076.91</td>\n",
       "      <td>5.832845e+05</td>\n",
       "      <td>134890.48</td>\n",
       "      <td>2333602.08</td>\n",
       "    </tr>\n",
       "    <tr>\n",
       "      <th>35</th>\n",
       "      <td>2015-11-01</td>\n",
       "      <td>3.303873e+07</td>\n",
       "      <td>185094.22</td>\n",
       "      <td>1197791.27</td>\n",
       "      <td>86889.91</td>\n",
       "      <td>1.579796e+06</td>\n",
       "      <td>325744.43</td>\n",
       "      <td>3364112.14</td>\n",
       "    </tr>\n",
       "  </tbody>\n",
       "</table>\n",
       "</div>"
      ],
      "text/plain": [
       "           时间         灭鼠杀虫剂       电蚊香套装     盘香灭蟑香蚊香盘       蚊香加热器  \\\n",
       "0  2018-10-01  1.136548e+08   106531.29   4171283.35   315639.48   \n",
       "1  2018-09-01  1.440261e+08   105666.63   6784500.17   457366.41   \n",
       "2  2018-08-01  1.540426e+08   201467.03  10709683.41   746513.13   \n",
       "3  2018-07-01  1.480032e+08   438635.29  16589184.89  1871757.00   \n",
       "4  2018-06-01  1.359438e+08   953749.78  23526385.73  3641025.92   \n",
       "5  2018-05-01  1.241642e+08  1238967.37  28118581.25  5032466.78   \n",
       "6  2018-04-01  7.509661e+07   841051.93  16420341.87  3130513.43   \n",
       "7  2018-03-01  5.918182e+07   475177.48   7900094.91  1198332.81   \n",
       "8  2018-02-01  2.292138e+07    33232.95    545917.66    75714.46   \n",
       "9  2018-01-01  3.653873e+07    54305.20    592663.20    86670.45   \n",
       "10 2017-12-01  4.292283e+07    71600.17    796930.46    69145.59   \n",
       "11 2017-11-01  5.838217e+07    94993.76   1581530.20   168141.79   \n",
       "12 2017-10-01  8.226882e+07   145925.31   2824785.80   166522.62   \n",
       "13 2017-09-01  1.010081e+08   242194.37   5581352.42   353042.45   \n",
       "14 2017-08-01  1.049504e+08   332922.02   7229409.84   544076.63   \n",
       "15 2017-07-01  1.116729e+08   913425.95  13718046.88  1357778.93   \n",
       "16 2017-06-01  1.051463e+08  2045163.59  19635925.59  2639777.66   \n",
       "17 2017-05-01  9.185035e+07  3606141.82  20275515.85  3185961.75   \n",
       "18 2017-04-01  5.363586e+07  1285599.49   9197868.29  1554864.42   \n",
       "19 2017-03-01  4.078967e+07   390486.57   3397837.60   317206.48   \n",
       "20 2017-02-01  3.467502e+07   209643.87   1519446.34   148158.07   \n",
       "21 2017-01-01  2.047156e+07    39434.76    596744.04    48164.63   \n",
       "22 2016-12-01  3.546668e+07    84350.57   1234900.05    52118.96   \n",
       "23 2016-11-01  4.780625e+07   106291.23   1473418.20    82835.82   \n",
       "24 2016-10-01  6.339722e+07   179015.23   2543813.78   130484.07   \n",
       "25 2016-09-01  6.864724e+07   210456.69   3092898.02   168724.83   \n",
       "26 2016-08-01  7.610885e+07   316467.14   4389862.79   272553.95   \n",
       "27 2016-07-01  7.832954e+07   932728.10   7384968.66   761159.35   \n",
       "28 2016-06-01  7.693264e+07  2184985.33  10859461.67  1728788.53   \n",
       "29 2016-05-01  5.812696e+07  2059879.80   9912801.93  1618361.54   \n",
       "30 2016-04-01  3.762602e+07  1034992.53   4687913.18   758206.81   \n",
       "31 2016-03-01  2.952610e+07   352013.31   1204574.20   246106.75   \n",
       "32 2016-02-01  1.500135e+07    96979.48    449199.41    36193.85   \n",
       "33 2016-01-01  2.107822e+07   108412.71    619042.01    49670.25   \n",
       "34 2015-12-01  2.472756e+07   110068.83    818479.56    34076.91   \n",
       "35 2015-11-01  3.303873e+07   185094.22   1197791.27    86889.91   \n",
       "\n",
       "             蚊香液          蚊香片       防霉防蛀片  \n",
       "0   7.814546e+06   1032414.29  8541153.59  \n",
       "1   1.065497e+07   1566651.88  8825870.43  \n",
       "2   1.783558e+07   2617149.00  6320153.44  \n",
       "3   3.887792e+07   6209040.06  6302595.06  \n",
       "4   7.649909e+07  12484919.63  7047206.98  \n",
       "5   1.050396e+08  15309721.94  7942340.44  \n",
       "6   6.254165e+07   7954875.07  7031364.60  \n",
       "7   2.632447e+07   2950648.32  6051561.02  \n",
       "8   2.235774e+06    218915.63  1393948.47  \n",
       "9   1.759451e+06    298146.11  2607776.07  \n",
       "10  2.213103e+06    314120.38  3259747.23  \n",
       "11  4.257594e+06    617094.94  5447184.43  \n",
       "12  4.290843e+06    766588.77  6152868.25  \n",
       "13  7.833349e+06   1574779.65  5792065.80  \n",
       "14  1.376039e+07   2323304.14  5081714.64  \n",
       "15  4.257757e+07   6627299.71  6691694.17  \n",
       "16  8.283230e+07  12422420.21  7155138.87  \n",
       "17  1.014605e+08  15961946.71  8145781.12  \n",
       "18  4.880687e+07   6214963.68  6682161.49  \n",
       "19  1.488979e+07   1319399.22  3904656.82  \n",
       "20  5.929509e+06    687697.46  2584035.90  \n",
       "21  1.213749e+06    238973.09  1781773.46  \n",
       "22  1.558634e+06    293737.20  3504367.98  \n",
       "23  2.758827e+06    512990.23  4975519.21  \n",
       "24  3.641803e+06    690912.02  4600717.78  \n",
       "25  4.632818e+06    930513.91  4642681.07  \n",
       "26  8.956868e+06   1581021.50  4151326.68  \n",
       "27  2.260036e+07   4088320.77  5412185.06  \n",
       "28  4.640197e+07   8004562.69  5694825.13  \n",
       "29  4.777690e+07   7474421.97  5469360.60  \n",
       "30  2.432917e+07   3435257.35  5253619.06  \n",
       "31  6.656382e+06    746709.07  3481194.46  \n",
       "32  6.939075e+05    109108.05  1274810.96  \n",
       "33  4.828890e+05    113284.71  1562393.95  \n",
       "34  5.832845e+05    134890.48  2333602.08  \n",
       "35  1.579796e+06    325744.43  3364112.14  "
      ]
     },
     "execution_count": 9,
     "metadata": {},
     "output_type": "execute_result"
    }
   ],
   "source": [
    "df = pd.concat(df_list, axis=1)\n",
    "df.reset_index(inplace=True)\n",
    "df"
   ]
  },
  {
   "cell_type": "markdown",
   "id": "c5585499",
   "metadata": {},
   "source": [
    " - 由于数据只到18年10月份,而我们需要的是2016-2018年每月完整的数据(方便从年变化的角度分析产品)\n",
    "  - 这里我们假设: \n",
    "    - 每年各月之间没有明显规律的周期性变化(近似认为月和月之间的相关性不大) \n",
    "    - 每年对应月份的数据是线性变化的(一是因为数据少,二是认为随着年份的增长,\n",
    " - 交易额在大环境下是稳步变化的，故这里我们可以简单的用线性回归预测\n",
    " - 即对于每个子类目市场,用15,16,17年的11/12月销售金额预测18年的对应月份"
   ]
  },
  {
   "cell_type": "code",
   "execution_count": 10,
   "id": "1dd9b2a0",
   "metadata": {},
   "outputs": [
    {
     "data": {
      "text/html": [
       "<div>\n",
       "<style scoped>\n",
       "    .dataframe tbody tr th:only-of-type {\n",
       "        vertical-align: middle;\n",
       "    }\n",
       "\n",
       "    .dataframe tbody tr th {\n",
       "        vertical-align: top;\n",
       "    }\n",
       "\n",
       "    .dataframe thead th {\n",
       "        text-align: right;\n",
       "    }\n",
       "</style>\n",
       "<table border=\"1\" class=\"dataframe\">\n",
       "  <thead>\n",
       "    <tr style=\"text-align: right;\">\n",
       "      <th></th>\n",
       "      <th>时间</th>\n",
       "      <th>灭鼠杀虫剂</th>\n",
       "      <th>电蚊香套装</th>\n",
       "      <th>盘香灭蟑香蚊香盘</th>\n",
       "      <th>蚊香加热器</th>\n",
       "      <th>蚊香液</th>\n",
       "      <th>蚊香片</th>\n",
       "      <th>防霉防蛀片</th>\n",
       "    </tr>\n",
       "  </thead>\n",
       "  <tbody>\n",
       "    <tr>\n",
       "      <th>11</th>\n",
       "      <td>2017-11-01</td>\n",
       "      <td>58382172.96</td>\n",
       "      <td>94993.76</td>\n",
       "      <td>1581530.20</td>\n",
       "      <td>168141.79</td>\n",
       "      <td>4257593.87</td>\n",
       "      <td>617094.94</td>\n",
       "      <td>5447184.43</td>\n",
       "    </tr>\n",
       "    <tr>\n",
       "      <th>23</th>\n",
       "      <td>2016-11-01</td>\n",
       "      <td>47806248.76</td>\n",
       "      <td>106291.23</td>\n",
       "      <td>1473418.20</td>\n",
       "      <td>82835.82</td>\n",
       "      <td>2758827.44</td>\n",
       "      <td>512990.23</td>\n",
       "      <td>4975519.21</td>\n",
       "    </tr>\n",
       "    <tr>\n",
       "      <th>35</th>\n",
       "      <td>2015-11-01</td>\n",
       "      <td>33038726.31</td>\n",
       "      <td>185094.22</td>\n",
       "      <td>1197791.27</td>\n",
       "      <td>86889.91</td>\n",
       "      <td>1579795.72</td>\n",
       "      <td>325744.43</td>\n",
       "      <td>3364112.14</td>\n",
       "    </tr>\n",
       "  </tbody>\n",
       "</table>\n",
       "</div>"
      ],
      "text/plain": [
       "           时间        灭鼠杀虫剂      电蚊香套装    盘香灭蟑香蚊香盘      蚊香加热器         蚊香液  \\\n",
       "11 2017-11-01  58382172.96   94993.76  1581530.20  168141.79  4257593.87   \n",
       "23 2016-11-01  47806248.76  106291.23  1473418.20   82835.82  2758827.44   \n",
       "35 2015-11-01  33038726.31  185094.22  1197791.27   86889.91  1579795.72   \n",
       "\n",
       "          蚊香片       防霉防蛀片  \n",
       "11  617094.94  5447184.43  \n",
       "23  512990.23  4975519.21  \n",
       "35  325744.43  3364112.14  "
      ]
     },
     "execution_count": 10,
     "metadata": {},
     "output_type": "execute_result"
    }
   ],
   "source": [
    "df.loc[df.时间.dt.month == 11]"
   ]
  },
  {
   "cell_type": "code",
   "execution_count": 11,
   "id": "9ee2e93d",
   "metadata": {},
   "outputs": [],
   "source": [
    "import datetime"
   ]
  },
  {
   "cell_type": "code",
   "execution_count": 12,
   "id": "72e7a28e",
   "metadata": {},
   "outputs": [
    {
     "data": {
      "application/javascript": [
       "\n",
       "        if (window._pyforest_update_imports_cell) { window._pyforest_update_imports_cell('import numpy as np\\nimport pandas as pd'); }\n",
       "    "
      ],
      "text/plain": [
       "<IPython.core.display.Javascript object>"
      ]
     },
     "metadata": {},
     "output_type": "display_data"
    },
    {
     "data": {
      "application/javascript": [
       "\n",
       "        if (window._pyforest_update_imports_cell) { window._pyforest_update_imports_cell('import numpy as np\\nimport pandas as pd'); }\n",
       "    "
      ],
      "text/plain": [
       "<IPython.core.display.Javascript object>"
      ]
     },
     "metadata": {},
     "output_type": "display_data"
    },
    {
     "data": {
      "application/javascript": [
       "\n",
       "        if (window._pyforest_update_imports_cell) { window._pyforest_update_imports_cell('import numpy as np\\nfrom sklearn.linear_model import LinearRegression\\nimport pandas as pd'); }\n",
       "    "
      ],
      "text/plain": [
       "<IPython.core.display.Javascript object>"
      ]
     },
     "metadata": {},
     "output_type": "display_data"
    },
    {
     "data": {
      "application/javascript": [
       "\n",
       "        if (window._pyforest_update_imports_cell) { window._pyforest_update_imports_cell('import numpy as np\\nfrom sklearn.linear_model import LinearRegression\\nimport pandas as pd'); }\n",
       "    "
      ],
      "text/plain": [
       "<IPython.core.display.Javascript object>"
      ]
     },
     "metadata": {},
     "output_type": "display_data"
    },
    {
     "data": {
      "application/javascript": [
       "\n",
       "        if (window._pyforest_update_imports_cell) { window._pyforest_update_imports_cell('import numpy as np\\nfrom sklearn.linear_model import LinearRegression\\nimport pandas as pd'); }\n",
       "    "
      ],
      "text/plain": [
       "<IPython.core.display.Javascript object>"
      ]
     },
     "metadata": {},
     "output_type": "display_data"
    },
    {
     "data": {
      "application/javascript": [
       "\n",
       "        if (window._pyforest_update_imports_cell) { window._pyforest_update_imports_cell('import numpy as np\\nfrom sklearn.linear_model import LinearRegression\\nimport pandas as pd'); }\n",
       "    "
      ],
      "text/plain": [
       "<IPython.core.display.Javascript object>"
      ]
     },
     "metadata": {},
     "output_type": "display_data"
    },
    {
     "data": {
      "application/javascript": [
       "\n",
       "        if (window._pyforest_update_imports_cell) { window._pyforest_update_imports_cell('import numpy as np\\nfrom sklearn.linear_model import LinearRegression\\nimport pandas as pd'); }\n",
       "    "
      ],
      "text/plain": [
       "<IPython.core.display.Javascript object>"
      ]
     },
     "metadata": {},
     "output_type": "display_data"
    },
    {
     "data": {
      "application/javascript": [
       "\n",
       "        if (window._pyforest_update_imports_cell) { window._pyforest_update_imports_cell('import numpy as np\\nfrom sklearn.linear_model import LinearRegression\\nimport pandas as pd'); }\n",
       "    "
      ],
      "text/plain": [
       "<IPython.core.display.Javascript object>"
      ]
     },
     "metadata": {},
     "output_type": "display_data"
    },
    {
     "data": {
      "application/javascript": [
       "\n",
       "        if (window._pyforest_update_imports_cell) { window._pyforest_update_imports_cell('import numpy as np\\nfrom sklearn.linear_model import LinearRegression\\nimport pandas as pd'); }\n",
       "    "
      ],
      "text/plain": [
       "<IPython.core.display.Javascript object>"
      ]
     },
     "metadata": {},
     "output_type": "display_data"
    },
    {
     "data": {
      "application/javascript": [
       "\n",
       "        if (window._pyforest_update_imports_cell) { window._pyforest_update_imports_cell('import numpy as np\\nfrom sklearn.linear_model import LinearRegression\\nimport pandas as pd'); }\n",
       "    "
      ],
      "text/plain": [
       "<IPython.core.display.Javascript object>"
      ]
     },
     "metadata": {},
     "output_type": "display_data"
    },
    {
     "data": {
      "application/javascript": [
       "\n",
       "        if (window._pyforest_update_imports_cell) { window._pyforest_update_imports_cell('import numpy as np\\nfrom sklearn.linear_model import LinearRegression\\nimport pandas as pd'); }\n",
       "    "
      ],
      "text/plain": [
       "<IPython.core.display.Javascript object>"
      ]
     },
     "metadata": {},
     "output_type": "display_data"
    },
    {
     "data": {
      "application/javascript": [
       "\n",
       "        if (window._pyforest_update_imports_cell) { window._pyforest_update_imports_cell('import numpy as np\\nfrom sklearn.linear_model import LinearRegression\\nimport pandas as pd'); }\n",
       "    "
      ],
      "text/plain": [
       "<IPython.core.display.Javascript object>"
      ]
     },
     "metadata": {},
     "output_type": "display_data"
    },
    {
     "data": {
      "application/javascript": [
       "\n",
       "        if (window._pyforest_update_imports_cell) { window._pyforest_update_imports_cell('import numpy as np\\nfrom sklearn.linear_model import LinearRegression\\nimport pandas as pd'); }\n",
       "    "
      ],
      "text/plain": [
       "<IPython.core.display.Javascript object>"
      ]
     },
     "metadata": {},
     "output_type": "display_data"
    },
    {
     "data": {
      "application/javascript": [
       "\n",
       "        if (window._pyforest_update_imports_cell) { window._pyforest_update_imports_cell('import numpy as np\\nfrom sklearn.linear_model import LinearRegression\\nimport pandas as pd'); }\n",
       "    "
      ],
      "text/plain": [
       "<IPython.core.display.Javascript object>"
      ]
     },
     "metadata": {},
     "output_type": "display_data"
    },
    {
     "data": {
      "application/javascript": [
       "\n",
       "        if (window._pyforest_update_imports_cell) { window._pyforest_update_imports_cell('import numpy as np\\nfrom sklearn.linear_model import LinearRegression\\nimport pandas as pd'); }\n",
       "    "
      ],
      "text/plain": [
       "<IPython.core.display.Javascript object>"
      ]
     },
     "metadata": {},
     "output_type": "display_data"
    },
    {
     "data": {
      "application/javascript": [
       "\n",
       "        if (window._pyforest_update_imports_cell) { window._pyforest_update_imports_cell('import numpy as np\\nfrom sklearn.linear_model import LinearRegression\\nimport pandas as pd'); }\n",
       "    "
      ],
      "text/plain": [
       "<IPython.core.display.Javascript object>"
      ]
     },
     "metadata": {},
     "output_type": "display_data"
    },
    {
     "data": {
      "application/javascript": [
       "\n",
       "        if (window._pyforest_update_imports_cell) { window._pyforest_update_imports_cell('import numpy as np\\nfrom sklearn.linear_model import LinearRegression\\nimport pandas as pd'); }\n",
       "    "
      ],
      "text/plain": [
       "<IPython.core.display.Javascript object>"
      ]
     },
     "metadata": {},
     "output_type": "display_data"
    },
    {
     "data": {
      "application/javascript": [
       "\n",
       "        if (window._pyforest_update_imports_cell) { window._pyforest_update_imports_cell('import numpy as np\\nfrom sklearn.linear_model import LinearRegression\\nimport pandas as pd'); }\n",
       "    "
      ],
      "text/plain": [
       "<IPython.core.display.Javascript object>"
      ]
     },
     "metadata": {},
     "output_type": "display_data"
    },
    {
     "data": {
      "application/javascript": [
       "\n",
       "        if (window._pyforest_update_imports_cell) { window._pyforest_update_imports_cell('import numpy as np\\nfrom sklearn.linear_model import LinearRegression\\nimport pandas as pd'); }\n",
       "    "
      ],
      "text/plain": [
       "<IPython.core.display.Javascript object>"
      ]
     },
     "metadata": {},
     "output_type": "display_data"
    },
    {
     "data": {
      "application/javascript": [
       "\n",
       "        if (window._pyforest_update_imports_cell) { window._pyforest_update_imports_cell('import numpy as np\\nfrom sklearn.linear_model import LinearRegression\\nimport pandas as pd'); }\n",
       "    "
      ],
      "text/plain": [
       "<IPython.core.display.Javascript object>"
      ]
     },
     "metadata": {},
     "output_type": "display_data"
    },
    {
     "data": {
      "application/javascript": [
       "\n",
       "        if (window._pyforest_update_imports_cell) { window._pyforest_update_imports_cell('import numpy as np\\nfrom sklearn.linear_model import LinearRegression\\nimport pandas as pd'); }\n",
       "    "
      ],
      "text/plain": [
       "<IPython.core.display.Javascript object>"
      ]
     },
     "metadata": {},
     "output_type": "display_data"
    },
    {
     "data": {
      "application/javascript": [
       "\n",
       "        if (window._pyforest_update_imports_cell) { window._pyforest_update_imports_cell('import numpy as np\\nfrom sklearn.linear_model import LinearRegression\\nimport pandas as pd'); }\n",
       "    "
      ],
      "text/plain": [
       "<IPython.core.display.Javascript object>"
      ]
     },
     "metadata": {},
     "output_type": "display_data"
    },
    {
     "data": {
      "application/javascript": [
       "\n",
       "        if (window._pyforest_update_imports_cell) { window._pyforest_update_imports_cell('import numpy as np\\nfrom sklearn.linear_model import LinearRegression\\nimport pandas as pd'); }\n",
       "    "
      ],
      "text/plain": [
       "<IPython.core.display.Javascript object>"
      ]
     },
     "metadata": {},
     "output_type": "display_data"
    },
    {
     "data": {
      "text/html": [
       "<div>\n",
       "<style scoped>\n",
       "    .dataframe tbody tr th:only-of-type {\n",
       "        vertical-align: middle;\n",
       "    }\n",
       "\n",
       "    .dataframe tbody tr th {\n",
       "        vertical-align: top;\n",
       "    }\n",
       "\n",
       "    .dataframe thead th {\n",
       "        text-align: right;\n",
       "    }\n",
       "</style>\n",
       "<table border=\"1\" class=\"dataframe\">\n",
       "  <thead>\n",
       "    <tr style=\"text-align: right;\">\n",
       "      <th></th>\n",
       "      <th>时间</th>\n",
       "      <th>灭鼠杀虫剂</th>\n",
       "      <th>电蚊香套装</th>\n",
       "      <th>盘香灭蟑香蚊香盘</th>\n",
       "      <th>蚊香加热器</th>\n",
       "      <th>蚊香液</th>\n",
       "      <th>蚊香片</th>\n",
       "      <th>防霉防蛀片</th>\n",
       "    </tr>\n",
       "  </thead>\n",
       "  <tbody>\n",
       "    <tr>\n",
       "      <th>0</th>\n",
       "      <td>2018-11-01</td>\n",
       "      <td>71752495.993336</td>\n",
       "      <td>38692.61</td>\n",
       "      <td>1801318.82</td>\n",
       "      <td>193874.386667</td>\n",
       "      <td>5543203.826667</td>\n",
       "      <td>776627.043333</td>\n",
       "      <td>6678677.55</td>\n",
       "    </tr>\n",
       "  </tbody>\n",
       "</table>\n",
       "</div>"
      ],
      "text/plain": [
       "          时间            灭鼠杀虫剂     电蚊香套装    盘香灭蟑香蚊香盘          蚊香加热器  \\\n",
       "0 2018-11-01  71752495.993336  38692.61  1801318.82  193874.386667   \n",
       "\n",
       "              蚊香液            蚊香片       防霉防蛀片  \n",
       "0  5543203.826667  776627.043333  6678677.55  "
      ]
     },
     "metadata": {},
     "output_type": "display_data"
    },
    {
     "data": {
      "application/javascript": [
       "\n",
       "        if (window._pyforest_update_imports_cell) { window._pyforest_update_imports_cell('import numpy as np\\nfrom sklearn.linear_model import LinearRegression\\nimport pandas as pd'); }\n",
       "    "
      ],
      "text/plain": [
       "<IPython.core.display.Javascript object>"
      ]
     },
     "metadata": {},
     "output_type": "display_data"
    },
    {
     "data": {
      "application/javascript": [
       "\n",
       "        if (window._pyforest_update_imports_cell) { window._pyforest_update_imports_cell('import numpy as np\\nfrom sklearn.linear_model import LinearRegression\\nimport pandas as pd'); }\n",
       "    "
      ],
      "text/plain": [
       "<IPython.core.display.Javascript object>"
      ]
     },
     "metadata": {},
     "output_type": "display_data"
    },
    {
     "data": {
      "application/javascript": [
       "\n",
       "        if (window._pyforest_update_imports_cell) { window._pyforest_update_imports_cell('import numpy as np\\nfrom sklearn.linear_model import LinearRegression\\nimport pandas as pd'); }\n",
       "    "
      ],
      "text/plain": [
       "<IPython.core.display.Javascript object>"
      ]
     },
     "metadata": {},
     "output_type": "display_data"
    },
    {
     "data": {
      "application/javascript": [
       "\n",
       "        if (window._pyforest_update_imports_cell) { window._pyforest_update_imports_cell('import numpy as np\\nfrom sklearn.linear_model import LinearRegression\\nimport pandas as pd'); }\n",
       "    "
      ],
      "text/plain": [
       "<IPython.core.display.Javascript object>"
      ]
     },
     "metadata": {},
     "output_type": "display_data"
    },
    {
     "data": {
      "application/javascript": [
       "\n",
       "        if (window._pyforest_update_imports_cell) { window._pyforest_update_imports_cell('import numpy as np\\nfrom sklearn.linear_model import LinearRegression\\nimport pandas as pd'); }\n",
       "    "
      ],
      "text/plain": [
       "<IPython.core.display.Javascript object>"
      ]
     },
     "metadata": {},
     "output_type": "display_data"
    },
    {
     "data": {
      "application/javascript": [
       "\n",
       "        if (window._pyforest_update_imports_cell) { window._pyforest_update_imports_cell('import numpy as np\\nfrom sklearn.linear_model import LinearRegression\\nimport pandas as pd'); }\n",
       "    "
      ],
      "text/plain": [
       "<IPython.core.display.Javascript object>"
      ]
     },
     "metadata": {},
     "output_type": "display_data"
    },
    {
     "data": {
      "application/javascript": [
       "\n",
       "        if (window._pyforest_update_imports_cell) { window._pyforest_update_imports_cell('import numpy as np\\nfrom sklearn.linear_model import LinearRegression\\nimport pandas as pd'); }\n",
       "    "
      ],
      "text/plain": [
       "<IPython.core.display.Javascript object>"
      ]
     },
     "metadata": {},
     "output_type": "display_data"
    },
    {
     "data": {
      "application/javascript": [
       "\n",
       "        if (window._pyforest_update_imports_cell) { window._pyforest_update_imports_cell('import numpy as np\\nfrom sklearn.linear_model import LinearRegression\\nimport pandas as pd'); }\n",
       "    "
      ],
      "text/plain": [
       "<IPython.core.display.Javascript object>"
      ]
     },
     "metadata": {},
     "output_type": "display_data"
    },
    {
     "data": {
      "application/javascript": [
       "\n",
       "        if (window._pyforest_update_imports_cell) { window._pyforest_update_imports_cell('import numpy as np\\nfrom sklearn.linear_model import LinearRegression\\nimport pandas as pd'); }\n",
       "    "
      ],
      "text/plain": [
       "<IPython.core.display.Javascript object>"
      ]
     },
     "metadata": {},
     "output_type": "display_data"
    },
    {
     "data": {
      "application/javascript": [
       "\n",
       "        if (window._pyforest_update_imports_cell) { window._pyforest_update_imports_cell('import numpy as np\\nfrom sklearn.linear_model import LinearRegression\\nimport pandas as pd'); }\n",
       "    "
      ],
      "text/plain": [
       "<IPython.core.display.Javascript object>"
      ]
     },
     "metadata": {},
     "output_type": "display_data"
    },
    {
     "data": {
      "application/javascript": [
       "\n",
       "        if (window._pyforest_update_imports_cell) { window._pyforest_update_imports_cell('import numpy as np\\nfrom sklearn.linear_model import LinearRegression\\nimport pandas as pd'); }\n",
       "    "
      ],
      "text/plain": [
       "<IPython.core.display.Javascript object>"
      ]
     },
     "metadata": {},
     "output_type": "display_data"
    },
    {
     "data": {
      "application/javascript": [
       "\n",
       "        if (window._pyforest_update_imports_cell) { window._pyforest_update_imports_cell('import numpy as np\\nfrom sklearn.linear_model import LinearRegression\\nimport pandas as pd'); }\n",
       "    "
      ],
      "text/plain": [
       "<IPython.core.display.Javascript object>"
      ]
     },
     "metadata": {},
     "output_type": "display_data"
    },
    {
     "data": {
      "application/javascript": [
       "\n",
       "        if (window._pyforest_update_imports_cell) { window._pyforest_update_imports_cell('import numpy as np\\nfrom sklearn.linear_model import LinearRegression\\nimport pandas as pd'); }\n",
       "    "
      ],
      "text/plain": [
       "<IPython.core.display.Javascript object>"
      ]
     },
     "metadata": {},
     "output_type": "display_data"
    },
    {
     "data": {
      "application/javascript": [
       "\n",
       "        if (window._pyforest_update_imports_cell) { window._pyforest_update_imports_cell('import numpy as np\\nfrom sklearn.linear_model import LinearRegression\\nimport pandas as pd'); }\n",
       "    "
      ],
      "text/plain": [
       "<IPython.core.display.Javascript object>"
      ]
     },
     "metadata": {},
     "output_type": "display_data"
    },
    {
     "data": {
      "application/javascript": [
       "\n",
       "        if (window._pyforest_update_imports_cell) { window._pyforest_update_imports_cell('import numpy as np\\nfrom sklearn.linear_model import LinearRegression\\nimport pandas as pd'); }\n",
       "    "
      ],
      "text/plain": [
       "<IPython.core.display.Javascript object>"
      ]
     },
     "metadata": {},
     "output_type": "display_data"
    },
    {
     "data": {
      "application/javascript": [
       "\n",
       "        if (window._pyforest_update_imports_cell) { window._pyforest_update_imports_cell('import numpy as np\\nfrom sklearn.linear_model import LinearRegression\\nimport pandas as pd'); }\n",
       "    "
      ],
      "text/plain": [
       "<IPython.core.display.Javascript object>"
      ]
     },
     "metadata": {},
     "output_type": "display_data"
    },
    {
     "data": {
      "application/javascript": [
       "\n",
       "        if (window._pyforest_update_imports_cell) { window._pyforest_update_imports_cell('import numpy as np\\nfrom sklearn.linear_model import LinearRegression\\nimport pandas as pd'); }\n",
       "    "
      ],
      "text/plain": [
       "<IPython.core.display.Javascript object>"
      ]
     },
     "metadata": {},
     "output_type": "display_data"
    },
    {
     "data": {
      "application/javascript": [
       "\n",
       "        if (window._pyforest_update_imports_cell) { window._pyforest_update_imports_cell('import numpy as np\\nfrom sklearn.linear_model import LinearRegression\\nimport pandas as pd'); }\n",
       "    "
      ],
      "text/plain": [
       "<IPython.core.display.Javascript object>"
      ]
     },
     "metadata": {},
     "output_type": "display_data"
    },
    {
     "data": {
      "application/javascript": [
       "\n",
       "        if (window._pyforest_update_imports_cell) { window._pyforest_update_imports_cell('import numpy as np\\nfrom sklearn.linear_model import LinearRegression\\nimport pandas as pd'); }\n",
       "    "
      ],
      "text/plain": [
       "<IPython.core.display.Javascript object>"
      ]
     },
     "metadata": {},
     "output_type": "display_data"
    },
    {
     "data": {
      "application/javascript": [
       "\n",
       "        if (window._pyforest_update_imports_cell) { window._pyforest_update_imports_cell('import numpy as np\\nfrom sklearn.linear_model import LinearRegression\\nimport pandas as pd'); }\n",
       "    "
      ],
      "text/plain": [
       "<IPython.core.display.Javascript object>"
      ]
     },
     "metadata": {},
     "output_type": "display_data"
    },
    {
     "data": {
      "application/javascript": [
       "\n",
       "        if (window._pyforest_update_imports_cell) { window._pyforest_update_imports_cell('import numpy as np\\nfrom sklearn.linear_model import LinearRegression\\nimport pandas as pd'); }\n",
       "    "
      ],
      "text/plain": [
       "<IPython.core.display.Javascript object>"
      ]
     },
     "metadata": {},
     "output_type": "display_data"
    },
    {
     "data": {
      "application/javascript": [
       "\n",
       "        if (window._pyforest_update_imports_cell) { window._pyforest_update_imports_cell('import numpy as np\\nfrom sklearn.linear_model import LinearRegression\\nimport pandas as pd'); }\n",
       "    "
      ],
      "text/plain": [
       "<IPython.core.display.Javascript object>"
      ]
     },
     "metadata": {},
     "output_type": "display_data"
    },
    {
     "data": {
      "application/javascript": [
       "\n",
       "        if (window._pyforest_update_imports_cell) { window._pyforest_update_imports_cell('import numpy as np\\nfrom sklearn.linear_model import LinearRegression\\nimport pandas as pd'); }\n",
       "    "
      ],
      "text/plain": [
       "<IPython.core.display.Javascript object>"
      ]
     },
     "metadata": {},
     "output_type": "display_data"
    },
    {
     "data": {
      "application/javascript": [
       "\n",
       "        if (window._pyforest_update_imports_cell) { window._pyforest_update_imports_cell('import numpy as np\\nfrom sklearn.linear_model import LinearRegression\\nimport pandas as pd'); }\n",
       "    "
      ],
      "text/plain": [
       "<IPython.core.display.Javascript object>"
      ]
     },
     "metadata": {},
     "output_type": "display_data"
    },
    {
     "data": {
      "text/html": [
       "<div>\n",
       "<style scoped>\n",
       "    .dataframe tbody tr th:only-of-type {\n",
       "        vertical-align: middle;\n",
       "    }\n",
       "\n",
       "    .dataframe tbody tr th {\n",
       "        vertical-align: top;\n",
       "    }\n",
       "\n",
       "    .dataframe thead th {\n",
       "        text-align: right;\n",
       "    }\n",
       "</style>\n",
       "<table border=\"1\" class=\"dataframe\">\n",
       "  <thead>\n",
       "    <tr style=\"text-align: right;\">\n",
       "      <th></th>\n",
       "      <th>时间</th>\n",
       "      <th>灭鼠杀虫剂</th>\n",
       "      <th>电蚊香套装</th>\n",
       "      <th>盘香灭蟑香蚊香盘</th>\n",
       "      <th>蚊香加热器</th>\n",
       "      <th>蚊香液</th>\n",
       "      <th>蚊香片</th>\n",
       "      <th>防霉防蛀片</th>\n",
       "    </tr>\n",
       "  </thead>\n",
       "  <tbody>\n",
       "    <tr>\n",
       "      <th>0</th>\n",
       "      <td>2018-12-01</td>\n",
       "      <td>52567630.68</td>\n",
       "      <td>50204.53</td>\n",
       "      <td>928554.256667</td>\n",
       "      <td>86849.166667</td>\n",
       "      <td>3081491.99</td>\n",
       "      <td>426812.586667</td>\n",
       "      <td>3958717.58</td>\n",
       "    </tr>\n",
       "  </tbody>\n",
       "</table>\n",
       "</div>"
      ],
      "text/plain": [
       "          时间        灭鼠杀虫剂     电蚊香套装       盘香灭蟑香蚊香盘         蚊香加热器         蚊香液  \\\n",
       "0 2018-12-01  52567630.68  50204.53  928554.256667  86849.166667  3081491.99   \n",
       "\n",
       "             蚊香片       防霉防蛀片  \n",
       "0  426812.586667  3958717.58  "
      ]
     },
     "metadata": {},
     "output_type": "display_data"
    },
    {
     "data": {
      "application/javascript": [
       "\n",
       "        if (window._pyforest_update_imports_cell) { window._pyforest_update_imports_cell('import numpy as np\\nfrom sklearn.linear_model import LinearRegression\\nimport pandas as pd'); }\n",
       "    "
      ],
      "text/plain": [
       "<IPython.core.display.Javascript object>"
      ]
     },
     "metadata": {},
     "output_type": "display_data"
    }
   ],
   "source": [
    "# 遍历月份\n",
    "for month in [11, 12]:\n",
    "    \n",
    "    pred_list = [datetime.datetime(year=2018, month=month, day=1)]\n",
    "    \n",
    "    # 遍历所有产品\n",
    "    for col in df.columns[1 : ]:\n",
    "        # 训练数据\n",
    "        x_train = np.array([2015, 2016, 2017]).reshape(-1, 1)\n",
    "        y_train = df.loc[df.时间.dt.month == month, col][ : : -1]\n",
    "        x_test = np.array([2018]).reshape(-1, 1)\n",
    "        \n",
    "        # 线性回归\n",
    "        # 训练\n",
    "        linear = LinearRegression()\n",
    "        linear.fit(x_train, y_train)\n",
    "\n",
    "        # 预测\n",
    "        y_pred = linear.predict(x_test)\n",
    "        # print(month, col, y_pred)\n",
    "        \n",
    "        pred_list.append(y_pred[0])\n",
    "        \n",
    "    # pred_list 转成dataframe再加入df\n",
    "    # 变成1行多列\n",
    "    pred_array = np.array(pred_list).reshape(1, -1)\n",
    "#     display(pred_array)\n",
    "    # 转成DataFrame \n",
    "    pred_df = pd.DataFrame(data=pred_array, columns=df.columns)\n",
    "    display(pred_df)\n",
    "    \n",
    "    # 拼接\n",
    "    df = pd.concat([pred_df,df])"
   ]
  },
  {
   "cell_type": "code",
   "execution_count": 13,
   "id": "4c7d124b",
   "metadata": {},
   "outputs": [
    {
     "data": {
      "text/html": [
       "<div>\n",
       "<style scoped>\n",
       "    .dataframe tbody tr th:only-of-type {\n",
       "        vertical-align: middle;\n",
       "    }\n",
       "\n",
       "    .dataframe tbody tr th {\n",
       "        vertical-align: top;\n",
       "    }\n",
       "\n",
       "    .dataframe thead th {\n",
       "        text-align: right;\n",
       "    }\n",
       "</style>\n",
       "<table border=\"1\" class=\"dataframe\">\n",
       "  <thead>\n",
       "    <tr style=\"text-align: right;\">\n",
       "      <th></th>\n",
       "      <th>时间</th>\n",
       "      <th>灭鼠杀虫剂</th>\n",
       "      <th>电蚊香套装</th>\n",
       "      <th>盘香灭蟑香蚊香盘</th>\n",
       "      <th>蚊香加热器</th>\n",
       "      <th>蚊香液</th>\n",
       "      <th>蚊香片</th>\n",
       "      <th>防霉防蛀片</th>\n",
       "    </tr>\n",
       "  </thead>\n",
       "  <tbody>\n",
       "    <tr>\n",
       "      <th>0</th>\n",
       "      <td>2018-12-01</td>\n",
       "      <td>52567630.68</td>\n",
       "      <td>50204.53</td>\n",
       "      <td>928554.256667</td>\n",
       "      <td>86849.166667</td>\n",
       "      <td>3081491.99</td>\n",
       "      <td>426812.586667</td>\n",
       "      <td>3958717.58</td>\n",
       "    </tr>\n",
       "    <tr>\n",
       "      <th>0</th>\n",
       "      <td>2018-11-01</td>\n",
       "      <td>71752495.993336</td>\n",
       "      <td>38692.61</td>\n",
       "      <td>1801318.82</td>\n",
       "      <td>193874.386667</td>\n",
       "      <td>5543203.826667</td>\n",
       "      <td>776627.043333</td>\n",
       "      <td>6678677.55</td>\n",
       "    </tr>\n",
       "    <tr>\n",
       "      <th>0</th>\n",
       "      <td>2018-10-01</td>\n",
       "      <td>113654778.06</td>\n",
       "      <td>106531.29</td>\n",
       "      <td>4171283.35</td>\n",
       "      <td>315639.48</td>\n",
       "      <td>7814546.15</td>\n",
       "      <td>1032414.29</td>\n",
       "      <td>8541153.59</td>\n",
       "    </tr>\n",
       "    <tr>\n",
       "      <th>1</th>\n",
       "      <td>2018-09-01</td>\n",
       "      <td>144026060.6</td>\n",
       "      <td>105666.63</td>\n",
       "      <td>6784500.17</td>\n",
       "      <td>457366.41</td>\n",
       "      <td>10654973.47</td>\n",
       "      <td>1566651.88</td>\n",
       "      <td>8825870.43</td>\n",
       "    </tr>\n",
       "    <tr>\n",
       "      <th>2</th>\n",
       "      <td>2018-08-01</td>\n",
       "      <td>154042579.93</td>\n",
       "      <td>201467.03</td>\n",
       "      <td>10709683.41</td>\n",
       "      <td>746513.13</td>\n",
       "      <td>17835577.8</td>\n",
       "      <td>2617149.0</td>\n",
       "      <td>6320153.44</td>\n",
       "    </tr>\n",
       "  </tbody>\n",
       "</table>\n",
       "</div>"
      ],
      "text/plain": [
       "          时间            灭鼠杀虫剂      电蚊香套装       盘香灭蟑香蚊香盘          蚊香加热器  \\\n",
       "0 2018-12-01      52567630.68   50204.53  928554.256667   86849.166667   \n",
       "0 2018-11-01  71752495.993336   38692.61     1801318.82  193874.386667   \n",
       "0 2018-10-01     113654778.06  106531.29     4171283.35      315639.48   \n",
       "1 2018-09-01      144026060.6  105666.63     6784500.17      457366.41   \n",
       "2 2018-08-01     154042579.93  201467.03    10709683.41      746513.13   \n",
       "\n",
       "              蚊香液            蚊香片       防霉防蛀片  \n",
       "0      3081491.99  426812.586667  3958717.58  \n",
       "0  5543203.826667  776627.043333  6678677.55  \n",
       "0      7814546.15     1032414.29  8541153.59  \n",
       "1     10654973.47     1566651.88  8825870.43  \n",
       "2      17835577.8      2617149.0  6320153.44  "
      ]
     },
     "execution_count": 13,
     "metadata": {},
     "output_type": "execute_result"
    }
   ],
   "source": [
    "df.head()"
   ]
  },
  {
   "cell_type": "code",
   "execution_count": 14,
   "id": "317cbe24",
   "metadata": {},
   "outputs": [
    {
     "data": {
      "text/html": [
       "<div>\n",
       "<style scoped>\n",
       "    .dataframe tbody tr th:only-of-type {\n",
       "        vertical-align: middle;\n",
       "    }\n",
       "\n",
       "    .dataframe tbody tr th {\n",
       "        vertical-align: top;\n",
       "    }\n",
       "\n",
       "    .dataframe thead th {\n",
       "        text-align: right;\n",
       "    }\n",
       "</style>\n",
       "<table border=\"1\" class=\"dataframe\">\n",
       "  <thead>\n",
       "    <tr style=\"text-align: right;\">\n",
       "      <th></th>\n",
       "      <th>时间</th>\n",
       "      <th>灭鼠杀虫剂</th>\n",
       "      <th>电蚊香套装</th>\n",
       "      <th>盘香灭蟑香蚊香盘</th>\n",
       "      <th>蚊香加热器</th>\n",
       "      <th>蚊香液</th>\n",
       "      <th>蚊香片</th>\n",
       "      <th>防霉防蛀片</th>\n",
       "    </tr>\n",
       "  </thead>\n",
       "  <tbody>\n",
       "    <tr>\n",
       "      <th>0</th>\n",
       "      <td>2018-12-01</td>\n",
       "      <td>52567630.68</td>\n",
       "      <td>50204.53</td>\n",
       "      <td>928554.256667</td>\n",
       "      <td>86849.166667</td>\n",
       "      <td>3081491.99</td>\n",
       "      <td>426812.586667</td>\n",
       "      <td>3958717.58</td>\n",
       "    </tr>\n",
       "    <tr>\n",
       "      <th>1</th>\n",
       "      <td>2018-11-01</td>\n",
       "      <td>71752495.993336</td>\n",
       "      <td>38692.61</td>\n",
       "      <td>1801318.82</td>\n",
       "      <td>193874.386667</td>\n",
       "      <td>5543203.826667</td>\n",
       "      <td>776627.043333</td>\n",
       "      <td>6678677.55</td>\n",
       "    </tr>\n",
       "    <tr>\n",
       "      <th>2</th>\n",
       "      <td>2018-10-01</td>\n",
       "      <td>113654778.06</td>\n",
       "      <td>106531.29</td>\n",
       "      <td>4171283.35</td>\n",
       "      <td>315639.48</td>\n",
       "      <td>7814546.15</td>\n",
       "      <td>1032414.29</td>\n",
       "      <td>8541153.59</td>\n",
       "    </tr>\n",
       "    <tr>\n",
       "      <th>3</th>\n",
       "      <td>2018-09-01</td>\n",
       "      <td>144026060.6</td>\n",
       "      <td>105666.63</td>\n",
       "      <td>6784500.17</td>\n",
       "      <td>457366.41</td>\n",
       "      <td>10654973.47</td>\n",
       "      <td>1566651.88</td>\n",
       "      <td>8825870.43</td>\n",
       "    </tr>\n",
       "    <tr>\n",
       "      <th>4</th>\n",
       "      <td>2018-08-01</td>\n",
       "      <td>154042579.93</td>\n",
       "      <td>201467.03</td>\n",
       "      <td>10709683.41</td>\n",
       "      <td>746513.13</td>\n",
       "      <td>17835577.8</td>\n",
       "      <td>2617149.0</td>\n",
       "      <td>6320153.44</td>\n",
       "    </tr>\n",
       "  </tbody>\n",
       "</table>\n",
       "</div>"
      ],
      "text/plain": [
       "          时间            灭鼠杀虫剂      电蚊香套装       盘香灭蟑香蚊香盘          蚊香加热器  \\\n",
       "0 2018-12-01      52567630.68   50204.53  928554.256667   86849.166667   \n",
       "1 2018-11-01  71752495.993336   38692.61     1801318.82  193874.386667   \n",
       "2 2018-10-01     113654778.06  106531.29     4171283.35      315639.48   \n",
       "3 2018-09-01      144026060.6  105666.63     6784500.17      457366.41   \n",
       "4 2018-08-01     154042579.93  201467.03    10709683.41      746513.13   \n",
       "\n",
       "              蚊香液            蚊香片       防霉防蛀片  \n",
       "0      3081491.99  426812.586667  3958717.58  \n",
       "1  5543203.826667  776627.043333  6678677.55  \n",
       "2      7814546.15     1032414.29  8541153.59  \n",
       "3     10654973.47     1566651.88  8825870.43  \n",
       "4      17835577.8      2617149.0  6320153.44  "
      ]
     },
     "execution_count": 14,
     "metadata": {},
     "output_type": "execute_result"
    }
   ],
   "source": [
    "df.reset_index(drop=True, inplace=True)\n",
    "df.head()"
   ]
  },
  {
   "cell_type": "markdown",
   "id": "7d68e7aa",
   "metadata": {},
   "source": [
    "## 按照年份查看驱虫市场的总体变化趋势\n",
    "- 所有子类目市场每年的交易金额总和;折线图表示变化"
   ]
  },
  {
   "cell_type": "code",
   "execution_count": 15,
   "id": "4d7748c1",
   "metadata": {},
   "outputs": [
    {
     "data": {
      "text/html": [
       "<div>\n",
       "<style scoped>\n",
       "    .dataframe tbody tr th:only-of-type {\n",
       "        vertical-align: middle;\n",
       "    }\n",
       "\n",
       "    .dataframe tbody tr th {\n",
       "        vertical-align: top;\n",
       "    }\n",
       "\n",
       "    .dataframe thead th {\n",
       "        text-align: right;\n",
       "    }\n",
       "</style>\n",
       "<table border=\"1\" class=\"dataframe\">\n",
       "  <thead>\n",
       "    <tr style=\"text-align: right;\">\n",
       "      <th></th>\n",
       "      <th>时间</th>\n",
       "      <th>年份</th>\n",
       "      <th>灭鼠杀虫剂</th>\n",
       "      <th>电蚊香套装</th>\n",
       "      <th>盘香灭蟑香蚊香盘</th>\n",
       "      <th>蚊香加热器</th>\n",
       "      <th>蚊香液</th>\n",
       "      <th>蚊香片</th>\n",
       "      <th>防霉防蛀片</th>\n",
       "    </tr>\n",
       "  </thead>\n",
       "  <tbody>\n",
       "    <tr>\n",
       "      <th>0</th>\n",
       "      <td>2018-12-01</td>\n",
       "      <td>2018</td>\n",
       "      <td>52567630.68</td>\n",
       "      <td>50204.53</td>\n",
       "      <td>928554.256667</td>\n",
       "      <td>86849.166667</td>\n",
       "      <td>3081491.99</td>\n",
       "      <td>426812.586667</td>\n",
       "      <td>3958717.58</td>\n",
       "    </tr>\n",
       "    <tr>\n",
       "      <th>1</th>\n",
       "      <td>2018-11-01</td>\n",
       "      <td>2018</td>\n",
       "      <td>71752495.993336</td>\n",
       "      <td>38692.61</td>\n",
       "      <td>1801318.82</td>\n",
       "      <td>193874.386667</td>\n",
       "      <td>5543203.826667</td>\n",
       "      <td>776627.043333</td>\n",
       "      <td>6678677.55</td>\n",
       "    </tr>\n",
       "    <tr>\n",
       "      <th>2</th>\n",
       "      <td>2018-10-01</td>\n",
       "      <td>2018</td>\n",
       "      <td>113654778.06</td>\n",
       "      <td>106531.29</td>\n",
       "      <td>4171283.35</td>\n",
       "      <td>315639.48</td>\n",
       "      <td>7814546.15</td>\n",
       "      <td>1032414.29</td>\n",
       "      <td>8541153.59</td>\n",
       "    </tr>\n",
       "    <tr>\n",
       "      <th>3</th>\n",
       "      <td>2018-09-01</td>\n",
       "      <td>2018</td>\n",
       "      <td>144026060.6</td>\n",
       "      <td>105666.63</td>\n",
       "      <td>6784500.17</td>\n",
       "      <td>457366.41</td>\n",
       "      <td>10654973.47</td>\n",
       "      <td>1566651.88</td>\n",
       "      <td>8825870.43</td>\n",
       "    </tr>\n",
       "    <tr>\n",
       "      <th>4</th>\n",
       "      <td>2018-08-01</td>\n",
       "      <td>2018</td>\n",
       "      <td>154042579.93</td>\n",
       "      <td>201467.03</td>\n",
       "      <td>10709683.41</td>\n",
       "      <td>746513.13</td>\n",
       "      <td>17835577.8</td>\n",
       "      <td>2617149.0</td>\n",
       "      <td>6320153.44</td>\n",
       "    </tr>\n",
       "  </tbody>\n",
       "</table>\n",
       "</div>"
      ],
      "text/plain": [
       "          时间    年份            灭鼠杀虫剂      电蚊香套装       盘香灭蟑香蚊香盘          蚊香加热器  \\\n",
       "0 2018-12-01  2018      52567630.68   50204.53  928554.256667   86849.166667   \n",
       "1 2018-11-01  2018  71752495.993336   38692.61     1801318.82  193874.386667   \n",
       "2 2018-10-01  2018     113654778.06  106531.29     4171283.35      315639.48   \n",
       "3 2018-09-01  2018      144026060.6  105666.63     6784500.17      457366.41   \n",
       "4 2018-08-01  2018     154042579.93  201467.03    10709683.41      746513.13   \n",
       "\n",
       "              蚊香液            蚊香片       防霉防蛀片  \n",
       "0      3081491.99  426812.586667  3958717.58  \n",
       "1  5543203.826667  776627.043333  6678677.55  \n",
       "2      7814546.15     1032414.29  8541153.59  \n",
       "3     10654973.47     1566651.88  8825870.43  \n",
       "4      17835577.8      2617149.0  6320153.44  "
      ]
     },
     "execution_count": 15,
     "metadata": {},
     "output_type": "execute_result"
    }
   ],
   "source": [
    "df.insert(1, '年份', df.时间.dt.year)\n",
    "df.head()"
   ]
  },
  {
   "cell_type": "markdown",
   "id": "74d815c8",
   "metadata": {},
   "source": [
    "- 取16年到18年数据"
   ]
  },
  {
   "cell_type": "code",
   "execution_count": 16,
   "id": "159c3f60",
   "metadata": {
    "scrolled": true
   },
   "outputs": [
    {
     "data": {
      "text/html": [
       "<div>\n",
       "<style scoped>\n",
       "    .dataframe tbody tr th:only-of-type {\n",
       "        vertical-align: middle;\n",
       "    }\n",
       "\n",
       "    .dataframe tbody tr th {\n",
       "        vertical-align: top;\n",
       "    }\n",
       "\n",
       "    .dataframe thead th {\n",
       "        text-align: right;\n",
       "    }\n",
       "</style>\n",
       "<table border=\"1\" class=\"dataframe\">\n",
       "  <thead>\n",
       "    <tr style=\"text-align: right;\">\n",
       "      <th></th>\n",
       "      <th>时间</th>\n",
       "      <th>年份</th>\n",
       "      <th>灭鼠杀虫剂</th>\n",
       "      <th>电蚊香套装</th>\n",
       "      <th>盘香灭蟑香蚊香盘</th>\n",
       "      <th>蚊香加热器</th>\n",
       "      <th>蚊香液</th>\n",
       "      <th>蚊香片</th>\n",
       "      <th>防霉防蛀片</th>\n",
       "    </tr>\n",
       "  </thead>\n",
       "  <tbody>\n",
       "    <tr>\n",
       "      <th>31</th>\n",
       "      <td>2016-05-01</td>\n",
       "      <td>2016</td>\n",
       "      <td>58126963.25</td>\n",
       "      <td>2059879.8</td>\n",
       "      <td>9912801.93</td>\n",
       "      <td>1618361.54</td>\n",
       "      <td>47776896.31</td>\n",
       "      <td>7474421.97</td>\n",
       "      <td>5469360.6</td>\n",
       "    </tr>\n",
       "    <tr>\n",
       "      <th>32</th>\n",
       "      <td>2016-04-01</td>\n",
       "      <td>2016</td>\n",
       "      <td>37626021.94</td>\n",
       "      <td>1034992.53</td>\n",
       "      <td>4687913.18</td>\n",
       "      <td>758206.81</td>\n",
       "      <td>24329173.03</td>\n",
       "      <td>3435257.35</td>\n",
       "      <td>5253619.06</td>\n",
       "    </tr>\n",
       "    <tr>\n",
       "      <th>33</th>\n",
       "      <td>2016-03-01</td>\n",
       "      <td>2016</td>\n",
       "      <td>29526097.4</td>\n",
       "      <td>352013.31</td>\n",
       "      <td>1204574.2</td>\n",
       "      <td>246106.75</td>\n",
       "      <td>6656381.71</td>\n",
       "      <td>746709.07</td>\n",
       "      <td>3481194.46</td>\n",
       "    </tr>\n",
       "    <tr>\n",
       "      <th>34</th>\n",
       "      <td>2016-02-01</td>\n",
       "      <td>2016</td>\n",
       "      <td>15001352.47</td>\n",
       "      <td>96979.48</td>\n",
       "      <td>449199.41</td>\n",
       "      <td>36193.85</td>\n",
       "      <td>693907.46</td>\n",
       "      <td>109108.05</td>\n",
       "      <td>1274810.96</td>\n",
       "    </tr>\n",
       "    <tr>\n",
       "      <th>35</th>\n",
       "      <td>2016-01-01</td>\n",
       "      <td>2016</td>\n",
       "      <td>21078220.78</td>\n",
       "      <td>108412.71</td>\n",
       "      <td>619042.01</td>\n",
       "      <td>49670.25</td>\n",
       "      <td>482889.01</td>\n",
       "      <td>113284.71</td>\n",
       "      <td>1562393.95</td>\n",
       "    </tr>\n",
       "  </tbody>\n",
       "</table>\n",
       "</div>"
      ],
      "text/plain": [
       "           时间    年份        灭鼠杀虫剂       电蚊香套装    盘香灭蟑香蚊香盘       蚊香加热器  \\\n",
       "31 2016-05-01  2016  58126963.25   2059879.8  9912801.93  1618361.54   \n",
       "32 2016-04-01  2016  37626021.94  1034992.53  4687913.18   758206.81   \n",
       "33 2016-03-01  2016   29526097.4   352013.31   1204574.2   246106.75   \n",
       "34 2016-02-01  2016  15001352.47    96979.48   449199.41    36193.85   \n",
       "35 2016-01-01  2016  21078220.78   108412.71   619042.01    49670.25   \n",
       "\n",
       "            蚊香液         蚊香片       防霉防蛀片  \n",
       "31  47776896.31  7474421.97   5469360.6  \n",
       "32  24329173.03  3435257.35  5253619.06  \n",
       "33   6656381.71   746709.07  3481194.46  \n",
       "34    693907.46   109108.05  1274810.96  \n",
       "35    482889.01   113284.71  1562393.95  "
      ]
     },
     "execution_count": 16,
     "metadata": {},
     "output_type": "execute_result"
    }
   ],
   "source": [
    "df = df.iloc[ : -2].copy()\n",
    "df.tail()"
   ]
  },
  {
   "cell_type": "code",
   "execution_count": 17,
   "id": "b74b6cd7",
   "metadata": {},
   "outputs": [],
   "source": [
    "ignore_warnings()"
   ]
  },
  {
   "cell_type": "code",
   "execution_count": 18,
   "id": "780c8d42",
   "metadata": {
    "scrolled": true
   },
   "outputs": [
    {
     "data": {
      "text/html": [
       "<div>\n",
       "<style scoped>\n",
       "    .dataframe tbody tr th:only-of-type {\n",
       "        vertical-align: middle;\n",
       "    }\n",
       "\n",
       "    .dataframe tbody tr th {\n",
       "        vertical-align: top;\n",
       "    }\n",
       "\n",
       "    .dataframe thead th {\n",
       "        text-align: right;\n",
       "    }\n",
       "</style>\n",
       "<table border=\"1\" class=\"dataframe\">\n",
       "  <thead>\n",
       "    <tr style=\"text-align: right;\">\n",
       "      <th></th>\n",
       "      <th>灭鼠杀虫剂</th>\n",
       "      <th>电蚊香套装</th>\n",
       "      <th>盘香灭蟑香蚊香盘</th>\n",
       "      <th>蚊香加热器</th>\n",
       "      <th>蚊香液</th>\n",
       "      <th>蚊香片</th>\n",
       "      <th>防霉防蛀片</th>\n",
       "    </tr>\n",
       "    <tr>\n",
       "      <th>年份</th>\n",
       "      <th></th>\n",
       "      <th></th>\n",
       "      <th></th>\n",
       "      <th></th>\n",
       "      <th></th>\n",
       "      <th></th>\n",
       "      <th></th>\n",
       "    </tr>\n",
       "  </thead>\n",
       "  <tbody>\n",
       "    <tr>\n",
       "      <th>2016</th>\n",
       "      <td>6.080471e+08</td>\n",
       "      <td>7666572.12</td>\n",
       "      <td>4.785285e+07</td>\n",
       "      <td>5.905205e+06</td>\n",
       "      <td>1.704905e+08</td>\n",
       "      <td>27980839.47</td>\n",
       "      <td>50023001.94</td>\n",
       "    </tr>\n",
       "    <tr>\n",
       "      <th>2017</th>\n",
       "      <td>8.477740e+08</td>\n",
       "      <td>9377531.68</td>\n",
       "      <td>8.635539e+07</td>\n",
       "      <td>1.055284e+07</td>\n",
       "      <td>3.300656e+08</td>\n",
       "      <td>49068587.96</td>\n",
       "      <td>62678822.18</td>\n",
       "    </tr>\n",
       "    <tr>\n",
       "      <th>2018</th>\n",
       "      <td>1.137893e+09</td>\n",
       "      <td>4537682.09</td>\n",
       "      <td>1.180885e+08</td>\n",
       "      <td>1.683672e+07</td>\n",
       "      <td>3.582077e+08</td>\n",
       "      <td>51845921.56</td>\n",
       "      <td>72701365.23</td>\n",
       "    </tr>\n",
       "  </tbody>\n",
       "</table>\n",
       "</div>"
      ],
      "text/plain": [
       "             灭鼠杀虫剂       电蚊香套装      盘香灭蟑香蚊香盘         蚊香加热器           蚊香液  \\\n",
       "年份                                                                         \n",
       "2016  6.080471e+08  7666572.12  4.785285e+07  5.905205e+06  1.704905e+08   \n",
       "2017  8.477740e+08  9377531.68  8.635539e+07  1.055284e+07  3.300656e+08   \n",
       "2018  1.137893e+09  4537682.09  1.180885e+08  1.683672e+07  3.582077e+08   \n",
       "\n",
       "              蚊香片        防霉防蛀片  \n",
       "年份                              \n",
       "2016  27980839.47  50023001.94  \n",
       "2017  49068587.96  62678822.18  \n",
       "2018  51845921.56  72701365.23  "
      ]
     },
     "execution_count": 18,
     "metadata": {},
     "output_type": "execute_result"
    }
   ],
   "source": [
    "df2 = df.groupby(by='年份').sum().copy()\n",
    "df2     "
   ]
  },
  {
   "cell_type": "markdown",
   "id": "e3e2aea0",
   "metadata": {},
   "source": [
    "-  统计每年的所有类目的总交易额"
   ]
  },
  {
   "cell_type": "code",
   "execution_count": 19,
   "id": "d25cf54d",
   "metadata": {},
   "outputs": [
    {
     "data": {
      "text/plain": [
       "年份\n",
       "2016    9.179661e+08\n",
       "2017    1.395873e+09\n",
       "2018    1.760111e+09\n",
       "dtype: float64"
      ]
     },
     "execution_count": 19,
     "metadata": {},
     "output_type": "execute_result"
    }
   ],
   "source": [
    "df2.sum(axis=1)"
   ]
  },
  {
   "cell_type": "markdown",
   "id": "a19f32a3",
   "metadata": {},
   "source": [
    "- 画图"
   ]
  },
  {
   "cell_type": "code",
   "execution_count": 20,
   "id": "208aa632",
   "metadata": {},
   "outputs": [
    {
     "data": {
      "application/javascript": [
       "\n",
       "        if (window._pyforest_update_imports_cell) { window._pyforest_update_imports_cell('import numpy as np\\nimport matplotlib.pyplot as plt\\nfrom sklearn.linear_model import LinearRegression\\nimport pandas as pd'); }\n",
       "    "
      ],
      "text/plain": [
       "<IPython.core.display.Javascript object>"
      ]
     },
     "metadata": {},
     "output_type": "display_data"
    }
   ],
   "source": [
    "plt.rcParams['font.sans-serif'] = 'SimHei'"
   ]
  },
  {
   "cell_type": "code",
   "execution_count": 40,
   "id": "a2f82518",
   "metadata": {
    "scrolled": false
   },
   "outputs": [
    {
     "data": {
      "application/javascript": [
       "\n",
       "        if (window._pyforest_update_imports_cell) { window._pyforest_update_imports_cell('import pandas as pd\\nimport seaborn as sns\\nfrom sklearn.linear_model import LinearRegression\\nimport matplotlib.pyplot as plt\\nimport numpy as np'); }\n",
       "    "
      ],
      "text/plain": [
       "<IPython.core.display.Javascript object>"
      ]
     },
     "metadata": {},
     "output_type": "display_data"
    },
    {
     "data": {
      "application/javascript": [
       "\n",
       "        if (window._pyforest_update_imports_cell) { window._pyforest_update_imports_cell('import pandas as pd\\nimport seaborn as sns\\nfrom sklearn.linear_model import LinearRegression\\nimport matplotlib.pyplot as plt\\nimport numpy as np'); }\n",
       "    "
      ],
      "text/plain": [
       "<IPython.core.display.Javascript object>"
      ]
     },
     "metadata": {},
     "output_type": "display_data"
    },
    {
     "data": {
      "application/javascript": [
       "\n",
       "        if (window._pyforest_update_imports_cell) { window._pyforest_update_imports_cell('import pandas as pd\\nimport seaborn as sns\\nfrom sklearn.linear_model import LinearRegression\\nimport matplotlib.pyplot as plt\\nimport numpy as np'); }\n",
       "    "
      ],
      "text/plain": [
       "<IPython.core.display.Javascript object>"
      ]
     },
     "metadata": {},
     "output_type": "display_data"
    },
    {
     "data": {
      "application/javascript": [
       "\n",
       "        if (window._pyforest_update_imports_cell) { window._pyforest_update_imports_cell('import pandas as pd\\nimport seaborn as sns\\nfrom sklearn.linear_model import LinearRegression\\nimport matplotlib.pyplot as plt\\nimport numpy as np'); }\n",
       "    "
      ],
      "text/plain": [
       "<IPython.core.display.Javascript object>"
      ]
     },
     "metadata": {},
     "output_type": "display_data"
    },
    {
     "data": {
      "application/javascript": [
       "\n",
       "        if (window._pyforest_update_imports_cell) { window._pyforest_update_imports_cell('import pandas as pd\\nimport seaborn as sns\\nfrom sklearn.linear_model import LinearRegression\\nimport matplotlib.pyplot as plt\\nimport numpy as np'); }\n",
       "    "
      ],
      "text/plain": [
       "<IPython.core.display.Javascript object>"
      ]
     },
     "metadata": {},
     "output_type": "display_data"
    },
    {
     "data": {
      "application/javascript": [
       "\n",
       "        if (window._pyforest_update_imports_cell) { window._pyforest_update_imports_cell('import pandas as pd\\nimport seaborn as sns\\nfrom sklearn.linear_model import LinearRegression\\nimport matplotlib.pyplot as plt\\nimport numpy as np'); }\n",
       "    "
      ],
      "text/plain": [
       "<IPython.core.display.Javascript object>"
      ]
     },
     "metadata": {},
     "output_type": "display_data"
    },
    {
     "data": {
      "image/png": "[encoded data removed]",
      "text/plain": [
       "<Figure size 900x600 with 1 Axes>"
      ]
     },
     "metadata": {},
     "output_type": "display_data"
    }
   ],
   "source": [
    "plt.figure(dpi=150)\n",
    "sns.lineplot(data = df2.sum(axis=1),marker='o')\n",
    "plt.xticks([2016, 2017, 2018])\n",
    "plt.ylabel('总交易额')\n",
    "plt.title('近三年驱虫市场趋势')\n",
    "plt.show()"
   ]
  },
  {
   "cell_type": "markdown",
   "id": "16f18b12",
   "metadata": {},
   "source": [
    "-  结论：\n",
    " - 可以看出:  近三年呈增长趋势,整个市场倾向于成长期和成熟期"
   ]
  },
  {
   "cell_type": "markdown",
   "id": "800ea504",
   "metadata": {},
   "source": [
    "## 查看各类目市场三年内销售额总和的变化趋势"
   ]
  },
  {
   "cell_type": "code",
   "execution_count": 54,
   "id": "a4b72037",
   "metadata": {},
   "outputs": [
    {
     "data": {
      "application/javascript": [
       "\n",
       "        if (window._pyforest_update_imports_cell) { window._pyforest_update_imports_cell('import pandas as pd\\nimport seaborn as sns\\nfrom sklearn.linear_model import LinearRegression\\nimport matplotlib.pyplot as plt\\nimport numpy as np'); }\n",
       "    "
      ],
      "text/plain": [
       "<IPython.core.display.Javascript object>"
      ]
     },
     "metadata": {},
     "output_type": "display_data"
    },
    {
     "data": {
      "application/javascript": [
       "\n",
       "        if (window._pyforest_update_imports_cell) { window._pyforest_update_imports_cell('import pandas as pd\\nimport seaborn as sns\\nfrom sklearn.linear_model import LinearRegression\\nimport matplotlib.pyplot as plt\\nimport numpy as np'); }\n",
       "    "
      ],
      "text/plain": [
       "<IPython.core.display.Javascript object>"
      ]
     },
     "metadata": {},
     "output_type": "display_data"
    },
    {
     "data": {
      "application/javascript": [
       "\n",
       "        if (window._pyforest_update_imports_cell) { window._pyforest_update_imports_cell('import pandas as pd\\nimport seaborn as sns\\nfrom sklearn.linear_model import LinearRegression\\nimport matplotlib.pyplot as plt\\nimport numpy as np'); }\n",
       "    "
      ],
      "text/plain": [
       "<IPython.core.display.Javascript object>"
      ]
     },
     "metadata": {},
     "output_type": "display_data"
    },
    {
     "data": {
      "application/javascript": [
       "\n",
       "        if (window._pyforest_update_imports_cell) { window._pyforest_update_imports_cell('import pandas as pd\\nimport seaborn as sns\\nfrom sklearn.linear_model import LinearRegression\\nimport matplotlib.pyplot as plt\\nimport numpy as np'); }\n",
       "    "
      ],
      "text/plain": [
       "<IPython.core.display.Javascript object>"
      ]
     },
     "metadata": {},
     "output_type": "display_data"
    },
    {
     "data": {
      "application/javascript": [
       "\n",
       "        if (window._pyforest_update_imports_cell) { window._pyforest_update_imports_cell('import pandas as pd\\nimport seaborn as sns\\nfrom sklearn.linear_model import LinearRegression\\nimport matplotlib.pyplot as plt\\nimport numpy as np'); }\n",
       "    "
      ],
      "text/plain": [
       "<IPython.core.display.Javascript object>"
      ]
     },
     "metadata": {},
     "output_type": "display_data"
    },
    {
     "data": {
      "application/javascript": [
       "\n",
       "        if (window._pyforest_update_imports_cell) { window._pyforest_update_imports_cell('import pandas as pd\\nimport seaborn as sns\\nfrom sklearn.linear_model import LinearRegression\\nimport matplotlib.pyplot as plt\\nimport numpy as np'); }\n",
       "    "
      ],
      "text/plain": [
       "<IPython.core.display.Javascript object>"
      ]
     },
     "metadata": {},
     "output_type": "display_data"
    },
    {
     "data": {
      "image/png": "[encoded data removed]",
      "text/plain": [
       "<Figure size 900x600 with 1 Axes>"
      ]
     },
     "metadata": {},
     "output_type": "display_data"
    }
   ],
   "source": [
    "plt.figure(dpi=150)\n",
    "sns.lineplot(data = df2,marker='o')\n",
    "plt.xticks([2016, 2017, 2018])\n",
    "plt.ylabel('总交易额')\n",
    "plt.title('近三年各类目市场销售趋势分析')\n",
    "plt.show()"
   ]
  },
  {
   "cell_type": "markdown",
   "id": "99f24765",
   "metadata": {},
   "source": [
    "-  结论：\n",
    " - 直观的看灭鼠杀虫剂和蚊香液都有较大的机会"
   ]
  },
  {
   "cell_type": "markdown",
   "id": "1510be44",
   "metadata": {},
   "source": [
    "## 查看各类目市场三年内销售额总和的占比"
   ]
  },
  {
   "cell_type": "code",
   "execution_count": 55,
   "id": "643887b2",
   "metadata": {},
   "outputs": [
    {
     "data": {
      "text/html": [
       "<div>\n",
       "<style scoped>\n",
       "    .dataframe tbody tr th:only-of-type {\n",
       "        vertical-align: middle;\n",
       "    }\n",
       "\n",
       "    .dataframe tbody tr th {\n",
       "        vertical-align: top;\n",
       "    }\n",
       "\n",
       "    .dataframe thead th {\n",
       "        text-align: right;\n",
       "    }\n",
       "</style>\n",
       "<table border=\"1\" class=\"dataframe\">\n",
       "  <thead>\n",
       "    <tr style=\"text-align: right;\">\n",
       "      <th></th>\n",
       "      <th>灭鼠杀虫剂</th>\n",
       "      <th>电蚊香套装</th>\n",
       "      <th>盘香灭蟑香蚊香盘</th>\n",
       "      <th>蚊香加热器</th>\n",
       "      <th>蚊香液</th>\n",
       "      <th>蚊香片</th>\n",
       "      <th>防霉防蛀片</th>\n",
       "    </tr>\n",
       "    <tr>\n",
       "      <th>年份</th>\n",
       "      <th></th>\n",
       "      <th></th>\n",
       "      <th></th>\n",
       "      <th></th>\n",
       "      <th></th>\n",
       "      <th></th>\n",
       "      <th></th>\n",
       "    </tr>\n",
       "  </thead>\n",
       "  <tbody>\n",
       "    <tr>\n",
       "      <th>2016</th>\n",
       "      <td>6.080471e+08</td>\n",
       "      <td>7666572.12</td>\n",
       "      <td>4.785285e+07</td>\n",
       "      <td>5.905205e+06</td>\n",
       "      <td>1.704905e+08</td>\n",
       "      <td>27980839.47</td>\n",
       "      <td>50023001.94</td>\n",
       "    </tr>\n",
       "    <tr>\n",
       "      <th>2017</th>\n",
       "      <td>8.477740e+08</td>\n",
       "      <td>9377531.68</td>\n",
       "      <td>8.635539e+07</td>\n",
       "      <td>1.055284e+07</td>\n",
       "      <td>3.300656e+08</td>\n",
       "      <td>49068587.96</td>\n",
       "      <td>62678822.18</td>\n",
       "    </tr>\n",
       "    <tr>\n",
       "      <th>2018</th>\n",
       "      <td>1.137893e+09</td>\n",
       "      <td>4537682.09</td>\n",
       "      <td>1.180885e+08</td>\n",
       "      <td>1.683672e+07</td>\n",
       "      <td>3.582077e+08</td>\n",
       "      <td>51845921.56</td>\n",
       "      <td>72701365.23</td>\n",
       "    </tr>\n",
       "  </tbody>\n",
       "</table>\n",
       "</div>"
      ],
      "text/plain": [
       "             灭鼠杀虫剂       电蚊香套装      盘香灭蟑香蚊香盘         蚊香加热器           蚊香液  \\\n",
       "年份                                                                         \n",
       "2016  6.080471e+08  7666572.12  4.785285e+07  5.905205e+06  1.704905e+08   \n",
       "2017  8.477740e+08  9377531.68  8.635539e+07  1.055284e+07  3.300656e+08   \n",
       "2018  1.137893e+09  4537682.09  1.180885e+08  1.683672e+07  3.582077e+08   \n",
       "\n",
       "              蚊香片        防霉防蛀片  \n",
       "年份                              \n",
       "2016  27980839.47  50023001.94  \n",
       "2017  49068587.96  62678822.18  \n",
       "2018  51845921.56  72701365.23  "
      ]
     },
     "execution_count": 55,
     "metadata": {},
     "output_type": "execute_result"
    }
   ],
   "source": [
    "df2"
   ]
  },
  {
   "cell_type": "markdown",
   "id": "a7259f1b",
   "metadata": {},
   "source": [
    " - 每年的总交易额"
   ]
  },
  {
   "cell_type": "code",
   "execution_count": 56,
   "id": "a4576590",
   "metadata": {},
   "outputs": [
    {
     "data": {
      "text/plain": [
       "年份\n",
       "2016    9.179661e+08\n",
       "2017    1.395873e+09\n",
       "2018    1.760111e+09\n",
       "dtype: float64"
      ]
     },
     "execution_count": 56,
     "metadata": {},
     "output_type": "execute_result"
    }
   ],
   "source": [
    "df3 = df2.sum(axis=1)\n",
    "df3"
   ]
  },
  {
   "cell_type": "markdown",
   "id": "2180b9b9",
   "metadata": {},
   "source": [
    " - 各类销售额占比"
   ]
  },
  {
   "cell_type": "code",
   "execution_count": 57,
   "id": "9e0ba51d",
   "metadata": {},
   "outputs": [
    {
     "data": {
      "text/html": [
       "<div>\n",
       "<style scoped>\n",
       "    .dataframe tbody tr th:only-of-type {\n",
       "        vertical-align: middle;\n",
       "    }\n",
       "\n",
       "    .dataframe tbody tr th {\n",
       "        vertical-align: top;\n",
       "    }\n",
       "\n",
       "    .dataframe thead th {\n",
       "        text-align: right;\n",
       "    }\n",
       "</style>\n",
       "<table border=\"1\" class=\"dataframe\">\n",
       "  <thead>\n",
       "    <tr style=\"text-align: right;\">\n",
       "      <th></th>\n",
       "      <th>灭鼠杀虫剂</th>\n",
       "      <th>电蚊香套装</th>\n",
       "      <th>盘香灭蟑香蚊香盘</th>\n",
       "      <th>蚊香加热器</th>\n",
       "      <th>蚊香液</th>\n",
       "      <th>蚊香片</th>\n",
       "      <th>防霉防蛀片</th>\n",
       "    </tr>\n",
       "    <tr>\n",
       "      <th>年份</th>\n",
       "      <th></th>\n",
       "      <th></th>\n",
       "      <th></th>\n",
       "      <th></th>\n",
       "      <th></th>\n",
       "      <th></th>\n",
       "      <th></th>\n",
       "    </tr>\n",
       "  </thead>\n",
       "  <tbody>\n",
       "    <tr>\n",
       "      <th>2016</th>\n",
       "      <td>0.662385</td>\n",
       "      <td>0.008352</td>\n",
       "      <td>0.052129</td>\n",
       "      <td>0.006433</td>\n",
       "      <td>0.185726</td>\n",
       "      <td>0.030481</td>\n",
       "      <td>0.054493</td>\n",
       "    </tr>\n",
       "    <tr>\n",
       "      <th>2017</th>\n",
       "      <td>0.607343</td>\n",
       "      <td>0.006718</td>\n",
       "      <td>0.061865</td>\n",
       "      <td>0.007560</td>\n",
       "      <td>0.236458</td>\n",
       "      <td>0.035153</td>\n",
       "      <td>0.044903</td>\n",
       "    </tr>\n",
       "    <tr>\n",
       "      <th>2018</th>\n",
       "      <td>0.646489</td>\n",
       "      <td>0.002578</td>\n",
       "      <td>0.067092</td>\n",
       "      <td>0.009566</td>\n",
       "      <td>0.203514</td>\n",
       "      <td>0.029456</td>\n",
       "      <td>0.041305</td>\n",
       "    </tr>\n",
       "  </tbody>\n",
       "</table>\n",
       "</div>"
      ],
      "text/plain": [
       "         灭鼠杀虫剂     电蚊香套装  盘香灭蟑香蚊香盘     蚊香加热器       蚊香液       蚊香片     防霉防蛀片\n",
       "年份                                                                        \n",
       "2016  0.662385  0.008352  0.052129  0.006433  0.185726  0.030481  0.054493\n",
       "2017  0.607343  0.006718  0.061865  0.007560  0.236458  0.035153  0.044903\n",
       "2018  0.646489  0.002578  0.067092  0.009566  0.203514  0.029456  0.041305"
      ]
     },
     "execution_count": 57,
     "metadata": {},
     "output_type": "execute_result"
    }
   ],
   "source": [
    "year_df2 = df2.divide(df3, axis='index')\n",
    "year_df2"
   ]
  },
  {
   "cell_type": "markdown",
   "id": "16db2743",
   "metadata": {},
   "source": [
    " - 画图"
   ]
  },
  {
   "cell_type": "code",
   "execution_count": 62,
   "id": "b5ddaeab",
   "metadata": {},
   "outputs": [
    {
     "data": {
      "application/javascript": [
       "\n",
       "        if (window._pyforest_update_imports_cell) { window._pyforest_update_imports_cell('import pandas as pd\\nimport seaborn as sns\\nfrom sklearn.linear_model import LinearRegression\\nimport matplotlib.pyplot as plt\\nimport numpy as np'); }\n",
       "    "
      ],
      "text/plain": [
       "<IPython.core.display.Javascript object>"
      ]
     },
     "metadata": {},
     "output_type": "display_data"
    },
    {
     "data": {
      "application/javascript": [
       "\n",
       "        if (window._pyforest_update_imports_cell) { window._pyforest_update_imports_cell('import pandas as pd\\nimport seaborn as sns\\nfrom sklearn.linear_model import LinearRegression\\nimport matplotlib.pyplot as plt\\nimport numpy as np'); }\n",
       "    "
      ],
      "text/plain": [
       "<IPython.core.display.Javascript object>"
      ]
     },
     "metadata": {},
     "output_type": "display_data"
    },
    {
     "data": {
      "application/javascript": [
       "\n",
       "        if (window._pyforest_update_imports_cell) { window._pyforest_update_imports_cell('import pandas as pd\\nimport seaborn as sns\\nfrom sklearn.linear_model import LinearRegression\\nimport matplotlib.pyplot as plt\\nimport numpy as np'); }\n",
       "    "
      ],
      "text/plain": [
       "<IPython.core.display.Javascript object>"
      ]
     },
     "metadata": {},
     "output_type": "display_data"
    },
    {
     "data": {
      "application/javascript": [
       "\n",
       "        if (window._pyforest_update_imports_cell) { window._pyforest_update_imports_cell('import pandas as pd\\nimport seaborn as sns\\nfrom sklearn.linear_model import LinearRegression\\nimport matplotlib.pyplot as plt\\nimport numpy as np'); }\n",
       "    "
      ],
      "text/plain": [
       "<IPython.core.display.Javascript object>"
      ]
     },
     "metadata": {},
     "output_type": "display_data"
    },
    {
     "data": {
      "application/javascript": [
       "\n",
       "        if (window._pyforest_update_imports_cell) { window._pyforest_update_imports_cell('import pandas as pd\\nimport seaborn as sns\\nfrom sklearn.linear_model import LinearRegression\\nimport matplotlib.pyplot as plt\\nimport numpy as np'); }\n",
       "    "
      ],
      "text/plain": [
       "<IPython.core.display.Javascript object>"
      ]
     },
     "metadata": {},
     "output_type": "display_data"
    },
    {
     "data": {
      "application/javascript": [
       "\n",
       "        if (window._pyforest_update_imports_cell) { window._pyforest_update_imports_cell('import pandas as pd\\nimport seaborn as sns\\nfrom sklearn.linear_model import LinearRegression\\nimport matplotlib.pyplot as plt\\nimport numpy as np'); }\n",
       "    "
      ],
      "text/plain": [
       "<IPython.core.display.Javascript object>"
      ]
     },
     "metadata": {},
     "output_type": "display_data"
    },
    {
     "data": {
      "image/png": "[encoded data removed]",
      "text/plain": [
       "<Figure size 864x432 with 1 Axes>"
      ]
     },
     "metadata": {},
     "output_type": "display_data"
    }
   ],
   "source": [
    "year_df2.plot(kind='bar', stacked=True, figsize=(12, 6) )\n",
    "plt.title('近三年各类目销售额占比')\n",
    "plt.ylabel('总交易额占比')\n",
    "plt.text(0-0.1, 0.4, '66.24%')\n",
    "plt.text(1-0.1, 0.36, '60.73%')\n",
    "plt.text(2-0.1, 0.4, '64.65%')\n",
    "\n",
    "plt.show()\n"
   ]
  },
  {
   "cell_type": "markdown",
   "id": "d86f580c",
   "metadata": {},
   "source": [
    " - 很明显红色灭鼠杀虫剂和橙色蚊香液占比很大，可进一步扩展, 就需要与甲方业务人员进一步沟通"
   ]
  },
  {
   "cell_type": "markdown",
   "id": "86ad7a5b",
   "metadata": {},
   "source": [
    "## 进一步分析各类目市场16-17年17-18年增幅\n",
    " - 16-17年增幅 = (2017年销售额 - 2016年销售额) / 2016年销售额\n",
    " - 17-18年增幅 = (2018年销售额 - 2017年销售额) / 2017年销售额"
   ]
  },
  {
   "cell_type": "code",
   "execution_count": 63,
   "id": "dc932516",
   "metadata": {},
   "outputs": [
    {
     "data": {
      "text/html": [
       "<div>\n",
       "<style scoped>\n",
       "    .dataframe tbody tr th:only-of-type {\n",
       "        vertical-align: middle;\n",
       "    }\n",
       "\n",
       "    .dataframe tbody tr th {\n",
       "        vertical-align: top;\n",
       "    }\n",
       "\n",
       "    .dataframe thead th {\n",
       "        text-align: right;\n",
       "    }\n",
       "</style>\n",
       "<table border=\"1\" class=\"dataframe\">\n",
       "  <thead>\n",
       "    <tr style=\"text-align: right;\">\n",
       "      <th></th>\n",
       "      <th>灭鼠杀虫剂</th>\n",
       "      <th>电蚊香套装</th>\n",
       "      <th>盘香灭蟑香蚊香盘</th>\n",
       "      <th>蚊香加热器</th>\n",
       "      <th>蚊香液</th>\n",
       "      <th>蚊香片</th>\n",
       "      <th>防霉防蛀片</th>\n",
       "    </tr>\n",
       "    <tr>\n",
       "      <th>年份</th>\n",
       "      <th></th>\n",
       "      <th></th>\n",
       "      <th></th>\n",
       "      <th></th>\n",
       "      <th></th>\n",
       "      <th></th>\n",
       "      <th></th>\n",
       "    </tr>\n",
       "  </thead>\n",
       "  <tbody>\n",
       "    <tr>\n",
       "      <th>2016</th>\n",
       "      <td>6.080471e+08</td>\n",
       "      <td>7666572.12</td>\n",
       "      <td>4.785285e+07</td>\n",
       "      <td>5.905205e+06</td>\n",
       "      <td>1.704905e+08</td>\n",
       "      <td>27980839.47</td>\n",
       "      <td>50023001.94</td>\n",
       "    </tr>\n",
       "    <tr>\n",
       "      <th>2017</th>\n",
       "      <td>8.477740e+08</td>\n",
       "      <td>9377531.68</td>\n",
       "      <td>8.635539e+07</td>\n",
       "      <td>1.055284e+07</td>\n",
       "      <td>3.300656e+08</td>\n",
       "      <td>49068587.96</td>\n",
       "      <td>62678822.18</td>\n",
       "    </tr>\n",
       "    <tr>\n",
       "      <th>2018</th>\n",
       "      <td>1.137893e+09</td>\n",
       "      <td>4537682.09</td>\n",
       "      <td>1.180885e+08</td>\n",
       "      <td>1.683672e+07</td>\n",
       "      <td>3.582077e+08</td>\n",
       "      <td>51845921.56</td>\n",
       "      <td>72701365.23</td>\n",
       "    </tr>\n",
       "  </tbody>\n",
       "</table>\n",
       "</div>"
      ],
      "text/plain": [
       "             灭鼠杀虫剂       电蚊香套装      盘香灭蟑香蚊香盘         蚊香加热器           蚊香液  \\\n",
       "年份                                                                         \n",
       "2016  6.080471e+08  7666572.12  4.785285e+07  5.905205e+06  1.704905e+08   \n",
       "2017  8.477740e+08  9377531.68  8.635539e+07  1.055284e+07  3.300656e+08   \n",
       "2018  1.137893e+09  4537682.09  1.180885e+08  1.683672e+07  3.582077e+08   \n",
       "\n",
       "              蚊香片        防霉防蛀片  \n",
       "年份                              \n",
       "2016  27980839.47  50023001.94  \n",
       "2017  49068587.96  62678822.18  \n",
       "2018  51845921.56  72701365.23  "
      ]
     },
     "execution_count": 63,
     "metadata": {},
     "output_type": "execute_result"
    }
   ],
   "source": [
    "df2"
   ]
  },
  {
   "cell_type": "code",
   "execution_count": 64,
   "id": "8d566d89",
   "metadata": {},
   "outputs": [],
   "source": [
    "growth_16_17 = ( df2.loc[2017] - df2.loc[2016] ) / df2.loc[2016]\n",
    "growth_17_18 = ( df2.loc[2018] - df2.loc[2017] ) / df2.loc[2017]"
   ]
  },
  {
   "cell_type": "code",
   "execution_count": 65,
   "id": "b7d19068",
   "metadata": {},
   "outputs": [
    {
     "data": {
      "text/plain": [
       "灭鼠杀虫剂       0.394257\n",
       "电蚊香套装       0.223171\n",
       "盘香灭蟑香蚊香盘    0.804603\n",
       "蚊香加热器       0.787041\n",
       "蚊香液         0.935976\n",
       "蚊香片         0.753650\n",
       "防霉防蛀片       0.253000\n",
       "dtype: float64"
      ]
     },
     "execution_count": 65,
     "metadata": {},
     "output_type": "execute_result"
    }
   ],
   "source": [
    "growth_16_17"
   ]
  },
  {
   "cell_type": "code",
   "execution_count": 67,
   "id": "0893d7a0",
   "metadata": {},
   "outputs": [
    {
     "data": {
      "text/plain": [
       "灭鼠杀虫剂       0.342213\n",
       "电蚊香套装      -0.516111\n",
       "盘香灭蟑香蚊香盘    0.367471\n",
       "蚊香加热器       0.595468\n",
       "蚊香液         0.085262\n",
       "蚊香片         0.056601\n",
       "防霉防蛀片       0.159903\n",
       "dtype: float64"
      ]
     },
     "execution_count": 67,
     "metadata": {},
     "output_type": "execute_result"
    }
   ],
   "source": [
    "growth_17_18"
   ]
  },
  {
   "cell_type": "code",
   "execution_count": 69,
   "id": "defdee83",
   "metadata": {},
   "outputs": [
    {
     "data": {
      "application/javascript": [
       "\n",
       "        if (window._pyforest_update_imports_cell) { window._pyforest_update_imports_cell('import pandas as pd\\nimport seaborn as sns\\nfrom sklearn.linear_model import LinearRegression\\nimport matplotlib.pyplot as plt\\nimport numpy as np'); }\n",
       "    "
      ],
      "text/plain": [
       "<IPython.core.display.Javascript object>"
      ]
     },
     "metadata": {},
     "output_type": "display_data"
    },
    {
     "data": {
      "text/html": [
       "<div>\n",
       "<style scoped>\n",
       "    .dataframe tbody tr th:only-of-type {\n",
       "        vertical-align: middle;\n",
       "    }\n",
       "\n",
       "    .dataframe tbody tr th {\n",
       "        vertical-align: top;\n",
       "    }\n",
       "\n",
       "    .dataframe thead th {\n",
       "        text-align: right;\n",
       "    }\n",
       "</style>\n",
       "<table border=\"1\" class=\"dataframe\">\n",
       "  <thead>\n",
       "    <tr style=\"text-align: right;\">\n",
       "      <th></th>\n",
       "      <th>灭鼠杀虫剂</th>\n",
       "      <th>电蚊香套装</th>\n",
       "      <th>盘香灭蟑香蚊香盘</th>\n",
       "      <th>蚊香加热器</th>\n",
       "      <th>蚊香液</th>\n",
       "      <th>蚊香片</th>\n",
       "      <th>防霉防蛀片</th>\n",
       "    </tr>\n",
       "  </thead>\n",
       "  <tbody>\n",
       "    <tr>\n",
       "      <th>16-17</th>\n",
       "      <td>0.394257</td>\n",
       "      <td>0.223171</td>\n",
       "      <td>0.804603</td>\n",
       "      <td>0.787041</td>\n",
       "      <td>0.935976</td>\n",
       "      <td>0.753650</td>\n",
       "      <td>0.253000</td>\n",
       "    </tr>\n",
       "    <tr>\n",
       "      <th>17-18</th>\n",
       "      <td>0.342213</td>\n",
       "      <td>-0.516111</td>\n",
       "      <td>0.367471</td>\n",
       "      <td>0.595468</td>\n",
       "      <td>0.085262</td>\n",
       "      <td>0.056601</td>\n",
       "      <td>0.159903</td>\n",
       "    </tr>\n",
       "  </tbody>\n",
       "</table>\n",
       "</div>"
      ],
      "text/plain": [
       "          灭鼠杀虫剂     电蚊香套装  盘香灭蟑香蚊香盘     蚊香加热器       蚊香液       蚊香片     防霉防蛀片\n",
       "16-17  0.394257  0.223171  0.804603  0.787041  0.935976  0.753650  0.253000\n",
       "17-18  0.342213 -0.516111  0.367471  0.595468  0.085262  0.056601  0.159903"
      ]
     },
     "execution_count": 69,
     "metadata": {},
     "output_type": "execute_result"
    }
   ],
   "source": [
    "df4 = pd.concat((growth_16_17, growth_17_18), axis=1)\n",
    "df4.columns = ['16-17', '17-18']\n",
    "df4.T"
   ]
  },
  {
   "cell_type": "code",
   "execution_count": 73,
   "id": "ac185394",
   "metadata": {},
   "outputs": [
    {
     "data": {
      "application/javascript": [
       "\n",
       "        if (window._pyforest_update_imports_cell) { window._pyforest_update_imports_cell('import pandas as pd\\nimport seaborn as sns\\nfrom sklearn.linear_model import LinearRegression\\nimport matplotlib.pyplot as plt\\nimport numpy as np'); }\n",
       "    "
      ],
      "text/plain": [
       "<IPython.core.display.Javascript object>"
      ]
     },
     "metadata": {},
     "output_type": "display_data"
    },
    {
     "data": {
      "application/javascript": [
       "\n",
       "        if (window._pyforest_update_imports_cell) { window._pyforest_update_imports_cell('import pandas as pd\\nimport seaborn as sns\\nfrom sklearn.linear_model import LinearRegression\\nimport matplotlib.pyplot as plt\\nimport numpy as np'); }\n",
       "    "
      ],
      "text/plain": [
       "<IPython.core.display.Javascript object>"
      ]
     },
     "metadata": {},
     "output_type": "display_data"
    },
    {
     "data": {
      "application/javascript": [
       "\n",
       "        if (window._pyforest_update_imports_cell) { window._pyforest_update_imports_cell('import pandas as pd\\nimport seaborn as sns\\nfrom sklearn.linear_model import LinearRegression\\nimport matplotlib.pyplot as plt\\nimport numpy as np'); }\n",
       "    "
      ],
      "text/plain": [
       "<IPython.core.display.Javascript object>"
      ]
     },
     "metadata": {},
     "output_type": "display_data"
    },
    {
     "data": {
      "application/javascript": [
       "\n",
       "        if (window._pyforest_update_imports_cell) { window._pyforest_update_imports_cell('import pandas as pd\\nimport seaborn as sns\\nfrom sklearn.linear_model import LinearRegression\\nimport matplotlib.pyplot as plt\\nimport numpy as np'); }\n",
       "    "
      ],
      "text/plain": [
       "<IPython.core.display.Javascript object>"
      ]
     },
     "metadata": {},
     "output_type": "display_data"
    },
    {
     "data": {
      "application/javascript": [
       "\n",
       "        if (window._pyforest_update_imports_cell) { window._pyforest_update_imports_cell('import pandas as pd\\nimport seaborn as sns\\nfrom sklearn.linear_model import LinearRegression\\nimport matplotlib.pyplot as plt\\nimport numpy as np'); }\n",
       "    "
      ],
      "text/plain": [
       "<IPython.core.display.Javascript object>"
      ]
     },
     "metadata": {},
     "output_type": "display_data"
    },
    {
     "data": {
      "application/javascript": [
       "\n",
       "        if (window._pyforest_update_imports_cell) { window._pyforest_update_imports_cell('import pandas as pd\\nimport seaborn as sns\\nfrom sklearn.linear_model import LinearRegression\\nimport matplotlib.pyplot as plt\\nimport numpy as np'); }\n",
       "    "
      ],
      "text/plain": [
       "<IPython.core.display.Javascript object>"
      ]
     },
     "metadata": {},
     "output_type": "display_data"
    },
    {
     "data": {
      "image/png": "[encoded data removed]",
      "text/plain": [
       "<Figure size 900x600 with 1 Axes>"
      ]
     },
     "metadata": {},
     "output_type": "display_data"
    }
   ],
   "source": [
    "plt.figure(dpi=150)\n",
    "sns.lineplot(data = df4.T,marker='o')\n",
    "plt.title('近三年各类目市场销售年增幅')\n",
    "plt.xlabel('年份')\n",
    "plt.ylabel('总交易额年增幅')\n",
    "plt.show()"
   ]
  },
  {
   "cell_type": "markdown",
   "id": "0a6c23c4",
   "metadata": {},
   "source": [
    " - 可见只有灭鼠杀虫剂和防霉防蛀片增幅比较稳定\n",
    "  - 蚊香液，盘香灭蟑香蚊香盘，蚊香片 增幅16-17比较高的，17-18增幅下降明显"
   ]
  },
  {
   "cell_type": "code",
   "execution_count": null,
   "id": "a58075cb",
   "metadata": {},
   "outputs": [],
   "source": []
  }
 ],
 "metadata": {
  "kernelspec": {
   "display_name": "Python 3 (ipykernel)",
   "language": "python",
   "name": "python3"
  },
  "language_info": {
   "codemirror_mode": {
    "name": "ipython",
    "version": 3
   },
   "file_extension": ".py",
   "mimetype": "text/x-python",
   "name": "python",
   "nbconvert_exporter": "python",
   "pygments_lexer": "ipython3",
   "version": "3.9.12"
  },
  "toc": {
   "base_numbering": 1,
   "nav_menu": {},
   "number_sections": true,
   "sideBar": true,
   "skip_h1_title": false,
   "title_cell": "Table of Contents",
   "title_sidebar": "Contents",
   "toc_cell": false,
   "toc_position": {},
   "toc_section_display": true,
   "toc_window_display": false
  },
  "varInspector": {
   "cols": {
    "lenName": 16,
    "lenType": 16,
    "lenVar": 40
   },
   "kernels_config": {
    "python": {
     "delete_cmd_postfix": "",
     "delete_cmd_prefix": "del ",
     "library": "var_list.py",
     "varRefreshCmd": "print(var_dic_list())"
    },
    "r": {
     "delete_cmd_postfix": ") ",
     "delete_cmd_prefix": "rm(",
     "library": "var_list.r",
     "varRefreshCmd": "cat(var_dic_list()) "
    }
   },
   "types_to_exclude": [
    "module",
    "function",
    "builtin_function_or_method",
    "instance",
    "_Feature"
   ],
   "window_display": false
  }
 },
 "nbformat": 4,
 "nbformat_minor": 5
}

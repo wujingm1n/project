{
 "cells": [
  {
   "cell_type": "code",
   "execution_count": 1,
   "id": "451d4c98",
   "metadata": {},
   "outputs": [],
   "source": [
    "%run Tools.py\n",
    "jupyter_settings()"
   ]
  },
  {
   "cell_type": "markdown",
   "id": "0ab811e2",
   "metadata": {},
   "source": [
    "#  导入数据"
   ]
  },
  {
   "cell_type": "code",
   "execution_count": 2,
   "id": "10cdca5f",
   "metadata": {
    "scrolled": true
   },
   "outputs": [
    {
     "data": {
      "application/javascript": [
       "\n",
       "        if (window._pyforest_update_imports_cell) { window._pyforest_update_imports_cell('import pandas as pd'); }\n",
       "    "
      ],
      "text/plain": [
       "<IPython.core.display.Javascript object>"
      ]
     },
     "metadata": {},
     "output_type": "display_data"
    },
    {
     "data": {
      "text/html": [
       "<div>\n",
       "<style scoped>\n",
       "    .dataframe tbody tr th:only-of-type {\n",
       "        vertical-align: middle;\n",
       "    }\n",
       "\n",
       "    .dataframe tbody tr th {\n",
       "        vertical-align: top;\n",
       "    }\n",
       "\n",
       "    .dataframe thead th {\n",
       "        text-align: right;\n",
       "    }\n",
       "</style>\n",
       "<table border=\"1\" class=\"dataframe\">\n",
       "  <thead>\n",
       "    <tr style=\"text-align: right;\">\n",
       "      <th></th>\n",
       "      <th>SeriousDlqin2yrs</th>\n",
       "      <th>RevolvingUtilizationOfUnsecuredLines</th>\n",
       "      <th>age</th>\n",
       "      <th>NumberOfTime30-59DaysPastDueNotWorse</th>\n",
       "      <th>DebtRatio</th>\n",
       "      <th>MonthlyIncome</th>\n",
       "      <th>NumberOfOpenCreditLinesAndLoans</th>\n",
       "      <th>NumberOfTimes90DaysLate</th>\n",
       "      <th>NumberRealEstateLoansOrLines</th>\n",
       "      <th>NumberOfTime60-89DaysPastDueNotWorse</th>\n",
       "      <th>NumberOfDependents</th>\n",
       "    </tr>\n",
       "  </thead>\n",
       "  <tbody>\n",
       "    <tr>\n",
       "      <th>1</th>\n",
       "      <td>1</td>\n",
       "      <td>0.766127</td>\n",
       "      <td>45</td>\n",
       "      <td>2</td>\n",
       "      <td>0.802982</td>\n",
       "      <td>9120.0</td>\n",
       "      <td>13</td>\n",
       "      <td>0</td>\n",
       "      <td>6</td>\n",
       "      <td>0</td>\n",
       "      <td>2.0</td>\n",
       "    </tr>\n",
       "    <tr>\n",
       "      <th>2</th>\n",
       "      <td>0</td>\n",
       "      <td>0.957151</td>\n",
       "      <td>40</td>\n",
       "      <td>0</td>\n",
       "      <td>0.121876</td>\n",
       "      <td>2600.0</td>\n",
       "      <td>4</td>\n",
       "      <td>0</td>\n",
       "      <td>0</td>\n",
       "      <td>0</td>\n",
       "      <td>1.0</td>\n",
       "    </tr>\n",
       "    <tr>\n",
       "      <th>3</th>\n",
       "      <td>0</td>\n",
       "      <td>0.658180</td>\n",
       "      <td>38</td>\n",
       "      <td>1</td>\n",
       "      <td>0.085113</td>\n",
       "      <td>3042.0</td>\n",
       "      <td>2</td>\n",
       "      <td>1</td>\n",
       "      <td>0</td>\n",
       "      <td>0</td>\n",
       "      <td>0.0</td>\n",
       "    </tr>\n",
       "    <tr>\n",
       "      <th>4</th>\n",
       "      <td>0</td>\n",
       "      <td>0.233810</td>\n",
       "      <td>30</td>\n",
       "      <td>0</td>\n",
       "      <td>0.036050</td>\n",
       "      <td>3300.0</td>\n",
       "      <td>5</td>\n",
       "      <td>0</td>\n",
       "      <td>0</td>\n",
       "      <td>0</td>\n",
       "      <td>0.0</td>\n",
       "    </tr>\n",
       "    <tr>\n",
       "      <th>5</th>\n",
       "      <td>0</td>\n",
       "      <td>0.907239</td>\n",
       "      <td>49</td>\n",
       "      <td>1</td>\n",
       "      <td>0.024926</td>\n",
       "      <td>63588.0</td>\n",
       "      <td>7</td>\n",
       "      <td>0</td>\n",
       "      <td>1</td>\n",
       "      <td>0</td>\n",
       "      <td>0.0</td>\n",
       "    </tr>\n",
       "    <tr>\n",
       "      <th>...</th>\n",
       "      <td>...</td>\n",
       "      <td>...</td>\n",
       "      <td>...</td>\n",
       "      <td>...</td>\n",
       "      <td>...</td>\n",
       "      <td>...</td>\n",
       "      <td>...</td>\n",
       "      <td>...</td>\n",
       "      <td>...</td>\n",
       "      <td>...</td>\n",
       "      <td>...</td>\n",
       "    </tr>\n",
       "    <tr>\n",
       "      <th>149996</th>\n",
       "      <td>0</td>\n",
       "      <td>0.040674</td>\n",
       "      <td>74</td>\n",
       "      <td>0</td>\n",
       "      <td>0.225131</td>\n",
       "      <td>2100.0</td>\n",
       "      <td>4</td>\n",
       "      <td>0</td>\n",
       "      <td>1</td>\n",
       "      <td>0</td>\n",
       "      <td>0.0</td>\n",
       "    </tr>\n",
       "    <tr>\n",
       "      <th>149997</th>\n",
       "      <td>0</td>\n",
       "      <td>0.299745</td>\n",
       "      <td>44</td>\n",
       "      <td>0</td>\n",
       "      <td>0.716562</td>\n",
       "      <td>5584.0</td>\n",
       "      <td>4</td>\n",
       "      <td>0</td>\n",
       "      <td>1</td>\n",
       "      <td>0</td>\n",
       "      <td>2.0</td>\n",
       "    </tr>\n",
       "    <tr>\n",
       "      <th>149998</th>\n",
       "      <td>0</td>\n",
       "      <td>0.246044</td>\n",
       "      <td>58</td>\n",
       "      <td>0</td>\n",
       "      <td>3870.000000</td>\n",
       "      <td>NaN</td>\n",
       "      <td>18</td>\n",
       "      <td>0</td>\n",
       "      <td>1</td>\n",
       "      <td>0</td>\n",
       "      <td>0.0</td>\n",
       "    </tr>\n",
       "    <tr>\n",
       "      <th>149999</th>\n",
       "      <td>0</td>\n",
       "      <td>0.000000</td>\n",
       "      <td>30</td>\n",
       "      <td>0</td>\n",
       "      <td>0.000000</td>\n",
       "      <td>5716.0</td>\n",
       "      <td>4</td>\n",
       "      <td>0</td>\n",
       "      <td>0</td>\n",
       "      <td>0</td>\n",
       "      <td>0.0</td>\n",
       "    </tr>\n",
       "    <tr>\n",
       "      <th>150000</th>\n",
       "      <td>0</td>\n",
       "      <td>0.850283</td>\n",
       "      <td>64</td>\n",
       "      <td>0</td>\n",
       "      <td>0.249908</td>\n",
       "      <td>8158.0</td>\n",
       "      <td>8</td>\n",
       "      <td>0</td>\n",
       "      <td>2</td>\n",
       "      <td>0</td>\n",
       "      <td>0.0</td>\n",
       "    </tr>\n",
       "  </tbody>\n",
       "</table>\n",
       "<p>150000 rows × 11 columns</p>\n",
       "</div>"
      ],
      "text/plain": [
       "        SeriousDlqin2yrs  RevolvingUtilizationOfUnsecuredLines  age  \\\n",
       "1                      1                              0.766127   45   \n",
       "2                      0                              0.957151   40   \n",
       "3                      0                              0.658180   38   \n",
       "4                      0                              0.233810   30   \n",
       "5                      0                              0.907239   49   \n",
       "...                  ...                                   ...  ...   \n",
       "149996                 0                              0.040674   74   \n",
       "149997                 0                              0.299745   44   \n",
       "149998                 0                              0.246044   58   \n",
       "149999                 0                              0.000000   30   \n",
       "150000                 0                              0.850283   64   \n",
       "\n",
       "        NumberOfTime30-59DaysPastDueNotWorse    DebtRatio  MonthlyIncome  \\\n",
       "1                                          2     0.802982         9120.0   \n",
       "2                                          0     0.121876         2600.0   \n",
       "3                                          1     0.085113         3042.0   \n",
       "4                                          0     0.036050         3300.0   \n",
       "5                                          1     0.024926        63588.0   \n",
       "...                                      ...          ...            ...   \n",
       "149996                                     0     0.225131         2100.0   \n",
       "149997                                     0     0.716562         5584.0   \n",
       "149998                                     0  3870.000000            NaN   \n",
       "149999                                     0     0.000000         5716.0   \n",
       "150000                                     0     0.249908         8158.0   \n",
       "\n",
       "        NumberOfOpenCreditLinesAndLoans  NumberOfTimes90DaysLate  \\\n",
       "1                                    13                        0   \n",
       "2                                     4                        0   \n",
       "3                                     2                        1   \n",
       "4                                     5                        0   \n",
       "5                                     7                        0   \n",
       "...                                 ...                      ...   \n",
       "149996                                4                        0   \n",
       "149997                                4                        0   \n",
       "149998                               18                        0   \n",
       "149999                                4                        0   \n",
       "150000                                8                        0   \n",
       "\n",
       "        NumberRealEstateLoansOrLines  NumberOfTime60-89DaysPastDueNotWorse  \\\n",
       "1                                  6                                     0   \n",
       "2                                  0                                     0   \n",
       "3                                  0                                     0   \n",
       "4                                  0                                     0   \n",
       "5                                  1                                     0   \n",
       "...                              ...                                   ...   \n",
       "149996                             1                                     0   \n",
       "149997                             1                                     0   \n",
       "149998                             1                                     0   \n",
       "149999                             0                                     0   \n",
       "150000                             2                                     0   \n",
       "\n",
       "        NumberOfDependents  \n",
       "1                      2.0  \n",
       "2                      1.0  \n",
       "3                      0.0  \n",
       "4                      0.0  \n",
       "5                      0.0  \n",
       "...                    ...  \n",
       "149996                 0.0  \n",
       "149997                 2.0  \n",
       "149998                 0.0  \n",
       "149999                 0.0  \n",
       "150000                 0.0  \n",
       "\n",
       "[150000 rows x 11 columns]"
      ]
     },
     "execution_count": 2,
     "metadata": {},
     "output_type": "execute_result"
    }
   ],
   "source": [
    "cs_training = pd.read_csv('data/cs-training.csv', index_col=0)\n",
    "cs_training"
   ]
  },
  {
   "cell_type": "markdown",
   "id": "1d786773",
   "metadata": {},
   "source": [
    "-     变量名称                          描述\n",
    "- SeriousDlqin2yr                  __出现 90 天或更长时间的逾期行为（即定义好坏客户）\n",
    "- RevolvingUtilizationOfUnsecuredLines    __贷款以及信用卡可用额度与总额度比例\n",
    "- age                          __借款人借款年龄\n",
    "- NumberOfTime30-59DaysPastDueNotWors    __过去两年内出现30-60天逾期但是没有发展的更坏的次数\n",
    "- DebtRatio                     __每月偿还债务，赡养费，生活费用除以月总收入\n",
    "- MonthlyIncome                     __月收入\n",
    "- NumberOfOpenCreditLinesAndLoans       __开放式贷款和信贷数量\n",
    "- NumberOfTimes90DaysLate             __借款者有90天或更高逾期的次数\n",
    "- NumberRealEstateLoansOrLines          __抵押贷款和房地产贷款数量，包括房屋净值信贷额度\n",
    "- NumberOfTime60-89DaysPastDueNotWorse     ____过去两年内出现60-90天逾期但是没有发展的更坏的次数\n",
    "- NumberOfDependents                 __家庭中不包括自身的家属人数（配偶，子女等）\n"
   ]
  },
  {
   "cell_type": "code",
   "execution_count": 3,
   "id": "de02ba04",
   "metadata": {},
   "outputs": [
    {
     "data": {
      "text/plain": [
       "0    139974\n",
       "1     10026\n",
       "Name: SeriousDlqin2yrs, dtype: int64"
      ]
     },
     "execution_count": 3,
     "metadata": {},
     "output_type": "execute_result"
    }
   ],
   "source": [
    "cs_training.SeriousDlqin2yrs.value_counts()"
   ]
  },
  {
   "cell_type": "markdown",
   "id": "007bd381",
   "metadata": {},
   "source": [
    "- 0为信用好客户\n",
    "- 1为信用坏客户"
   ]
  },
  {
   "cell_type": "markdown",
   "id": "cc04e1ff",
   "metadata": {},
   "source": [
    "# 数据预处理"
   ]
  },
  {
   "cell_type": "markdown",
   "id": "c40def00",
   "metadata": {},
   "source": [
    "- 去重"
   ]
  },
  {
   "cell_type": "code",
   "execution_count": 4,
   "id": "eda23032",
   "metadata": {},
   "outputs": [
    {
     "data": {
      "text/plain": [
       "609"
      ]
     },
     "execution_count": 4,
     "metadata": {},
     "output_type": "execute_result"
    }
   ],
   "source": [
    "cs_training.duplicated().sum()"
   ]
  },
  {
   "cell_type": "code",
   "execution_count": 5,
   "id": "e59ed29e",
   "metadata": {},
   "outputs": [
    {
     "data": {
      "text/plain": [
       "0"
      ]
     },
     "execution_count": 5,
     "metadata": {},
     "output_type": "execute_result"
    }
   ],
   "source": [
    "cs_training.drop_duplicates(inplace=True)\n",
    "cs_training.duplicated().sum()"
   ]
  },
  {
   "cell_type": "markdown",
   "id": "0c18ddcf",
   "metadata": {},
   "source": [
    "- 处理缺失值"
   ]
  },
  {
   "cell_type": "code",
   "execution_count": 6,
   "id": "d6526a77",
   "metadata": {},
   "outputs": [
    {
     "name": "stdout",
     "output_type": "stream",
     "text": [
      "<class 'pandas.core.frame.DataFrame'>\n",
      "Int64Index: 149391 entries, 1 to 150000\n",
      "Data columns (total 11 columns):\n",
      " #   Column                                Non-Null Count   Dtype  \n",
      "---  ------                                --------------   -----  \n",
      " 0   SeriousDlqin2yrs                      149391 non-null  int64  \n",
      " 1   RevolvingUtilizationOfUnsecuredLines  149391 non-null  float64\n",
      " 2   age                                   149391 non-null  int64  \n",
      " 3   NumberOfTime30-59DaysPastDueNotWorse  149391 non-null  int64  \n",
      " 4   DebtRatio                             149391 non-null  float64\n",
      " 5   MonthlyIncome                         120170 non-null  float64\n",
      " 6   NumberOfOpenCreditLinesAndLoans       149391 non-null  int64  \n",
      " 7   NumberOfTimes90DaysLate               149391 non-null  int64  \n",
      " 8   NumberRealEstateLoansOrLines          149391 non-null  int64  \n",
      " 9   NumberOfTime60-89DaysPastDueNotWorse  149391 non-null  int64  \n",
      " 10  NumberOfDependents                    145563 non-null  float64\n",
      "dtypes: float64(4), int64(7)\n",
      "memory usage: 13.7 MB\n"
     ]
    }
   ],
   "source": [
    "cs_training.info()"
   ]
  },
  {
   "cell_type": "code",
   "execution_count": 7,
   "id": "edb581ef",
   "metadata": {},
   "outputs": [],
   "source": [
    "import missingno "
   ]
  },
  {
   "cell_type": "code",
   "execution_count": 8,
   "id": "80c2ca88",
   "metadata": {},
   "outputs": [
    {
     "data": {
      "text/plain": [
       "<AxesSubplot:>"
      ]
     },
     "execution_count": 8,
     "metadata": {},
     "output_type": "execute_result"
    },
    {
     "data": {
      "image/png": "[encoded data removed]",
      "text/plain": [
       "<Figure size 1800x720 with 2 Axes>"
      ]
     },
     "metadata": {},
     "output_type": "display_data"
    }
   ],
   "source": [
    "missingno.matrix(cs_training)"
   ]
  },
  {
   "cell_type": "markdown",
   "id": "c4f385ec",
   "metadata": {},
   "source": [
    "- MonthlyIncome 中存在大量的缺失值\n",
    "- NumberOfDependents 中存在少量缺失值\n",
    "- 其余数据中没有缺失值"
   ]
  },
  {
   "cell_type": "code",
   "execution_count": 9,
   "id": "6f65788b",
   "metadata": {
    "scrolled": true
   },
   "outputs": [
    {
     "data": {
      "text/html": [
       "<div>\n",
       "<style scoped>\n",
       "    .dataframe tbody tr th:only-of-type {\n",
       "        vertical-align: middle;\n",
       "    }\n",
       "\n",
       "    .dataframe tbody tr th {\n",
       "        vertical-align: top;\n",
       "    }\n",
       "\n",
       "    .dataframe thead th {\n",
       "        text-align: right;\n",
       "    }\n",
       "</style>\n",
       "<table border=\"1\" class=\"dataframe\">\n",
       "  <thead>\n",
       "    <tr style=\"text-align: right;\">\n",
       "      <th></th>\n",
       "      <th>SeriousDlqin2yrs</th>\n",
       "      <th>RevolvingUtilizationOfUnsecuredLines</th>\n",
       "      <th>age</th>\n",
       "      <th>NumberOfTime30-59DaysPastDueNotWorse</th>\n",
       "      <th>DebtRatio</th>\n",
       "      <th>MonthlyIncome</th>\n",
       "      <th>NumberOfOpenCreditLinesAndLoans</th>\n",
       "      <th>NumberOfTimes90DaysLate</th>\n",
       "      <th>NumberRealEstateLoansOrLines</th>\n",
       "      <th>NumberOfTime60-89DaysPastDueNotWorse</th>\n",
       "      <th>NumberOfDependents</th>\n",
       "    </tr>\n",
       "  </thead>\n",
       "  <tbody>\n",
       "    <tr>\n",
       "      <th>count</th>\n",
       "      <td>149391.000000</td>\n",
       "      <td>149391.000000</td>\n",
       "      <td>149391.000000</td>\n",
       "      <td>149391.000000</td>\n",
       "      <td>149391.000000</td>\n",
       "      <td>1.201700e+05</td>\n",
       "      <td>149391.000000</td>\n",
       "      <td>149391.000000</td>\n",
       "      <td>149391.000000</td>\n",
       "      <td>149391.000000</td>\n",
       "      <td>145563.000000</td>\n",
       "    </tr>\n",
       "    <tr>\n",
       "      <th>mean</th>\n",
       "      <td>0.066999</td>\n",
       "      <td>6.071087</td>\n",
       "      <td>52.306237</td>\n",
       "      <td>0.393886</td>\n",
       "      <td>354.436740</td>\n",
       "      <td>6.675098e+03</td>\n",
       "      <td>8.480892</td>\n",
       "      <td>0.238120</td>\n",
       "      <td>1.022391</td>\n",
       "      <td>0.212503</td>\n",
       "      <td>0.759863</td>\n",
       "    </tr>\n",
       "    <tr>\n",
       "      <th>std</th>\n",
       "      <td>0.250021</td>\n",
       "      <td>250.263672</td>\n",
       "      <td>14.725962</td>\n",
       "      <td>3.852953</td>\n",
       "      <td>2041.843455</td>\n",
       "      <td>1.438958e+04</td>\n",
       "      <td>5.136515</td>\n",
       "      <td>3.826165</td>\n",
       "      <td>1.130196</td>\n",
       "      <td>3.810523</td>\n",
       "      <td>1.116141</td>\n",
       "    </tr>\n",
       "    <tr>\n",
       "      <th>min</th>\n",
       "      <td>0.000000</td>\n",
       "      <td>0.000000</td>\n",
       "      <td>0.000000</td>\n",
       "      <td>0.000000</td>\n",
       "      <td>0.000000</td>\n",
       "      <td>0.000000e+00</td>\n",
       "      <td>0.000000</td>\n",
       "      <td>0.000000</td>\n",
       "      <td>0.000000</td>\n",
       "      <td>0.000000</td>\n",
       "      <td>0.000000</td>\n",
       "    </tr>\n",
       "    <tr>\n",
       "      <th>50%</th>\n",
       "      <td>0.000000</td>\n",
       "      <td>0.154235</td>\n",
       "      <td>52.000000</td>\n",
       "      <td>0.000000</td>\n",
       "      <td>0.368234</td>\n",
       "      <td>5.400000e+03</td>\n",
       "      <td>8.000000</td>\n",
       "      <td>0.000000</td>\n",
       "      <td>1.000000</td>\n",
       "      <td>0.000000</td>\n",
       "      <td>0.000000</td>\n",
       "    </tr>\n",
       "    <tr>\n",
       "      <th>90%</th>\n",
       "      <td>0.000000</td>\n",
       "      <td>0.978007</td>\n",
       "      <td>72.000000</td>\n",
       "      <td>1.000000</td>\n",
       "      <td>1275.000000</td>\n",
       "      <td>1.166600e+04</td>\n",
       "      <td>15.000000</td>\n",
       "      <td>0.000000</td>\n",
       "      <td>2.000000</td>\n",
       "      <td>0.000000</td>\n",
       "      <td>2.000000</td>\n",
       "    </tr>\n",
       "    <tr>\n",
       "      <th>99%</th>\n",
       "      <td>1.000000</td>\n",
       "      <td>1.093922</td>\n",
       "      <td>87.000000</td>\n",
       "      <td>4.000000</td>\n",
       "      <td>4985.100000</td>\n",
       "      <td>2.500000e+04</td>\n",
       "      <td>24.000000</td>\n",
       "      <td>3.000000</td>\n",
       "      <td>4.000000</td>\n",
       "      <td>2.000000</td>\n",
       "      <td>4.000000</td>\n",
       "    </tr>\n",
       "    <tr>\n",
       "      <th>max</th>\n",
       "      <td>1.000000</td>\n",
       "      <td>50708.000000</td>\n",
       "      <td>109.000000</td>\n",
       "      <td>98.000000</td>\n",
       "      <td>329664.000000</td>\n",
       "      <td>3.008750e+06</td>\n",
       "      <td>58.000000</td>\n",
       "      <td>98.000000</td>\n",
       "      <td>54.000000</td>\n",
       "      <td>98.000000</td>\n",
       "      <td>20.000000</td>\n",
       "    </tr>\n",
       "  </tbody>\n",
       "</table>\n",
       "</div>"
      ],
      "text/plain": [
       "       SeriousDlqin2yrs  RevolvingUtilizationOfUnsecuredLines            age  \\\n",
       "count     149391.000000                         149391.000000  149391.000000   \n",
       "mean           0.066999                              6.071087      52.306237   \n",
       "std            0.250021                            250.263672      14.725962   \n",
       "min            0.000000                              0.000000       0.000000   \n",
       "50%            0.000000                              0.154235      52.000000   \n",
       "90%            0.000000                              0.978007      72.000000   \n",
       "99%            1.000000                              1.093922      87.000000   \n",
       "max            1.000000                          50708.000000     109.000000   \n",
       "\n",
       "       NumberOfTime30-59DaysPastDueNotWorse      DebtRatio  MonthlyIncome  \\\n",
       "count                         149391.000000  149391.000000   1.201700e+05   \n",
       "mean                               0.393886     354.436740   6.675098e+03   \n",
       "std                                3.852953    2041.843455   1.438958e+04   \n",
       "min                                0.000000       0.000000   0.000000e+00   \n",
       "50%                                0.000000       0.368234   5.400000e+03   \n",
       "90%                                1.000000    1275.000000   1.166600e+04   \n",
       "99%                                4.000000    4985.100000   2.500000e+04   \n",
       "max                               98.000000  329664.000000   3.008750e+06   \n",
       "\n",
       "       NumberOfOpenCreditLinesAndLoans  NumberOfTimes90DaysLate  \\\n",
       "count                    149391.000000            149391.000000   \n",
       "mean                          8.480892                 0.238120   \n",
       "std                           5.136515                 3.826165   \n",
       "min                           0.000000                 0.000000   \n",
       "50%                           8.000000                 0.000000   \n",
       "90%                          15.000000                 0.000000   \n",
       "99%                          24.000000                 3.000000   \n",
       "max                          58.000000                98.000000   \n",
       "\n",
       "       NumberRealEstateLoansOrLines  NumberOfTime60-89DaysPastDueNotWorse  \\\n",
       "count                 149391.000000                         149391.000000   \n",
       "mean                       1.022391                              0.212503   \n",
       "std                        1.130196                              3.810523   \n",
       "min                        0.000000                              0.000000   \n",
       "50%                        1.000000                              0.000000   \n",
       "90%                        2.000000                              0.000000   \n",
       "99%                        4.000000                              2.000000   \n",
       "max                       54.000000                             98.000000   \n",
       "\n",
       "       NumberOfDependents  \n",
       "count       145563.000000  \n",
       "mean             0.759863  \n",
       "std              1.116141  \n",
       "min              0.000000  \n",
       "50%              0.000000  \n",
       "90%              2.000000  \n",
       "99%              4.000000  \n",
       "max             20.000000  "
      ]
     },
     "execution_count": 9,
     "metadata": {},
     "output_type": "execute_result"
    }
   ],
   "source": [
    "cs_training.describe([.9,.99])"
   ]
  },
  {
   "cell_type": "code",
   "execution_count": 10,
   "id": "c31a0b44",
   "metadata": {},
   "outputs": [],
   "source": [
    "cs_training.MonthlyIncome.fillna(\n",
    "    cs_training.MonthlyIncome.median(), inplace=True)"
   ]
  },
  {
   "cell_type": "code",
   "execution_count": 11,
   "id": "0db790f4",
   "metadata": {},
   "outputs": [],
   "source": [
    "cs_training.NumberOfDependents.fillna(\n",
    "    cs_training.NumberOfDependents.mode()[0], inplace=True)"
   ]
  },
  {
   "cell_type": "code",
   "execution_count": 12,
   "id": "dcda6e86",
   "metadata": {},
   "outputs": [
    {
     "data": {
      "text/plain": [
       "<AxesSubplot:>"
      ]
     },
     "execution_count": 12,
     "metadata": {},
     "output_type": "execute_result"
    },
    {
     "data": {
      "image/png": "[encoded data removed]",
      "text/plain": [
       "<Figure size 1800x720 with 2 Axes>"
      ]
     },
     "metadata": {},
     "output_type": "display_data"
    }
   ],
   "source": [
    "missingno.matrix(cs_training)"
   ]
  },
  {
   "cell_type": "markdown",
   "id": "8a52e390",
   "metadata": {},
   "source": [
    "- 处理异常值 "
   ]
  },
  {
   "cell_type": "markdown",
   "id": "0adcf1be",
   "metadata": {},
   "source": [
    "-     变量名称                          描述\n",
    "- SeriousDlqin2yr                  __出现 90 天或更长时间的逾期行为（即定义好坏客户）\n",
    "- RevolvingUtilizationOfUnsecuredLines    __贷款以及信用卡可用额度与总额度比例\n",
    "- age                          __借款人借款年龄\n",
    "- NumberOfTime30-59DaysPastDueNotWors    __过去两年内出现30-60天逾期但是没有发展的更坏的次数\n",
    "- DebtRatio                     __每月偿还债务，赡养费，生活费用除以月总收入\n",
    "- MonthlyIncome                     __月收入\n",
    "- NumberOfOpenCreditLinesAndLoans       __开放式贷款和信贷数量\n",
    "- NumberOfTimes90DaysLate             __借款者有90天或更高逾期的次数\n",
    "- NumberRealEstateLoansOrLines          __抵押贷款和房地产贷款数量，包括房屋净值信贷额度\n",
    "- NumberOfTime60-89DaysPastDueNotWorse     ____过去两年内出现60-90天逾期但是没有发展的更坏的次数\n",
    "- NumberOfDependents                 __家庭中不包括自身的家属人数（配偶，子女等）\n"
   ]
  },
  {
   "cell_type": "code",
   "execution_count": 13,
   "id": "4b22a357",
   "metadata": {},
   "outputs": [],
   "source": [
    "cs_training = cs_training.loc[cs_training.age>0]"
   ]
  },
  {
   "cell_type": "markdown",
   "id": "fd7f18a5",
   "metadata": {},
   "source": [
    "- 利用箱线图排查异常值"
   ]
  },
  {
   "cell_type": "code",
   "execution_count": 14,
   "id": "5e6b6bb9",
   "metadata": {},
   "outputs": [
    {
     "data": {
      "text/html": [
       "<div>\n",
       "<style scoped>\n",
       "    .dataframe tbody tr th:only-of-type {\n",
       "        vertical-align: middle;\n",
       "    }\n",
       "\n",
       "    .dataframe tbody tr th {\n",
       "        vertical-align: top;\n",
       "    }\n",
       "\n",
       "    .dataframe thead th {\n",
       "        text-align: right;\n",
       "    }\n",
       "</style>\n",
       "<table border=\"1\" class=\"dataframe\">\n",
       "  <thead>\n",
       "    <tr style=\"text-align: right;\">\n",
       "      <th></th>\n",
       "      <th>SeriousDlqin2yrs</th>\n",
       "      <th>RevolvingUtilizationOfUnsecuredLines</th>\n",
       "      <th>age</th>\n",
       "      <th>NumberOfTime30-59DaysPastDueNotWorse</th>\n",
       "      <th>DebtRatio</th>\n",
       "      <th>MonthlyIncome</th>\n",
       "      <th>NumberOfOpenCreditLinesAndLoans</th>\n",
       "      <th>NumberOfTimes90DaysLate</th>\n",
       "      <th>NumberRealEstateLoansOrLines</th>\n",
       "      <th>NumberOfTime60-89DaysPastDueNotWorse</th>\n",
       "      <th>NumberOfDependents</th>\n",
       "    </tr>\n",
       "  </thead>\n",
       "  <tbody>\n",
       "    <tr>\n",
       "      <th>1</th>\n",
       "      <td>1</td>\n",
       "      <td>0.766127</td>\n",
       "      <td>45</td>\n",
       "      <td>2</td>\n",
       "      <td>0.802982</td>\n",
       "      <td>9120.0</td>\n",
       "      <td>13</td>\n",
       "      <td>0</td>\n",
       "      <td>6</td>\n",
       "      <td>0</td>\n",
       "      <td>2.0</td>\n",
       "    </tr>\n",
       "    <tr>\n",
       "      <th>2</th>\n",
       "      <td>0</td>\n",
       "      <td>0.957151</td>\n",
       "      <td>40</td>\n",
       "      <td>0</td>\n",
       "      <td>0.121876</td>\n",
       "      <td>2600.0</td>\n",
       "      <td>4</td>\n",
       "      <td>0</td>\n",
       "      <td>0</td>\n",
       "      <td>0</td>\n",
       "      <td>1.0</td>\n",
       "    </tr>\n",
       "    <tr>\n",
       "      <th>3</th>\n",
       "      <td>0</td>\n",
       "      <td>0.658180</td>\n",
       "      <td>38</td>\n",
       "      <td>1</td>\n",
       "      <td>0.085113</td>\n",
       "      <td>3042.0</td>\n",
       "      <td>2</td>\n",
       "      <td>1</td>\n",
       "      <td>0</td>\n",
       "      <td>0</td>\n",
       "      <td>0.0</td>\n",
       "    </tr>\n",
       "    <tr>\n",
       "      <th>4</th>\n",
       "      <td>0</td>\n",
       "      <td>0.233810</td>\n",
       "      <td>30</td>\n",
       "      <td>0</td>\n",
       "      <td>0.036050</td>\n",
       "      <td>3300.0</td>\n",
       "      <td>5</td>\n",
       "      <td>0</td>\n",
       "      <td>0</td>\n",
       "      <td>0</td>\n",
       "      <td>0.0</td>\n",
       "    </tr>\n",
       "    <tr>\n",
       "      <th>5</th>\n",
       "      <td>0</td>\n",
       "      <td>0.907239</td>\n",
       "      <td>49</td>\n",
       "      <td>1</td>\n",
       "      <td>0.024926</td>\n",
       "      <td>63588.0</td>\n",
       "      <td>7</td>\n",
       "      <td>0</td>\n",
       "      <td>1</td>\n",
       "      <td>0</td>\n",
       "      <td>0.0</td>\n",
       "    </tr>\n",
       "  </tbody>\n",
       "</table>\n",
       "</div>"
      ],
      "text/plain": [
       "   SeriousDlqin2yrs  RevolvingUtilizationOfUnsecuredLines  age  \\\n",
       "1                 1                              0.766127   45   \n",
       "2                 0                              0.957151   40   \n",
       "3                 0                              0.658180   38   \n",
       "4                 0                              0.233810   30   \n",
       "5                 0                              0.907239   49   \n",
       "\n",
       "   NumberOfTime30-59DaysPastDueNotWorse  DebtRatio  MonthlyIncome  \\\n",
       "1                                     2   0.802982         9120.0   \n",
       "2                                     0   0.121876         2600.0   \n",
       "3                                     1   0.085113         3042.0   \n",
       "4                                     0   0.036050         3300.0   \n",
       "5                                     1   0.024926        63588.0   \n",
       "\n",
       "   NumberOfOpenCreditLinesAndLoans  NumberOfTimes90DaysLate  \\\n",
       "1                               13                        0   \n",
       "2                                4                        0   \n",
       "3                                2                        1   \n",
       "4                                5                        0   \n",
       "5                                7                        0   \n",
       "\n",
       "   NumberRealEstateLoansOrLines  NumberOfTime60-89DaysPastDueNotWorse  \\\n",
       "1                             6                                     0   \n",
       "2                             0                                     0   \n",
       "3                             0                                     0   \n",
       "4                             0                                     0   \n",
       "5                             1                                     0   \n",
       "\n",
       "   NumberOfDependents  \n",
       "1                 2.0  \n",
       "2                 1.0  \n",
       "3                 0.0  \n",
       "4                 0.0  \n",
       "5                 0.0  "
      ]
     },
     "execution_count": 14,
     "metadata": {},
     "output_type": "execute_result"
    }
   ],
   "source": [
    "cs_training.head()"
   ]
  },
  {
   "cell_type": "code",
   "execution_count": 15,
   "id": "ec67f774",
   "metadata": {},
   "outputs": [
    {
     "data": {
      "text/html": [
       "<div>\n",
       "<style scoped>\n",
       "    .dataframe tbody tr th:only-of-type {\n",
       "        vertical-align: middle;\n",
       "    }\n",
       "\n",
       "    .dataframe tbody tr th {\n",
       "        vertical-align: top;\n",
       "    }\n",
       "\n",
       "    .dataframe thead th {\n",
       "        text-align: right;\n",
       "    }\n",
       "</style>\n",
       "<table border=\"1\" class=\"dataframe\">\n",
       "  <thead>\n",
       "    <tr style=\"text-align: right;\">\n",
       "      <th></th>\n",
       "      <th>RevolvingUtilizationOfUnsecuredLines</th>\n",
       "      <th>age</th>\n",
       "      <th>NumberOfTime30-59DaysPastDueNotWorse</th>\n",
       "      <th>DebtRatio</th>\n",
       "      <th>MonthlyIncome</th>\n",
       "      <th>NumberOfOpenCreditLinesAndLoans</th>\n",
       "      <th>NumberOfTimes90DaysLate</th>\n",
       "      <th>NumberRealEstateLoansOrLines</th>\n",
       "      <th>NumberOfTime60-89DaysPastDueNotWorse</th>\n",
       "      <th>NumberOfDependents</th>\n",
       "    </tr>\n",
       "  </thead>\n",
       "  <tbody>\n",
       "    <tr>\n",
       "      <th>1</th>\n",
       "      <td>0.766127</td>\n",
       "      <td>45</td>\n",
       "      <td>2</td>\n",
       "      <td>0.802982</td>\n",
       "      <td>9120.0</td>\n",
       "      <td>13</td>\n",
       "      <td>0</td>\n",
       "      <td>6</td>\n",
       "      <td>0</td>\n",
       "      <td>2.0</td>\n",
       "    </tr>\n",
       "  </tbody>\n",
       "</table>\n",
       "</div>"
      ],
      "text/plain": [
       "   RevolvingUtilizationOfUnsecuredLines  age  \\\n",
       "1                              0.766127   45   \n",
       "\n",
       "   NumberOfTime30-59DaysPastDueNotWorse  DebtRatio  MonthlyIncome  \\\n",
       "1                                     2   0.802982         9120.0   \n",
       "\n",
       "   NumberOfOpenCreditLinesAndLoans  NumberOfTimes90DaysLate  \\\n",
       "1                               13                        0   \n",
       "\n",
       "   NumberRealEstateLoansOrLines  NumberOfTime60-89DaysPastDueNotWorse  \\\n",
       "1                             6                                     0   \n",
       "\n",
       "   NumberOfDependents  \n",
       "1                 2.0  "
      ]
     },
     "execution_count": 15,
     "metadata": {},
     "output_type": "execute_result"
    }
   ],
   "source": [
    "boxplot_data =cs_training.iloc[:,1:].copy()\n",
    "boxplot_data.head(1)"
   ]
  },
  {
   "cell_type": "code",
   "execution_count": 16,
   "id": "d8762c24",
   "metadata": {},
   "outputs": [
    {
     "data": {
      "application/javascript": [
       "\n",
       "        if (window._pyforest_update_imports_cell) { window._pyforest_update_imports_cell('import matplotlib.pyplot as plt\\nimport pandas as pd'); }\n",
       "    "
      ],
      "text/plain": [
       "<IPython.core.display.Javascript object>"
      ]
     },
     "metadata": {},
     "output_type": "display_data"
    },
    {
     "data": {
      "application/javascript": [
       "\n",
       "        if (window._pyforest_update_imports_cell) { window._pyforest_update_imports_cell('import seaborn as sns\\nimport matplotlib.pyplot as plt\\nimport pandas as pd'); }\n",
       "    "
      ],
      "text/plain": [
       "<IPython.core.display.Javascript object>"
      ]
     },
     "metadata": {},
     "output_type": "display_data"
    },
    {
     "data": {
      "text/plain": [
       "<AxesSubplot:>"
      ]
     },
     "execution_count": 16,
     "metadata": {},
     "output_type": "execute_result"
    },
    {
     "data": {
      "image/png": "[encoded data removed]",
      "text/plain": [
       "<Figure size 864x432 with 1 Axes>"
      ]
     },
     "metadata": {},
     "output_type": "display_data"
    }
   ],
   "source": [
    "plt.figure(figsize=(12,6))\n",
    "sns.boxplot(data=boxplot_data,orient='h')"
   ]
  },
  {
   "cell_type": "markdown",
   "id": "3becf352",
   "metadata": {},
   "source": [
    "- 由于个别数据最大值差距较大造成其他特征看不清，故将每个特征分开画图"
   ]
  },
  {
   "cell_type": "code",
   "execution_count": 17,
   "id": "0cd27db6",
   "metadata": {
    "scrolled": true
   },
   "outputs": [
    {
     "data": {
      "application/javascript": [
       "\n",
       "        if (window._pyforest_update_imports_cell) { window._pyforest_update_imports_cell('import seaborn as sns\\nimport matplotlib.pyplot as plt\\nimport pandas as pd'); }\n",
       "    "
      ],
      "text/plain": [
       "<IPython.core.display.Javascript object>"
      ]
     },
     "metadata": {},
     "output_type": "display_data"
    },
    {
     "data": {
      "application/javascript": [
       "\n",
       "        if (window._pyforest_update_imports_cell) { window._pyforest_update_imports_cell('import seaborn as sns\\nimport matplotlib.pyplot as plt\\nimport pandas as pd'); }\n",
       "    "
      ],
      "text/plain": [
       "<IPython.core.display.Javascript object>"
      ]
     },
     "metadata": {},
     "output_type": "display_data"
    },
    {
     "data": {
      "application/javascript": [
       "\n",
       "        if (window._pyforest_update_imports_cell) { window._pyforest_update_imports_cell('import seaborn as sns\\nimport matplotlib.pyplot as plt\\nimport pandas as pd'); }\n",
       "    "
      ],
      "text/plain": [
       "<IPython.core.display.Javascript object>"
      ]
     },
     "metadata": {},
     "output_type": "display_data"
    },
    {
     "data": {
      "image/png": "[encoded data removed]",
      "text/plain": [
       "<Figure size 864x432 with 1 Axes>"
      ]
     },
     "metadata": {},
     "output_type": "display_data"
    },
    {
     "data": {
      "application/javascript": [
       "\n",
       "        if (window._pyforest_update_imports_cell) { window._pyforest_update_imports_cell('import seaborn as sns\\nimport matplotlib.pyplot as plt\\nimport pandas as pd'); }\n",
       "    "
      ],
      "text/plain": [
       "<IPython.core.display.Javascript object>"
      ]
     },
     "metadata": {},
     "output_type": "display_data"
    },
    {
     "data": {
      "application/javascript": [
       "\n",
       "        if (window._pyforest_update_imports_cell) { window._pyforest_update_imports_cell('import seaborn as sns\\nimport matplotlib.pyplot as plt\\nimport pandas as pd'); }\n",
       "    "
      ],
      "text/plain": [
       "<IPython.core.display.Javascript object>"
      ]
     },
     "metadata": {},
     "output_type": "display_data"
    },
    {
     "data": {
      "application/javascript": [
       "\n",
       "        if (window._pyforest_update_imports_cell) { window._pyforest_update_imports_cell('import seaborn as sns\\nimport matplotlib.pyplot as plt\\nimport pandas as pd'); }\n",
       "    "
      ],
      "text/plain": [
       "<IPython.core.display.Javascript object>"
      ]
     },
     "metadata": {},
     "output_type": "display_data"
    },
    {
     "data": {
      "image/png": "[encoded data removed]",
      "text/plain": [
       "<Figure size 864x432 with 1 Axes>"
      ]
     },
     "metadata": {},
     "output_type": "display_data"
    },
    {
     "data": {
      "application/javascript": [
       "\n",
       "        if (window._pyforest_update_imports_cell) { window._pyforest_update_imports_cell('import seaborn as sns\\nimport matplotlib.pyplot as plt\\nimport pandas as pd'); }\n",
       "    "
      ],
      "text/plain": [
       "<IPython.core.display.Javascript object>"
      ]
     },
     "metadata": {},
     "output_type": "display_data"
    },
    {
     "data": {
      "application/javascript": [
       "\n",
       "        if (window._pyforest_update_imports_cell) { window._pyforest_update_imports_cell('import seaborn as sns\\nimport matplotlib.pyplot as plt\\nimport pandas as pd'); }\n",
       "    "
      ],
      "text/plain": [
       "<IPython.core.display.Javascript object>"
      ]
     },
     "metadata": {},
     "output_type": "display_data"
    },
    {
     "data": {
      "application/javascript": [
       "\n",
       "        if (window._pyforest_update_imports_cell) { window._pyforest_update_imports_cell('import seaborn as sns\\nimport matplotlib.pyplot as plt\\nimport pandas as pd'); }\n",
       "    "
      ],
      "text/plain": [
       "<IPython.core.display.Javascript object>"
      ]
     },
     "metadata": {},
     "output_type": "display_data"
    },
    {
     "data": {
      "image/png": "[encoded data removed]",
      "text/plain": [
       "<Figure size 864x432 with 1 Axes>"
      ]
     },
     "metadata": {},
     "output_type": "display_data"
    },
    {
     "data": {
      "application/javascript": [
       "\n",
       "        if (window._pyforest_update_imports_cell) { window._pyforest_update_imports_cell('import seaborn as sns\\nimport matplotlib.pyplot as plt\\nimport pandas as pd'); }\n",
       "    "
      ],
      "text/plain": [
       "<IPython.core.display.Javascript object>"
      ]
     },
     "metadata": {},
     "output_type": "display_data"
    },
    {
     "data": {
      "application/javascript": [
       "\n",
       "        if (window._pyforest_update_imports_cell) { window._pyforest_update_imports_cell('import seaborn as sns\\nimport matplotlib.pyplot as plt\\nimport pandas as pd'); }\n",
       "    "
      ],
      "text/plain": [
       "<IPython.core.display.Javascript object>"
      ]
     },
     "metadata": {},
     "output_type": "display_data"
    },
    {
     "data": {
      "application/javascript": [
       "\n",
       "        if (window._pyforest_update_imports_cell) { window._pyforest_update_imports_cell('import seaborn as sns\\nimport matplotlib.pyplot as plt\\nimport pandas as pd'); }\n",
       "    "
      ],
      "text/plain": [
       "<IPython.core.display.Javascript object>"
      ]
     },
     "metadata": {},
     "output_type": "display_data"
    },
    {
     "data": {
      "image/png": "[encoded data removed]",
      "text/plain": [
       "<Figure size 864x432 with 1 Axes>"
      ]
     },
     "metadata": {},
     "output_type": "display_data"
    },
    {
     "data": {
      "application/javascript": [
       "\n",
       "        if (window._pyforest_update_imports_cell) { window._pyforest_update_imports_cell('import seaborn as sns\\nimport matplotlib.pyplot as plt\\nimport pandas as pd'); }\n",
       "    "
      ],
      "text/plain": [
       "<IPython.core.display.Javascript object>"
      ]
     },
     "metadata": {},
     "output_type": "display_data"
    },
    {
     "data": {
      "application/javascript": [
       "\n",
       "        if (window._pyforest_update_imports_cell) { window._pyforest_update_imports_cell('import seaborn as sns\\nimport matplotlib.pyplot as plt\\nimport pandas as pd'); }\n",
       "    "
      ],
      "text/plain": [
       "<IPython.core.display.Javascript object>"
      ]
     },
     "metadata": {},
     "output_type": "display_data"
    },
    {
     "data": {
      "application/javascript": [
       "\n",
       "        if (window._pyforest_update_imports_cell) { window._pyforest_update_imports_cell('import seaborn as sns\\nimport matplotlib.pyplot as plt\\nimport pandas as pd'); }\n",
       "    "
      ],
      "text/plain": [
       "<IPython.core.display.Javascript object>"
      ]
     },
     "metadata": {},
     "output_type": "display_data"
    },
    {
     "data": {
      "image/png": "[encoded data removed]",
      "text/plain": [
       "<Figure size 864x432 with 1 Axes>"
      ]
     },
     "metadata": {},
     "output_type": "display_data"
    },
    {
     "data": {
      "application/javascript": [
       "\n",
       "        if (window._pyforest_update_imports_cell) { window._pyforest_update_imports_cell('import seaborn as sns\\nimport matplotlib.pyplot as plt\\nimport pandas as pd'); }\n",
       "    "
      ],
      "text/plain": [
       "<IPython.core.display.Javascript object>"
      ]
     },
     "metadata": {},
     "output_type": "display_data"
    },
    {
     "data": {
      "application/javascript": [
       "\n",
       "        if (window._pyforest_update_imports_cell) { window._pyforest_update_imports_cell('import seaborn as sns\\nimport matplotlib.pyplot as plt\\nimport pandas as pd'); }\n",
       "    "
      ],
      "text/plain": [
       "<IPython.core.display.Javascript object>"
      ]
     },
     "metadata": {},
     "output_type": "display_data"
    },
    {
     "data": {
      "application/javascript": [
       "\n",
       "        if (window._pyforest_update_imports_cell) { window._pyforest_update_imports_cell('import seaborn as sns\\nimport matplotlib.pyplot as plt\\nimport pandas as pd'); }\n",
       "    "
      ],
      "text/plain": [
       "<IPython.core.display.Javascript object>"
      ]
     },
     "metadata": {},
     "output_type": "display_data"
    },
    {
     "data": {
      "image/png": "[encoded data removed]",
      "text/plain": [
       "<Figure size 864x432 with 1 Axes>"
      ]
     },
     "metadata": {},
     "output_type": "display_data"
    },
    {
     "data": {
      "application/javascript": [
       "\n",
       "        if (window._pyforest_update_imports_cell) { window._pyforest_update_imports_cell('import seaborn as sns\\nimport matplotlib.pyplot as plt\\nimport pandas as pd'); }\n",
       "    "
      ],
      "text/plain": [
       "<IPython.core.display.Javascript object>"
      ]
     },
     "metadata": {},
     "output_type": "display_data"
    },
    {
     "data": {
      "application/javascript": [
       "\n",
       "        if (window._pyforest_update_imports_cell) { window._pyforest_update_imports_cell('import seaborn as sns\\nimport matplotlib.pyplot as plt\\nimport pandas as pd'); }\n",
       "    "
      ],
      "text/plain": [
       "<IPython.core.display.Javascript object>"
      ]
     },
     "metadata": {},
     "output_type": "display_data"
    },
    {
     "data": {
      "application/javascript": [
       "\n",
       "        if (window._pyforest_update_imports_cell) { window._pyforest_update_imports_cell('import seaborn as sns\\nimport matplotlib.pyplot as plt\\nimport pandas as pd'); }\n",
       "    "
      ],
      "text/plain": [
       "<IPython.core.display.Javascript object>"
      ]
     },
     "metadata": {},
     "output_type": "display_data"
    },
    {
     "data": {
      "image/png": "[encoded data removed]",
      "text/plain": [
       "<Figure size 864x432 with 1 Axes>"
      ]
     },
     "metadata": {},
     "output_type": "display_data"
    },
    {
     "data": {
      "application/javascript": [
       "\n",
       "        if (window._pyforest_update_imports_cell) { window._pyforest_update_imports_cell('import seaborn as sns\\nimport matplotlib.pyplot as plt\\nimport pandas as pd'); }\n",
       "    "
      ],
      "text/plain": [
       "<IPython.core.display.Javascript object>"
      ]
     },
     "metadata": {},
     "output_type": "display_data"
    },
    {
     "data": {
      "application/javascript": [
       "\n",
       "        if (window._pyforest_update_imports_cell) { window._pyforest_update_imports_cell('import seaborn as sns\\nimport matplotlib.pyplot as plt\\nimport pandas as pd'); }\n",
       "    "
      ],
      "text/plain": [
       "<IPython.core.display.Javascript object>"
      ]
     },
     "metadata": {},
     "output_type": "display_data"
    },
    {
     "data": {
      "application/javascript": [
       "\n",
       "        if (window._pyforest_update_imports_cell) { window._pyforest_update_imports_cell('import seaborn as sns\\nimport matplotlib.pyplot as plt\\nimport pandas as pd'); }\n",
       "    "
      ],
      "text/plain": [
       "<IPython.core.display.Javascript object>"
      ]
     },
     "metadata": {},
     "output_type": "display_data"
    },
    {
     "data": {
      "image/png": "[encoded data removed]",
      "text/plain": [
       "<Figure size 864x432 with 1 Axes>"
      ]
     },
     "metadata": {},
     "output_type": "display_data"
    },
    {
     "data": {
      "application/javascript": [
       "\n",
       "        if (window._pyforest_update_imports_cell) { window._pyforest_update_imports_cell('import seaborn as sns\\nimport matplotlib.pyplot as plt\\nimport pandas as pd'); }\n",
       "    "
      ],
      "text/plain": [
       "<IPython.core.display.Javascript object>"
      ]
     },
     "metadata": {},
     "output_type": "display_data"
    },
    {
     "data": {
      "application/javascript": [
       "\n",
       "        if (window._pyforest_update_imports_cell) { window._pyforest_update_imports_cell('import seaborn as sns\\nimport matplotlib.pyplot as plt\\nimport pandas as pd'); }\n",
       "    "
      ],
      "text/plain": [
       "<IPython.core.display.Javascript object>"
      ]
     },
     "metadata": {},
     "output_type": "display_data"
    },
    {
     "data": {
      "application/javascript": [
       "\n",
       "        if (window._pyforest_update_imports_cell) { window._pyforest_update_imports_cell('import seaborn as sns\\nimport matplotlib.pyplot as plt\\nimport pandas as pd'); }\n",
       "    "
      ],
      "text/plain": [
       "<IPython.core.display.Javascript object>"
      ]
     },
     "metadata": {},
     "output_type": "display_data"
    },
    {
     "data": {
      "image/png": "[encoded data removed]",
      "text/plain": [
       "<Figure size 864x432 with 1 Axes>"
      ]
     },
     "metadata": {},
     "output_type": "display_data"
    },
    {
     "data": {
      "application/javascript": [
       "\n",
       "        if (window._pyforest_update_imports_cell) { window._pyforest_update_imports_cell('import seaborn as sns\\nimport matplotlib.pyplot as plt\\nimport pandas as pd'); }\n",
       "    "
      ],
      "text/plain": [
       "<IPython.core.display.Javascript object>"
      ]
     },
     "metadata": {},
     "output_type": "display_data"
    },
    {
     "data": {
      "application/javascript": [
       "\n",
       "        if (window._pyforest_update_imports_cell) { window._pyforest_update_imports_cell('import seaborn as sns\\nimport matplotlib.pyplot as plt\\nimport pandas as pd'); }\n",
       "    "
      ],
      "text/plain": [
       "<IPython.core.display.Javascript object>"
      ]
     },
     "metadata": {},
     "output_type": "display_data"
    },
    {
     "data": {
      "application/javascript": [
       "\n",
       "        if (window._pyforest_update_imports_cell) { window._pyforest_update_imports_cell('import seaborn as sns\\nimport matplotlib.pyplot as plt\\nimport pandas as pd'); }\n",
       "    "
      ],
      "text/plain": [
       "<IPython.core.display.Javascript object>"
      ]
     },
     "metadata": {},
     "output_type": "display_data"
    },
    {
     "data": {
      "image/png": "[encoded data removed]",
      "text/plain": [
       "<Figure size 864x432 with 1 Axes>"
      ]
     },
     "metadata": {},
     "output_type": "display_data"
    }
   ],
   "source": [
    "for col in boxplot_data.columns:\n",
    "    data = boxplot_data[[col]]\n",
    "    plt.figure(figsize=(12,6))\n",
    "    sns.boxplot(data=data,orient='h')\n",
    "    plt.show()"
   ]
  },
  {
   "cell_type": "code",
   "execution_count": 18,
   "id": "57172504",
   "metadata": {},
   "outputs": [
    {
     "data": {
      "text/html": [
       "<div>\n",
       "<style scoped>\n",
       "    .dataframe tbody tr th:only-of-type {\n",
       "        vertical-align: middle;\n",
       "    }\n",
       "\n",
       "    .dataframe tbody tr th {\n",
       "        vertical-align: top;\n",
       "    }\n",
       "\n",
       "    .dataframe thead th {\n",
       "        text-align: right;\n",
       "    }\n",
       "</style>\n",
       "<table border=\"1\" class=\"dataframe\">\n",
       "  <thead>\n",
       "    <tr style=\"text-align: right;\">\n",
       "      <th></th>\n",
       "      <th>RevolvingUtilizationOfUnsecuredLines</th>\n",
       "      <th>age</th>\n",
       "      <th>NumberOfTime30-59DaysPastDueNotWorse</th>\n",
       "      <th>DebtRatio</th>\n",
       "      <th>MonthlyIncome</th>\n",
       "      <th>NumberOfOpenCreditLinesAndLoans</th>\n",
       "      <th>NumberOfTimes90DaysLate</th>\n",
       "      <th>NumberRealEstateLoansOrLines</th>\n",
       "      <th>NumberOfTime60-89DaysPastDueNotWorse</th>\n",
       "      <th>NumberOfDependents</th>\n",
       "    </tr>\n",
       "  </thead>\n",
       "  <tbody>\n",
       "    <tr>\n",
       "      <th>count</th>\n",
       "      <td>149390.000000</td>\n",
       "      <td>149390.000000</td>\n",
       "      <td>149390.000000</td>\n",
       "      <td>149390.000000</td>\n",
       "      <td>1.493900e+05</td>\n",
       "      <td>149390.000000</td>\n",
       "      <td>149390.000000</td>\n",
       "      <td>149390.000000</td>\n",
       "      <td>149390.000000</td>\n",
       "      <td>149390.000000</td>\n",
       "    </tr>\n",
       "    <tr>\n",
       "      <th>mean</th>\n",
       "      <td>6.071121</td>\n",
       "      <td>52.306587</td>\n",
       "      <td>0.393882</td>\n",
       "      <td>354.439110</td>\n",
       "      <td>6.425691e+03</td>\n",
       "      <td>8.480909</td>\n",
       "      <td>0.238122</td>\n",
       "      <td>1.022384</td>\n",
       "      <td>0.212504</td>\n",
       "      <td>0.740384</td>\n",
       "    </tr>\n",
       "    <tr>\n",
       "      <th>std</th>\n",
       "      <td>250.264509</td>\n",
       "      <td>14.725390</td>\n",
       "      <td>3.852966</td>\n",
       "      <td>2041.850084</td>\n",
       "      <td>1.291571e+04</td>\n",
       "      <td>5.136528</td>\n",
       "      <td>3.826177</td>\n",
       "      <td>1.130196</td>\n",
       "      <td>3.810536</td>\n",
       "      <td>1.108271</td>\n",
       "    </tr>\n",
       "    <tr>\n",
       "      <th>min</th>\n",
       "      <td>0.000000</td>\n",
       "      <td>21.000000</td>\n",
       "      <td>0.000000</td>\n",
       "      <td>0.000000</td>\n",
       "      <td>0.000000e+00</td>\n",
       "      <td>0.000000</td>\n",
       "      <td>0.000000</td>\n",
       "      <td>0.000000</td>\n",
       "      <td>0.000000</td>\n",
       "      <td>0.000000</td>\n",
       "    </tr>\n",
       "    <tr>\n",
       "      <th>50%</th>\n",
       "      <td>0.154234</td>\n",
       "      <td>52.000000</td>\n",
       "      <td>0.000000</td>\n",
       "      <td>0.368233</td>\n",
       "      <td>5.400000e+03</td>\n",
       "      <td>8.000000</td>\n",
       "      <td>0.000000</td>\n",
       "      <td>1.000000</td>\n",
       "      <td>0.000000</td>\n",
       "      <td>0.000000</td>\n",
       "    </tr>\n",
       "    <tr>\n",
       "      <th>75%</th>\n",
       "      <td>0.556491</td>\n",
       "      <td>63.000000</td>\n",
       "      <td>0.000000</td>\n",
       "      <td>0.875294</td>\n",
       "      <td>7.400000e+03</td>\n",
       "      <td>11.000000</td>\n",
       "      <td>0.000000</td>\n",
       "      <td>2.000000</td>\n",
       "      <td>0.000000</td>\n",
       "      <td>1.000000</td>\n",
       "    </tr>\n",
       "    <tr>\n",
       "      <th>90%</th>\n",
       "      <td>0.978007</td>\n",
       "      <td>72.000000</td>\n",
       "      <td>1.000000</td>\n",
       "      <td>1275.000000</td>\n",
       "      <td>1.078200e+04</td>\n",
       "      <td>15.000000</td>\n",
       "      <td>0.000000</td>\n",
       "      <td>2.000000</td>\n",
       "      <td>0.000000</td>\n",
       "      <td>2.000000</td>\n",
       "    </tr>\n",
       "    <tr>\n",
       "      <th>99%</th>\n",
       "      <td>1.093923</td>\n",
       "      <td>87.000000</td>\n",
       "      <td>4.000000</td>\n",
       "      <td>4985.110000</td>\n",
       "      <td>2.308410e+04</td>\n",
       "      <td>24.000000</td>\n",
       "      <td>3.000000</td>\n",
       "      <td>4.000000</td>\n",
       "      <td>2.000000</td>\n",
       "      <td>4.000000</td>\n",
       "    </tr>\n",
       "    <tr>\n",
       "      <th>max</th>\n",
       "      <td>50708.000000</td>\n",
       "      <td>109.000000</td>\n",
       "      <td>98.000000</td>\n",
       "      <td>329664.000000</td>\n",
       "      <td>3.008750e+06</td>\n",
       "      <td>58.000000</td>\n",
       "      <td>98.000000</td>\n",
       "      <td>54.000000</td>\n",
       "      <td>98.000000</td>\n",
       "      <td>20.000000</td>\n",
       "    </tr>\n",
       "  </tbody>\n",
       "</table>\n",
       "</div>"
      ],
      "text/plain": [
       "       RevolvingUtilizationOfUnsecuredLines            age  \\\n",
       "count                         149390.000000  149390.000000   \n",
       "mean                               6.071121      52.306587   \n",
       "std                              250.264509      14.725390   \n",
       "min                                0.000000      21.000000   \n",
       "50%                                0.154234      52.000000   \n",
       "75%                                0.556491      63.000000   \n",
       "90%                                0.978007      72.000000   \n",
       "99%                                1.093923      87.000000   \n",
       "max                            50708.000000     109.000000   \n",
       "\n",
       "       NumberOfTime30-59DaysPastDueNotWorse      DebtRatio  MonthlyIncome  \\\n",
       "count                         149390.000000  149390.000000   1.493900e+05   \n",
       "mean                               0.393882     354.439110   6.425691e+03   \n",
       "std                                3.852966    2041.850084   1.291571e+04   \n",
       "min                                0.000000       0.000000   0.000000e+00   \n",
       "50%                                0.000000       0.368233   5.400000e+03   \n",
       "75%                                0.000000       0.875294   7.400000e+03   \n",
       "90%                                1.000000    1275.000000   1.078200e+04   \n",
       "99%                                4.000000    4985.110000   2.308410e+04   \n",
       "max                               98.000000  329664.000000   3.008750e+06   \n",
       "\n",
       "       NumberOfOpenCreditLinesAndLoans  NumberOfTimes90DaysLate  \\\n",
       "count                    149390.000000            149390.000000   \n",
       "mean                          8.480909                 0.238122   \n",
       "std                           5.136528                 3.826177   \n",
       "min                           0.000000                 0.000000   \n",
       "50%                           8.000000                 0.000000   \n",
       "75%                          11.000000                 0.000000   \n",
       "90%                          15.000000                 0.000000   \n",
       "99%                          24.000000                 3.000000   \n",
       "max                          58.000000                98.000000   \n",
       "\n",
       "       NumberRealEstateLoansOrLines  NumberOfTime60-89DaysPastDueNotWorse  \\\n",
       "count                 149390.000000                         149390.000000   \n",
       "mean                       1.022384                              0.212504   \n",
       "std                        1.130196                              3.810536   \n",
       "min                        0.000000                              0.000000   \n",
       "50%                        1.000000                              0.000000   \n",
       "75%                        2.000000                              0.000000   \n",
       "90%                        2.000000                              0.000000   \n",
       "99%                        4.000000                              2.000000   \n",
       "max                       54.000000                             98.000000   \n",
       "\n",
       "       NumberOfDependents  \n",
       "count       149390.000000  \n",
       "mean             0.740384  \n",
       "std              1.108271  \n",
       "min              0.000000  \n",
       "50%              0.000000  \n",
       "75%              1.000000  \n",
       "90%              2.000000  \n",
       "99%              4.000000  \n",
       "max             20.000000  "
      ]
     },
     "execution_count": 18,
     "metadata": {},
     "output_type": "execute_result"
    }
   ],
   "source": [
    "boxplot_data.describe([.75,.90,.99])"
   ]
  },
  {
   "cell_type": "markdown",
   "id": "df3c69fc",
   "metadata": {},
   "source": [
    "- 设置阈值"
   ]
  },
  {
   "cell_type": "code",
   "execution_count": 19,
   "id": "1cc7a2e9",
   "metadata": {},
   "outputs": [],
   "source": [
    "threshold_dic = {\n",
    "    \"RevolvingUtilizationOfUnsecuredLines\": 1,\n",
    "    \"age\": 70,\n",
    "    \"NumberOfTime30-59DaysPastDueNotWors\": 20,\n",
    "    \"DebtRatio\": 5000,\n",
    "    \"MonthlyIncome\": 300000,\n",
    "    \"NumberOfOpenCreditLinesAndLoans\": 20,\n",
    "    \"NumberOfTimes90DaysLate\": 20,\n",
    "    \"NumberRealEstateLoansOrLines\": 5,\n",
    "    \"NumberOfTime60-89DaysPastDueNotWorse\": 20,\n",
    "    \"NumberOfDependents\": 5\n",
    "}"
   ]
  },
  {
   "cell_type": "code",
   "execution_count": 20,
   "id": "a43eaf2f",
   "metadata": {},
   "outputs": [
    {
     "data": {
      "application/javascript": [
       "\n",
       "        if (window._pyforest_update_imports_cell) { window._pyforest_update_imports_cell('import seaborn as sns\\nimport matplotlib.pyplot as plt\\nimport pandas as pd'); }\n",
       "    "
      ],
      "text/plain": [
       "<IPython.core.display.Javascript object>"
      ]
     },
     "metadata": {},
     "output_type": "display_data"
    },
    {
     "data": {
      "text/plain": [
       "RevolvingUtilizationOfUnsecuredLines         1\n",
       "age                                         70\n",
       "NumberOfTime30-59DaysPastDueNotWors         20\n",
       "DebtRatio                                 5000\n",
       "MonthlyIncome                           300000\n",
       "NumberOfOpenCreditLinesAndLoans             20\n",
       "NumberOfTimes90DaysLate                     20\n",
       "NumberRealEstateLoansOrLines                 5\n",
       "NumberOfTime60-89DaysPastDueNotWorse        20\n",
       "NumberOfDependents                           5\n",
       "dtype: int64"
      ]
     },
     "execution_count": 20,
     "metadata": {},
     "output_type": "execute_result"
    }
   ],
   "source": [
    "threshold_series = pd.Series(threshold_dic)\n",
    "threshold_series"
   ]
  },
  {
   "cell_type": "code",
   "execution_count": 21,
   "id": "9eaee912",
   "metadata": {},
   "outputs": [
    {
     "name": "stderr",
     "output_type": "stream",
     "text": [
      "C:\\Users\\Administrator\\AppData\\Local\\Temp\\ipykernel_8632\\848160357.py:1: FutureWarning: Automatic reindexing on DataFrame vs Series comparisons is deprecated and will raise ValueError in a future version. Do `left, right = left.align(right, axis=1, copy=False)` before e.g. `left == right`\n",
      "  cs_training < threshold_series\n"
     ]
    },
    {
     "data": {
      "text/html": [
       "<div>\n",
       "<style scoped>\n",
       "    .dataframe tbody tr th:only-of-type {\n",
       "        vertical-align: middle;\n",
       "    }\n",
       "\n",
       "    .dataframe tbody tr th {\n",
       "        vertical-align: top;\n",
       "    }\n",
       "\n",
       "    .dataframe thead th {\n",
       "        text-align: right;\n",
       "    }\n",
       "</style>\n",
       "<table border=\"1\" class=\"dataframe\">\n",
       "  <thead>\n",
       "    <tr style=\"text-align: right;\">\n",
       "      <th></th>\n",
       "      <th>DebtRatio</th>\n",
       "      <th>MonthlyIncome</th>\n",
       "      <th>NumberOfDependents</th>\n",
       "      <th>NumberOfOpenCreditLinesAndLoans</th>\n",
       "      <th>NumberOfTime30-59DaysPastDueNotWors</th>\n",
       "      <th>NumberOfTime30-59DaysPastDueNotWorse</th>\n",
       "      <th>NumberOfTime60-89DaysPastDueNotWorse</th>\n",
       "      <th>NumberOfTimes90DaysLate</th>\n",
       "      <th>NumberRealEstateLoansOrLines</th>\n",
       "      <th>RevolvingUtilizationOfUnsecuredLines</th>\n",
       "      <th>SeriousDlqin2yrs</th>\n",
       "      <th>age</th>\n",
       "    </tr>\n",
       "  </thead>\n",
       "  <tbody>\n",
       "    <tr>\n",
       "      <th>1</th>\n",
       "      <td>True</td>\n",
       "      <td>True</td>\n",
       "      <td>True</td>\n",
       "      <td>True</td>\n",
       "      <td>False</td>\n",
       "      <td>False</td>\n",
       "      <td>True</td>\n",
       "      <td>True</td>\n",
       "      <td>False</td>\n",
       "      <td>True</td>\n",
       "      <td>False</td>\n",
       "      <td>True</td>\n",
       "    </tr>\n",
       "    <tr>\n",
       "      <th>2</th>\n",
       "      <td>True</td>\n",
       "      <td>True</td>\n",
       "      <td>True</td>\n",
       "      <td>True</td>\n",
       "      <td>False</td>\n",
       "      <td>False</td>\n",
       "      <td>True</td>\n",
       "      <td>True</td>\n",
       "      <td>True</td>\n",
       "      <td>True</td>\n",
       "      <td>False</td>\n",
       "      <td>True</td>\n",
       "    </tr>\n",
       "    <tr>\n",
       "      <th>3</th>\n",
       "      <td>True</td>\n",
       "      <td>True</td>\n",
       "      <td>True</td>\n",
       "      <td>True</td>\n",
       "      <td>False</td>\n",
       "      <td>False</td>\n",
       "      <td>True</td>\n",
       "      <td>True</td>\n",
       "      <td>True</td>\n",
       "      <td>True</td>\n",
       "      <td>False</td>\n",
       "      <td>True</td>\n",
       "    </tr>\n",
       "    <tr>\n",
       "      <th>4</th>\n",
       "      <td>True</td>\n",
       "      <td>True</td>\n",
       "      <td>True</td>\n",
       "      <td>True</td>\n",
       "      <td>False</td>\n",
       "      <td>False</td>\n",
       "      <td>True</td>\n",
       "      <td>True</td>\n",
       "      <td>True</td>\n",
       "      <td>True</td>\n",
       "      <td>False</td>\n",
       "      <td>True</td>\n",
       "    </tr>\n",
       "    <tr>\n",
       "      <th>5</th>\n",
       "      <td>True</td>\n",
       "      <td>True</td>\n",
       "      <td>True</td>\n",
       "      <td>True</td>\n",
       "      <td>False</td>\n",
       "      <td>False</td>\n",
       "      <td>True</td>\n",
       "      <td>True</td>\n",
       "      <td>True</td>\n",
       "      <td>True</td>\n",
       "      <td>False</td>\n",
       "      <td>True</td>\n",
       "    </tr>\n",
       "    <tr>\n",
       "      <th>...</th>\n",
       "      <td>...</td>\n",
       "      <td>...</td>\n",
       "      <td>...</td>\n",
       "      <td>...</td>\n",
       "      <td>...</td>\n",
       "      <td>...</td>\n",
       "      <td>...</td>\n",
       "      <td>...</td>\n",
       "      <td>...</td>\n",
       "      <td>...</td>\n",
       "      <td>...</td>\n",
       "      <td>...</td>\n",
       "    </tr>\n",
       "    <tr>\n",
       "      <th>149996</th>\n",
       "      <td>True</td>\n",
       "      <td>True</td>\n",
       "      <td>True</td>\n",
       "      <td>True</td>\n",
       "      <td>False</td>\n",
       "      <td>False</td>\n",
       "      <td>True</td>\n",
       "      <td>True</td>\n",
       "      <td>True</td>\n",
       "      <td>True</td>\n",
       "      <td>False</td>\n",
       "      <td>False</td>\n",
       "    </tr>\n",
       "    <tr>\n",
       "      <th>149997</th>\n",
       "      <td>True</td>\n",
       "      <td>True</td>\n",
       "      <td>True</td>\n",
       "      <td>True</td>\n",
       "      <td>False</td>\n",
       "      <td>False</td>\n",
       "      <td>True</td>\n",
       "      <td>True</td>\n",
       "      <td>True</td>\n",
       "      <td>True</td>\n",
       "      <td>False</td>\n",
       "      <td>True</td>\n",
       "    </tr>\n",
       "    <tr>\n",
       "      <th>149998</th>\n",
       "      <td>True</td>\n",
       "      <td>True</td>\n",
       "      <td>True</td>\n",
       "      <td>True</td>\n",
       "      <td>False</td>\n",
       "      <td>False</td>\n",
       "      <td>True</td>\n",
       "      <td>True</td>\n",
       "      <td>True</td>\n",
       "      <td>True</td>\n",
       "      <td>False</td>\n",
       "      <td>True</td>\n",
       "    </tr>\n",
       "    <tr>\n",
       "      <th>149999</th>\n",
       "      <td>True</td>\n",
       "      <td>True</td>\n",
       "      <td>True</td>\n",
       "      <td>True</td>\n",
       "      <td>False</td>\n",
       "      <td>False</td>\n",
       "      <td>True</td>\n",
       "      <td>True</td>\n",
       "      <td>True</td>\n",
       "      <td>True</td>\n",
       "      <td>False</td>\n",
       "      <td>True</td>\n",
       "    </tr>\n",
       "    <tr>\n",
       "      <th>150000</th>\n",
       "      <td>True</td>\n",
       "      <td>True</td>\n",
       "      <td>True</td>\n",
       "      <td>True</td>\n",
       "      <td>False</td>\n",
       "      <td>False</td>\n",
       "      <td>True</td>\n",
       "      <td>True</td>\n",
       "      <td>True</td>\n",
       "      <td>True</td>\n",
       "      <td>False</td>\n",
       "      <td>True</td>\n",
       "    </tr>\n",
       "  </tbody>\n",
       "</table>\n",
       "<p>149390 rows × 12 columns</p>\n",
       "</div>"
      ],
      "text/plain": [
       "        DebtRatio  MonthlyIncome  NumberOfDependents  \\\n",
       "1            True           True                True   \n",
       "2            True           True                True   \n",
       "3            True           True                True   \n",
       "4            True           True                True   \n",
       "5            True           True                True   \n",
       "...           ...            ...                 ...   \n",
       "149996       True           True                True   \n",
       "149997       True           True                True   \n",
       "149998       True           True                True   \n",
       "149999       True           True                True   \n",
       "150000       True           True                True   \n",
       "\n",
       "        NumberOfOpenCreditLinesAndLoans  NumberOfTime30-59DaysPastDueNotWors  \\\n",
       "1                                  True                                False   \n",
       "2                                  True                                False   \n",
       "3                                  True                                False   \n",
       "4                                  True                                False   \n",
       "5                                  True                                False   \n",
       "...                                 ...                                  ...   \n",
       "149996                             True                                False   \n",
       "149997                             True                                False   \n",
       "149998                             True                                False   \n",
       "149999                             True                                False   \n",
       "150000                             True                                False   \n",
       "\n",
       "        NumberOfTime30-59DaysPastDueNotWorse  \\\n",
       "1                                      False   \n",
       "2                                      False   \n",
       "3                                      False   \n",
       "4                                      False   \n",
       "5                                      False   \n",
       "...                                      ...   \n",
       "149996                                 False   \n",
       "149997                                 False   \n",
       "149998                                 False   \n",
       "149999                                 False   \n",
       "150000                                 False   \n",
       "\n",
       "        NumberOfTime60-89DaysPastDueNotWorse  NumberOfTimes90DaysLate  \\\n",
       "1                                       True                     True   \n",
       "2                                       True                     True   \n",
       "3                                       True                     True   \n",
       "4                                       True                     True   \n",
       "5                                       True                     True   \n",
       "...                                      ...                      ...   \n",
       "149996                                  True                     True   \n",
       "149997                                  True                     True   \n",
       "149998                                  True                     True   \n",
       "149999                                  True                     True   \n",
       "150000                                  True                     True   \n",
       "\n",
       "        NumberRealEstateLoansOrLines  RevolvingUtilizationOfUnsecuredLines  \\\n",
       "1                              False                                  True   \n",
       "2                               True                                  True   \n",
       "3                               True                                  True   \n",
       "4                               True                                  True   \n",
       "5                               True                                  True   \n",
       "...                              ...                                   ...   \n",
       "149996                          True                                  True   \n",
       "149997                          True                                  True   \n",
       "149998                          True                                  True   \n",
       "149999                          True                                  True   \n",
       "150000                          True                                  True   \n",
       "\n",
       "        SeriousDlqin2yrs    age  \n",
       "1                  False   True  \n",
       "2                  False   True  \n",
       "3                  False   True  \n",
       "4                  False   True  \n",
       "5                  False   True  \n",
       "...                  ...    ...  \n",
       "149996             False  False  \n",
       "149997             False   True  \n",
       "149998             False   True  \n",
       "149999             False   True  \n",
       "150000             False   True  \n",
       "\n",
       "[149390 rows x 12 columns]"
      ]
     },
     "execution_count": 21,
     "metadata": {},
     "output_type": "execute_result"
    }
   ],
   "source": [
    "cs_training < threshold_series"
   ]
  },
  {
   "cell_type": "markdown",
   "id": "261c6a42",
   "metadata": {},
   "source": [
    "- 只要有一条特征不满足，就要删除这一行"
   ]
  },
  {
   "cell_type": "code",
   "execution_count": 22,
   "id": "720559cc",
   "metadata": {
    "scrolled": true
   },
   "outputs": [
    {
     "name": "stderr",
     "output_type": "stream",
     "text": [
      "C:\\Users\\Administrator\\AppData\\Local\\Temp\\ipykernel_8632\\2393313694.py:1: FutureWarning: Automatic reindexing on DataFrame vs Series comparisons is deprecated and will raise ValueError in a future version. Do `left, right = left.align(right, axis=1, copy=False)` before e.g. `left == right`\n",
      "  cond = (cs_training > threshold_series).any(axis=1)\n"
     ]
    },
    {
     "data": {
      "text/plain": [
       "1          True\n",
       "2         False\n",
       "3         False\n",
       "4         False\n",
       "5         False\n",
       "          ...  \n",
       "149996     True\n",
       "149997    False\n",
       "149998    False\n",
       "149999    False\n",
       "150000    False\n",
       "Length: 149390, dtype: bool"
      ]
     },
     "execution_count": 22,
     "metadata": {},
     "output_type": "execute_result"
    }
   ],
   "source": [
    "cond = (cs_training > threshold_series).any(axis=1)\n",
    "cond"
   ]
  },
  {
   "cell_type": "code",
   "execution_count": 23,
   "id": "a1b45768",
   "metadata": {},
   "outputs": [
    {
     "data": {
      "text/html": [
       "<div>\n",
       "<style scoped>\n",
       "    .dataframe tbody tr th:only-of-type {\n",
       "        vertical-align: middle;\n",
       "    }\n",
       "\n",
       "    .dataframe tbody tr th {\n",
       "        vertical-align: top;\n",
       "    }\n",
       "\n",
       "    .dataframe thead th {\n",
       "        text-align: right;\n",
       "    }\n",
       "</style>\n",
       "<table border=\"1\" class=\"dataframe\">\n",
       "  <thead>\n",
       "    <tr style=\"text-align: right;\">\n",
       "      <th></th>\n",
       "      <th>SeriousDlqin2yrs</th>\n",
       "      <th>RevolvingUtilizationOfUnsecuredLines</th>\n",
       "      <th>age</th>\n",
       "      <th>NumberOfTime30-59DaysPastDueNotWorse</th>\n",
       "      <th>DebtRatio</th>\n",
       "      <th>MonthlyIncome</th>\n",
       "      <th>NumberOfOpenCreditLinesAndLoans</th>\n",
       "      <th>NumberOfTimes90DaysLate</th>\n",
       "      <th>NumberRealEstateLoansOrLines</th>\n",
       "      <th>NumberOfTime60-89DaysPastDueNotWorse</th>\n",
       "      <th>NumberOfDependents</th>\n",
       "    </tr>\n",
       "  </thead>\n",
       "  <tbody>\n",
       "    <tr>\n",
       "      <th>2</th>\n",
       "      <td>0</td>\n",
       "      <td>0.957151</td>\n",
       "      <td>40</td>\n",
       "      <td>0</td>\n",
       "      <td>0.121876</td>\n",
       "      <td>2600.0</td>\n",
       "      <td>4</td>\n",
       "      <td>0</td>\n",
       "      <td>0</td>\n",
       "      <td>0</td>\n",
       "      <td>1.0</td>\n",
       "    </tr>\n",
       "    <tr>\n",
       "      <th>3</th>\n",
       "      <td>0</td>\n",
       "      <td>0.658180</td>\n",
       "      <td>38</td>\n",
       "      <td>1</td>\n",
       "      <td>0.085113</td>\n",
       "      <td>3042.0</td>\n",
       "      <td>2</td>\n",
       "      <td>1</td>\n",
       "      <td>0</td>\n",
       "      <td>0</td>\n",
       "      <td>0.0</td>\n",
       "    </tr>\n",
       "    <tr>\n",
       "      <th>4</th>\n",
       "      <td>0</td>\n",
       "      <td>0.233810</td>\n",
       "      <td>30</td>\n",
       "      <td>0</td>\n",
       "      <td>0.036050</td>\n",
       "      <td>3300.0</td>\n",
       "      <td>5</td>\n",
       "      <td>0</td>\n",
       "      <td>0</td>\n",
       "      <td>0</td>\n",
       "      <td>0.0</td>\n",
       "    </tr>\n",
       "    <tr>\n",
       "      <th>5</th>\n",
       "      <td>0</td>\n",
       "      <td>0.907239</td>\n",
       "      <td>49</td>\n",
       "      <td>1</td>\n",
       "      <td>0.024926</td>\n",
       "      <td>63588.0</td>\n",
       "      <td>7</td>\n",
       "      <td>0</td>\n",
       "      <td>1</td>\n",
       "      <td>0</td>\n",
       "      <td>0.0</td>\n",
       "    </tr>\n",
       "    <tr>\n",
       "      <th>8</th>\n",
       "      <td>0</td>\n",
       "      <td>0.754464</td>\n",
       "      <td>39</td>\n",
       "      <td>0</td>\n",
       "      <td>0.209940</td>\n",
       "      <td>3500.0</td>\n",
       "      <td>8</td>\n",
       "      <td>0</td>\n",
       "      <td>0</td>\n",
       "      <td>0</td>\n",
       "      <td>0.0</td>\n",
       "    </tr>\n",
       "    <tr>\n",
       "      <th>...</th>\n",
       "      <td>...</td>\n",
       "      <td>...</td>\n",
       "      <td>...</td>\n",
       "      <td>...</td>\n",
       "      <td>...</td>\n",
       "      <td>...</td>\n",
       "      <td>...</td>\n",
       "      <td>...</td>\n",
       "      <td>...</td>\n",
       "      <td>...</td>\n",
       "      <td>...</td>\n",
       "    </tr>\n",
       "    <tr>\n",
       "      <th>149995</th>\n",
       "      <td>0</td>\n",
       "      <td>0.385742</td>\n",
       "      <td>50</td>\n",
       "      <td>0</td>\n",
       "      <td>0.404293</td>\n",
       "      <td>3400.0</td>\n",
       "      <td>7</td>\n",
       "      <td>0</td>\n",
       "      <td>0</td>\n",
       "      <td>0</td>\n",
       "      <td>0.0</td>\n",
       "    </tr>\n",
       "    <tr>\n",
       "      <th>149997</th>\n",
       "      <td>0</td>\n",
       "      <td>0.299745</td>\n",
       "      <td>44</td>\n",
       "      <td>0</td>\n",
       "      <td>0.716562</td>\n",
       "      <td>5584.0</td>\n",
       "      <td>4</td>\n",
       "      <td>0</td>\n",
       "      <td>1</td>\n",
       "      <td>0</td>\n",
       "      <td>2.0</td>\n",
       "    </tr>\n",
       "    <tr>\n",
       "      <th>149998</th>\n",
       "      <td>0</td>\n",
       "      <td>0.246044</td>\n",
       "      <td>58</td>\n",
       "      <td>0</td>\n",
       "      <td>3870.000000</td>\n",
       "      <td>5400.0</td>\n",
       "      <td>18</td>\n",
       "      <td>0</td>\n",
       "      <td>1</td>\n",
       "      <td>0</td>\n",
       "      <td>0.0</td>\n",
       "    </tr>\n",
       "    <tr>\n",
       "      <th>149999</th>\n",
       "      <td>0</td>\n",
       "      <td>0.000000</td>\n",
       "      <td>30</td>\n",
       "      <td>0</td>\n",
       "      <td>0.000000</td>\n",
       "      <td>5716.0</td>\n",
       "      <td>4</td>\n",
       "      <td>0</td>\n",
       "      <td>0</td>\n",
       "      <td>0</td>\n",
       "      <td>0.0</td>\n",
       "    </tr>\n",
       "    <tr>\n",
       "      <th>150000</th>\n",
       "      <td>0</td>\n",
       "      <td>0.850283</td>\n",
       "      <td>64</td>\n",
       "      <td>0</td>\n",
       "      <td>0.249908</td>\n",
       "      <td>8158.0</td>\n",
       "      <td>8</td>\n",
       "      <td>0</td>\n",
       "      <td>2</td>\n",
       "      <td>0</td>\n",
       "      <td>0.0</td>\n",
       "    </tr>\n",
       "  </tbody>\n",
       "</table>\n",
       "<p>123006 rows × 11 columns</p>\n",
       "</div>"
      ],
      "text/plain": [
       "        SeriousDlqin2yrs  RevolvingUtilizationOfUnsecuredLines  age  \\\n",
       "2                      0                              0.957151   40   \n",
       "3                      0                              0.658180   38   \n",
       "4                      0                              0.233810   30   \n",
       "5                      0                              0.907239   49   \n",
       "8                      0                              0.754464   39   \n",
       "...                  ...                                   ...  ...   \n",
       "149995                 0                              0.385742   50   \n",
       "149997                 0                              0.299745   44   \n",
       "149998                 0                              0.246044   58   \n",
       "149999                 0                              0.000000   30   \n",
       "150000                 0                              0.850283   64   \n",
       "\n",
       "        NumberOfTime30-59DaysPastDueNotWorse    DebtRatio  MonthlyIncome  \\\n",
       "2                                          0     0.121876         2600.0   \n",
       "3                                          1     0.085113         3042.0   \n",
       "4                                          0     0.036050         3300.0   \n",
       "5                                          1     0.024926        63588.0   \n",
       "8                                          0     0.209940         3500.0   \n",
       "...                                      ...          ...            ...   \n",
       "149995                                     0     0.404293         3400.0   \n",
       "149997                                     0     0.716562         5584.0   \n",
       "149998                                     0  3870.000000         5400.0   \n",
       "149999                                     0     0.000000         5716.0   \n",
       "150000                                     0     0.249908         8158.0   \n",
       "\n",
       "        NumberOfOpenCreditLinesAndLoans  NumberOfTimes90DaysLate  \\\n",
       "2                                     4                        0   \n",
       "3                                     2                        1   \n",
       "4                                     5                        0   \n",
       "5                                     7                        0   \n",
       "8                                     8                        0   \n",
       "...                                 ...                      ...   \n",
       "149995                                7                        0   \n",
       "149997                                4                        0   \n",
       "149998                               18                        0   \n",
       "149999                                4                        0   \n",
       "150000                                8                        0   \n",
       "\n",
       "        NumberRealEstateLoansOrLines  NumberOfTime60-89DaysPastDueNotWorse  \\\n",
       "2                                  0                                     0   \n",
       "3                                  0                                     0   \n",
       "4                                  0                                     0   \n",
       "5                                  1                                     0   \n",
       "8                                  0                                     0   \n",
       "...                              ...                                   ...   \n",
       "149995                             0                                     0   \n",
       "149997                             1                                     0   \n",
       "149998                             1                                     0   \n",
       "149999                             0                                     0   \n",
       "150000                             2                                     0   \n",
       "\n",
       "        NumberOfDependents  \n",
       "2                      1.0  \n",
       "3                      0.0  \n",
       "4                      0.0  \n",
       "5                      0.0  \n",
       "8                      0.0  \n",
       "...                    ...  \n",
       "149995                 0.0  \n",
       "149997                 2.0  \n",
       "149998                 0.0  \n",
       "149999                 0.0  \n",
       "150000                 0.0  \n",
       "\n",
       "[123006 rows x 11 columns]"
      ]
     },
     "execution_count": 23,
     "metadata": {},
     "output_type": "execute_result"
    }
   ],
   "source": [
    "filter_stage = cs_training[~cond].copy()\n",
    "filter_stage"
   ]
  },
  {
   "cell_type": "code",
   "execution_count": 24,
   "id": "6580a39f",
   "metadata": {},
   "outputs": [
    {
     "data": {
      "text/html": [
       "<div>\n",
       "<style scoped>\n",
       "    .dataframe tbody tr th:only-of-type {\n",
       "        vertical-align: middle;\n",
       "    }\n",
       "\n",
       "    .dataframe tbody tr th {\n",
       "        vertical-align: top;\n",
       "    }\n",
       "\n",
       "    .dataframe thead th {\n",
       "        text-align: right;\n",
       "    }\n",
       "</style>\n",
       "<table border=\"1\" class=\"dataframe\">\n",
       "  <thead>\n",
       "    <tr style=\"text-align: right;\">\n",
       "      <th></th>\n",
       "      <th>SeriousDlqin2yrs</th>\n",
       "      <th>RevolvingUtilizationOfUnsecuredLines</th>\n",
       "      <th>age</th>\n",
       "      <th>NumberOfTime30-59DaysPastDueNotWorse</th>\n",
       "      <th>DebtRatio</th>\n",
       "      <th>MonthlyIncome</th>\n",
       "      <th>NumberOfOpenCreditLinesAndLoans</th>\n",
       "      <th>NumberOfTimes90DaysLate</th>\n",
       "      <th>NumberRealEstateLoansOrLines</th>\n",
       "      <th>NumberOfTime60-89DaysPastDueNotWorse</th>\n",
       "      <th>NumberOfDependents</th>\n",
       "    </tr>\n",
       "  </thead>\n",
       "  <tbody>\n",
       "    <tr>\n",
       "      <th>count</th>\n",
       "      <td>123006.000000</td>\n",
       "      <td>123006.000000</td>\n",
       "      <td>123006.000000</td>\n",
       "      <td>123006.000000</td>\n",
       "      <td>123006.000000</td>\n",
       "      <td>123006.000000</td>\n",
       "      <td>123006.000000</td>\n",
       "      <td>123006.000000</td>\n",
       "      <td>123006.000000</td>\n",
       "      <td>123006.000000</td>\n",
       "      <td>123006.000000</td>\n",
       "    </tr>\n",
       "    <tr>\n",
       "      <th>mean</th>\n",
       "      <td>0.063493</td>\n",
       "      <td>0.323973</td>\n",
       "      <td>48.882510</td>\n",
       "      <td>0.240460</td>\n",
       "      <td>285.268979</td>\n",
       "      <td>6375.994846</td>\n",
       "      <td>8.096573</td>\n",
       "      <td>0.087353</td>\n",
       "      <td>1.011617</td>\n",
       "      <td>0.061469</td>\n",
       "      <td>0.807530</td>\n",
       "    </tr>\n",
       "    <tr>\n",
       "      <th>std</th>\n",
       "      <td>0.243848</td>\n",
       "      <td>0.342195</td>\n",
       "      <td>12.016866</td>\n",
       "      <td>0.677378</td>\n",
       "      <td>807.534281</td>\n",
       "      <td>5632.230076</td>\n",
       "      <td>4.344711</td>\n",
       "      <td>0.466794</td>\n",
       "      <td>0.962263</td>\n",
       "      <td>0.314885</td>\n",
       "      <td>1.118347</td>\n",
       "    </tr>\n",
       "    <tr>\n",
       "      <th>min</th>\n",
       "      <td>0.000000</td>\n",
       "      <td>0.000000</td>\n",
       "      <td>21.000000</td>\n",
       "      <td>0.000000</td>\n",
       "      <td>0.000000</td>\n",
       "      <td>0.000000</td>\n",
       "      <td>0.000000</td>\n",
       "      <td>0.000000</td>\n",
       "      <td>0.000000</td>\n",
       "      <td>0.000000</td>\n",
       "      <td>0.000000</td>\n",
       "    </tr>\n",
       "    <tr>\n",
       "      <th>50%</th>\n",
       "      <td>0.000000</td>\n",
       "      <td>0.173212</td>\n",
       "      <td>49.000000</td>\n",
       "      <td>0.000000</td>\n",
       "      <td>0.365553</td>\n",
       "      <td>5400.000000</td>\n",
       "      <td>8.000000</td>\n",
       "      <td>0.000000</td>\n",
       "      <td>1.000000</td>\n",
       "      <td>0.000000</td>\n",
       "      <td>0.000000</td>\n",
       "    </tr>\n",
       "    <tr>\n",
       "      <th>75%</th>\n",
       "      <td>0.000000</td>\n",
       "      <td>0.563969</td>\n",
       "      <td>59.000000</td>\n",
       "      <td>0.000000</td>\n",
       "      <td>0.773779</td>\n",
       "      <td>7500.000000</td>\n",
       "      <td>11.000000</td>\n",
       "      <td>0.000000</td>\n",
       "      <td>2.000000</td>\n",
       "      <td>0.000000</td>\n",
       "      <td>1.000000</td>\n",
       "    </tr>\n",
       "    <tr>\n",
       "      <th>90%</th>\n",
       "      <td>0.000000</td>\n",
       "      <td>0.951049</td>\n",
       "      <td>65.000000</td>\n",
       "      <td>1.000000</td>\n",
       "      <td>1207.000000</td>\n",
       "      <td>10900.000000</td>\n",
       "      <td>14.000000</td>\n",
       "      <td>0.000000</td>\n",
       "      <td>2.000000</td>\n",
       "      <td>0.000000</td>\n",
       "      <td>2.000000</td>\n",
       "    </tr>\n",
       "    <tr>\n",
       "      <th>99%</th>\n",
       "      <td>1.000000</td>\n",
       "      <td>1.000000</td>\n",
       "      <td>70.000000</td>\n",
       "      <td>3.000000</td>\n",
       "      <td>3929.950000</td>\n",
       "      <td>22799.950000</td>\n",
       "      <td>19.000000</td>\n",
       "      <td>2.000000</td>\n",
       "      <td>4.000000</td>\n",
       "      <td>1.000000</td>\n",
       "      <td>4.000000</td>\n",
       "    </tr>\n",
       "    <tr>\n",
       "      <th>max</th>\n",
       "      <td>1.000000</td>\n",
       "      <td>1.000000</td>\n",
       "      <td>70.000000</td>\n",
       "      <td>13.000000</td>\n",
       "      <td>5000.000000</td>\n",
       "      <td>287662.000000</td>\n",
       "      <td>20.000000</td>\n",
       "      <td>17.000000</td>\n",
       "      <td>5.000000</td>\n",
       "      <td>11.000000</td>\n",
       "      <td>5.000000</td>\n",
       "    </tr>\n",
       "  </tbody>\n",
       "</table>\n",
       "</div>"
      ],
      "text/plain": [
       "       SeriousDlqin2yrs  RevolvingUtilizationOfUnsecuredLines            age  \\\n",
       "count     123006.000000                         123006.000000  123006.000000   \n",
       "mean           0.063493                              0.323973      48.882510   \n",
       "std            0.243848                              0.342195      12.016866   \n",
       "min            0.000000                              0.000000      21.000000   \n",
       "50%            0.000000                              0.173212      49.000000   \n",
       "75%            0.000000                              0.563969      59.000000   \n",
       "90%            0.000000                              0.951049      65.000000   \n",
       "99%            1.000000                              1.000000      70.000000   \n",
       "max            1.000000                              1.000000      70.000000   \n",
       "\n",
       "       NumberOfTime30-59DaysPastDueNotWorse      DebtRatio  MonthlyIncome  \\\n",
       "count                         123006.000000  123006.000000  123006.000000   \n",
       "mean                               0.240460     285.268979    6375.994846   \n",
       "std                                0.677378     807.534281    5632.230076   \n",
       "min                                0.000000       0.000000       0.000000   \n",
       "50%                                0.000000       0.365553    5400.000000   \n",
       "75%                                0.000000       0.773779    7500.000000   \n",
       "90%                                1.000000    1207.000000   10900.000000   \n",
       "99%                                3.000000    3929.950000   22799.950000   \n",
       "max                               13.000000    5000.000000  287662.000000   \n",
       "\n",
       "       NumberOfOpenCreditLinesAndLoans  NumberOfTimes90DaysLate  \\\n",
       "count                    123006.000000            123006.000000   \n",
       "mean                          8.096573                 0.087353   \n",
       "std                           4.344711                 0.466794   \n",
       "min                           0.000000                 0.000000   \n",
       "50%                           8.000000                 0.000000   \n",
       "75%                          11.000000                 0.000000   \n",
       "90%                          14.000000                 0.000000   \n",
       "99%                          19.000000                 2.000000   \n",
       "max                          20.000000                17.000000   \n",
       "\n",
       "       NumberRealEstateLoansOrLines  NumberOfTime60-89DaysPastDueNotWorse  \\\n",
       "count                 123006.000000                         123006.000000   \n",
       "mean                       1.011617                              0.061469   \n",
       "std                        0.962263                              0.314885   \n",
       "min                        0.000000                              0.000000   \n",
       "50%                        1.000000                              0.000000   \n",
       "75%                        2.000000                              0.000000   \n",
       "90%                        2.000000                              0.000000   \n",
       "99%                        4.000000                              1.000000   \n",
       "max                        5.000000                             11.000000   \n",
       "\n",
       "       NumberOfDependents  \n",
       "count       123006.000000  \n",
       "mean             0.807530  \n",
       "std              1.118347  \n",
       "min              0.000000  \n",
       "50%              0.000000  \n",
       "75%              1.000000  \n",
       "90%              2.000000  \n",
       "99%              4.000000  \n",
       "max              5.000000  "
      ]
     },
     "execution_count": 24,
     "metadata": {},
     "output_type": "execute_result"
    }
   ],
   "source": [
    "filter_stage.describe([.75,.9,.99])"
   ]
  },
  {
   "cell_type": "markdown",
   "id": "fe7f48d6",
   "metadata": {},
   "source": [
    "# 特征选择"
   ]
  },
  {
   "cell_type": "markdown",
   "id": "dd5e8c10",
   "metadata": {},
   "source": [
    "- 对数据进行分箱"
   ]
  },
  {
   "cell_type": "code",
   "execution_count": 25,
   "id": "54303e6a",
   "metadata": {},
   "outputs": [],
   "source": [
    "%run auto_bin.py"
   ]
  },
  {
   "cell_type": "code",
   "execution_count": 26,
   "id": "4159de6c",
   "metadata": {},
   "outputs": [
    {
     "data": {
      "text/html": [
       "<div>\n",
       "<style scoped>\n",
       "    .dataframe tbody tr th:only-of-type {\n",
       "        vertical-align: middle;\n",
       "    }\n",
       "\n",
       "    .dataframe tbody tr th {\n",
       "        vertical-align: top;\n",
       "    }\n",
       "\n",
       "    .dataframe thead th {\n",
       "        text-align: right;\n",
       "    }\n",
       "</style>\n",
       "<table border=\"1\" class=\"dataframe\">\n",
       "  <thead>\n",
       "    <tr style=\"text-align: right;\">\n",
       "      <th></th>\n",
       "      <th>SeriousDlqin2yrs</th>\n",
       "      <th>RevolvingUtilizationOfUnsecuredLines</th>\n",
       "      <th>age</th>\n",
       "      <th>NumberOfTime30-59DaysPastDueNotWorse</th>\n",
       "      <th>DebtRatio</th>\n",
       "      <th>MonthlyIncome</th>\n",
       "      <th>NumberOfOpenCreditLinesAndLoans</th>\n",
       "      <th>NumberOfTimes90DaysLate</th>\n",
       "      <th>NumberRealEstateLoansOrLines</th>\n",
       "      <th>NumberOfTime60-89DaysPastDueNotWorse</th>\n",
       "      <th>NumberOfDependents</th>\n",
       "    </tr>\n",
       "  </thead>\n",
       "  <tbody>\n",
       "    <tr>\n",
       "      <th>2</th>\n",
       "      <td>0</td>\n",
       "      <td>0.957151</td>\n",
       "      <td>40</td>\n",
       "      <td>0</td>\n",
       "      <td>0.121876</td>\n",
       "      <td>2600.0</td>\n",
       "      <td>4</td>\n",
       "      <td>0</td>\n",
       "      <td>0</td>\n",
       "      <td>0</td>\n",
       "      <td>1.0</td>\n",
       "    </tr>\n",
       "  </tbody>\n",
       "</table>\n",
       "</div>"
      ],
      "text/plain": [
       "   SeriousDlqin2yrs  RevolvingUtilizationOfUnsecuredLines  age  \\\n",
       "2                 0                              0.957151   40   \n",
       "\n",
       "   NumberOfTime30-59DaysPastDueNotWorse  DebtRatio  MonthlyIncome  \\\n",
       "2                                     0   0.121876         2600.0   \n",
       "\n",
       "   NumberOfOpenCreditLinesAndLoans  NumberOfTimes90DaysLate  \\\n",
       "2                                4                        0   \n",
       "\n",
       "   NumberRealEstateLoansOrLines  NumberOfTime60-89DaysPastDueNotWorse  \\\n",
       "2                             0                                     0   \n",
       "\n",
       "   NumberOfDependents  \n",
       "2                 1.0  "
      ]
     },
     "execution_count": 26,
     "metadata": {},
     "output_type": "execute_result"
    }
   ],
   "source": [
    "filter_stage.head(1)"
   ]
  },
  {
   "cell_type": "code",
   "execution_count": 27,
   "id": "ecd4439c",
   "metadata": {},
   "outputs": [],
   "source": [
    "ab = AutoBins(filter_stage,'SeriousDlqin2yrs')\n",
    "# 传入data和target"
   ]
  },
  {
   "cell_type": "markdown",
   "id": "016ccaac",
   "metadata": {},
   "source": [
    "- 对所有列进行分箱，得到每个特征的最佳分组"
   ]
  },
  {
   "cell_type": "code",
   "execution_count": 28,
   "id": "8c68956c",
   "metadata": {},
   "outputs": [
    {
     "name": "stdout",
     "output_type": "stream",
     "text": [
      "对 RevolvingUtilizationOfUnsecuredLines 列进行分箱: \n",
      "分组个数: 18 \tiv值: 0.9534925073801521\n",
      "分组个数: 17 \tiv值: 0.9534326669200637\n",
      "分组个数: 16 \tiv值: 0.9532444195373395\n",
      "分组个数: 15 \tiv值: 0.9531061944640027\n",
      "分组个数: 14 \tiv值: 0.9528753654819975\n",
      "分组个数: 13 \tiv值: 0.9527138406892128\n",
      "分组个数: 12 \tiv值: 0.9518698243226711\n",
      "分组个数: 11 \tiv值: 0.9509097807775317\n",
      "分组个数: 10 \tiv值: 0.9494324425523772\n",
      "分组个数: 09 \tiv值: 0.9483789192674474\n",
      "分组个数: 08 \tiv值: 0.9470018510797893\n",
      "分组个数: 07 \tiv值: 0.9402946347568047\n",
      "分组个数: 06 \tiv值: 0.9272461504711821\n",
      "分组个数: 05 \tiv值: 0.9079283122888498\n",
      "分组个数: 04 \tiv值: 0.897599689900249\n",
      "分组个数: 03 \tiv值: 0.8216085457366221\n",
      "分组个数: 02 \tiv值: 0.7631660085674419\n",
      "\n",
      "最后分箱情况: \n",
      "分组个数: 02 \tiv值: 0.7631660085674419\n",
      "\n",
      "分组woe情况：\n",
      "        min       max  count_0  count_1  total  percentage  bad_rate       woe\n",
      "0      -inf  0.457636    83728     2376  86104    0.699998  0.027595  0.870925\n",
      "1  0.457636       inf    31468     5434  36902    0.300002  0.147255 -0.934934\n",
      "----------------------------------------------------------------------------------------------------\n",
      "对 age 列进行分箱: \n",
      "分组个数: 19 \tiv值: 0.16635887721619452\n",
      "分组个数: 18 \tiv值: 0.16635617147972734\n",
      "分组个数: 17 \tiv值: 0.1663294040006069\n",
      "分组个数: 16 \tiv值: 0.16626619625026612\n",
      "分组个数: 15 \tiv值: 0.166186495012976\n",
      "分组个数: 14 \tiv值: 0.16615245233080883\n",
      "分组个数: 13 \tiv值: 0.16606554065720613\n",
      "分组个数: 12 \tiv值: 0.16592628910841956\n",
      "分组个数: 11 \tiv值: 0.1658566201299458\n",
      "分组个数: 10 \tiv值: 0.16554293546795013\n",
      "分组个数: 09 \tiv值: 0.16509596640442026\n",
      "分组个数: 08 \tiv值: 0.16433407862353266\n",
      "分组个数: 07 \tiv值: 0.16300113324023613\n",
      "分组个数: 06 \tiv值: 0.16112645345612858\n",
      "分组个数: 05 \tiv值: 0.15692665237235287\n",
      "分组个数: 04 \tiv值: 0.15149795856373618\n",
      "分组个数: 03 \tiv值: 0.13822072728245943\n",
      "分组个数: 02 \tiv值: 0.11476656808542551\n",
      "\n",
      "最后分箱情况: \n",
      "分组个数: 02 \tiv值: 0.11476656808542551\n",
      "\n",
      "分组woe情况：\n",
      "    min   max  count_0  count_1  total  percentage  bad_rate       woe\n",
      "0  -inf  53.0    69552     5938  75490     0.61371  0.078659 -0.230528\n",
      "1  53.0   inf    45644     1872  47516     0.38629  0.039397  0.502635\n",
      "----------------------------------------------------------------------------------------------------\n",
      "对 NumberOfTime30-59DaysPastDueNotWorse 列进行分箱: \n",
      "分组个数: 02 \tiv值: 0.538656058318565\n",
      "\n",
      "最后分箱情况: \n",
      "分组个数: 02 \tiv值: 0.538656058318565\n",
      "\n",
      "分组woe情况：\n",
      "   min  max  count_0  count_1   total  percentage  bad_rate       woe\n",
      "0 -inf  0.0    99285     4215  103500    0.841422  0.040725  0.468115\n",
      "1  0.0  inf    15911     3595   19506    0.158578  0.184302 -1.203763\n",
      "----------------------------------------------------------------------------------------------------\n",
      "对 DebtRatio 列进行分箱: \n",
      "分组个数: 20 \tiv值: 0.07879540303006825\n",
      "分组个数: 19 \tiv值: 0.07878891780827146\n",
      "分组个数: 18 \tiv值: 0.07877807002784656\n",
      "分组个数: 17 \tiv值: 0.0787473287269421\n",
      "分组个数: 16 \tiv值: 0.0786877211224277\n",
      "分组个数: 15 \tiv值: 0.07856080904193205\n",
      "分组个数: 14 \tiv值: 0.07846801399333193\n",
      "分组个数: 13 \tiv值: 0.07826452843641102\n",
      "分组个数: 12 \tiv值: 0.07805176292231704\n",
      "分组个数: 11 \tiv值: 0.07776454630974558\n",
      "分组个数: 10 \tiv值: 0.07733264009589089\n",
      "分组个数: 09 \tiv值: 0.07604955082604876\n",
      "分组个数: 08 \tiv值: 0.07235932426532332\n",
      "分组个数: 07 \tiv值: 0.06936797049262178\n",
      "分组个数: 06 \tiv值: 0.06458295254664626\n",
      "分组个数: 05 \tiv值: 0.06125913228311915\n",
      "分组个数: 04 \tiv值: 0.055523646115704456\n",
      "分组个数: 03 \tiv值: 0.048593382060262584\n",
      "分组个数: 02 \tiv值: 0.014523499958956732\n",
      "\n",
      "最后分箱情况: \n",
      "分组个数: 02 \tiv值: 0.014523499958956732\n",
      "\n",
      "分组woe情况：\n",
      "        min       max  count_0  count_1  total  percentage  bad_rate       woe\n",
      "0      -inf  0.520124    75304     4650  79954    0.650001  0.058158  0.093436\n",
      "1  0.520124       inf    39892     3160  43052    0.349999  0.073400 -0.155626\n",
      "----------------------------------------------------------------------------------------------------\n",
      "对 MonthlyIncome 列进行分箱: \n",
      "分组个数: 17 \tiv值: 0.08531195817281123\n",
      "分组个数: 16 \tiv值: 0.08530027797346831\n",
      "分组个数: 15 \tiv值: 0.08528776525479434\n",
      "分组个数: 14 \tiv值: 0.08526948916355787\n",
      "分组个数: 13 \tiv值: 0.08523077839677239\n",
      "分组个数: 12 \tiv值: 0.08516330580703975\n",
      "分组个数: 11 \tiv值: 0.08507883014233339\n",
      "分组个数: 10 \tiv值: 0.08498024952564458\n",
      "分组个数: 09 \tiv值: 0.0847651157396858\n",
      "分组个数: 08 \tiv值: 0.08452628977246383\n",
      "分组个数: 07 \tiv值: 0.08420923179492677\n",
      "分组个数: 06 \tiv值: 0.08355508241815054\n",
      "分组个数: 05 \tiv值: 0.0814282373135298\n",
      "分组个数: 04 \tiv值: 0.07664125416436164\n",
      "分组个数: 03 \tiv值: 0.07390373856971542\n",
      "分组个数: 02 \tiv值: 0.06344402194156558\n",
      "\n",
      "最后分箱情况: \n",
      "分组个数: 02 \tiv值: 0.06344402194156558\n",
      "\n",
      "分组woe情况：\n",
      "      min     max  count_0  count_1  total  percentage  bad_rate       woe\n",
      "0    -inf  5342.0    45166     4039  49205    0.400021  0.082085 -0.276883\n",
      "1  5342.0     inf    70030     3771  73801    0.599979  0.051097  0.230353\n",
      "----------------------------------------------------------------------------------------------------\n",
      "对 NumberOfOpenCreditLinesAndLoans 列进行分箱: \n",
      "分组个数: 14 \tiv值: 0.10175515097964628\n",
      "分组个数: 13 \tiv值: 0.1017457296378916\n",
      "分组个数: 12 \tiv值: 0.10174085881989077\n",
      "分组个数: 11 \tiv值: 0.1017242101337463\n",
      "分组个数: 10 \tiv值: 0.10155717090316806\n",
      "分组个数: 09 \tiv值: 0.10144072285616812\n",
      "分组个数: 08 \tiv值: 0.10115189625608734\n",
      "分组个数: 07 \tiv值: 0.10101913704660345\n",
      "分组个数: 06 \tiv值: 0.09999285287044478\n",
      "分组个数: 05 \tiv值: 0.09824208135570686\n",
      "分组个数: 04 \tiv值: 0.09645057421568415\n",
      "分组个数: 03 \tiv值: 0.09195011506869105\n",
      "分组个数: 02 \tiv值: 0.08634285295164708\n",
      "\n",
      "最后分箱情况: \n",
      "分组个数: 02 \tiv值: 0.08634285295164708\n",
      "\n",
      "分组woe情况：\n",
      "   min  max  count_0  count_1   total  percentage  bad_rate       woe\n",
      "0 -inf  2.0     8811     1336   10147    0.082492  0.131665 -0.804909\n",
      "1  2.0  inf   106385     6474  112859    0.917508  0.057364  0.108040\n",
      "----------------------------------------------------------------------------------------------------\n",
      "对 NumberOfTimes90DaysLate 列进行分箱: \n",
      "\n",
      "最后分箱情况: \n",
      "分组个数: 02 \tiv值: 0.7661090260542133\n",
      "\n",
      "分组woe情况：\n",
      "   min  max  count_0  count_1   total  percentage  bad_rate       woe\n",
      "0 -inf  0.0   111177     5242  116419     0.94645  0.045027  0.363190\n",
      "1  0.0  inf     4019     2568    6587     0.05355  0.389859 -2.243324\n",
      "----------------------------------------------------------------------------------------------------\n",
      "对 NumberRealEstateLoansOrLines 列进行分箱: \n",
      "分组个数: 03 \tiv值: 0.06384466848513391\n",
      "分组个数: 02 \tiv值: 0.05528243103584751\n",
      "\n",
      "最后分箱情况: \n",
      "分组个数: 02 \tiv值: 0.05528243103584751\n",
      "\n",
      "分组woe情况：\n",
      "   min  max  count_0  count_1  total  percentage  bad_rate       woe\n",
      "0 -inf  0.0    39594     3582  43176    0.351007  0.082963 -0.288474\n",
      "1  0.0  inf    75602     4228  79830    0.648993  0.052963  0.192524\n",
      "----------------------------------------------------------------------------------------------------\n",
      "对 NumberOfTime60-89DaysPastDueNotWorse 列进行分箱: \n",
      "\n",
      "最后分箱情况: \n",
      "分组个数: 02 \tiv值: 0.47722586818388424\n",
      "\n",
      "分组woe情况：\n",
      "   min  max  count_0  count_1   total  percentage  bad_rate       woe\n",
      "0 -inf  0.0   111269     5875  117144    0.952344  0.050152  0.250015\n",
      "1  0.0  inf     3927     1935    5862    0.047656  0.330092 -1.983462\n",
      "----------------------------------------------------------------------------------------------------\n",
      "对 NumberOfDependents 列进行分箱: \n",
      "分组个数: 04 \tiv值: 0.01935726351223681\n",
      "分组个数: 03 \tiv值: 0.01901351511167288\n",
      "分组个数: 02 \tiv值: 0.016871926781969485\n",
      "\n",
      "最后分箱情况: \n",
      "分组个数: 02 \tiv值: 0.016871926781969485\n",
      "\n",
      "分组woe情况：\n",
      "   min  max  count_0  count_1  total  percentage  bad_rate       woe\n",
      "0 -inf  0.0    66154     3980  70134    0.570167  0.056749  0.119473\n",
      "1  0.0  inf    49042     3830  52872    0.429833  0.072439 -0.141418\n",
      "----------------------------------------------------------------------------------------------------\n"
     ]
    }
   ],
   "source": [
    "for col in filter_stage.columns[1:]:\n",
    "    ab.auto_bins(column=col)\n",
    "    print('-'*100)"
   ]
  },
  {
   "cell_type": "markdown",
   "id": "f17c90b8",
   "metadata": {},
   "source": [
    "- 如果iv值相差不大则取更少的分箱\n",
    "- 综上我们可以确定特征分箱数"
   ]
  },
  {
   "cell_type": "code",
   "execution_count": 29,
   "id": "3874c0b3",
   "metadata": {},
   "outputs": [],
   "source": [
    "bins_num_dict = {\n",
    "    \"RevolvingUtilizationOfUnsecuredLines\": 7,\n",
    "    \"age\": 6,\n",
    "    \"NumberOfTime30-59DaysPastDueNotWorse\": 2,\n",
    "    \"DebtRatio\": 3,\n",
    "    \"MonthlyIncome\": 3,\n",
    "    \"NumberOfOpenCreditLinesAndLoans\": 4,\n",
    "    \"NumberOfTimes90DaysLate\": 2,\n",
    "    \"NumberRealEstateLoansOrLines\": 3,\n",
    "    \"NumberOfTime60-89DaysPastDueNotWorse\": 2,\n",
    "    \"NumberOfDependents\": 3\n",
    "}"
   ]
  },
  {
   "cell_type": "markdown",
   "id": "01575ab1",
   "metadata": {},
   "source": [
    "- 再使用最佳分组数对每个特征重新分箱"
   ]
  },
  {
   "cell_type": "code",
   "execution_count": 30,
   "id": "e7a2d355",
   "metadata": {},
   "outputs": [],
   "source": [
    "bins_dict = { }\n",
    "woe_dict = { }\n",
    "iv_dict = { }\n",
    "for col in filter_stage.columns[ 1:]:\n",
    "    num_bins, woe_df, iv = ab.auto_bins(column=col, n=bins_num_dict[col], show_iv=False)\n",
    "    bins_dict[col] = num_bins\n",
    "    woe_dict[col] = woe_df\n",
    "    iv_dict[col] = iv\n",
    "    "
   ]
  },
  {
   "cell_type": "code",
   "execution_count": 31,
   "id": "c50fdd19",
   "metadata": {
    "scrolled": false
   },
   "outputs": [
    {
     "data": {
      "text/plain": [
       "{'RevolvingUtilizationOfUnsecuredLines': [(-inf, 0.0, 8603, 285),\n",
       "  (0.0, 0.130591838, 45662, 803),\n",
       "  (0.130591838, 0.29162906, 17831, 620),\n",
       "  (0.29162906, 0.4576356835000004, 11632, 668),\n",
       "  (0.4576356835000004, 0.690803409, 11212, 1089),\n",
       "  (0.690803409, 0.8292733265000003, 5319, 831),\n",
       "  (0.8292733265000003, inf, 14937, 3514)],\n",
       " 'age': [(-inf, 35.0, 18057, 1917),\n",
       "  (35.0, 53.0, 51495, 4021),\n",
       "  (53.0, 57.0, 12099, 698),\n",
       "  (57.0, 63.0, 18388, 776),\n",
       "  (63.0, 67.0, 9623, 292),\n",
       "  (67.0, inf, 5534, 106)],\n",
       " 'NumberOfTime30-59DaysPastDueNotWorse': [(-inf, 0.0, 99285, 4215),\n",
       "  (0.0, inf, 15911, 3595)],\n",
       " 'DebtRatio': [(-inf, 0.5201238545, 75304, 4650),\n",
       "  (0.5201238545, 1207.0, 28131, 2627),\n",
       "  (1207.0, inf, 11761, 533)],\n",
       " 'MonthlyIncome': [(-inf, 5342.0, 45166, 4039),\n",
       "  (5342.0, 9500.0, 52335, 3035),\n",
       "  (9500.0, inf, 17695, 736)],\n",
       " 'NumberOfOpenCreditLinesAndLoans': [(-inf, 2.0, 8811, 1336),\n",
       "  (2.0, 3.0, 6707, 543),\n",
       "  (3.0, 13.0, 85416, 4922),\n",
       "  (13.0, inf, 14262, 1009)],\n",
       " 'NumberOfTimes90DaysLate': [(-inf, 0.0, 111177, 5242),\n",
       "  (0.0, inf, 4019, 2568)],\n",
       " 'NumberRealEstateLoansOrLines': [(-inf, 0.0, 39594, 3582),\n",
       "  (0.0, 2.0, 68836, 3693),\n",
       "  (2.0, inf, 6766, 535)],\n",
       " 'NumberOfTime60-89DaysPastDueNotWorse': [(-inf, 0.0, 111269, 5875),\n",
       "  (0.0, inf, 3927, 1935)],\n",
       " 'NumberOfDependents': [(-inf, 0.0, 66154, 3980),\n",
       "  (0.0, 2.0, 37853, 2844),\n",
       "  (2.0, inf, 11189, 986)]}"
      ]
     },
     "metadata": {},
     "output_type": "display_data"
    },
    {
     "name": "stdout",
     "output_type": "stream",
     "text": [
      "----------------------------------------------------------------------------------------------------\n"
     ]
    },
    {
     "data": {
      "text/plain": [
       "{'RevolvingUtilizationOfUnsecuredLines':         min       max  count_0  count_1  total  percentage  bad_rate       woe\n",
       " 0      -inf  0.000000     8603      285   8888    0.072257  0.032066  0.716147\n",
       " 1  0.000000  0.130592    45662      803  46465    0.377746  0.017282  1.349437\n",
       " 2  0.130592  0.291629    17831      620  18451    0.150001  0.033603  0.667744\n",
       " 3  0.291629  0.457636    11632      668  12300    0.099995  0.054309  0.165997\n",
       " 4  0.457636  0.690803    11212     1089  12301    0.100003  0.088529 -0.359505\n",
       " 5  0.690803  0.829273     5319      831   6150    0.049998  0.135122 -0.834819\n",
       " 6  0.829273       inf    14937     3514  18451    0.150001  0.190450 -1.244144,\n",
       " 'age':     min   max  count_0  count_1  total  percentage  bad_rate       woe\n",
       " 0  -inf  35.0    18057     1917  19974    0.162382  0.095975 -0.448458\n",
       " 1  35.0  53.0    51495     4021  55516    0.451328  0.072430 -0.141276\n",
       " 2  53.0  57.0    12099      698  12797    0.104036  0.054544  0.161429\n",
       " 3  57.0  63.0    18388      776  19164    0.155797  0.040493  0.474071\n",
       " 4  63.0  67.0     9623      292   9915    0.080606  0.029450  0.803927\n",
       " 5  67.0   inf     5534      106   5640    0.045851  0.018794  1.263997,\n",
       " 'NumberOfTime30-59DaysPastDueNotWorse':    min  max  count_0  count_1   total  percentage  bad_rate       woe\n",
       " 0 -inf  0.0    99285     4215  103500    0.841422  0.040725  0.468115\n",
       " 1  0.0  inf    15911     3595   19506    0.158578  0.184302 -1.203763,\n",
       " 'DebtRatio':            min          max  count_0  count_1  total  percentage  bad_rate  \\\n",
       " 0         -inf     0.520124    75304     4650  79954    0.650001  0.058158   \n",
       " 1     0.520124  1207.000000    28131     2627  30758    0.250053  0.085409   \n",
       " 2  1207.000000          inf    11761      533  12294    0.099946  0.043354   \n",
       " \n",
       "         woe  \n",
       " 0  0.093436  \n",
       " 1 -0.320200  \n",
       " 2  0.402793  ,\n",
       " 'MonthlyIncome':       min     max  count_0  count_1  total  percentage  bad_rate       woe\n",
       " 0    -inf  5342.0    45166     4039  49205    0.400021  0.082085 -0.276883\n",
       " 1  5342.0  9500.0    52335     3035  55370    0.450141  0.054813  0.156224\n",
       " 2  9500.0     inf    17695      736  18431    0.149838  0.039933  0.488577,\n",
       " 'NumberOfOpenCreditLinesAndLoans':     min   max  count_0  count_1  total  percentage  bad_rate       woe\n",
       " 0  -inf   2.0     8811     1336  10147    0.082492  0.131665 -0.804909\n",
       " 1   2.0   3.0     6707      543   7250    0.058940  0.074897 -0.177432\n",
       " 2   3.0  13.0    85416     4922  90338    0.734419  0.054484  0.162588\n",
       " 3  13.0   inf    14262     1009  15271    0.124148  0.066073 -0.042591,\n",
       " 'NumberOfTimes90DaysLate':    min  max  count_0  count_1   total  percentage  bad_rate       woe\n",
       " 0 -inf  0.0   111177     5242  116419     0.94645  0.045027  0.363190\n",
       " 1  0.0  inf     4019     2568    6587     0.05355  0.389859 -2.243324,\n",
       " 'NumberRealEstateLoansOrLines':    min  max  count_0  count_1  total  percentage  bad_rate       woe\n",
       " 0 -inf  0.0    39594     3582  43176    0.351007  0.082963 -0.288474\n",
       " 1  0.0  2.0    68836     3693  72529    0.589638  0.050918  0.234058\n",
       " 2  2.0  inf     6766      535   7301    0.059355  0.073278 -0.153831,\n",
       " 'NumberOfTime60-89DaysPastDueNotWorse':    min  max  count_0  count_1   total  percentage  bad_rate       woe\n",
       " 0 -inf  0.0   111269     5875  117144    0.952344  0.050152  0.250015\n",
       " 1  0.0  inf     3927     1935    5862    0.047656  0.330092 -1.983462,\n",
       " 'NumberOfDependents':    min  max  count_0  count_1  total  percentage  bad_rate       woe\n",
       " 0 -inf  0.0    66154     3980  70134    0.570167  0.056749  0.119473\n",
       " 1  0.0  2.0    37853     2844  40697    0.330854  0.069882 -0.102731\n",
       " 2  2.0  inf    11189      986  12175    0.098979  0.080986 -0.262200}"
      ]
     },
     "metadata": {},
     "output_type": "display_data"
    },
    {
     "name": "stdout",
     "output_type": "stream",
     "text": [
      "----------------------------------------------------------------------------------------------------\n"
     ]
    },
    {
     "data": {
      "text/plain": [
       "{'RevolvingUtilizationOfUnsecuredLines': 0.9402946347568047,\n",
       " 'age': 0.16112645345612858,\n",
       " 'NumberOfTime30-59DaysPastDueNotWorse': 0.538656058318565,\n",
       " 'DebtRatio': 0.048593382060262584,\n",
       " 'MonthlyIncome': 0.07390373856971542,\n",
       " 'NumberOfOpenCreditLinesAndLoans': 0.09645057421568415,\n",
       " 'NumberOfTimes90DaysLate': 0.7661090260542133,\n",
       " 'NumberRealEstateLoansOrLines': 0.06384466848513391,\n",
       " 'NumberOfTime60-89DaysPastDueNotWorse': 0.47722586818388424,\n",
       " 'NumberOfDependents': 0.01901351511167288}"
      ]
     },
     "metadata": {},
     "output_type": "display_data"
    },
    {
     "name": "stdout",
     "output_type": "stream",
     "text": [
      "----------------------------------------------------------------------------------------------------\n"
     ]
    }
   ],
   "source": [
    "display(bins_dict) \n",
    "print(\"-\"*100)\n",
    "display(woe_dict) \n",
    "print(\"-\"*100)\n",
    "display(iv_dict) \n",
    "print(\"-\"*100)"
   ]
  },
  {
   "cell_type": "markdown",
   "id": "6b409757",
   "metadata": {},
   "source": [
    "- 删除iv值低的特征值"
   ]
  },
  {
   "cell_type": "code",
   "execution_count": 32,
   "id": "9432a125",
   "metadata": {},
   "outputs": [
    {
     "data": {
      "text/plain": [
       "<AxesSubplot:>"
      ]
     },
     "execution_count": 32,
     "metadata": {},
     "output_type": "execute_result"
    },
    {
     "data": {
      "image/png": "[encoded data removed]",
      "text/plain": [
       "<Figure size 432x288 with 1 Axes>"
      ]
     },
     "metadata": {},
     "output_type": "display_data"
    }
   ],
   "source": [
    "pd.Series(iv_dict).plot(kind='barh')"
   ]
  },
  {
   "attachments": {
    "1662738634829.png": {
     "image/png": "[encoded data removed]"
    }
   },
   "cell_type": "markdown",
   "id": "f7870cc4",
   "metadata": {},
   "source": [
    "![1662738634829.png](attachment:1662738634829.png)"
   ]
  },
  {
   "cell_type": "markdown",
   "id": "49ef248c",
   "metadata": {},
   "source": [
    "- 考虑只保留iv > 0.1的值 "
   ]
  },
  {
   "cell_type": "code",
   "execution_count": 33,
   "id": "1f03f466",
   "metadata": {},
   "outputs": [
    {
     "data": {
      "text/plain": [
       "['RevolvingUtilizationOfUnsecuredLines',\n",
       " 'age',\n",
       " 'NumberOfTime30-59DaysPastDueNotWorse',\n",
       " 'NumberOfTimes90DaysLate',\n",
       " 'NumberOfTime60-89DaysPastDueNotWorse']"
      ]
     },
     "execution_count": 33,
     "metadata": {},
     "output_type": "execute_result"
    }
   ],
   "source": [
    "cond = pd.Series(iv_dict) >= 0.1\n",
    "feature_importances = pd.Series(iv_dict)[cond].index.tolist()\n",
    "feature_importances"
   ]
  },
  {
   "cell_type": "markdown",
   "id": "4ee54c4d",
   "metadata": {},
   "source": [
    "- 数据拆分"
   ]
  },
  {
   "cell_type": "code",
   "execution_count": 34,
   "id": "a7d9a771",
   "metadata": {},
   "outputs": [],
   "source": [
    "data = filter_stage.iloc[:,1:].copy()\n",
    "target = filter_stage.SeriousDlqin2yrs.copy()"
   ]
  },
  {
   "cell_type": "code",
   "execution_count": 35,
   "id": "f4d01fac",
   "metadata": {},
   "outputs": [],
   "source": [
    "from sklearn.model_selection import train_test_split"
   ]
  },
  {
   "cell_type": "code",
   "execution_count": 36,
   "id": "525c86b7",
   "metadata": {},
   "outputs": [],
   "source": [
    "x_train,x_test,y_train,y_test = train_test_split(data,target,test_size=0.2)"
   ]
  },
  {
   "cell_type": "code",
   "execution_count": 37,
   "id": "0fbb9b28",
   "metadata": {},
   "outputs": [
    {
     "data": {
      "text/plain": [
       "((98404, 10), (24602, 10))"
      ]
     },
     "execution_count": 37,
     "metadata": {},
     "output_type": "execute_result"
    }
   ],
   "source": [
    "x_train.shape,x_test.shape"
   ]
  },
  {
   "cell_type": "markdown",
   "id": "64026106",
   "metadata": {},
   "source": [
    "- 做特征重要性选择"
   ]
  },
  {
   "cell_type": "code",
   "execution_count": 38,
   "id": "18d66629",
   "metadata": {},
   "outputs": [],
   "source": [
    "x_train_iv = x_train[feature_importances].copy()\n",
    "y_train_iv = y_train.copy()\n",
    "x_test_iv = x_test[feature_importances].copy()\n",
    "y_test_iv = y_test.copy()"
   ]
  },
  {
   "cell_type": "code",
   "execution_count": 39,
   "id": "7e61bc44",
   "metadata": {},
   "outputs": [
    {
     "data": {
      "text/plain": [
       "((98404, 5), (98404,))"
      ]
     },
     "execution_count": 39,
     "metadata": {},
     "output_type": "execute_result"
    }
   ],
   "source": [
    "x_train_iv.shape, y_train_iv.shape"
   ]
  },
  {
   "cell_type": "code",
   "execution_count": 40,
   "id": "0386033a",
   "metadata": {},
   "outputs": [
    {
     "data": {
      "text/plain": [
       "((24602, 5), (24602,))"
      ]
     },
     "execution_count": 40,
     "metadata": {},
     "output_type": "execute_result"
    }
   ],
   "source": [
    "x_test_iv.shape, y_test_iv.shape"
   ]
  },
  {
   "cell_type": "markdown",
   "id": "4658dacd",
   "metadata": {},
   "source": [
    "# 算法建模\n",
    "- LogisticRegression"
   ]
  },
  {
   "cell_type": "markdown",
   "id": "df248238",
   "metadata": {},
   "source": [
    "## 样本处理\n",
    "- 正负样本不平衡"
   ]
  },
  {
   "cell_type": "code",
   "execution_count": 41,
   "id": "13b94054",
   "metadata": {},
   "outputs": [
    {
     "data": {
      "application/javascript": [
       "\n",
       "        if (window._pyforest_update_imports_cell) { window._pyforest_update_imports_cell('import seaborn as sns\\nimport matplotlib.pyplot as plt\\nimport pandas as pd'); }\n",
       "    "
      ],
      "text/plain": [
       "<IPython.core.display.Javascript object>"
      ]
     },
     "metadata": {},
     "output_type": "display_data"
    },
    {
     "data": {
      "text/plain": [
       "<AxesSubplot:xlabel='SeriousDlqin2yrs', ylabel='count'>"
      ]
     },
     "execution_count": 41,
     "metadata": {},
     "output_type": "execute_result"
    },
    {
     "data": {
      "image/png": "[encoded data removed]",
      "text/plain": [
       "<Figure size 432x288 with 1 Axes>"
      ]
     },
     "metadata": {},
     "output_type": "display_data"
    }
   ],
   "source": [
    "sns.countplot(x=y_train_iv)"
   ]
  },
  {
   "cell_type": "markdown",
   "id": "b1b12ccf",
   "metadata": {},
   "source": [
    "- 使用smote进行过采样"
   ]
  },
  {
   "cell_type": "code",
   "execution_count": 42,
   "id": "0248d161",
   "metadata": {},
   "outputs": [],
   "source": [
    "from imblearn.over_sampling import SMOTE"
   ]
  },
  {
   "cell_type": "code",
   "execution_count": 43,
   "id": "2678704d",
   "metadata": {},
   "outputs": [],
   "source": [
    "smote = SMOTE()"
   ]
  },
  {
   "cell_type": "code",
   "execution_count": 44,
   "id": "097188c7",
   "metadata": {},
   "outputs": [],
   "source": [
    "x_train_sample,y_train_sample = smote.fit_resample(x_train_iv,y_train_iv)"
   ]
  },
  {
   "cell_type": "code",
   "execution_count": 45,
   "id": "99e43a3d",
   "metadata": {},
   "outputs": [
    {
     "data": {
      "text/plain": [
       "((184280, 5), (184280,))"
      ]
     },
     "execution_count": 45,
     "metadata": {},
     "output_type": "execute_result"
    }
   ],
   "source": [
    "x_train_sample.shape, y_train_sample.shape"
   ]
  },
  {
   "cell_type": "code",
   "execution_count": 46,
   "id": "ef486c33",
   "metadata": {},
   "outputs": [
    {
     "data": {
      "application/javascript": [
       "\n",
       "        if (window._pyforest_update_imports_cell) { window._pyforest_update_imports_cell('import seaborn as sns\\nimport matplotlib.pyplot as plt\\nimport pandas as pd'); }\n",
       "    "
      ],
      "text/plain": [
       "<IPython.core.display.Javascript object>"
      ]
     },
     "metadata": {},
     "output_type": "display_data"
    },
    {
     "data": {
      "text/plain": [
       "<AxesSubplot:xlabel='SeriousDlqin2yrs', ylabel='count'>"
      ]
     },
     "execution_count": 46,
     "metadata": {},
     "output_type": "execute_result"
    },
    {
     "data": {
      "image/png": "[encoded data removed]",
      "text/plain": [
       "<Figure size 432x288 with 1 Axes>"
      ]
     },
     "metadata": {},
     "output_type": "display_data"
    }
   ],
   "source": [
    "sns.countplot(x=y_train_sample)"
   ]
  },
  {
   "cell_type": "markdown",
   "id": "de4f8fb3",
   "metadata": {},
   "source": [
    "- 检测并处理过采样后的数据"
   ]
  },
  {
   "cell_type": "code",
   "execution_count": 47,
   "id": "77dd02c7",
   "metadata": {},
   "outputs": [
    {
     "data": {
      "text/plain": [
       "0"
      ]
     },
     "execution_count": 47,
     "metadata": {},
     "output_type": "execute_result"
    }
   ],
   "source": [
    "x_train_sample.isnull().any(axis=1).sum()"
   ]
  },
  {
   "cell_type": "code",
   "execution_count": 48,
   "id": "9aa37a3f",
   "metadata": {},
   "outputs": [
    {
     "data": {
      "text/plain": [
       "0"
      ]
     },
     "execution_count": 48,
     "metadata": {},
     "output_type": "execute_result"
    }
   ],
   "source": [
    "y_train_sample.isnull().any().sum()"
   ]
  },
  {
   "cell_type": "markdown",
   "id": "5b6fbc3d",
   "metadata": {},
   "source": [
    "- 无空值，重复值不做处理\n",
    "- 使用LogisticRegression"
   ]
  },
  {
   "cell_type": "code",
   "execution_count": 49,
   "id": "f3857f2f",
   "metadata": {},
   "outputs": [],
   "source": [
    "from sklearn.linear_model import LogisticRegression"
   ]
  },
  {
   "cell_type": "code",
   "execution_count": 50,
   "id": "a69666b4",
   "metadata": {
    "scrolled": true
   },
   "outputs": [
    {
     "data": {
      "text/html": [
       "<style>#sk-container-id-1 {color: black;background-color: white;}#sk-container-id-1 pre{padding: 0;}#sk-container-id-1 div.sk-toggleable {background-color: white;}#sk-container-id-1 label.sk-toggleable__label {cursor: pointer;display: block;width: 100%;margin-bottom: 0;padding: 0.3em;box-sizing: border-box;text-align: center;}#sk-container-id-1 label.sk-toggleable__label-arrow:before {content: \"▸\";float: left;margin-right: 0.25em;color: #696969;}#sk-container-id-1 label.sk-toggleable__label-arrow:hover:before {color: black;}#sk-container-id-1 div.sk-estimator:hover label.sk-toggleable__label-arrow:before {color: black;}#sk-container-id-1 div.sk-toggleable__content {max-height: 0;max-width: 0;overflow: hidden;text-align: left;background-color: #f0f8ff;}#sk-container-id-1 div.sk-toggleable__content pre {margin: 0.2em;color: black;border-radius: 0.25em;background-color: #f0f8ff;}#sk-container-id-1 input.sk-toggleable__control:checked~div.sk-toggleable__content {max-height: 200px;max-width: 100%;overflow: auto;}#sk-container-id-1 input.sk-toggleable__control:checked~label.sk-toggleable__label-arrow:before {content: \"▾\";}#sk-container-id-1 div.sk-estimator input.sk-toggleable__control:checked~label.sk-toggleable__label {background-color: #d4ebff;}#sk-container-id-1 div.sk-label input.sk-toggleable__control:checked~label.sk-toggleable__label {background-color: #d4ebff;}#sk-container-id-1 input.sk-hidden--visually {border: 0;clip: rect(1px 1px 1px 1px);clip: rect(1px, 1px, 1px, 1px);height: 1px;margin: -1px;overflow: hidden;padding: 0;position: absolute;width: 1px;}#sk-container-id-1 div.sk-estimator {font-family: monospace;background-color: #f0f8ff;border: 1px dotted black;border-radius: 0.25em;box-sizing: border-box;margin-bottom: 0.5em;}#sk-container-id-1 div.sk-estimator:hover {background-color: #d4ebff;}#sk-container-id-1 div.sk-parallel-item::after {content: \"\";width: 100%;border-bottom: 1px solid gray;flex-grow: 1;}#sk-container-id-1 div.sk-label:hover label.sk-toggleable__label {background-color: #d4ebff;}#sk-container-id-1 div.sk-serial::before {content: \"\";position: absolute;border-left: 1px solid gray;box-sizing: border-box;top: 0;bottom: 0;left: 50%;z-index: 0;}#sk-container-id-1 div.sk-serial {display: flex;flex-direction: column;align-items: center;background-color: white;padding-right: 0.2em;padding-left: 0.2em;position: relative;}#sk-container-id-1 div.sk-item {position: relative;z-index: 1;}#sk-container-id-1 div.sk-parallel {display: flex;align-items: stretch;justify-content: center;background-color: white;position: relative;}#sk-container-id-1 div.sk-item::before, #sk-container-id-1 div.sk-parallel-item::before {content: \"\";position: absolute;border-left: 1px solid gray;box-sizing: border-box;top: 0;bottom: 0;left: 50%;z-index: -1;}#sk-container-id-1 div.sk-parallel-item {display: flex;flex-direction: column;z-index: 1;position: relative;background-color: white;}#sk-container-id-1 div.sk-parallel-item:first-child::after {align-self: flex-end;width: 50%;}#sk-container-id-1 div.sk-parallel-item:last-child::after {align-self: flex-start;width: 50%;}#sk-container-id-1 div.sk-parallel-item:only-child::after {width: 0;}#sk-container-id-1 div.sk-dashed-wrapped {border: 1px dashed gray;margin: 0 0.4em 0.5em 0.4em;box-sizing: border-box;padding-bottom: 0.4em;background-color: white;}#sk-container-id-1 div.sk-label label {font-family: monospace;font-weight: bold;display: inline-block;line-height: 1.2em;}#sk-container-id-1 div.sk-label-container {text-align: center;}#sk-container-id-1 div.sk-container {/* jupyter's `normalize.less` sets `[hidden] { display: none; }` but bootstrap.min.css set `[hidden] { display: none !important; }` so we also need the `!important` here to be able to override the default hidden behavior on the sphinx rendered scikit-learn.org. See: https://github.com/scikit-learn/scikit-learn/issues/21755 */display: inline-block !important;position: relative;}#sk-container-id-1 div.sk-text-repr-fallback {display: none;}</style><div id=\"sk-container-id-1\" class=\"sk-top-container\"><div class=\"sk-text-repr-fallback\"><pre>LogisticRegression()</pre><b>In a Jupyter environment, please rerun this cell to show the HTML representation or trust the notebook. <br />On GitHub, the HTML representation is unable to render, please try loading this page with nbviewer.org.</b></div><div class=\"sk-container\" hidden><div class=\"sk-item\"><div class=\"sk-estimator sk-toggleable\"><input class=\"sk-toggleable__control sk-hidden--visually\" id=\"sk-estimator-id-1\" type=\"checkbox\" checked><label for=\"sk-estimator-id-1\" class=\"sk-toggleable__label sk-toggleable__label-arrow\">LogisticRegression</label><div class=\"sk-toggleable__content\"><pre>LogisticRegression()</pre></div></div></div></div></div>"
      ],
      "text/plain": [
       "LogisticRegression()"
      ]
     },
     "execution_count": 50,
     "metadata": {},
     "output_type": "execute_result"
    }
   ],
   "source": [
    "lr = LogisticRegression()\n",
    "lr.fit(x_train_sample,y_train_sample)"
   ]
  },
  {
   "cell_type": "code",
   "execution_count": 51,
   "id": "c07fed23",
   "metadata": {},
   "outputs": [
    {
     "data": {
      "text/plain": [
       "0.7606685478619493"
      ]
     },
     "execution_count": 51,
     "metadata": {},
     "output_type": "execute_result"
    }
   ],
   "source": [
    "lr.score(x_train_sample, y_train_sample)"
   ]
  },
  {
   "cell_type": "code",
   "execution_count": 52,
   "id": "300baf27",
   "metadata": {},
   "outputs": [
    {
     "data": {
      "text/plain": [
       "0.7783107064466304"
      ]
     },
     "execution_count": 52,
     "metadata": {},
     "output_type": "execute_result"
    }
   ],
   "source": [
    "lr.score(x_test_iv,y_test_iv)"
   ]
  },
  {
   "cell_type": "markdown",
   "id": "fda01e52",
   "metadata": {},
   "source": [
    "- 优化参数"
   ]
  },
  {
   "cell_type": "code",
   "execution_count": 53,
   "id": "05969055",
   "metadata": {},
   "outputs": [],
   "source": [
    "from sklearn.model_selection import GridSearchCV"
   ]
  },
  {
   "cell_type": "code",
   "execution_count": 54,
   "id": "16692eb6",
   "metadata": {},
   "outputs": [],
   "source": [
    "lr2 = LogisticRegression()\n",
    "param_grid = {\n",
    "    'C': [0.1, 0.5, 1, 5, 10],\n",
    "    'solver': ['newton-cg','lbfgs','liblinear','sag','saga'],\n",
    "    'max_iter': [50,100,500,1000,2000]\n",
    "}\n",
    "gv = GridSearchCV(lr2, param_grid, cv=5, n_jobs=-1)"
   ]
  },
  {
   "cell_type": "code",
   "execution_count": 55,
   "id": "27f697e3",
   "metadata": {},
   "outputs": [],
   "source": [
    "ignore_warnings()"
   ]
  },
  {
   "cell_type": "code",
   "execution_count": 56,
   "id": "4b9b2cfc",
   "metadata": {},
   "outputs": [
    {
     "name": "stdout",
     "output_type": "stream",
     "text": [
      "CPU times: total: 2.8 s\n",
      "Wall time: 2min 4s\n"
     ]
    },
    {
     "data": {
      "text/html": [
       "<style>#sk-container-id-2 {color: black;background-color: white;}#sk-container-id-2 pre{padding: 0;}#sk-container-id-2 div.sk-toggleable {background-color: white;}#sk-container-id-2 label.sk-toggleable__label {cursor: pointer;display: block;width: 100%;margin-bottom: 0;padding: 0.3em;box-sizing: border-box;text-align: center;}#sk-container-id-2 label.sk-toggleable__label-arrow:before {content: \"▸\";float: left;margin-right: 0.25em;color: #696969;}#sk-container-id-2 label.sk-toggleable__label-arrow:hover:before {color: black;}#sk-container-id-2 div.sk-estimator:hover label.sk-toggleable__label-arrow:before {color: black;}#sk-container-id-2 div.sk-toggleable__content {max-height: 0;max-width: 0;overflow: hidden;text-align: left;background-color: #f0f8ff;}#sk-container-id-2 div.sk-toggleable__content pre {margin: 0.2em;color: black;border-radius: 0.25em;background-color: #f0f8ff;}#sk-container-id-2 input.sk-toggleable__control:checked~div.sk-toggleable__content {max-height: 200px;max-width: 100%;overflow: auto;}#sk-container-id-2 input.sk-toggleable__control:checked~label.sk-toggleable__label-arrow:before {content: \"▾\";}#sk-container-id-2 div.sk-estimator input.sk-toggleable__control:checked~label.sk-toggleable__label {background-color: #d4ebff;}#sk-container-id-2 div.sk-label input.sk-toggleable__control:checked~label.sk-toggleable__label {background-color: #d4ebff;}#sk-container-id-2 input.sk-hidden--visually {border: 0;clip: rect(1px 1px 1px 1px);clip: rect(1px, 1px, 1px, 1px);height: 1px;margin: -1px;overflow: hidden;padding: 0;position: absolute;width: 1px;}#sk-container-id-2 div.sk-estimator {font-family: monospace;background-color: #f0f8ff;border: 1px dotted black;border-radius: 0.25em;box-sizing: border-box;margin-bottom: 0.5em;}#sk-container-id-2 div.sk-estimator:hover {background-color: #d4ebff;}#sk-container-id-2 div.sk-parallel-item::after {content: \"\";width: 100%;border-bottom: 1px solid gray;flex-grow: 1;}#sk-container-id-2 div.sk-label:hover label.sk-toggleable__label {background-color: #d4ebff;}#sk-container-id-2 div.sk-serial::before {content: \"\";position: absolute;border-left: 1px solid gray;box-sizing: border-box;top: 0;bottom: 0;left: 50%;z-index: 0;}#sk-container-id-2 div.sk-serial {display: flex;flex-direction: column;align-items: center;background-color: white;padding-right: 0.2em;padding-left: 0.2em;position: relative;}#sk-container-id-2 div.sk-item {position: relative;z-index: 1;}#sk-container-id-2 div.sk-parallel {display: flex;align-items: stretch;justify-content: center;background-color: white;position: relative;}#sk-container-id-2 div.sk-item::before, #sk-container-id-2 div.sk-parallel-item::before {content: \"\";position: absolute;border-left: 1px solid gray;box-sizing: border-box;top: 0;bottom: 0;left: 50%;z-index: -1;}#sk-container-id-2 div.sk-parallel-item {display: flex;flex-direction: column;z-index: 1;position: relative;background-color: white;}#sk-container-id-2 div.sk-parallel-item:first-child::after {align-self: flex-end;width: 50%;}#sk-container-id-2 div.sk-parallel-item:last-child::after {align-self: flex-start;width: 50%;}#sk-container-id-2 div.sk-parallel-item:only-child::after {width: 0;}#sk-container-id-2 div.sk-dashed-wrapped {border: 1px dashed gray;margin: 0 0.4em 0.5em 0.4em;box-sizing: border-box;padding-bottom: 0.4em;background-color: white;}#sk-container-id-2 div.sk-label label {font-family: monospace;font-weight: bold;display: inline-block;line-height: 1.2em;}#sk-container-id-2 div.sk-label-container {text-align: center;}#sk-container-id-2 div.sk-container {/* jupyter's `normalize.less` sets `[hidden] { display: none; }` but bootstrap.min.css set `[hidden] { display: none !important; }` so we also need the `!important` here to be able to override the default hidden behavior on the sphinx rendered scikit-learn.org. See: https://github.com/scikit-learn/scikit-learn/issues/21755 */display: inline-block !important;position: relative;}#sk-container-id-2 div.sk-text-repr-fallback {display: none;}</style><div id=\"sk-container-id-2\" class=\"sk-top-container\"><div class=\"sk-text-repr-fallback\"><pre>GridSearchCV(cv=5, estimator=LogisticRegression(), n_jobs=-1,\n",
       "             param_grid={&#x27;C&#x27;: [0.1, 0.5, 1, 5, 10],\n",
       "                         &#x27;max_iter&#x27;: [50, 100, 500, 1000, 2000],\n",
       "                         &#x27;solver&#x27;: [&#x27;newton-cg&#x27;, &#x27;lbfgs&#x27;, &#x27;liblinear&#x27;, &#x27;sag&#x27;,\n",
       "                                    &#x27;saga&#x27;]})</pre><b>In a Jupyter environment, please rerun this cell to show the HTML representation or trust the notebook. <br />On GitHub, the HTML representation is unable to render, please try loading this page with nbviewer.org.</b></div><div class=\"sk-container\" hidden><div class=\"sk-item sk-dashed-wrapped\"><div class=\"sk-label-container\"><div class=\"sk-label sk-toggleable\"><input class=\"sk-toggleable__control sk-hidden--visually\" id=\"sk-estimator-id-2\" type=\"checkbox\" ><label for=\"sk-estimator-id-2\" class=\"sk-toggleable__label sk-toggleable__label-arrow\">GridSearchCV</label><div class=\"sk-toggleable__content\"><pre>GridSearchCV(cv=5, estimator=LogisticRegression(), n_jobs=-1,\n",
       "             param_grid={&#x27;C&#x27;: [0.1, 0.5, 1, 5, 10],\n",
       "                         &#x27;max_iter&#x27;: [50, 100, 500, 1000, 2000],\n",
       "                         &#x27;solver&#x27;: [&#x27;newton-cg&#x27;, &#x27;lbfgs&#x27;, &#x27;liblinear&#x27;, &#x27;sag&#x27;,\n",
       "                                    &#x27;saga&#x27;]})</pre></div></div></div><div class=\"sk-parallel\"><div class=\"sk-parallel-item\"><div class=\"sk-item\"><div class=\"sk-label-container\"><div class=\"sk-label sk-toggleable\"><input class=\"sk-toggleable__control sk-hidden--visually\" id=\"sk-estimator-id-3\" type=\"checkbox\" ><label for=\"sk-estimator-id-3\" class=\"sk-toggleable__label sk-toggleable__label-arrow\">estimator: LogisticRegression</label><div class=\"sk-toggleable__content\"><pre>LogisticRegression()</pre></div></div></div><div class=\"sk-serial\"><div class=\"sk-item\"><div class=\"sk-estimator sk-toggleable\"><input class=\"sk-toggleable__control sk-hidden--visually\" id=\"sk-estimator-id-4\" type=\"checkbox\" ><label for=\"sk-estimator-id-4\" class=\"sk-toggleable__label sk-toggleable__label-arrow\">LogisticRegression</label><div class=\"sk-toggleable__content\"><pre>LogisticRegression()</pre></div></div></div></div></div></div></div></div></div></div>"
      ],
      "text/plain": [
       "GridSearchCV(cv=5, estimator=LogisticRegression(), n_jobs=-1,\n",
       "             param_grid={'C': [0.1, 0.5, 1, 5, 10],\n",
       "                         'max_iter': [50, 100, 500, 1000, 2000],\n",
       "                         'solver': ['newton-cg', 'lbfgs', 'liblinear', 'sag',\n",
       "                                    'saga']})"
      ]
     },
     "execution_count": 56,
     "metadata": {},
     "output_type": "execute_result"
    }
   ],
   "source": [
    "%time gv.fit(x_train_sample,y_train_sample)"
   ]
  },
  {
   "cell_type": "code",
   "execution_count": 57,
   "id": "3afdd4f6",
   "metadata": {},
   "outputs": [],
   "source": [
    "best_lr_ = gv.best_estimator_"
   ]
  },
  {
   "cell_type": "code",
   "execution_count": 58,
   "id": "a07b4c53",
   "metadata": {},
   "outputs": [
    {
     "data": {
      "text/plain": [
       "{'C': 5, 'max_iter': 50, 'solver': 'sag'}"
      ]
     },
     "execution_count": 58,
     "metadata": {},
     "output_type": "execute_result"
    }
   ],
   "source": [
    "gv.best_params_"
   ]
  },
  {
   "cell_type": "code",
   "execution_count": 59,
   "id": "a09e7587",
   "metadata": {},
   "outputs": [
    {
     "data": {
      "text/plain": [
       "0.7606631213370958"
      ]
     },
     "execution_count": 59,
     "metadata": {},
     "output_type": "execute_result"
    }
   ],
   "source": [
    "gv.best_score_"
   ]
  },
  {
   "cell_type": "markdown",
   "id": "9512bad1",
   "metadata": {},
   "source": [
    "- 与之前的分数相差不大"
   ]
  },
  {
   "cell_type": "markdown",
   "id": "53bc9966",
   "metadata": {},
   "source": [
    "# 画图\n",
    "-  recall召回率，precision精准率，F1值，accuracy准确率\n",
    "- ROC曲线"
   ]
  },
  {
   "cell_type": "code",
   "execution_count": 60,
   "id": "ee734686",
   "metadata": {},
   "outputs": [],
   "source": [
    "from sklearn.metrics import auc, roc_curve, roc_auc_score, \\\n",
    "recall_score, precision_score, f1_score, accuracy_score"
   ]
  },
  {
   "cell_type": "code",
   "execution_count": 61,
   "id": "1f0f5d87",
   "metadata": {},
   "outputs": [],
   "source": [
    "y_pred = best_lr_.predict(x_test_iv)\n",
    "y_true = y_test_iv"
   ]
  },
  {
   "cell_type": "code",
   "execution_count": 62,
   "id": "cfa251ca",
   "metadata": {},
   "outputs": [
    {
     "data": {
      "text/plain": [
       "0.6953428201811126"
      ]
     },
     "execution_count": 62,
     "metadata": {},
     "output_type": "execute_result"
    }
   ],
   "source": [
    "recall_score(y_true, y_pred)"
   ]
  },
  {
   "cell_type": "code",
   "execution_count": 63,
   "id": "1caa3026",
   "metadata": {},
   "outputs": [
    {
     "data": {
      "text/plain": [
       "0.17745130406074613"
      ]
     },
     "execution_count": 63,
     "metadata": {},
     "output_type": "execute_result"
    }
   ],
   "source": [
    "precision_score(y_true, y_pred)"
   ]
  },
  {
   "cell_type": "markdown",
   "id": "77c7a89a",
   "metadata": {},
   "source": [
    "- 设置不同的阈值"
   ]
  },
  {
   "cell_type": "code",
   "execution_count": 64,
   "id": "3dcc8c20",
   "metadata": {},
   "outputs": [
    {
     "data": {
      "text/plain": [
       "array([0.1, 0.2, 0.3, 0.4, 0.5, 0.6, 0.7, 0.8, 0.9, 1. ])"
      ]
     },
     "execution_count": 64,
     "metadata": {},
     "output_type": "execute_result"
    }
   ],
   "source": [
    "np.linspace(0.1,1,10)"
   ]
  },
  {
   "cell_type": "code",
   "execution_count": 65,
   "id": "b5fbd459",
   "metadata": {},
   "outputs": [],
   "source": [
    "def get_score(y_true, y_proba, threshold, show):\n",
    "    y_pred = (y_proba[:, -1] >= threshold) * 1\n",
    "    recall = recall_score(y_true, y_pred)\n",
    "    precision = precision_score(y_true, y_pred)\n",
    "    f1 = f1_score(y_true, y_pred)\n",
    "    accuracy = accuracy_score(y_true, y_pred)\n",
    "    if show:\n",
    "        print('threshold:', threshold)\n",
    "        print(\"recall:\", recall)\n",
    "        print(\"precision:\", precision)\n",
    "        print(\"f1:\", f1)\n",
    "        print(\"accuracy:\", accuracy)\n",
    "        print('*' * 100)\n",
    "    return recall, precision, f1, accuracy"
   ]
  },
  {
   "cell_type": "code",
   "execution_count": 66,
   "id": "5cc06b79",
   "metadata": {},
   "outputs": [],
   "source": [
    "def get_score_df( data_X,data_y,model,show = False):\n",
    "    scores_dict = {}\n",
    "    y_proba = model.predict_proba(data_X)\n",
    "    for threshold in np.linspace(0.1,1,10):\n",
    "        scores = get_score(data_y,y_proba,threshold,show = show)\n",
    "        scores_dict[threshold] = scores\n",
    "        scores_df = pd.DataFrame(scores_dict).T\n",
    "        scores_df.columns = ['recall', 'precision', 'f1', 'accuracy']\n",
    "    return scores_df"
   ]
  },
  {
   "cell_type": "code",
   "execution_count": 67,
   "id": "aa3a34d7",
   "metadata": {},
   "outputs": [
    {
     "data": {
      "text/html": [
       "<div>\n",
       "<style scoped>\n",
       "    .dataframe tbody tr th:only-of-type {\n",
       "        vertical-align: middle;\n",
       "    }\n",
       "\n",
       "    .dataframe tbody tr th {\n",
       "        vertical-align: top;\n",
       "    }\n",
       "\n",
       "    .dataframe thead th {\n",
       "        text-align: right;\n",
       "    }\n",
       "</style>\n",
       "<table border=\"1\" class=\"dataframe\">\n",
       "  <thead>\n",
       "    <tr style=\"text-align: right;\">\n",
       "      <th></th>\n",
       "      <th>recall</th>\n",
       "      <th>precision</th>\n",
       "      <th>f1</th>\n",
       "      <th>accuracy</th>\n",
       "    </tr>\n",
       "  </thead>\n",
       "  <tbody>\n",
       "    <tr>\n",
       "      <th>0.1</th>\n",
       "      <td>1.000000</td>\n",
       "      <td>0.062840</td>\n",
       "      <td>0.118250</td>\n",
       "      <td>0.062840</td>\n",
       "    </tr>\n",
       "    <tr>\n",
       "      <th>0.2</th>\n",
       "      <td>0.948900</td>\n",
       "      <td>0.089917</td>\n",
       "      <td>0.164269</td>\n",
       "      <td>0.393261</td>\n",
       "    </tr>\n",
       "    <tr>\n",
       "      <th>0.3</th>\n",
       "      <td>0.855757</td>\n",
       "      <td>0.124694</td>\n",
       "      <td>0.217670</td>\n",
       "      <td>0.613446</td>\n",
       "    </tr>\n",
       "    <tr>\n",
       "      <th>0.4</th>\n",
       "      <td>0.776843</td>\n",
       "      <td>0.152994</td>\n",
       "      <td>0.255641</td>\n",
       "      <td>0.715714</td>\n",
       "    </tr>\n",
       "    <tr>\n",
       "      <th>0.5</th>\n",
       "      <td>0.695343</td>\n",
       "      <td>0.177451</td>\n",
       "      <td>0.282746</td>\n",
       "      <td>0.778311</td>\n",
       "    </tr>\n",
       "    <tr>\n",
       "      <th>0.6</th>\n",
       "      <td>0.611902</td>\n",
       "      <td>0.218274</td>\n",
       "      <td>0.321769</td>\n",
       "      <td>0.837899</td>\n",
       "    </tr>\n",
       "    <tr>\n",
       "      <th>0.7</th>\n",
       "      <td>0.496766</td>\n",
       "      <td>0.303677</td>\n",
       "      <td>0.376933</td>\n",
       "      <td>0.896797</td>\n",
       "    </tr>\n",
       "    <tr>\n",
       "      <th>0.8</th>\n",
       "      <td>0.390686</td>\n",
       "      <td>0.381313</td>\n",
       "      <td>0.385942</td>\n",
       "      <td>0.921876</td>\n",
       "    </tr>\n",
       "    <tr>\n",
       "      <th>0.9</th>\n",
       "      <td>0.263907</td>\n",
       "      <td>0.465222</td>\n",
       "      <td>0.336773</td>\n",
       "      <td>0.934680</td>\n",
       "    </tr>\n",
       "    <tr>\n",
       "      <th>1.0</th>\n",
       "      <td>0.000000</td>\n",
       "      <td>0.000000</td>\n",
       "      <td>0.000000</td>\n",
       "      <td>0.937160</td>\n",
       "    </tr>\n",
       "  </tbody>\n",
       "</table>\n",
       "</div>"
      ],
      "text/plain": [
       "       recall  precision        f1  accuracy\n",
       "0.1  1.000000   0.062840  0.118250  0.062840\n",
       "0.2  0.948900   0.089917  0.164269  0.393261\n",
       "0.3  0.855757   0.124694  0.217670  0.613446\n",
       "0.4  0.776843   0.152994  0.255641  0.715714\n",
       "0.5  0.695343   0.177451  0.282746  0.778311\n",
       "0.6  0.611902   0.218274  0.321769  0.837899\n",
       "0.7  0.496766   0.303677  0.376933  0.896797\n",
       "0.8  0.390686   0.381313  0.385942  0.921876\n",
       "0.9  0.263907   0.465222  0.336773  0.934680\n",
       "1.0  0.000000   0.000000  0.000000  0.937160"
      ]
     },
     "execution_count": 67,
     "metadata": {},
     "output_type": "execute_result"
    }
   ],
   "source": [
    "scores_df = get_score_df(x_test_iv, y_test_iv, best_lr_)\n",
    "scores_df"
   ]
  },
  {
   "cell_type": "code",
   "execution_count": 79,
   "id": "b0ff6e04",
   "metadata": {
    "scrolled": false
   },
   "outputs": [
    {
     "data": {
      "application/javascript": [
       "\n",
       "        if (window._pyforest_update_imports_cell) { window._pyforest_update_imports_cell('import seaborn as sns\\nimport matplotlib.pyplot as plt\\nimport pandas as pd'); }\n",
       "    "
      ],
      "text/plain": [
       "<IPython.core.display.Javascript object>"
      ]
     },
     "metadata": {},
     "output_type": "display_data"
    },
    {
     "data": {
      "application/javascript": [
       "\n",
       "        if (window._pyforest_update_imports_cell) { window._pyforest_update_imports_cell('import seaborn as sns\\nimport matplotlib.pyplot as plt\\nimport pandas as pd'); }\n",
       "    "
      ],
      "text/plain": [
       "<IPython.core.display.Javascript object>"
      ]
     },
     "metadata": {},
     "output_type": "display_data"
    },
    {
     "data": {
      "application/javascript": [
       "\n",
       "        if (window._pyforest_update_imports_cell) { window._pyforest_update_imports_cell('import seaborn as sns\\nimport matplotlib.pyplot as plt\\nimport pandas as pd'); }\n",
       "    "
      ],
      "text/plain": [
       "<IPython.core.display.Javascript object>"
      ]
     },
     "metadata": {},
     "output_type": "display_data"
    },
    {
     "data": {
      "image/png": "[encoded data removed]",
      "text/plain": [
       "<Figure size 600x600 with 1 Axes>"
      ]
     },
     "metadata": {},
     "output_type": "display_data"
    }
   ],
   "source": [
    "plt.figure(figsize=(4,4),dpi=150)\n",
    "sns.lineplot(data=scores_df)\n",
    "plt.show()"
   ]
  },
  {
   "cell_type": "markdown",
   "id": "537b2727",
   "metadata": {},
   "source": [
    "- ROC曲线"
   ]
  },
  {
   "cell_type": "code",
   "execution_count": 69,
   "id": "a24fff12",
   "metadata": {},
   "outputs": [
    {
     "data": {
      "text/plain": [
       "(array([0.        , 0.        , 0.        , ..., 0.99774462, 0.9990458 ,\n",
       "        1.        ]),\n",
       " array([0.00000000e+00, 6.46830530e-04, 1.94049159e-03, ...,\n",
       "        9.99353169e-01, 9.99353169e-01, 1.00000000e+00]))"
      ]
     },
     "execution_count": 69,
     "metadata": {},
     "output_type": "execute_result"
    }
   ],
   "source": [
    "y_proba2 = best_lr_.predict_proba(x_test_iv)\n",
    "y_score = y_proba2[:, -1]\n",
    "fpr, tpr, _ = roc_curve(y_test_iv, y_score)\n",
    "fpr, tpr"
   ]
  },
  {
   "cell_type": "code",
   "execution_count": 70,
   "id": "4b8a3c22",
   "metadata": {},
   "outputs": [
    {
     "data": {
      "text/plain": [
       "((2592,), (2592,))"
      ]
     },
     "execution_count": 70,
     "metadata": {},
     "output_type": "execute_result"
    }
   ],
   "source": [
    "fpr.shape, tpr.shape"
   ]
  },
  {
   "cell_type": "code",
   "execution_count": 78,
   "id": "1e3f739a",
   "metadata": {
    "scrolled": false
   },
   "outputs": [
    {
     "data": {
      "application/javascript": [
       "\n",
       "        if (window._pyforest_update_imports_cell) { window._pyforest_update_imports_cell('import seaborn as sns\\nimport matplotlib.pyplot as plt\\nimport pandas as pd'); }\n",
       "    "
      ],
      "text/plain": [
       "<IPython.core.display.Javascript object>"
      ]
     },
     "metadata": {},
     "output_type": "display_data"
    },
    {
     "data": {
      "application/javascript": [
       "\n",
       "        if (window._pyforest_update_imports_cell) { window._pyforest_update_imports_cell('import seaborn as sns\\nimport matplotlib.pyplot as plt\\nimport pandas as pd'); }\n",
       "    "
      ],
      "text/plain": [
       "<IPython.core.display.Javascript object>"
      ]
     },
     "metadata": {},
     "output_type": "display_data"
    },
    {
     "data": {
      "application/javascript": [
       "\n",
       "        if (window._pyforest_update_imports_cell) { window._pyforest_update_imports_cell('import seaborn as sns\\nimport matplotlib.pyplot as plt\\nimport pandas as pd'); }\n",
       "    "
      ],
      "text/plain": [
       "<IPython.core.display.Javascript object>"
      ]
     },
     "metadata": {},
     "output_type": "display_data"
    },
    {
     "data": {
      "application/javascript": [
       "\n",
       "        if (window._pyforest_update_imports_cell) { window._pyforest_update_imports_cell('import seaborn as sns\\nimport matplotlib.pyplot as plt\\nimport pandas as pd'); }\n",
       "    "
      ],
      "text/plain": [
       "<IPython.core.display.Javascript object>"
      ]
     },
     "metadata": {},
     "output_type": "display_data"
    },
    {
     "data": {
      "application/javascript": [
       "\n",
       "        if (window._pyforest_update_imports_cell) { window._pyforest_update_imports_cell('import seaborn as sns\\nimport matplotlib.pyplot as plt\\nimport pandas as pd'); }\n",
       "    "
      ],
      "text/plain": [
       "<IPython.core.display.Javascript object>"
      ]
     },
     "metadata": {},
     "output_type": "display_data"
    },
    {
     "data": {
      "text/plain": [
       "0.8257161061475383"
      ]
     },
     "execution_count": 78,
     "metadata": {},
     "output_type": "execute_result"
    },
    {
     "data": {
      "image/png": "[encoded data removed]",
      "text/plain": [
       "<Figure size 600x600 with 1 Axes>"
      ]
     },
     "metadata": {},
     "output_type": "display_data"
    }
   ],
   "source": [
    "plt.figure(figsize=(4,4),dpi = 150)\n",
    "plt.plot(fpr, tpr)\n",
    "plt.xlabel('FPR')\n",
    "plt.ylabel('TPR')\n",
    "plt.plot([0, 1], [0, 1], ls='--')\n",
    "auc(fpr,tpr)"
   ]
  },
  {
   "cell_type": "markdown",
   "id": "dee54459",
   "metadata": {},
   "source": [
    "- 保存模型"
   ]
  },
  {
   "cell_type": "code",
   "execution_count": 72,
   "id": "684334fe",
   "metadata": {},
   "outputs": [],
   "source": [
    "import joblib"
   ]
  },
  {
   "cell_type": "code",
   "execution_count": 73,
   "id": "b2a48571",
   "metadata": {},
   "outputs": [
    {
     "data": {
      "text/plain": [
       "['best_lr.plk']"
      ]
     },
     "execution_count": 73,
     "metadata": {},
     "output_type": "execute_result"
    }
   ],
   "source": [
    "joblib.dump(best_lr_, 'best_lr.plk')"
   ]
  },
  {
   "cell_type": "code",
   "execution_count": null,
   "id": "19fcb86e",
   "metadata": {},
   "outputs": [],
   "source": []
  }
 ],
 "metadata": {
  "kernelspec": {
   "display_name": "Python 3 (ipykernel)",
   "language": "python",
   "name": "python3"
  },
  "language_info": {
   "codemirror_mode": {
    "name": "ipython",
    "version": 3
   },
   "file_extension": ".py",
   "mimetype": "text/x-python",
   "name": "python",
   "nbconvert_exporter": "python",
   "pygments_lexer": "ipython3",
   "version": "3.9.12"
  },
  "toc": {
   "base_numbering": 1,
   "nav_menu": {},
   "number_sections": true,
   "sideBar": true,
   "skip_h1_title": false,
   "title_cell": "Table of Contents",
   "title_sidebar": "Contents",
   "toc_cell": false,
   "toc_position": {},
   "toc_section_display": true,
   "toc_window_display": true
  },
  "varInspector": {
   "cols": {
    "lenName": 16,
    "lenType": 16,
    "lenVar": 40
   },
   "kernels_config": {
    "python": {
     "delete_cmd_postfix": "",
     "delete_cmd_prefix": "del ",
     "library": "var_list.py",
     "varRefreshCmd": "print(var_dic_list())"
    },
    "r": {
     "delete_cmd_postfix": ") ",
     "delete_cmd_prefix": "rm(",
     "library": "var_list.r",
     "varRefreshCmd": "cat(var_dic_list()) "
    }
   },
   "types_to_exclude": [
    "module",
    "function",
    "builtin_function_or_method",
    "instance",
    "_Feature"
   ],
   "window_display": false
  }
 },
 "nbformat": 4,
 "nbformat_minor": 5
}
